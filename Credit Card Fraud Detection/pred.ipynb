{
 "cells": [
  {
   "cell_type": "markdown",
   "source": [
    "## 使用逻辑回归模型进行信用卡欺诈检测"
   ],
   "metadata": {
    "collapsed": false,
    "pycharm": {
     "name": "#%% md\n"
    }
   }
  },
  {
   "cell_type": "code",
   "execution_count": 1,
   "metadata": {
    "collapsed": true,
    "pycharm": {
     "is_executing": false
    }
   },
   "outputs": [],
   "source": [
    "import numpy as np\n",
    "import pandas as pd\n",
    "import seaborn as sns\n",
    "from matplotlib import pyplot as plt\n",
    "from sklearn.model_selection import KFold,train_test_split\n",
    "from sklearn.preprocessing import StandardScaler\n",
    "from sklearn.linear_model import LogisticRegression\n",
    "from sklearn.metrics import recall_score,confusion_matrix\n",
    "from imblearn.over_sampling import SMOTE\n",
    "import warnings\n",
    "warnings.filterwarnings('ignore')\n",
    "#matplotlib inline"
   ]
  },
  {
   "cell_type": "markdown",
   "source": [
    "### 1.读取数据，并打印数据粗略统计信息。"
   ],
   "metadata": {
    "collapsed": false,
    "pycharm": {
     "name": "#%% md\n"
    }
   }
  },
  {
   "cell_type": "markdown",
   "source": [
    "数据集下载地址：https://www.kaggle.com/mlg-ulb/creditcardfraud"
   ],
   "metadata": {
    "collapsed": false,
    "pycharm": {
     "name": "#%% md\n"
    }
   }
  },
  {
   "cell_type": "code",
   "execution_count": 2,
   "outputs": [
    {
     "name": "stdout",
     "text": [
      "<class 'pandas.core.frame.DataFrame'>\nRangeIndex: 284807 entries, 0 to 284806\nData columns (total 31 columns):\nTime      284807 non-null float64\nV1        284807 non-null float64\nV2        284807 non-null float64\nV3        284807 non-null float64\nV4        284807 non-null float64\nV5        284807 non-null float64\nV6        284807 non-null float64\nV7        284807 non-null float64\nV8        284807 non-null float64\nV9        284807 non-null float64\nV10       284807 non-null float64\nV11       284807 non-null float64\nV12       284807 non-null float64\nV13       284807 non-null float64\nV14       284807 non-null float64\nV15       284807 non-null float64\nV16       284807 non-null float64\nV17       284807 non-null float64\nV18       284807 non-null float64\nV19       284807 non-null float64\nV20       284807 non-null float64\nV21       284807 non-null float64\nV22       284807 non-null float64\nV23       284807 non-null float64\nV24       284807 non-null float64\nV25       284807 non-null float64\nV26       284807 non-null float64\nV27       284807 non-null float64\nV28       284807 non-null float64\nAmount    284807 non-null float64\nClass     284807 non-null int64\ndtypes: float64(30), int64(1)\nmemory usage: 67.4 MB\n"
     ],
     "output_type": "stream"
    }
   ],
   "source": [
    "data=pd.read_csv('./creditcard.csv')\n",
    "data.info()"
   ],
   "metadata": {
    "collapsed": false,
    "pycharm": {
     "name": "#%%\n",
     "is_executing": false
    }
   }
  },
  {
   "cell_type": "code",
   "execution_count": 3,
   "outputs": [
    {
     "data": {
      "text/plain": "   Time        V1        V2        V3        V4        V5        V6        V7  \\\n0   0.0 -1.359807 -0.072781  2.536347  1.378155 -0.338321  0.462388  0.239599   \n1   0.0  1.191857  0.266151  0.166480  0.448154  0.060018 -0.082361 -0.078803   \n2   1.0 -1.358354 -1.340163  1.773209  0.379780 -0.503198  1.800499  0.791461   \n3   1.0 -0.966272 -0.185226  1.792993 -0.863291 -0.010309  1.247203  0.237609   \n4   2.0 -1.158233  0.877737  1.548718  0.403034 -0.407193  0.095921  0.592941   \n\n         V8        V9  ...       V21       V22       V23       V24       V25  \\\n0  0.098698  0.363787  ... -0.018307  0.277838 -0.110474  0.066928  0.128539   \n1  0.085102 -0.255425  ... -0.225775 -0.638672  0.101288 -0.339846  0.167170   \n2  0.247676 -1.514654  ...  0.247998  0.771679  0.909412 -0.689281 -0.327642   \n3  0.377436 -1.387024  ... -0.108300  0.005274 -0.190321 -1.175575  0.647376   \n4 -0.270533  0.817739  ... -0.009431  0.798278 -0.137458  0.141267 -0.206010   \n\n        V26       V27       V28  Amount  Class  \n0 -0.189115  0.133558 -0.021053  149.62      0  \n1  0.125895 -0.008983  0.014724    2.69      0  \n2 -0.139097 -0.055353 -0.059752  378.66      0  \n3 -0.221929  0.062723  0.061458  123.50      0  \n4  0.502292  0.219422  0.215153   69.99      0  \n\n[5 rows x 31 columns]",
      "text/html": "<div>\n<style scoped>\n    .dataframe tbody tr th:only-of-type {\n        vertical-align: middle;\n    }\n\n    .dataframe tbody tr th {\n        vertical-align: top;\n    }\n\n    .dataframe thead th {\n        text-align: right;\n    }\n</style>\n<table border=\"1\" class=\"dataframe\">\n  <thead>\n    <tr style=\"text-align: right;\">\n      <th></th>\n      <th>Time</th>\n      <th>V1</th>\n      <th>V2</th>\n      <th>V3</th>\n      <th>V4</th>\n      <th>V5</th>\n      <th>V6</th>\n      <th>V7</th>\n      <th>V8</th>\n      <th>V9</th>\n      <th>...</th>\n      <th>V21</th>\n      <th>V22</th>\n      <th>V23</th>\n      <th>V24</th>\n      <th>V25</th>\n      <th>V26</th>\n      <th>V27</th>\n      <th>V28</th>\n      <th>Amount</th>\n      <th>Class</th>\n    </tr>\n  </thead>\n  <tbody>\n    <tr>\n      <th>0</th>\n      <td>0.0</td>\n      <td>-1.359807</td>\n      <td>-0.072781</td>\n      <td>2.536347</td>\n      <td>1.378155</td>\n      <td>-0.338321</td>\n      <td>0.462388</td>\n      <td>0.239599</td>\n      <td>0.098698</td>\n      <td>0.363787</td>\n      <td>...</td>\n      <td>-0.018307</td>\n      <td>0.277838</td>\n      <td>-0.110474</td>\n      <td>0.066928</td>\n      <td>0.128539</td>\n      <td>-0.189115</td>\n      <td>0.133558</td>\n      <td>-0.021053</td>\n      <td>149.62</td>\n      <td>0</td>\n    </tr>\n    <tr>\n      <th>1</th>\n      <td>0.0</td>\n      <td>1.191857</td>\n      <td>0.266151</td>\n      <td>0.166480</td>\n      <td>0.448154</td>\n      <td>0.060018</td>\n      <td>-0.082361</td>\n      <td>-0.078803</td>\n      <td>0.085102</td>\n      <td>-0.255425</td>\n      <td>...</td>\n      <td>-0.225775</td>\n      <td>-0.638672</td>\n      <td>0.101288</td>\n      <td>-0.339846</td>\n      <td>0.167170</td>\n      <td>0.125895</td>\n      <td>-0.008983</td>\n      <td>0.014724</td>\n      <td>2.69</td>\n      <td>0</td>\n    </tr>\n    <tr>\n      <th>2</th>\n      <td>1.0</td>\n      <td>-1.358354</td>\n      <td>-1.340163</td>\n      <td>1.773209</td>\n      <td>0.379780</td>\n      <td>-0.503198</td>\n      <td>1.800499</td>\n      <td>0.791461</td>\n      <td>0.247676</td>\n      <td>-1.514654</td>\n      <td>...</td>\n      <td>0.247998</td>\n      <td>0.771679</td>\n      <td>0.909412</td>\n      <td>-0.689281</td>\n      <td>-0.327642</td>\n      <td>-0.139097</td>\n      <td>-0.055353</td>\n      <td>-0.059752</td>\n      <td>378.66</td>\n      <td>0</td>\n    </tr>\n    <tr>\n      <th>3</th>\n      <td>1.0</td>\n      <td>-0.966272</td>\n      <td>-0.185226</td>\n      <td>1.792993</td>\n      <td>-0.863291</td>\n      <td>-0.010309</td>\n      <td>1.247203</td>\n      <td>0.237609</td>\n      <td>0.377436</td>\n      <td>-1.387024</td>\n      <td>...</td>\n      <td>-0.108300</td>\n      <td>0.005274</td>\n      <td>-0.190321</td>\n      <td>-1.175575</td>\n      <td>0.647376</td>\n      <td>-0.221929</td>\n      <td>0.062723</td>\n      <td>0.061458</td>\n      <td>123.50</td>\n      <td>0</td>\n    </tr>\n    <tr>\n      <th>4</th>\n      <td>2.0</td>\n      <td>-1.158233</td>\n      <td>0.877737</td>\n      <td>1.548718</td>\n      <td>0.403034</td>\n      <td>-0.407193</td>\n      <td>0.095921</td>\n      <td>0.592941</td>\n      <td>-0.270533</td>\n      <td>0.817739</td>\n      <td>...</td>\n      <td>-0.009431</td>\n      <td>0.798278</td>\n      <td>-0.137458</td>\n      <td>0.141267</td>\n      <td>-0.206010</td>\n      <td>0.502292</td>\n      <td>0.219422</td>\n      <td>0.215153</td>\n      <td>69.99</td>\n      <td>0</td>\n    </tr>\n  </tbody>\n</table>\n<p>5 rows × 31 columns</p>\n</div>"
     },
     "metadata": {},
     "output_type": "execute_result",
     "execution_count": 3
    }
   ],
   "source": [
    "data.head(5)"
   ],
   "metadata": {
    "collapsed": false,
    "pycharm": {
     "name": "#%%\n",
     "is_executing": false
    }
   }
  },
  {
   "cell_type": "code",
   "execution_count": 4,
   "outputs": [
    {
     "data": {
      "text/plain": "Time      0\nV1        0\nV2        0\nV3        0\nV4        0\nV5        0\nV6        0\nV7        0\nV8        0\nV9        0\nV10       0\nV11       0\nV12       0\nV13       0\nV14       0\nV15       0\nV16       0\nV17       0\nV18       0\nV19       0\nV20       0\nV21       0\nV22       0\nV23       0\nV24       0\nV25       0\nV26       0\nV27       0\nV28       0\nAmount    0\nClass     0\ndtype: int64"
     },
     "metadata": {},
     "output_type": "execute_result",
     "execution_count": 4
    }
   ],
   "source": [
    "# 查看缺失情况 ：无缺失\n",
    "pd.isnull(data).sum()"
   ],
   "metadata": {
    "collapsed": false,
    "pycharm": {
     "name": "#%%\n",
     "is_executing": false
    }
   }
  },
  {
   "cell_type": "code",
   "execution_count": 5,
   "outputs": [
    {
     "data": {
      "text/plain": "(283726, 32)"
     },
     "metadata": {},
     "output_type": "execute_result",
     "execution_count": 5
    }
   ],
   "source": [
    "# 去除重复数据\n",
    "data.drop_duplicates(keep='first',inplace=True)\n",
    "data.reset_index(inplace=True)\n",
    "data.shape"
   ],
   "metadata": {
    "collapsed": false,
    "pycharm": {
     "name": "#%%\n",
     "is_executing": false
    }
   }
  },
  {
   "cell_type": "code",
   "execution_count": 6,
   "outputs": [
    {
     "data": {
      "text/plain": "         V1        V2        V3        V4        V5        V6        V7  \\\n0 -1.359807 -0.072781  2.536347  1.378155 -0.338321  0.462388  0.239599   \n1  1.191857  0.266151  0.166480  0.448154  0.060018 -0.082361 -0.078803   \n2 -1.358354 -1.340163  1.773209  0.379780 -0.503198  1.800499  0.791461   \n3 -0.966272 -0.185226  1.792993 -0.863291 -0.010309  1.247203  0.237609   \n4 -1.158233  0.877737  1.548718  0.403034 -0.407193  0.095921  0.592941   \n\n         V8        V9       V10  ...       V21       V22       V23       V24  \\\n0  0.098698  0.363787  0.090794  ... -0.018307  0.277838 -0.110474  0.066928   \n1  0.085102 -0.255425 -0.166974  ... -0.225775 -0.638672  0.101288 -0.339846   \n2  0.247676 -1.514654  0.207643  ...  0.247998  0.771679  0.909412 -0.689281   \n3  0.377436 -1.387024 -0.054952  ... -0.108300  0.005274 -0.190321 -1.175575   \n4 -0.270533  0.817739  0.753074  ... -0.009431  0.798278 -0.137458  0.141267   \n\n        V25       V26       V27       V28  Amount  Class  \n0  0.128539 -0.189115  0.133558 -0.021053  149.62      0  \n1  0.167170  0.125895 -0.008983  0.014724    2.69      0  \n2 -0.327642 -0.139097 -0.055353 -0.059752  378.66      0  \n3  0.647376 -0.221929  0.062723  0.061458  123.50      0  \n4 -0.206010  0.502292  0.219422  0.215153   69.99      0  \n\n[5 rows x 30 columns]",
      "text/html": "<div>\n<style scoped>\n    .dataframe tbody tr th:only-of-type {\n        vertical-align: middle;\n    }\n\n    .dataframe tbody tr th {\n        vertical-align: top;\n    }\n\n    .dataframe thead th {\n        text-align: right;\n    }\n</style>\n<table border=\"1\" class=\"dataframe\">\n  <thead>\n    <tr style=\"text-align: right;\">\n      <th></th>\n      <th>V1</th>\n      <th>V2</th>\n      <th>V3</th>\n      <th>V4</th>\n      <th>V5</th>\n      <th>V6</th>\n      <th>V7</th>\n      <th>V8</th>\n      <th>V9</th>\n      <th>V10</th>\n      <th>...</th>\n      <th>V21</th>\n      <th>V22</th>\n      <th>V23</th>\n      <th>V24</th>\n      <th>V25</th>\n      <th>V26</th>\n      <th>V27</th>\n      <th>V28</th>\n      <th>Amount</th>\n      <th>Class</th>\n    </tr>\n  </thead>\n  <tbody>\n    <tr>\n      <th>0</th>\n      <td>-1.359807</td>\n      <td>-0.072781</td>\n      <td>2.536347</td>\n      <td>1.378155</td>\n      <td>-0.338321</td>\n      <td>0.462388</td>\n      <td>0.239599</td>\n      <td>0.098698</td>\n      <td>0.363787</td>\n      <td>0.090794</td>\n      <td>...</td>\n      <td>-0.018307</td>\n      <td>0.277838</td>\n      <td>-0.110474</td>\n      <td>0.066928</td>\n      <td>0.128539</td>\n      <td>-0.189115</td>\n      <td>0.133558</td>\n      <td>-0.021053</td>\n      <td>149.62</td>\n      <td>0</td>\n    </tr>\n    <tr>\n      <th>1</th>\n      <td>1.191857</td>\n      <td>0.266151</td>\n      <td>0.166480</td>\n      <td>0.448154</td>\n      <td>0.060018</td>\n      <td>-0.082361</td>\n      <td>-0.078803</td>\n      <td>0.085102</td>\n      <td>-0.255425</td>\n      <td>-0.166974</td>\n      <td>...</td>\n      <td>-0.225775</td>\n      <td>-0.638672</td>\n      <td>0.101288</td>\n      <td>-0.339846</td>\n      <td>0.167170</td>\n      <td>0.125895</td>\n      <td>-0.008983</td>\n      <td>0.014724</td>\n      <td>2.69</td>\n      <td>0</td>\n    </tr>\n    <tr>\n      <th>2</th>\n      <td>-1.358354</td>\n      <td>-1.340163</td>\n      <td>1.773209</td>\n      <td>0.379780</td>\n      <td>-0.503198</td>\n      <td>1.800499</td>\n      <td>0.791461</td>\n      <td>0.247676</td>\n      <td>-1.514654</td>\n      <td>0.207643</td>\n      <td>...</td>\n      <td>0.247998</td>\n      <td>0.771679</td>\n      <td>0.909412</td>\n      <td>-0.689281</td>\n      <td>-0.327642</td>\n      <td>-0.139097</td>\n      <td>-0.055353</td>\n      <td>-0.059752</td>\n      <td>378.66</td>\n      <td>0</td>\n    </tr>\n    <tr>\n      <th>3</th>\n      <td>-0.966272</td>\n      <td>-0.185226</td>\n      <td>1.792993</td>\n      <td>-0.863291</td>\n      <td>-0.010309</td>\n      <td>1.247203</td>\n      <td>0.237609</td>\n      <td>0.377436</td>\n      <td>-1.387024</td>\n      <td>-0.054952</td>\n      <td>...</td>\n      <td>-0.108300</td>\n      <td>0.005274</td>\n      <td>-0.190321</td>\n      <td>-1.175575</td>\n      <td>0.647376</td>\n      <td>-0.221929</td>\n      <td>0.062723</td>\n      <td>0.061458</td>\n      <td>123.50</td>\n      <td>0</td>\n    </tr>\n    <tr>\n      <th>4</th>\n      <td>-1.158233</td>\n      <td>0.877737</td>\n      <td>1.548718</td>\n      <td>0.403034</td>\n      <td>-0.407193</td>\n      <td>0.095921</td>\n      <td>0.592941</td>\n      <td>-0.270533</td>\n      <td>0.817739</td>\n      <td>0.753074</td>\n      <td>...</td>\n      <td>-0.009431</td>\n      <td>0.798278</td>\n      <td>-0.137458</td>\n      <td>0.141267</td>\n      <td>-0.206010</td>\n      <td>0.502292</td>\n      <td>0.219422</td>\n      <td>0.215153</td>\n      <td>69.99</td>\n      <td>0</td>\n    </tr>\n  </tbody>\n</table>\n<p>5 rows × 30 columns</p>\n</div>"
     },
     "metadata": {},
     "output_type": "execute_result",
     "execution_count": 6
    }
   ],
   "source": [
    "data.drop(['index','Time'],axis=1,inplace=True)\n",
    "data.head(5)"
   ],
   "metadata": {
    "collapsed": false,
    "pycharm": {
     "name": "#%%\n",
     "is_executing": false
    }
   }
  },
  {
   "cell_type": "markdown",
   "source": [
    "### 2.数据预处理"
   ],
   "metadata": {
    "collapsed": false,
    "pycharm": {
     "name": "#%% md\n"
    }
   }
  },
  {
   "cell_type": "code",
   "execution_count": 7,
   "outputs": [
    {
     "data": {
      "text/plain": "                  V1             V2             V3             V4  \\\ncount  283726.000000  283726.000000  283726.000000  283726.000000   \nmean        0.005917      -0.004135       0.001613      -0.002966   \nstd         1.948026       1.646703       1.508682       1.414184   \nmin       -56.407510     -72.715728     -48.325589      -5.683171   \n25%        -0.915951      -0.600321      -0.889682      -0.850134   \n50%         0.020384       0.063949       0.179963      -0.022248   \n75%         1.316068       0.800283       1.026960       0.739647   \nmax         2.454930      22.057729       9.382558      16.875344   \n\n                  V5             V6             V7             V8  \\\ncount  283726.000000  283726.000000  283726.000000  283726.000000   \nmean        0.001828      -0.001139       0.001801      -0.000854   \nstd         1.377008       1.331931       1.227664       1.179054   \nmin      -113.743307     -26.160506     -43.557242     -73.216718   \n25%        -0.689830      -0.769031      -0.552509      -0.208828   \n50%        -0.053468      -0.275168       0.040859       0.021898   \n75%         0.612218       0.396792       0.570474       0.325704   \nmax        34.801666      73.301626     120.589494      20.007208   \n\n                  V9            V10  ...            V21            V22  \\\ncount  283726.000000  283726.000000  ...  283726.000000  283726.000000   \nmean       -0.001596      -0.001441  ...      -0.000371      -0.000015   \nstd         1.095492       1.076407  ...       0.723909       0.724550   \nmin       -13.434066     -24.588262  ...     -34.830382     -10.933144   \n25%        -0.644221      -0.535578  ...      -0.228305      -0.542700   \n50%        -0.052596      -0.093237  ...      -0.029441       0.006675   \n75%         0.595977       0.453619  ...       0.186194       0.528245   \nmax        15.594995      23.745136  ...      27.202839      10.503090   \n\n                 V23            V24            V25            V26  \\\ncount  283726.000000  283726.000000  283726.000000  283726.000000   \nmean        0.000198       0.000214      -0.000232       0.000149   \nstd         0.623702       0.605627       0.521220       0.482053   \nmin       -44.807735      -2.836627     -10.295397      -2.604551   \n25%        -0.161703      -0.354453      -0.317485      -0.326763   \n50%        -0.011159       0.041016       0.016278      -0.052172   \n75%         0.147748       0.439738       0.350667       0.240261   \nmax        22.528412       4.584549       7.519589       3.517346   \n\n                 V27            V28         Amount          Class  \ncount  283726.000000  283726.000000  283726.000000  283726.000000  \nmean        0.001763       0.000547      88.472687       0.001667  \nstd         0.395744       0.328027     250.399437       0.040796  \nmin       -22.565679     -15.430084       0.000000       0.000000  \n25%        -0.070641      -0.052818       5.600000       0.000000  \n50%         0.001479       0.011288      22.000000       0.000000  \n75%         0.091208       0.078276      77.510000       0.000000  \nmax        31.612198      33.847808   25691.160000       1.000000  \n\n[8 rows x 30 columns]",
      "text/html": "<div>\n<style scoped>\n    .dataframe tbody tr th:only-of-type {\n        vertical-align: middle;\n    }\n\n    .dataframe tbody tr th {\n        vertical-align: top;\n    }\n\n    .dataframe thead th {\n        text-align: right;\n    }\n</style>\n<table border=\"1\" class=\"dataframe\">\n  <thead>\n    <tr style=\"text-align: right;\">\n      <th></th>\n      <th>V1</th>\n      <th>V2</th>\n      <th>V3</th>\n      <th>V4</th>\n      <th>V5</th>\n      <th>V6</th>\n      <th>V7</th>\n      <th>V8</th>\n      <th>V9</th>\n      <th>V10</th>\n      <th>...</th>\n      <th>V21</th>\n      <th>V22</th>\n      <th>V23</th>\n      <th>V24</th>\n      <th>V25</th>\n      <th>V26</th>\n      <th>V27</th>\n      <th>V28</th>\n      <th>Amount</th>\n      <th>Class</th>\n    </tr>\n  </thead>\n  <tbody>\n    <tr>\n      <th>count</th>\n      <td>283726.000000</td>\n      <td>283726.000000</td>\n      <td>283726.000000</td>\n      <td>283726.000000</td>\n      <td>283726.000000</td>\n      <td>283726.000000</td>\n      <td>283726.000000</td>\n      <td>283726.000000</td>\n      <td>283726.000000</td>\n      <td>283726.000000</td>\n      <td>...</td>\n      <td>283726.000000</td>\n      <td>283726.000000</td>\n      <td>283726.000000</td>\n      <td>283726.000000</td>\n      <td>283726.000000</td>\n      <td>283726.000000</td>\n      <td>283726.000000</td>\n      <td>283726.000000</td>\n      <td>283726.000000</td>\n      <td>283726.000000</td>\n    </tr>\n    <tr>\n      <th>mean</th>\n      <td>0.005917</td>\n      <td>-0.004135</td>\n      <td>0.001613</td>\n      <td>-0.002966</td>\n      <td>0.001828</td>\n      <td>-0.001139</td>\n      <td>0.001801</td>\n      <td>-0.000854</td>\n      <td>-0.001596</td>\n      <td>-0.001441</td>\n      <td>...</td>\n      <td>-0.000371</td>\n      <td>-0.000015</td>\n      <td>0.000198</td>\n      <td>0.000214</td>\n      <td>-0.000232</td>\n      <td>0.000149</td>\n      <td>0.001763</td>\n      <td>0.000547</td>\n      <td>88.472687</td>\n      <td>0.001667</td>\n    </tr>\n    <tr>\n      <th>std</th>\n      <td>1.948026</td>\n      <td>1.646703</td>\n      <td>1.508682</td>\n      <td>1.414184</td>\n      <td>1.377008</td>\n      <td>1.331931</td>\n      <td>1.227664</td>\n      <td>1.179054</td>\n      <td>1.095492</td>\n      <td>1.076407</td>\n      <td>...</td>\n      <td>0.723909</td>\n      <td>0.724550</td>\n      <td>0.623702</td>\n      <td>0.605627</td>\n      <td>0.521220</td>\n      <td>0.482053</td>\n      <td>0.395744</td>\n      <td>0.328027</td>\n      <td>250.399437</td>\n      <td>0.040796</td>\n    </tr>\n    <tr>\n      <th>min</th>\n      <td>-56.407510</td>\n      <td>-72.715728</td>\n      <td>-48.325589</td>\n      <td>-5.683171</td>\n      <td>-113.743307</td>\n      <td>-26.160506</td>\n      <td>-43.557242</td>\n      <td>-73.216718</td>\n      <td>-13.434066</td>\n      <td>-24.588262</td>\n      <td>...</td>\n      <td>-34.830382</td>\n      <td>-10.933144</td>\n      <td>-44.807735</td>\n      <td>-2.836627</td>\n      <td>-10.295397</td>\n      <td>-2.604551</td>\n      <td>-22.565679</td>\n      <td>-15.430084</td>\n      <td>0.000000</td>\n      <td>0.000000</td>\n    </tr>\n    <tr>\n      <th>25%</th>\n      <td>-0.915951</td>\n      <td>-0.600321</td>\n      <td>-0.889682</td>\n      <td>-0.850134</td>\n      <td>-0.689830</td>\n      <td>-0.769031</td>\n      <td>-0.552509</td>\n      <td>-0.208828</td>\n      <td>-0.644221</td>\n      <td>-0.535578</td>\n      <td>...</td>\n      <td>-0.228305</td>\n      <td>-0.542700</td>\n      <td>-0.161703</td>\n      <td>-0.354453</td>\n      <td>-0.317485</td>\n      <td>-0.326763</td>\n      <td>-0.070641</td>\n      <td>-0.052818</td>\n      <td>5.600000</td>\n      <td>0.000000</td>\n    </tr>\n    <tr>\n      <th>50%</th>\n      <td>0.020384</td>\n      <td>0.063949</td>\n      <td>0.179963</td>\n      <td>-0.022248</td>\n      <td>-0.053468</td>\n      <td>-0.275168</td>\n      <td>0.040859</td>\n      <td>0.021898</td>\n      <td>-0.052596</td>\n      <td>-0.093237</td>\n      <td>...</td>\n      <td>-0.029441</td>\n      <td>0.006675</td>\n      <td>-0.011159</td>\n      <td>0.041016</td>\n      <td>0.016278</td>\n      <td>-0.052172</td>\n      <td>0.001479</td>\n      <td>0.011288</td>\n      <td>22.000000</td>\n      <td>0.000000</td>\n    </tr>\n    <tr>\n      <th>75%</th>\n      <td>1.316068</td>\n      <td>0.800283</td>\n      <td>1.026960</td>\n      <td>0.739647</td>\n      <td>0.612218</td>\n      <td>0.396792</td>\n      <td>0.570474</td>\n      <td>0.325704</td>\n      <td>0.595977</td>\n      <td>0.453619</td>\n      <td>...</td>\n      <td>0.186194</td>\n      <td>0.528245</td>\n      <td>0.147748</td>\n      <td>0.439738</td>\n      <td>0.350667</td>\n      <td>0.240261</td>\n      <td>0.091208</td>\n      <td>0.078276</td>\n      <td>77.510000</td>\n      <td>0.000000</td>\n    </tr>\n    <tr>\n      <th>max</th>\n      <td>2.454930</td>\n      <td>22.057729</td>\n      <td>9.382558</td>\n      <td>16.875344</td>\n      <td>34.801666</td>\n      <td>73.301626</td>\n      <td>120.589494</td>\n      <td>20.007208</td>\n      <td>15.594995</td>\n      <td>23.745136</td>\n      <td>...</td>\n      <td>27.202839</td>\n      <td>10.503090</td>\n      <td>22.528412</td>\n      <td>4.584549</td>\n      <td>7.519589</td>\n      <td>3.517346</td>\n      <td>31.612198</td>\n      <td>33.847808</td>\n      <td>25691.160000</td>\n      <td>1.000000</td>\n    </tr>\n  </tbody>\n</table>\n<p>8 rows × 30 columns</p>\n</div>"
     },
     "metadata": {},
     "output_type": "execute_result",
     "execution_count": 7
    }
   ],
   "source": [
    "data.describe()"
   ],
   "metadata": {
    "collapsed": false,
    "pycharm": {
     "name": "#%%\n",
     "is_executing": false
    }
   }
  },
  {
   "cell_type": "code",
   "execution_count": 8,
   "outputs": [
    {
     "data": {
      "text/plain": "<Figure size 432x288 with 1 Axes>",
      "image/png": "[encoded data removed]"
     },
     "metadata": {
      "needs_background": "light"
     },
     "output_type": "display_data"
    }
   ],
   "source": [
    "# 绘制原始数据Amount分布\n",
    "sns.kdeplot(data['Amount'])\n",
    "plt.show()"
   ],
   "metadata": {
    "collapsed": false,
    "pycharm": {
     "name": "#%%\n",
     "is_executing": false
    }
   }
  },
  {
   "cell_type": "code",
   "execution_count": 9,
   "outputs": [
    {
     "data": {
      "text/plain": "<Figure size 432x288 with 1 Axes>",
      "image/png": "[encoded data removed]"
     },
     "metadata": {
      "needs_background": "light"
     },
     "output_type": "display_data"
    }
   ],
   "source": [
    "# 对Amount进行标准化处理\n",
    "ss=StandardScaler()\n",
    "data['norm_amount']=ss.fit_transform(data['Amount'].values.reshape(-1,1))\n",
    "sns.kdeplot(data['norm_amount'])\n",
    "plt.show()"
   ],
   "metadata": {
    "collapsed": false,
    "pycharm": {
     "name": "#%%\n",
     "is_executing": false
    }
   }
  },
  {
   "cell_type": "code",
   "execution_count": 10,
   "outputs": [
    {
     "data": {
      "text/plain": "         V1        V2        V3        V4        V5        V6        V7  \\\n0 -1.359807 -0.072781  2.536347  1.378155 -0.338321  0.462388  0.239599   \n1  1.191857  0.266151  0.166480  0.448154  0.060018 -0.082361 -0.078803   \n2 -1.358354 -1.340163  1.773209  0.379780 -0.503198  1.800499  0.791461   \n3 -0.966272 -0.185226  1.792993 -0.863291 -0.010309  1.247203  0.237609   \n4 -1.158233  0.877737  1.548718  0.403034 -0.407193  0.095921  0.592941   \n\n         V8        V9       V10  ...       V21       V22       V23       V24  \\\n0  0.098698  0.363787  0.090794  ... -0.018307  0.277838 -0.110474  0.066928   \n1  0.085102 -0.255425 -0.166974  ... -0.225775 -0.638672  0.101288 -0.339846   \n2  0.247676 -1.514654  0.207643  ...  0.247998  0.771679  0.909412 -0.689281   \n3  0.377436 -1.387024 -0.054952  ... -0.108300  0.005274 -0.190321 -1.175575   \n4 -0.270533  0.817739  0.753074  ... -0.009431  0.798278 -0.137458  0.141267   \n\n        V25       V26       V27       V28  Class  norm_amount  \n0  0.128539 -0.189115  0.133558 -0.021053      0     0.244200  \n1  0.167170  0.125895 -0.008983  0.014724      0    -0.342584  \n2 -0.327642 -0.139097 -0.055353 -0.059752      0     1.158900  \n3  0.647376 -0.221929  0.062723  0.061458      0     0.139886  \n4 -0.206010  0.502292  0.219422  0.215153      0    -0.073813  \n\n[5 rows x 30 columns]",
      "text/html": "<div>\n<style scoped>\n    .dataframe tbody tr th:only-of-type {\n        vertical-align: middle;\n    }\n\n    .dataframe tbody tr th {\n        vertical-align: top;\n    }\n\n    .dataframe thead th {\n        text-align: right;\n    }\n</style>\n<table border=\"1\" class=\"dataframe\">\n  <thead>\n    <tr style=\"text-align: right;\">\n      <th></th>\n      <th>V1</th>\n      <th>V2</th>\n      <th>V3</th>\n      <th>V4</th>\n      <th>V5</th>\n      <th>V6</th>\n      <th>V7</th>\n      <th>V8</th>\n      <th>V9</th>\n      <th>V10</th>\n      <th>...</th>\n      <th>V21</th>\n      <th>V22</th>\n      <th>V23</th>\n      <th>V24</th>\n      <th>V25</th>\n      <th>V26</th>\n      <th>V27</th>\n      <th>V28</th>\n      <th>Class</th>\n      <th>norm_amount</th>\n    </tr>\n  </thead>\n  <tbody>\n    <tr>\n      <th>0</th>\n      <td>-1.359807</td>\n      <td>-0.072781</td>\n      <td>2.536347</td>\n      <td>1.378155</td>\n      <td>-0.338321</td>\n      <td>0.462388</td>\n      <td>0.239599</td>\n      <td>0.098698</td>\n      <td>0.363787</td>\n      <td>0.090794</td>\n      <td>...</td>\n      <td>-0.018307</td>\n      <td>0.277838</td>\n      <td>-0.110474</td>\n      <td>0.066928</td>\n      <td>0.128539</td>\n      <td>-0.189115</td>\n      <td>0.133558</td>\n      <td>-0.021053</td>\n      <td>0</td>\n      <td>0.244200</td>\n    </tr>\n    <tr>\n      <th>1</th>\n      <td>1.191857</td>\n      <td>0.266151</td>\n      <td>0.166480</td>\n      <td>0.448154</td>\n      <td>0.060018</td>\n      <td>-0.082361</td>\n      <td>-0.078803</td>\n      <td>0.085102</td>\n      <td>-0.255425</td>\n      <td>-0.166974</td>\n      <td>...</td>\n      <td>-0.225775</td>\n      <td>-0.638672</td>\n      <td>0.101288</td>\n      <td>-0.339846</td>\n      <td>0.167170</td>\n      <td>0.125895</td>\n      <td>-0.008983</td>\n      <td>0.014724</td>\n      <td>0</td>\n      <td>-0.342584</td>\n    </tr>\n    <tr>\n      <th>2</th>\n      <td>-1.358354</td>\n      <td>-1.340163</td>\n      <td>1.773209</td>\n      <td>0.379780</td>\n      <td>-0.503198</td>\n      <td>1.800499</td>\n      <td>0.791461</td>\n      <td>0.247676</td>\n      <td>-1.514654</td>\n      <td>0.207643</td>\n      <td>...</td>\n      <td>0.247998</td>\n      <td>0.771679</td>\n      <td>0.909412</td>\n      <td>-0.689281</td>\n      <td>-0.327642</td>\n      <td>-0.139097</td>\n      <td>-0.055353</td>\n      <td>-0.059752</td>\n      <td>0</td>\n      <td>1.158900</td>\n    </tr>\n    <tr>\n      <th>3</th>\n      <td>-0.966272</td>\n      <td>-0.185226</td>\n      <td>1.792993</td>\n      <td>-0.863291</td>\n      <td>-0.010309</td>\n      <td>1.247203</td>\n      <td>0.237609</td>\n      <td>0.377436</td>\n      <td>-1.387024</td>\n      <td>-0.054952</td>\n      <td>...</td>\n      <td>-0.108300</td>\n      <td>0.005274</td>\n      <td>-0.190321</td>\n      <td>-1.175575</td>\n      <td>0.647376</td>\n      <td>-0.221929</td>\n      <td>0.062723</td>\n      <td>0.061458</td>\n      <td>0</td>\n      <td>0.139886</td>\n    </tr>\n    <tr>\n      <th>4</th>\n      <td>-1.158233</td>\n      <td>0.877737</td>\n      <td>1.548718</td>\n      <td>0.403034</td>\n      <td>-0.407193</td>\n      <td>0.095921</td>\n      <td>0.592941</td>\n      <td>-0.270533</td>\n      <td>0.817739</td>\n      <td>0.753074</td>\n      <td>...</td>\n      <td>-0.009431</td>\n      <td>0.798278</td>\n      <td>-0.137458</td>\n      <td>0.141267</td>\n      <td>-0.206010</td>\n      <td>0.502292</td>\n      <td>0.219422</td>\n      <td>0.215153</td>\n      <td>0</td>\n      <td>-0.073813</td>\n    </tr>\n  </tbody>\n</table>\n<p>5 rows × 30 columns</p>\n</div>"
     },
     "metadata": {},
     "output_type": "execute_result",
     "execution_count": 10
    }
   ],
   "source": [
    "# 去除原特征列\n",
    "data.drop(['Amount'],axis=1,inplace=True)\n",
    "data.head(5)"
   ],
   "metadata": {
    "collapsed": false,
    "pycharm": {
     "name": "#%%\n",
     "is_executing": false
    }
   }
  },
  {
   "cell_type": "markdown",
   "source": [
    "### 3.查看样本类别信息"
   ],
   "metadata": {
    "collapsed": false,
    "pycharm": {
     "name": "#%% md\n"
    }
   }
  },
  {
   "cell_type": "code",
   "execution_count": 11,
   "outputs": [
    {
     "data": {
      "text/plain": "<Figure size 432x288 with 1 Axes>",
      "image/png": "[encoded data removed]"
     },
     "metadata": {
      "needs_background": "light"
     },
     "output_type": "display_data"
    },
    {
     "data": {
      "text/plain": "0    283253\n1       473\nName: Class, dtype: int64"
     },
     "metadata": {},
     "output_type": "execute_result",
     "execution_count": 11
    }
   ],
   "source": [
    "class_count=pd.value_counts(data['Class'],sort=True)\n",
    "class_count.plot(kind='bar')\n",
    "plt.show()\n",
    "class_count"
   ],
   "metadata": {
    "collapsed": false,
    "pycharm": {
     "name": "#%%\n",
     "is_executing": false
    }
   }
  },
  {
   "cell_type": "markdown",
   "source": [
    "观察上图可以发现样本类别极不均衡，是因为实际生活中信用卡欺诈行为很少。一般采用过采样与下采样方法处理此类问题。并且我们注重\n",
    "尽量‘查全’欺诈行为，故要使模型的recall分数尽量高。sklearn中二分类默认pos_label=1，正好对应欺诈标签。\n"
   ],
   "metadata": {
    "collapsed": false,
    "pycharm": {
     "name": "#%% md\n"
    }
   }
  },
  {
   "cell_type": "markdown",
   "source": [
    "### 4.数据下采样"
   ],
   "metadata": {
    "collapsed": false,
    "pycharm": {
     "name": "#%% md\n"
    }
   }
  },
  {
   "cell_type": "code",
   "execution_count": 12,
   "outputs": [
    {
     "name": "stdout",
     "text": [
      "undersample fraud num: 473\nundersample normal num: 473\ntotal undrsample num: 946\n"
     ],
     "output_type": "stream"
    }
   ],
   "source": [
    "#得到下采样数据标签\n",
    "\n",
    "normal_indices=np.array(data[data['Class']==0].index)\n",
    "fraud_indices=np.array(data[data['Class']==1].index)\n",
    "\n",
    "num_fraud=len(data[data['Class']==1])\n",
    "random_normal_indices=np.random.choice(normal_indices,num_fraud,replace=False)\n",
    "undersample_indices=np.concatenate([random_normal_indices,fraud_indices])\n",
    "undersample_data=data.loc[undersample_indices,:]\n",
    "\n",
    "print('undersample fraud num:',len(undersample_data[undersample_data['Class']==1]))\n",
    "print('undersample normal num:',len(undersample_data[undersample_data['Class']==0]))\n",
    "print('total undrsample num:',len(undersample_data))"
   ],
   "metadata": {
    "collapsed": false,
    "pycharm": {
     "name": "#%%\n",
     "is_executing": false
    }
   }
  },
  {
   "cell_type": "code",
   "execution_count": 13,
   "outputs": [],
   "source": [
    "# 完整数据集特征及标签\n",
    "x=data.loc[:,data.columns!='Class']\n",
    "y=data.loc[:,data.columns=='Class']\n",
    "\n",
    "# 下采样数据集特征及标签\n",
    "x_undersample=undersample_data.loc[:,undersample_data.columns!='Class']\n",
    "y_undersample=undersample_data.loc[:,undersample_data.columns=='Class']"
   ],
   "metadata": {
    "collapsed": false,
    "pycharm": {
     "name": "#%%\n",
     "is_executing": false
    }
   }
  },
  {
   "cell_type": "markdown",
   "source": [
    "### 5.下采样数据模型训练"
   ],
   "metadata": {
    "collapsed": false,
    "pycharm": {
     "name": "#%% md\n"
    }
   }
  },
  {
   "cell_type": "markdown",
   "source": [
    "**一般是在采样数据集上训练，在原数据集上测试。**"
   ],
   "metadata": {
    "collapsed": false,
    "pycharm": {
     "name": "#%% md\n"
    }
   }
  },
  {
   "cell_type": "code",
   "execution_count": 14,
   "outputs": [],
   "source": [
    "# 完整数据集划分\n",
    "x_train,x_test,y_train,y_test=train_test_split(x,y,test_size=0.3,random_state=0)\n",
    "\n",
    "# 下采样数据集划分\n",
    "x_train_undersample,x_test_undersample,y_train_undersample,y_test_undersample=\\\n",
    "    train_test_split(x_undersample,y_undersample,test_size=0.3,random_state=0)"
   ],
   "metadata": {
    "collapsed": false,
    "pycharm": {
     "name": "#%%\n",
     "is_executing": false
    }
   }
  },
  {
   "cell_type": "markdown",
   "source": [
    "（1）在下采样训练集上训练模型，并在下采样测试集上测试"
   ],
   "metadata": {
    "collapsed": false,
    "pycharm": {
     "name": "#%% md\n"
    }
   }
  },
  {
   "cell_type": "code",
   "execution_count": 15,
   "outputs": [],
   "source": [
    "# 寻找最佳正则化系数\n",
    "def get_bestC(x_train_data,y_train_data):\n",
    "    \n",
    "    kfold=KFold(n_splits=5,random_state=0)\n",
    "    c_param_range = [0.01, 0.1, 1, 10, 100] #正则化系数\n",
    "    rec_scores=[]\n",
    "    \n",
    "    for c in c_param_range:\n",
    "        print('*'*15)\n",
    "        print('c:{}'.format(c))\n",
    "        clf=LogisticRegression(penalty='l1',C=c,solver='liblinear')\n",
    "        temp_rec=[]\n",
    "        for i,(train_indices,valid_indices) in enumerate(kfold.split(x_train_data,y_train_data)):\n",
    "            train_x,train_y=x_train_data.iloc[train_indices,:],y_train_data.iloc[train_indices,:]\n",
    "            valid_x,valid_y=x_train_data.iloc[valid_indices,:],y_train_data.iloc[valid_indices,:]\n",
    "            clf.fit(train_x,train_y)\n",
    "            pred_y=clf.predict(valid_x)\n",
    "            rec=recall_score(valid_y,pred_y)\n",
    "            temp_rec.append(rec)\n",
    "            print('iter_{}:recall score:{}'.format(i,rec))\n",
    "        rec_score=np.mean(temp_rec)\n",
    "        rec_scores.append(rec_score)\n",
    "        print('mean recall score:{}'.format(rec_score))\n",
    "    \n",
    "    best_rec=np.max(rec_scores)\n",
    "    best_rec_ind=np.argmax(rec_scores)\n",
    "    best_c=c_param_range[best_rec_ind]\n",
    "    return best_c,best_rec\n",
    "             "
   ],
   "metadata": {
    "collapsed": false,
    "pycharm": {
     "name": "#%%\n",
     "is_executing": false
    }
   }
  },
  {
   "cell_type": "code",
   "execution_count": 16,
   "outputs": [],
   "source": [
    "# 绘制混淆矩阵\n",
    "def plot_confusion_matrix(mat,classes,title=None):\n",
    "    plt.imshow(mat,cmap=plt.cm.Blues,alpha=0.3)\n",
    "    for i in range(mat.shape[0]):\n",
    "        for j in range(mat.shape[1]):\n",
    "            plt.text(x=j,y=i,s=mat[i,j],va='center',ha='center')\n",
    "\n",
    "    if title is not None:\n",
    "        plt.title(title)\n",
    "    \n",
    "    tick_marks=range(len(classes))\n",
    "    plt.xticks(tick_marks, classes)\n",
    "    plt.yticks(tick_marks, classes)\n",
    "    \n",
    "    plt.tight_layout()\n",
    "    plt.xlabel('predicted label')\n",
    "    plt.ylabel('true label')"
   ],
   "metadata": {
    "collapsed": false,
    "pycharm": {
     "name": "#%%\n",
     "is_executing": false
    }
   }
  },
  {
   "cell_type": "code",
   "execution_count": 17,
   "outputs": [
    {
     "name": "stdout",
     "text": [
      "***************\nc:0.01\niter_0:recall score:0.9705882352941176\niter_1:recall score:0.9846153846153847\niter_2:recall score:0.948051948051948\niter_3:recall score:0.896551724137931\niter_4:recall score:0.9701492537313433\nmean recall score:0.953991309166145\n***************\nc:0.1\niter_0:recall score:0.9117647058823529\niter_1:recall score:0.9076923076923077\niter_2:recall score:0.9090909090909091\niter_3:recall score:0.9137931034482759\niter_4:recall score:0.835820895522388\nmean recall score:0.8956323843272467\n***************\nc:1\niter_0:recall score:0.9264705882352942\niter_1:recall score:0.9230769230769231\niter_2:recall score:0.922077922077922\niter_3:recall score:0.9137931034482759\niter_4:recall score:0.8507462686567164\nmean recall score:0.9072329610990263\n***************\nc:10\niter_0:recall score:0.9264705882352942\niter_1:recall score:0.9538461538461539\niter_2:recall score:0.922077922077922\niter_3:recall score:0.9137931034482759\niter_4:recall score:0.8805970149253731\nmean recall score:0.9193569565066037\n***************\nc:100\niter_0:recall score:0.9264705882352942\niter_1:recall score:0.9538461538461539\niter_2:recall score:0.922077922077922\n",
      "iter_3:recall score:0.9137931034482759\niter_4:recall score:0.8805970149253731\nmean recall score:0.9193569565066037\nbest model c:0.01, best recall score:0.953991309166145\n",
      "undersample test recall score:0.9637681159420289\n"
     ],
     "output_type": "stream"
    },
    {
     "data": {
      "text/plain": "<Figure size 432x288 with 1 Axes>",
      "image/png": "[encoded data removed]"
     },
     "metadata": {
      "needs_background": "light"
     },
     "output_type": "display_data"
    }
   ],
   "source": [
    "best_c,best_rec=get_bestC(x_train_undersample,y_train_undersample)\n",
    "print('best model c:{}, best recall score:{}'.format(best_c,best_rec))\n",
    "\n",
    "clf=LogisticRegression(penalty='l1',C=best_c,solver='liblinear')\n",
    "clf.fit(x_train_undersample,y_train_undersample)\n",
    "y_pred_undersample=clf.predict(x_test_undersample)\n",
    "mat=confusion_matrix(y_test_undersample,y_pred_undersample)\n",
    "test_rec=recall_score(y_test_undersample,y_pred_undersample)\n",
    "\n",
    "plot_confusion_matrix(mat,[0,1])\n",
    "plt.show()\n",
    "print('undersample test recall score:{}'.format(test_rec))"
   ],
   "metadata": {
    "collapsed": false,
    "pycharm": {
     "name": "#%%  \n",
     "is_executing": false
    }
   }
  },
  {
   "cell_type": "markdown",
   "source": [
    "（2）在下采样训练集上训练模型，并在完整测试集上测试【下采样训练测试流程】"
   ],
   "metadata": {
    "collapsed": false,
    "pycharm": {
     "name": "#%% md\n"
    }
   }
  },
  {
   "cell_type": "code",
   "source": [
    "best_c,best_rec=get_bestC(x_train_undersample,y_train_undersample)\n",
    "print('best model c:{}, best recall score:{}'.format(best_c,best_rec))\n",
    "\n",
    "clf=LogisticRegression(penalty='l1',C=best_c,solver='liblinear')\n",
    "clf.fit(x_train_undersample,y_train_undersample)\n",
    "y_pred=clf.predict(x_test)\n",
    "mat=confusion_matrix(y_test,y_pred)\n",
    "test_rec=recall_score(y_test,y_pred)\n",
    "\n",
    "plot_confusion_matrix(mat,[0,1])\n",
    "plt.show()\n",
    "print('test recall score:{}'.format(test_rec))\n",
    "#虽然recall较高，但是误分太多了"
   ],
   "metadata": {
    "collapsed": false,
    "pycharm": {
     "name": "#%%\n",
     "is_executing": false
    }
   },
   "execution_count": 18,
   "outputs": [
    {
     "name": "stdout",
     "text": [
      "***************\nc:0.01\niter_0:recall score:0.9705882352941176\niter_1:recall score:0.9846153846153847\niter_2:recall score:0.948051948051948\niter_3:recall score:0.896551724137931\niter_4:recall score:0.9701492537313433\nmean recall score:0.953991309166145\n***************\nc:0.1\niter_0:recall score:0.9117647058823529",
      "\niter_1:recall score:0.9076923076923077\niter_2:recall score:0.9090909090909091\niter_3:recall score:0.9137931034482759\niter_4:recall score:0.835820895522388\nmean recall score:0.8956323843272467\n***************\nc:1\niter_0:recall score:0.9264705882352942\niter_1:recall score:0.9230769230769231\niter_2:recall score:0.922077922077922\niter_3:recall score:0.9137931034482759\niter_4:recall score:0.8507462686567164\nmean recall score:0.9072329610990263\n***************\nc:10\niter_0:recall score:0.9264705882352942",
      "\niter_1:recall score:0.9538461538461539",
      "\niter_2:recall score:0.922077922077922\niter_3:recall score:0.9137931034482759\niter_4:recall score:0.8805970149253731\nmean recall score:0.9193569565066037\n***************\nc:100",
      "\niter_0:recall score:0.9264705882352942\niter_1:recall score:0.9538461538461539\niter_2:recall score:0.922077922077922\niter_3:recall score:0.9137931034482759\niter_4:recall score:0.8805970149253731\nmean recall score:0.9193569565066037\nbest model c:0.01, best recall score:0.953991309166145\n",
      "test recall score:0.9534883720930233\n"
     ],
     "output_type": "stream"
    },
    {
     "data": {
      "text/plain": "<Figure size 432x288 with 1 Axes>",
      "image/png": "[encoded data removed]"
     },
     "metadata": {
      "needs_background": "light"
     },
     "output_type": "display_data"
    }
   ]
  },
  {
   "cell_type": "markdown",
   "source": [
    "观察上图，虽然recall值较高，但是0误分为1的样本数也比较多，误分率较高。"
   ],
   "metadata": {
    "collapsed": false
   }
  },
  {
   "cell_type": "markdown",
   "source": [
    "（3）在完整训练集上训练模型，并在完整测试集上测试\n"
   ],
   "metadata": {
    "collapsed": false,
    "pycharm": {
     "name": "#%% md\n",
     "is_executing": false
    }
   }
  },
  {
   "cell_type": "code",
   "execution_count": 19,
   "outputs": [
    {
     "name": "stdout",
     "text": [
      "***************\nc:0.01\n",
      "iter_0:recall score:0.5072463768115942\n",
      "iter_1:recall score:0.5\n",
      "iter_2:recall score:0.5692307692307692\n",
      "iter_3:recall score:0.6615384615384615\n",
      "iter_4:recall score:0.5324675324675324\nmean recall score:0.5540966280096715\n***************\nc:0.1\n",
      "iter_0:recall score:0.5507246376811594\n",
      "iter_1:recall score:0.5588235294117647\n",
      "iter_2:recall score:0.5846153846153846\n",
      "iter_3:recall score:0.7384615384615385\n",
      "iter_4:recall score:0.6103896103896104\nmean recall score:0.6086029401118915\n***************\nc:1\n",
      "iter_0:recall score:0.5507246376811594\n",
      "iter_1:recall score:0.5882352941176471\n",
      "iter_2:recall score:0.5846153846153846\n",
      "iter_3:recall score:0.7692307692307693\n",
      "iter_4:recall score:0.6103896103896104\nmean recall score:0.6206391392069142\n***************\nc:10\n",
      "iter_0:recall score:0.5507246376811594\n",
      "iter_1:recall score:0.5882352941176471\n",
      "iter_2:recall score:0.6\n",
      "iter_3:recall score:0.7692307692307693\n",
      "iter_4:recall score:0.5974025974025974\nmean recall score:0.6211186596864346\n***************\nc:100\n",
      "iter_0:recall score:0.5507246376811594\n",
      "iter_1:recall score:0.5882352941176471\n",
      "iter_2:recall score:0.6\n",
      "iter_3:recall score:0.7692307692307693\n",
      "iter_4:recall score:0.5974025974025974\nmean recall score:0.6211186596864346\nbest model c:10, best recall score:0.6211186596864346\n",
      "test recall score:0.5503875968992248\n"
     ],
     "output_type": "stream"
    },
    {
     "data": {
      "text/plain": "<Figure size 432x288 with 1 Axes>",
      "image/png": "[encoded data removed]"
     },
     "metadata": {
      "needs_background": "light"
     },
     "output_type": "display_data"
    }
   ],
   "source": [
    "best_c,best_rec=get_bestC(x_train,y_train)\n",
    "print('best model c:{}, best recall score:{}'.format(best_c,best_rec))\n",
    "\n",
    "clf=LogisticRegression(penalty='l1',C=best_c,solver='liblinear')\n",
    "clf.fit(x_train,y_train)\n",
    "y_pred=clf.predict(x_test)\n",
    "mat=confusion_matrix(y_test,y_pred)\n",
    "test_rec=recall_score(y_test,y_pred)\n",
    "\n",
    "plot_confusion_matrix(mat,[0,1])\n",
    "plt.show()\n",
    "print('test recall score:{}'.format(test_rec))"
   ],
   "metadata": {
    "collapsed": false,
    "pycharm": {
     "name": "#%%\n",
     "is_executing": false
    }
   }
  },
  {
   "cell_type": "markdown",
   "source": [
    "（4）设置不同的阈值，在下采样训练集上训练模型，并在下采样测试集上测试"
   ],
   "metadata": {
    "collapsed": false
   }
  },
  {
   "cell_type": "code",
   "execution_count": 20,
   "outputs": [
    {
     "name": "stdout",
     "text": [
      "***************\nc:0.01\niter_0:recall score:0.9705882352941176\niter_1:recall score:0.9846153846153847\niter_2:recall score:0.948051948051948\niter_3:recall score:0.896551724137931\niter_4:recall score:0.9701492537313433\nmean recall score:0.953991309166145\n***************\nc:0.1\niter_0:recall score:0.9117647058823529\niter_1:recall score:0.9076923076923077\niter_2:recall score:0.9090909090909091\niter_3:recall score:0.9137931034482759\niter_4:recall score:0.835820895522388\nmean recall score:0.8956323843272467\n***************\nc:1\niter_0:recall score:0.9264705882352942\niter_1:recall score:0.9230769230769231\niter_2:recall score:0.922077922077922\niter_3:recall score:0.9137931034482759\niter_4:recall score:0.8507462686567164\nmean recall score:0.9072329610990263\n***************\nc:10\niter_0:recall score:0.9264705882352942\niter_1:recall score:0.9538461538461539\niter_2:recall score:0.922077922077922\niter_3:recall score:0.9137931034482759\niter_4:recall score:0.8805970149253731\nmean recall score:0.9193569565066037\n***************\nc:100\niter_0:recall score:0.9264705882352942\niter_1:recall score:0.9538461538461539\n",
      "iter_2:recall score:0.922077922077922\n",
      "iter_3:recall score:0.9137931034482759\niter_4:recall score:0.8805970149253731\nmean recall score:0.9193569565066037\nbest model c:0.01, best recall score:0.953991309166145\nthreshold=0.1,recall score:1.0000\nthreshold=0.2,recall score:1.0000\nthreshold=0.3,recall score:1.0000",
      "\nthreshold=0.4,recall score:0.9855\n",
      "threshold=0.5,recall score:0.9638\nthreshold=0.6,recall score:0.8986\nthreshold=0.7,recall score:0.8551\n",
      "threshold=0.8,recall score:0.8043\n",
      "threshold=0.9,recall score:0.6304\n"
     ],
     "output_type": "stream"
    },
    {
     "data": {
      "text/plain": "<Figure size 720x720 with 9 Axes>",
      "image/png": "[encoded data removed]"
     },
     "metadata": {
      "needs_background": "light"
     },
     "output_type": "display_data"
    }
   ],
   "source": [
    "best_c,best_rec=get_bestC(x_train_undersample,y_train_undersample)\n",
    "print('best model c:{}, best recall score:{}'.format(best_c,best_rec))\n",
    "\n",
    "clf=LogisticRegression(penalty='l1',C=best_c,solver='liblinear')\n",
    "clf.fit(x_train_undersample,y_train_undersample)\n",
    "y_pred_prob_undersample=clf.predict_proba(x_test_undersample)\n",
    "\n",
    "threshold=[0.1,0.2,0.3,0.4,0.5,0.6,0.7,0.8,0.9]\n",
    "plt.figure(figsize=(10,10))\n",
    "for i,thresh in enumerate(threshold):\n",
    "    # y_pred_prob_undersample[:,1]则是每个样本预测为 1 的概率\n",
    "    y_pred_undersample=y_pred_prob_undersample[:,1] > thresh\n",
    "    mat=confusion_matrix(y_test_undersample,y_pred_undersample)\n",
    "    \n",
    "    plt.subplot(3,3,i+1)\n",
    "    rec_score=recall_score(y_test_undersample,y_pred_undersample)\n",
    "    title='threshold={},recall score:{:.4f}'.format(thresh,rec_score)\n",
    "    print(title)\n",
    "    plot_confusion_matrix(mat,[0,1],title)\n",
    "plt.show()"
   ],
   "metadata": {
    "collapsed": false,
    "pycharm": {
     "name": "#%%\n",
     "is_executing": false
    }
   }
  },
  {
   "cell_type": "markdown",
   "source": [
    "从以上的实验可以看出，对于阈值，设置的太大不好，设置的太小也不好，所以阈值设定地越适当，才能使得模型拟合效果越好。"
   ],
   "metadata": {
    "collapsed": false,
    "pycharm": {
     "name": "#%% md\n"
    }
   }
  },
  {
   "cell_type": "markdown",
   "source": [
    "### 5.数据过采样"
   ],
   "metadata": {
    "collapsed": false,
    "pycharm": {
     "name": "#%% md\n"
    }
   }
  },
  {
   "cell_type": "code",
   "execution_count": 22,
   "outputs": [
    {
     "name": "stdout",
     "text": [
      "train fraud num: 344\ntrain normal num: 198264\n"
     ],
     "output_type": "stream"
    }
   ],
   "source": [
    "# 完整数据集特征及标签\n",
    "x=data.loc[:,data.columns!='Class']\n",
    "y=data.loc[:,data.columns=='Class']\n",
    "\n",
    "# 完整数据集划分\n",
    "x_train,x_test,y_train,y_test=train_test_split(x,y,test_size=0.3,random_state=0)\n",
    "print('train fraud num:',len(y_train[y_train['Class']==1]))\n",
    "print('train normal num:',len(y_train[y_train['Class']==0]))"
   ],
   "metadata": {
    "collapsed": false,
    "pycharm": {
     "name": "#%%\n",
     "is_executing": false
    }
   }
  },
  {
   "cell_type": "code",
   "execution_count": 23,
   "outputs": [
    {
     "name": "stdout",
     "text": [
      "train fraud oversample num: 198264\ntrain normal oversample num: 198264\n"
     ],
     "output_type": "stream"
    }
   ],
   "source": [
    "#SMOTE过采样\n",
    "oversampler=SMOTE(random_state=0)\n",
    "x_train_oversample,y_train_oversample=oversampler.fit_sample(x_train,y_train)\n",
    "print('train fraud oversample num:',len(y_train_oversample[y_train_oversample['Class']==1]))\n",
    "print('train normal oversample num:',len(y_train_oversample[y_train_oversample['Class']==0]))"
   ],
   "metadata": {
    "collapsed": false,
    "pycharm": {
     "name": "#%%\n",
     "is_executing": false
    }
   }
  },
  {
   "cell_type": "markdown",
   "source": [
    "由以上打印结果可知，较少样本的类别样本数扩充到较多样本的类别样本数。"
   ],
   "metadata": {
    "collapsed": false,
    "pycharm": {
     "name": "#%% md\n"
    }
   }
  },
  {
   "cell_type": "markdown",
   "source": [
    "### 6.过采样数据训练测试"
   ],
   "metadata": {
    "collapsed": false,
    "pycharm": {
     "name": "#%% md\n"
    }
   }
  },
  {
   "cell_type": "code",
   "execution_count": 24,
   "outputs": [
    {
     "name": "stdout",
     "text": [
      "***************\nc:0.01\n",
      "iter_0:recall score:0.9051094890510949\n",
      "iter_1:recall score:0.9457364341085271\n",
      "iter_2:recall score:0.9036254696861988\n",
      "iter_3:recall score:0.8897673538868924\n",
      "iter_4:recall score:0.8887838093436732\nmean recall score:0.9066045112152773\n***************\nc:0.1\n",
      "iter_0:recall score:0.9051094890510949\n",
      "iter_1:recall score:0.9457364341085271\n",
      "iter_2:recall score:0.9057580989133747\n",
      "iter_3:recall score:0.8925540634260135\n",
      "iter_4:recall score:0.8916587857007755\nmean recall score:0.9081633742399571\n***************\nc:1\n",
      "iter_0:recall score:0.9124087591240876\n",
      "iter_1:recall score:0.9457364341085271\n",
      "iter_2:recall score:0.9059865949020006\n",
      "iter_3:recall score:0.8927936447891054\n",
      "iter_4:recall score:0.8917218334279049\nmean recall score:0.9097294532703252\n***************\nc:10\n",
      "iter_0:recall score:0.9124087591240876\n",
      "iter_1:recall score:0.9457364341085271\n",
      "iter_2:recall score:0.9060119833451813\n",
      "iter_3:recall score:0.8928188638799571\n",
      "iter_4:recall score:0.8917470525187567\nmean recall score:0.909744618595302\n***************\nc:100\n",
      "iter_0:recall score:0.9124087591240876\n",
      "iter_1:recall score:0.9457364341085271\n",
      "iter_2:recall score:0.9060627602315426\n",
      "iter_3:recall score:0.8928062543345312\n",
      "iter_4:recall score:0.8917344429733308\nmean recall score:0.9097497301544039\nbest model c:100, best recall score:0.9097497301544039\n"
     ],
     "output_type": "stream"
    },
    {
     "traceback": [
      "\u001b[1;31m---------------------------------------------------------------------------\u001b[0m",
      "\u001b[1;31mTypeError\u001b[0m                                 Traceback (most recent call last)",
      "\u001b[1;32m<ipython-input-24-dea1a2f0d46f>\u001b[0m in \u001b[0;36m<module>\u001b[1;34m\u001b[0m\n\u001b[0;32m      2\u001b[0m \u001b[0mprint\u001b[0m\u001b[1;33m(\u001b[0m\u001b[1;34m'best model c:{}, best recall score:{}'\u001b[0m\u001b[1;33m.\u001b[0m\u001b[0mformat\u001b[0m\u001b[1;33m(\u001b[0m\u001b[0mbest_c\u001b[0m\u001b[1;33m,\u001b[0m\u001b[0mbest_rec\u001b[0m\u001b[1;33m)\u001b[0m\u001b[1;33m)\u001b[0m\u001b[1;33m\u001b[0m\u001b[1;33m\u001b[0m\u001b[0m\n\u001b[0;32m      3\u001b[0m \u001b[1;33m\u001b[0m\u001b[0m\n\u001b[1;32m----> 4\u001b[1;33m \u001b[0mclf\u001b[0m\u001b[1;33m=\u001b[0m\u001b[0mLogisticRegression\u001b[0m\u001b[1;33m(\u001b[0m\u001b[0mpenalty\u001b[0m\u001b[1;33m=\u001b[0m\u001b[1;34m'l1'\u001b[0m\u001b[1;33m,\u001b[0m\u001b[0mc\u001b[0m\u001b[1;33m=\u001b[0m\u001b[0mbest_c\u001b[0m\u001b[1;33m,\u001b[0m\u001b[0msolver\u001b[0m\u001b[1;33m=\u001b[0m\u001b[1;34m'liblinear'\u001b[0m\u001b[1;33m)\u001b[0m\u001b[1;33m\u001b[0m\u001b[1;33m\u001b[0m\u001b[0m\n\u001b[0m\u001b[0;32m      5\u001b[0m \u001b[0mclf\u001b[0m\u001b[1;33m.\u001b[0m\u001b[0mfit\u001b[0m\u001b[1;33m(\u001b[0m\u001b[0mx_train_undersample\u001b[0m\u001b[1;33m,\u001b[0m\u001b[0my_train_undersample\u001b[0m\u001b[1;33m)\u001b[0m\u001b[1;33m\u001b[0m\u001b[1;33m\u001b[0m\u001b[0m\n\u001b[0;32m      6\u001b[0m \u001b[0my_pred\u001b[0m\u001b[1;33m=\u001b[0m\u001b[0mclf\u001b[0m\u001b[1;33m.\u001b[0m\u001b[0mpredict\u001b[0m\u001b[1;33m(\u001b[0m\u001b[0mx_test\u001b[0m\u001b[1;33m)\u001b[0m\u001b[1;33m\u001b[0m\u001b[1;33m\u001b[0m\u001b[0m\n",
      "\u001b[1;32mC:\\Anaconda3\\lib\\site-packages\\sklearn\\utils\\validation.py\u001b[0m in \u001b[0;36minner_f\u001b[1;34m(*args, **kwargs)\u001b[0m\n\u001b[0;32m     71\u001b[0m                           FutureWarning)\n\u001b[0;32m     72\u001b[0m         \u001b[0mkwargs\u001b[0m\u001b[1;33m.\u001b[0m\u001b[0mupdate\u001b[0m\u001b[1;33m(\u001b[0m\u001b[1;33m{\u001b[0m\u001b[0mk\u001b[0m\u001b[1;33m:\u001b[0m \u001b[0marg\u001b[0m \u001b[1;32mfor\u001b[0m \u001b[0mk\u001b[0m\u001b[1;33m,\u001b[0m \u001b[0marg\u001b[0m \u001b[1;32min\u001b[0m \u001b[0mzip\u001b[0m\u001b[1;33m(\u001b[0m\u001b[0msig\u001b[0m\u001b[1;33m.\u001b[0m\u001b[0mparameters\u001b[0m\u001b[1;33m,\u001b[0m \u001b[0margs\u001b[0m\u001b[1;33m)\u001b[0m\u001b[1;33m}\u001b[0m\u001b[1;33m)\u001b[0m\u001b[1;33m\u001b[0m\u001b[1;33m\u001b[0m\u001b[0m\n\u001b[1;32m---> 73\u001b[1;33m         \u001b[1;32mreturn\u001b[0m \u001b[0mf\u001b[0m\u001b[1;33m(\u001b[0m\u001b[1;33m**\u001b[0m\u001b[0mkwargs\u001b[0m\u001b[1;33m)\u001b[0m\u001b[1;33m\u001b[0m\u001b[1;33m\u001b[0m\u001b[0m\n\u001b[0m\u001b[0;32m     74\u001b[0m     \u001b[1;32mreturn\u001b[0m \u001b[0minner_f\u001b[0m\u001b[1;33m\u001b[0m\u001b[1;33m\u001b[0m\u001b[0m\n\u001b[0;32m     75\u001b[0m \u001b[1;33m\u001b[0m\u001b[0m\n",
      "\u001b[1;31mTypeError\u001b[0m: __init__() got an unexpected keyword argument 'c'"
     ],
     "ename": "TypeError",
     "evalue": "__init__() got an unexpected keyword argument 'c'",
     "output_type": "error"
    }
   ],
   "source": [
    "best_c,best_rec=get_bestC(x_train_oversample,y_train_oversample)\n",
    "print('best model c:{}, best recall score:{}'.format(best_c,best_rec))"
   ],
   "metadata": {
    "collapsed": false,
    "pycharm": {
     "name": "#%%\n",
     "is_executing": false
    }
   }
  },
  {
   "cell_type": "code",
   "execution_count": 25,
   "outputs": [
    {
     "data": {
      "text/plain": "<Figure size 432x288 with 1 Axes>",
      "image/png": "[encoded data removed]"
     },
     "metadata": {
      "needs_background": "light"
     },
     "output_type": "display_data"
    },
    {
     "name": "stdout",
     "text": [
      "oversample test recall score:0.937984496124031\n"
     ],
     "output_type": "stream"
    }
   ],
   "source": [
    "clf=LogisticRegression(penalty='l1',C=best_c,solver='liblinear')\n",
    "clf.fit(x_train_undersample,y_train_undersample)\n",
    "y_pred=clf.predict(x_test)\n",
    "\n",
    "mat=confusion_matrix(y_test,y_pred)\n",
    "test_rec=recall_score(y_test,y_pred)\n",
    "\n",
    "plot_confusion_matrix(mat,[0,1])\n",
    "plt.show()\n",
    "print('oversample test recall score:{}'.format(test_rec))"
   ],
   "metadata": {
    "collapsed": false,
    "pycharm": {
     "name": "#%%\n",
     "is_executing": false
    }
   }
  },
  {
   "cell_type": "markdown",
   "source": [
    "由上图可知，误分减少了1w样本左右，同时有较高的recall分数。故在样本极不均衡的情况下，经常采用过采样。"
   ],
   "metadata": {
    "collapsed": false,
    "pycharm": {
     "name": "#%% md\n"
    }
   }
  },
  {
   "cell_type": "code",
   "execution_count": 26,
   "outputs": [
    {
     "name": "stdout",
     "text": [
      "0.9431730068845603\n"
     ],
     "output_type": "stream"
    }
   ],
   "source": [
    "# 打印准确率\n",
    "from sklearn.metrics import accuracy_score\n",
    "print(accuracy_score(y_test,y_pred))"
   ],
   "metadata": {
    "collapsed": false,
    "pycharm": {
     "name": "#%%\n",
     "is_executing": false
    }
   }
  }
 ],
 "metadata": {
  "kernelspec": {
   "display_name": "Python 3",
   "language": "python",
   "name": "python3"
  },
  "language_info": {
   "codemirror_mode": {
    "name": "ipython",
    "version": 2
   },
   "file_extension": ".py",
   "mimetype": "text/x-python",
   "name": "python",
   "nbconvert_exporter": "python",
   "pygments_lexer": "ipython2",
   "version": "2.7.6"
  },
  "pycharm": {
   "stem_cell": {
    "cell_type": "raw",
    "source": [],
    "metadata": {
     "collapsed": false
    }
   }
  }
 },
 "nbformat": 4,
 "nbformat_minor": 0
}