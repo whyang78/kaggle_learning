{
 "cells": [
  {
   "cell_type": "markdown",
   "source": [
    "### Blending应用  \n",
    "个人认为是将多个模型的处理结果组合到一起，然后建立组合特征与目标特征之间的模型。  \n",
    "相比单一模型，组合特征后学习的模型效果更好。（视情况而定）"
   ],
   "metadata": {
    "collapsed": false,
    "pycharm": {
     "name": "#%% md\n"
    }
   }
  },
  {
   "cell_type": "code",
   "execution_count": 1,
   "metadata": {
    "collapsed": true,
    "pycharm": {
     "is_executing": false
    }
   },
   "outputs": [],
   "source": [
    "import numpy as np\n",
    "import random\n",
    "import warnings\n",
    "warnings.filterwarnings('ignore')\n",
    "from sklearn.datasets import load_breast_cancer\n",
    "from sklearn.model_selection import StratifiedKFold,cross_val_score\n",
    "from sklearn.linear_model import LogisticRegression\n",
    "from sklearn.neighbors import KNeighborsClassifier\n",
    "from sklearn.tree import DecisionTreeClassifier\n",
    "from sklearn.base import clone"
   ]
  },
  {
   "cell_type": "code",
   "execution_count": 2,
   "outputs": [],
   "source": [
    "random.seed(78)\n",
    "np.random.seed(78)"
   ],
   "metadata": {
    "collapsed": false,
    "pycharm": {
     "name": "#%%\n",
     "is_executing": false
    }
   }
  },
  {
   "cell_type": "code",
   "execution_count": 3,
   "outputs": [],
   "source": [
    "data=load_breast_cancer()\n",
    "x=data['data']\n",
    "y=data['target']"
   ],
   "metadata": {
    "collapsed": false,
    "pycharm": {
     "name": "#%%\n",
     "is_executing": false
    }
   }
  },
  {
   "cell_type": "code",
   "execution_count": 4,
   "outputs": [
    {
     "data": {
      "text/plain": "0.9173730787144854"
     },
     "metadata": {},
     "output_type": "execute_result",
     "execution_count": 4
    }
   ],
   "source": [
    "DT=DecisionTreeClassifier()\n",
    "score=cross_val_score(DT,x,y,cv=5).mean()\n",
    "score"
   ],
   "metadata": {
    "collapsed": false,
    "pycharm": {
     "name": "#%%\n",
     "is_executing": false
    }
   }
  },
  {
   "cell_type": "code",
   "execution_count": 5,
   "outputs": [
    {
     "data": {
      "text/plain": "0.9279459711224964"
     },
     "metadata": {},
     "output_type": "execute_result",
     "execution_count": 5
    }
   ],
   "source": [
    "neighbor=KNeighborsClassifier()\n",
    "score=cross_val_score(neighbor,x,y,cv=5).mean()\n",
    "score"
   ],
   "metadata": {
    "collapsed": false,
    "pycharm": {
     "name": "#%%\n",
     "is_executing": false
    }
   }
  },
  {
   "cell_type": "code",
   "execution_count": 6,
   "outputs": [
    {
     "data": {
      "text/plain": "0.9420035149384886"
     },
     "metadata": {},
     "output_type": "execute_result",
     "execution_count": 6
    }
   ],
   "source": [
    "clfs=[DecisionTreeClassifier(),\n",
    "      KNeighborsClassifier()]\n",
    "\n",
    "blending_train_x=np.zeros((x.shape[0],len(clfs)))\n",
    "kf=StratifiedKFold(n_splits=5,shuffle=True,random_state=78)\n",
    "for i,clf_ in enumerate(clfs):\n",
    "    for train_index,test_index in kf.split(x,y):\n",
    "        clf=clone(clf_)\n",
    "        train_x,test_x=x[train_index],x[test_index]\n",
    "        train_y,test_y=y[train_index],y[test_index]\n",
    "\n",
    "        clf.fit(train_x,train_y)\n",
    "        pred=clf.predict_proba(test_x)[:,1]  # 二分类问题，只取出为1的概率\n",
    "        blending_train_x[test_index,i]=pred\n",
    "\n",
    "clf=LogisticRegression()\n",
    "clf.fit(blending_train_x,y)\n",
    "\n",
    "clf.score(blending_train_x,y)"
   ],
   "metadata": {
    "collapsed": false,
    "pycharm": {
     "name": "#%%\n",
     "is_executing": false
    }
   }
  }
 ],
 "metadata": {
  "kernelspec": {
   "display_name": "Python 3",
   "language": "python",
   "name": "python3"
  },
  "language_info": {
   "codemirror_mode": {
    "name": "ipython",
    "version": 2
   },
   "file_extension": ".py",
   "mimetype": "text/x-python",
   "name": "python",
   "nbconvert_exporter": "python",
   "pygments_lexer": "ipython2",
   "version": "2.7.6"
  },
  "pycharm": {
   "stem_cell": {
    "cell_type": "raw",
    "source": [],
    "metadata": {
     "collapsed": false
    }
   }
  }
 },
 "nbformat": 4,
 "nbformat_minor": 0
}