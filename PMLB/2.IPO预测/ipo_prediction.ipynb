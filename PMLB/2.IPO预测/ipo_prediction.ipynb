{
 "cells": [
  {
   "cell_type": "markdown",
   "source": [
    "## IPO预测\n",
    "分为两个数据集：ipo_data.csv 和 sp_data.csv。详细特征说明见txt文档。"
   ],
   "metadata": {
    "collapsed": false,
    "pycharm": {
     "name": "#%% md\n"
    }
   }
  },
  {
   "cell_type": "code",
   "execution_count": 251,
   "metadata": {
    "collapsed": true,
    "pycharm": {
     "is_executing": false
    }
   },
   "outputs": [],
   "source": [
    "import pandas as pd\n",
    "import numpy as np\n",
    "from matplotlib import pyplot as plt\n",
    "%matplotlib inline"
   ]
  },
  {
   "cell_type": "markdown",
   "source": [
    "### 1.读取数据集"
   ],
   "metadata": {
    "collapsed": false,
    "pycharm": {
     "name": "#%% md\n"
    }
   }
  },
  {
   "cell_type": "code",
   "execution_count": 252,
   "outputs": [],
   "source": [
    "ipo_data=pd.read_csv('./ipo_data.csv',encoding='latin-1')"
   ],
   "metadata": {
    "collapsed": false,
    "pycharm": {
     "name": "#%%\n",
     "is_executing": false
    }
   }
  },
  {
   "cell_type": "code",
   "execution_count": 253,
   "outputs": [
    {
     "name": "stdout",
     "text": [
      "<class 'pandas.core.frame.DataFrame'>\nRangeIndex: 3515 entries, 0 to 3514\nData columns (total 12 columns):\nDate                         3515 non-null object\nIssuer                       3515 non-null object\nSymbol                       3515 non-null object\nLead/Joint-Lead  Managers    3515 non-null object\nOffer Price                  3515 non-null float64\nOpening Price                3515 non-null float64\n1st Day Close                3515 non-null float64\n1st Day % Px Chng            3514 non-null float64\n$ Change Opening             3515 non-null float64\n$ Change Close               3515 non-null float64\nStar Ratings                 3508 non-null object\nPerformed                    395 non-null object\ndtypes: float64(6), object(6)\nmemory usage: 329.6+ KB\n"
     ],
     "output_type": "stream"
    }
   ],
   "source": [
    "ipo_data.info()"
   ],
   "metadata": {
    "collapsed": false,
    "pycharm": {
     "name": "#%%\n",
     "is_executing": false
    }
   }
  },
  {
   "cell_type": "markdown",
   "source": [
    "缺失值处理"
   ],
   "metadata": {
    "collapsed": false,
    "pycharm": {
     "name": "#%% md\n"
    }
   }
  },
  {
   "cell_type": "code",
   "execution_count": 254,
   "outputs": [
    {
     "data": {
      "text/plain": "Date                            0\nIssuer                          0\nSymbol                          0\nLead/Joint-Lead  Managers       0\nOffer Price                     0\nOpening Price                   0\n1st Day Close                   0\n1st Day % Px Chng               1\n$ Change Opening                0\n$ Change Close                  0\nStar Ratings                    7\nPerformed                    3120\ndtype: int64"
     },
     "metadata": {},
     "output_type": "execute_result",
     "execution_count": 254
    }
   ],
   "source": [
    "ipo_data.isnull().sum()"
   ],
   "metadata": {
    "collapsed": false,
    "pycharm": {
     "name": "#%%\n",
     "is_executing": false
    }
   }
  },
  {
   "cell_type": "markdown",
   "source": [
    "观察上面打印信息，发现有三个特征存在缺失值。"
   ],
   "metadata": {
    "collapsed": false,
    "pycharm": {
     "name": "#%% md\n"
    }
   }
  },
  {
   "cell_type": "code",
   "execution_count": 255,
   "outputs": [],
   "source": [
    "# 缺失量过多故直接删除该特征\n",
    "ipo_data.drop('Performed',axis=1,inplace=True)"
   ],
   "metadata": {
    "collapsed": false,
    "pycharm": {
     "name": "#%%\n",
     "is_executing": false
    }
   }
  },
  {
   "cell_type": "code",
   "execution_count": 256,
   "outputs": [
    {
     "data": {
      "text/plain": "               Date            Issuer Symbol Lead/Joint-Lead  Managers  \\\n414  2018/6/28 0:00  Entera Bio Ltd.   ENTXW              Maxim Group    \n\n     Offer Price  Opening Price  1st Day Close  1st Day % Px Chng   \\\n414          0.0           0.96           0.81                 NaN   \n\n     $ Change Opening  $ Change Close Star Ratings  \n414              0.96            0.81          N/C  ",
      "text/html": "<div>\n<style scoped>\n    .dataframe tbody tr th:only-of-type {\n        vertical-align: middle;\n    }\n\n    .dataframe tbody tr th {\n        vertical-align: top;\n    }\n\n    .dataframe thead th {\n        text-align: right;\n    }\n</style>\n<table border=\"1\" class=\"dataframe\">\n  <thead>\n    <tr style=\"text-align: right;\">\n      <th></th>\n      <th>Date</th>\n      <th>Issuer</th>\n      <th>Symbol</th>\n      <th>Lead/Joint-Lead  Managers</th>\n      <th>Offer Price</th>\n      <th>Opening Price</th>\n      <th>1st Day Close</th>\n      <th>1st Day % Px Chng</th>\n      <th>$ Change Opening</th>\n      <th>$ Change Close</th>\n      <th>Star Ratings</th>\n    </tr>\n  </thead>\n  <tbody>\n    <tr>\n      <th>414</th>\n      <td>2018/6/28 0:00</td>\n      <td>Entera Bio Ltd.</td>\n      <td>ENTXW</td>\n      <td>Maxim Group</td>\n      <td>0.0</td>\n      <td>0.96</td>\n      <td>0.81</td>\n      <td>NaN</td>\n      <td>0.96</td>\n      <td>0.81</td>\n      <td>N/C</td>\n    </tr>\n  </tbody>\n</table>\n</div>"
     },
     "metadata": {},
     "output_type": "execute_result",
     "execution_count": 256
    }
   ],
   "source": [
    "# 此特征标签后面有个空格\n",
    "ipo_data[ipo_data['1st Day % Px Chng '].isnull()]"
   ],
   "metadata": {
    "collapsed": false,
    "pycharm": {
     "name": "#%%\n",
     "is_executing": false
    }
   }
  },
  {
   "cell_type": "code",
   "execution_count": 257,
   "outputs": [],
   "source": [
    "# 只有一例，直接删除即可\n",
    "ipo_data.dropna(axis=0,how='any',inplace=True)\n",
    "ipo_data.reset_index(drop=True,inplace=True)"
   ],
   "metadata": {
    "collapsed": false,
    "pycharm": {
     "name": "#%%\n",
     "is_executing": false
    }
   }
  },
  {
   "cell_type": "code",
   "execution_count": 258,
   "outputs": [
    {
     "data": {
      "text/plain": "1      1753\n3       846\n2       804\n4        68\nN/C      26\n5         8\nNC        2\nName: Star Ratings, dtype: int64"
     },
     "metadata": {},
     "output_type": "execute_result",
     "execution_count": 258
    }
   ],
   "source": [
    "ipo_data['Star Ratings'].value_counts()"
   ],
   "metadata": {
    "collapsed": false,
    "pycharm": {
     "name": "#%%\n",
     "is_executing": false
    }
   }
  },
  {
   "cell_type": "code",
   "execution_count": 259,
   "outputs": [
    {
     "data": {
      "text/plain": "1    1753\n3     846\n2     804\n4      68\n0      28\n5       8\nName: Star Ratings, dtype: int64"
     },
     "metadata": {},
     "output_type": "execute_result",
     "execution_count": 259
    }
   ],
   "source": [
    "# 对缺失值进行填充0处理\n",
    "ipo_data['Star Ratings'].replace('N/C',0,inplace=True)\n",
    "ipo_data['Star Ratings'].replace('NC',0,inplace=True)\n",
    "ipo_data['Star Ratings'].value_counts()"
   ],
   "metadata": {
    "collapsed": false,
    "pycharm": {
     "name": "#%%\n",
     "is_executing": false
    }
   }
  },
  {
   "cell_type": "code",
   "execution_count": 260,
   "outputs": [
    {
     "name": "stdout",
     "text": [
      "<class 'pandas.core.frame.DataFrame'>\nRangeIndex: 3507 entries, 0 to 3506\nData columns (total 11 columns):\nDate                         3507 non-null object\nIssuer                       3507 non-null object\nSymbol                       3507 non-null object\nLead/Joint-Lead  Managers    3507 non-null object\nOffer Price                  3507 non-null float64\nOpening Price                3507 non-null float64\n1st Day Close                3507 non-null float64\n1st Day % Px Chng            3507 non-null float64\n$ Change Opening             3507 non-null float64\n$ Change Close               3507 non-null float64\nStar Ratings                 3507 non-null object\ndtypes: float64(6), object(5)\nmemory usage: 301.5+ KB\n"
     ],
     "output_type": "stream"
    }
   ],
   "source": [
    "ipo_data.info()"
   ],
   "metadata": {
    "collapsed": false,
    "pycharm": {
     "name": "#%% \n",
     "is_executing": false
    }
   }
  },
  {
   "cell_type": "markdown",
   "source": [
    "### 2.特征处理"
   ],
   "metadata": {
    "collapsed": false,
    "pycharm": {
     "name": "#%% md\n"
    }
   }
  },
  {
   "cell_type": "markdown",
   "source": [
    "Date数据类型转换"
   ],
   "metadata": {
    "collapsed": false,
    "pycharm": {
     "name": "#%% md\n"
    }
   }
  },
  {
   "cell_type": "code",
   "execution_count": 261,
   "outputs": [
    {
     "name": "stdout",
     "text": [
      "11/120\n"
     ],
     "output_type": "stream"
    }
   ],
   "source": [
    "# 寻找不满足datatime的异常格式数据\n",
    "for d in ipo_data['Date']:\n",
    "    try:\n",
    "        d=pd.to_datetime(d)\n",
    "    except:\n",
    "        print(d)"
   ],
   "metadata": {
    "collapsed": false,
    "pycharm": {
     "name": "#%%\n",
     "is_executing": false
    }
   }
  },
  {
   "cell_type": "code",
   "execution_count": 262,
   "outputs": [
    {
     "data": {
      "text/plain": "        Date                  Issuer Symbol  \\\n1641  11/120  Alon USA Partners, LP    ALDW   \n\n                     Lead/Joint-Lead  Managers  Offer Price  Opening Price  \\\n1641  Goldman, Sachs/ Credit Suisse/ Citigroup         16.0           17.0   \n\n      1st Day Close  1st Day % Px Chng   $ Change Opening  $ Change Close  \\\n1641           18.4                0.15               1.0             2.4   \n\n     Star Ratings  \n1641            1  ",
      "text/html": "<div>\n<style scoped>\n    .dataframe tbody tr th:only-of-type {\n        vertical-align: middle;\n    }\n\n    .dataframe tbody tr th {\n        vertical-align: top;\n    }\n\n    .dataframe thead th {\n        text-align: right;\n    }\n</style>\n<table border=\"1\" class=\"dataframe\">\n  <thead>\n    <tr style=\"text-align: right;\">\n      <th></th>\n      <th>Date</th>\n      <th>Issuer</th>\n      <th>Symbol</th>\n      <th>Lead/Joint-Lead  Managers</th>\n      <th>Offer Price</th>\n      <th>Opening Price</th>\n      <th>1st Day Close</th>\n      <th>1st Day % Px Chng</th>\n      <th>$ Change Opening</th>\n      <th>$ Change Close</th>\n      <th>Star Ratings</th>\n    </tr>\n  </thead>\n  <tbody>\n    <tr>\n      <th>1641</th>\n      <td>11/120</td>\n      <td>Alon USA Partners, LP</td>\n      <td>ALDW</td>\n      <td>Goldman, Sachs/ Credit Suisse/ Citigroup</td>\n      <td>16.0</td>\n      <td>17.0</td>\n      <td>18.4</td>\n      <td>0.15</td>\n      <td>1.0</td>\n      <td>2.4</td>\n      <td>1</td>\n    </tr>\n  </tbody>\n</table>\n</div>"
     },
     "metadata": {},
     "output_type": "execute_result",
     "execution_count": 262
    }
   ],
   "source": [
    "ipo_data[ipo_data['Date']=='11/120']"
   ],
   "metadata": {
    "collapsed": false,
    "pycharm": {
     "name": "#%%\n",
     "is_executing": false
    }
   }
  },
  {
   "cell_type": "code",
   "execution_count": 263,
   "outputs": [
    {
     "data": {
      "text/plain": "                 Date                  Issuer Symbol  \\\n1640  2012/11/16 0:00       Ruckus Wireless     RKUS   \n1641           11/120  Alon USA Partners, LP    ALDW   \n1642  2012/11/21 0:00                YY Inc.      YY   \n\n                              Lead/Joint-Lead  Managers  Offer Price  \\\n1640                     Goldman, Sachs/ Morgan Stanley         15.0   \n1641           Goldman, Sachs/ Credit Suisse/ Citigroup         16.0   \n1642  Morgan Stanley/ Deutsche Bank Securities/ Citi...         10.5   \n\n      Opening Price  1st Day Close  1st Day % Px Chng   $ Change Opening  \\\n1640           15.0          12.25           -0.183333               0.0   \n1641           17.0          18.40            0.150000               1.0   \n1642           10.5          11.31            0.077143               0.0   \n\n      $ Change Close Star Ratings  \n1640           -2.75            3  \n1641            2.40            1  \n1642            0.81            1  ",
      "text/html": "<div>\n<style scoped>\n    .dataframe tbody tr th:only-of-type {\n        vertical-align: middle;\n    }\n\n    .dataframe tbody tr th {\n        vertical-align: top;\n    }\n\n    .dataframe thead th {\n        text-align: right;\n    }\n</style>\n<table border=\"1\" class=\"dataframe\">\n  <thead>\n    <tr style=\"text-align: right;\">\n      <th></th>\n      <th>Date</th>\n      <th>Issuer</th>\n      <th>Symbol</th>\n      <th>Lead/Joint-Lead  Managers</th>\n      <th>Offer Price</th>\n      <th>Opening Price</th>\n      <th>1st Day Close</th>\n      <th>1st Day % Px Chng</th>\n      <th>$ Change Opening</th>\n      <th>$ Change Close</th>\n      <th>Star Ratings</th>\n    </tr>\n  </thead>\n  <tbody>\n    <tr>\n      <th>1640</th>\n      <td>2012/11/16 0:00</td>\n      <td>Ruckus Wireless</td>\n      <td>RKUS</td>\n      <td>Goldman, Sachs/ Morgan Stanley</td>\n      <td>15.0</td>\n      <td>15.0</td>\n      <td>12.25</td>\n      <td>-0.183333</td>\n      <td>0.0</td>\n      <td>-2.75</td>\n      <td>3</td>\n    </tr>\n    <tr>\n      <th>1641</th>\n      <td>11/120</td>\n      <td>Alon USA Partners, LP</td>\n      <td>ALDW</td>\n      <td>Goldman, Sachs/ Credit Suisse/ Citigroup</td>\n      <td>16.0</td>\n      <td>17.0</td>\n      <td>18.40</td>\n      <td>0.150000</td>\n      <td>1.0</td>\n      <td>2.40</td>\n      <td>1</td>\n    </tr>\n    <tr>\n      <th>1642</th>\n      <td>2012/11/21 0:00</td>\n      <td>YY Inc.</td>\n      <td>YY</td>\n      <td>Morgan Stanley/ Deutsche Bank Securities/ Citi...</td>\n      <td>10.5</td>\n      <td>10.5</td>\n      <td>11.31</td>\n      <td>0.077143</td>\n      <td>0.0</td>\n      <td>0.81</td>\n      <td>1</td>\n    </tr>\n  </tbody>\n</table>\n</div>"
     },
     "metadata": {},
     "output_type": "execute_result",
     "execution_count": 263
    }
   ],
   "source": [
    "ipo_data.iloc[1640:1643]"
   ],
   "metadata": {
    "collapsed": false,
    "pycharm": {
     "name": "#%%\n",
     "is_executing": false
    }
   }
  },
  {
   "cell_type": "markdown",
   "source": [
    "观察上表可以知道其date正确值为2012-11-20。"
   ],
   "metadata": {
    "collapsed": false,
    "pycharm": {
     "name": "#%% md\n"
    }
   }
  },
  {
   "cell_type": "code",
   "execution_count": 264,
   "outputs": [],
   "source": [
    "ipo_data.loc[1641,'Date']=pd.to_datetime('2012-11-20')"
   ],
   "metadata": {
    "collapsed": false,
    "pycharm": {
     "name": "#%%\n",
     "is_executing": false
    }
   }
  },
  {
   "cell_type": "code",
   "execution_count": 265,
   "outputs": [],
   "source": [
    "# 格式转换 将Date列数据转换成datetime格式数据\n",
    "ipo_data['Date']=pd.to_datetime(ipo_data['Date'])"
   ],
   "metadata": {
    "collapsed": false,
    "pycharm": {
     "name": "#%%\n",
     "is_executing": false
    }
   }
  },
  {
   "cell_type": "markdown",
   "source": [
    "Date特征提取生成year、month、weekday特征，并全部转换成类别型。"
   ],
   "metadata": {
    "collapsed": false,
    "pycharm": {
     "name": "#%% md\n"
    }
   }
  },
  {
   "cell_type": "code",
   "execution_count": 266,
   "outputs": [],
   "source": [
    "ipo_data['year']=ipo_data['Date'].map(lambda x:x.year)\n",
    "ipo_data['year']=ipo_data['year'].map(lambda x:str(x-min(ipo_data['year'])))\n",
    "\n",
    "ipo_data['month']=ipo_data['Date'].map(lambda x:x.month)\n",
    "ipo_data['month']=ipo_data['month'].map({1:'Jan', 2:'Feb', 3:'Mar', 4:'Apr', 5:'May', 6:'Jun',7:'Jul',\\\n",
    "                                   8:'Aug', 9:'Sep', 10:'Oct', 11:'Nov', 12:'Dec'})\n",
    "\n",
    "ipo_data['weekday']=ipo_data['Date'].dt.dayofweek.map({0:'Mon', 1:'Tues', 2:'Wed',\\\n",
    "                                                  3:'Thurs', 4:'Fri', 5:'Sat', 6:'Sun'})"
   ],
   "metadata": {
    "collapsed": false,
    "pycharm": {
     "name": "#%%\n",
     "is_executing": false
    }
   }
  },
  {
   "cell_type": "code",
   "execution_count": 267,
   "outputs": [
    {
     "data": {
      "text/plain": "                                             0                         1  \\\nDate                       2020-01-17 00:00:00       2020-01-17 00:00:00   \nIssuer                                  I-Mab                     LIZHI    \nSymbol                                    IMAB                      LIZI   \nLead/Joint-Lead  Managers      Jefferies/ CICC  Credit Suisse/ Citigroup   \nOffer Price                                 14                        11   \nOpening Price                            14.75                     11.03   \n1st Day Close                            12.75                     11.63   \n1st Day % Px Chng                   -0.0892857                 0.0572727   \n$ Change Opening                          0.75                      0.03   \n$ Change Close                           -1.25                      0.63   \nStar Ratings                                 2                         1   \nyear                                        20                        20   \nmonth                                      Jan                       Jan   \nweekday                                    Fri                       Fri   \n\n                                                               2  \\\nDate                                         2020-01-17 00:00:00   \nIssuer                               Phoenix Tree Holdings Ltd.    \nSymbol                                                       DNK   \nLead/Joint-Lead  Managers  Citigroup/ Credit Suisse/ J.P. Morgan   \nOffer Price                                                 13.5   \nOpening Price                                               13.5   \n1st Day Close                                               13.5   \n1st Day % Px Chng                                              0   \n$ Change Opening                                               0   \n$ Change Close                                                 0   \nStar Ratings                                                   1   \nyear                                                          20   \nmonth                                                        Jan   \nweekday                                                      Fri   \n\n                                                                           3  \\\nDate                                                     2020-01-17 00:00:00   \nIssuer                                                   Velocity Financial    \nSymbol                                                                   VEL   \nLead/Joint-Lead  Managers  Wells Fargo Securities/ Citigroup/ JMP Securities   \nOffer Price                                                               13   \nOpening Price                                                          13.85   \n1st Day Close                                                          13.51   \n1st Day % Px Chng                                                  0.0392308   \n$ Change Opening                                                        0.85   \n$ Change Close                                                          0.51   \nStar Ratings                                                               1   \nyear                                                                      20   \nmonth                                                                    Jan   \nweekday                                                                  Fri   \n\n                                                  4  \nDate                            2020-01-24 00:00:00  \nIssuer                           Gores Holdings IV   \nSymbol                                        GHIVU  \nLead/Joint-Lead  Managers  Deutsche Bank Securities  \nOffer Price                                      10  \nOpening Price                                 10.52  \n1st Day Close                                 10.45  \n1st Day % Px Chng                             0.045  \n$ Change Opening                               0.52  \n$ Change Close                                 0.45  \nStar Ratings                                      1  \nyear                                             20  \nmonth                                           Jan  \nweekday                                         Fri  ",
      "text/html": "<div>\n<style scoped>\n    .dataframe tbody tr th:only-of-type {\n        vertical-align: middle;\n    }\n\n    .dataframe tbody tr th {\n        vertical-align: top;\n    }\n\n    .dataframe thead th {\n        text-align: right;\n    }\n</style>\n<table border=\"1\" class=\"dataframe\">\n  <thead>\n    <tr style=\"text-align: right;\">\n      <th></th>\n      <th>0</th>\n      <th>1</th>\n      <th>2</th>\n      <th>3</th>\n      <th>4</th>\n    </tr>\n  </thead>\n  <tbody>\n    <tr>\n      <th>Date</th>\n      <td>2020-01-17 00:00:00</td>\n      <td>2020-01-17 00:00:00</td>\n      <td>2020-01-17 00:00:00</td>\n      <td>2020-01-17 00:00:00</td>\n      <td>2020-01-24 00:00:00</td>\n    </tr>\n    <tr>\n      <th>Issuer</th>\n      <td>I-Mab</td>\n      <td>LIZHI</td>\n      <td>Phoenix Tree Holdings Ltd.</td>\n      <td>Velocity Financial</td>\n      <td>Gores Holdings IV</td>\n    </tr>\n    <tr>\n      <th>Symbol</th>\n      <td>IMAB</td>\n      <td>LIZI</td>\n      <td>DNK</td>\n      <td>VEL</td>\n      <td>GHIVU</td>\n    </tr>\n    <tr>\n      <th>Lead/Joint-Lead  Managers</th>\n      <td>Jefferies/ CICC</td>\n      <td>Credit Suisse/ Citigroup</td>\n      <td>Citigroup/ Credit Suisse/ J.P. Morgan</td>\n      <td>Wells Fargo Securities/ Citigroup/ JMP Securities</td>\n      <td>Deutsche Bank Securities</td>\n    </tr>\n    <tr>\n      <th>Offer Price</th>\n      <td>14</td>\n      <td>11</td>\n      <td>13.5</td>\n      <td>13</td>\n      <td>10</td>\n    </tr>\n    <tr>\n      <th>Opening Price</th>\n      <td>14.75</td>\n      <td>11.03</td>\n      <td>13.5</td>\n      <td>13.85</td>\n      <td>10.52</td>\n    </tr>\n    <tr>\n      <th>1st Day Close</th>\n      <td>12.75</td>\n      <td>11.63</td>\n      <td>13.5</td>\n      <td>13.51</td>\n      <td>10.45</td>\n    </tr>\n    <tr>\n      <th>1st Day % Px Chng</th>\n      <td>-0.0892857</td>\n      <td>0.0572727</td>\n      <td>0</td>\n      <td>0.0392308</td>\n      <td>0.045</td>\n    </tr>\n    <tr>\n      <th>$ Change Opening</th>\n      <td>0.75</td>\n      <td>0.03</td>\n      <td>0</td>\n      <td>0.85</td>\n      <td>0.52</td>\n    </tr>\n    <tr>\n      <th>$ Change Close</th>\n      <td>-1.25</td>\n      <td>0.63</td>\n      <td>0</td>\n      <td>0.51</td>\n      <td>0.45</td>\n    </tr>\n    <tr>\n      <th>Star Ratings</th>\n      <td>2</td>\n      <td>1</td>\n      <td>1</td>\n      <td>1</td>\n      <td>1</td>\n    </tr>\n    <tr>\n      <th>year</th>\n      <td>20</td>\n      <td>20</td>\n      <td>20</td>\n      <td>20</td>\n      <td>20</td>\n    </tr>\n    <tr>\n      <th>month</th>\n      <td>Jan</td>\n      <td>Jan</td>\n      <td>Jan</td>\n      <td>Jan</td>\n      <td>Jan</td>\n    </tr>\n    <tr>\n      <th>weekday</th>\n      <td>Fri</td>\n      <td>Fri</td>\n      <td>Fri</td>\n      <td>Fri</td>\n      <td>Fri</td>\n    </tr>\n  </tbody>\n</table>\n</div>"
     },
     "metadata": {},
     "output_type": "execute_result",
     "execution_count": 267
    }
   ],
   "source": [
    "ipo_data.head(5).T"
   ],
   "metadata": {
    "collapsed": false,
    "pycharm": {
     "name": "#%% \n",
     "is_executing": false
    }
   }
  },
  {
   "cell_type": "markdown",
   "source": [
    "根据发行价、开盘价、收盘价之间的关系检验数据的一致性"
   ],
   "metadata": {
    "collapsed": false,
    "pycharm": {
     "name": "#%% md\n"
    }
   }
  },
  {
   "cell_type": "code",
   "execution_count": 268,
   "outputs": [
    {
     "data": {
      "text/plain": "           Date                  Issuer Symbol Lead/Joint-Lead  Managers  \\\n2601 2005-04-18  Terra Nova Acquisition  TNVAU         EarlyBird Capital   \n\n      Offer Price  Opening Price  1st Day Close  1st Day % Px Chng   \\\n2601          6.0           6.09           6.22            0.036667   \n\n      $ Change Opening  $ Change Close Star Ratings year month weekday  \n2601              6.22            0.22            1    5   Apr     Mon  ",
      "text/html": "<div>\n<style scoped>\n    .dataframe tbody tr th:only-of-type {\n        vertical-align: middle;\n    }\n\n    .dataframe tbody tr th {\n        vertical-align: top;\n    }\n\n    .dataframe thead th {\n        text-align: right;\n    }\n</style>\n<table border=\"1\" class=\"dataframe\">\n  <thead>\n    <tr style=\"text-align: right;\">\n      <th></th>\n      <th>Date</th>\n      <th>Issuer</th>\n      <th>Symbol</th>\n      <th>Lead/Joint-Lead  Managers</th>\n      <th>Offer Price</th>\n      <th>Opening Price</th>\n      <th>1st Day Close</th>\n      <th>1st Day % Px Chng</th>\n      <th>$ Change Opening</th>\n      <th>$ Change Close</th>\n      <th>Star Ratings</th>\n      <th>year</th>\n      <th>month</th>\n      <th>weekday</th>\n    </tr>\n  </thead>\n  <tbody>\n    <tr>\n      <th>2601</th>\n      <td>2005-04-18</td>\n      <td>Terra Nova Acquisition</td>\n      <td>TNVAU</td>\n      <td>EarlyBird Capital</td>\n      <td>6.0</td>\n      <td>6.09</td>\n      <td>6.22</td>\n      <td>0.036667</td>\n      <td>6.22</td>\n      <td>0.22</td>\n      <td>1</td>\n      <td>5</td>\n      <td>Apr</td>\n      <td>Mon</td>\n    </tr>\n  </tbody>\n</table>\n</div>"
     },
     "metadata": {},
     "output_type": "execute_result",
     "execution_count": 268
    }
   ],
   "source": [
    "ipo_data[ipo_data['$ Change Opening']-(ipo_data['Opening Price']-ipo_data['Offer Price'])>=1e-4]"
   ],
   "metadata": {
    "collapsed": false,
    "pycharm": {
     "name": "#%%\n",
     "is_executing": false
    }
   }
  },
  {
   "cell_type": "code",
   "execution_count": 269,
   "outputs": [],
   "source": [
    "ipo_data.loc[2601,'$ Change Opening']=ipo_data.loc[2601,'Opening Price']-ipo_data.loc[2601,'Offer Price']"
   ],
   "metadata": {
    "collapsed": false,
    "pycharm": {
     "name": "#%%\n",
     "is_executing": false
    }
   }
  },
  {
   "cell_type": "code",
   "execution_count": 270,
   "outputs": [
    {
     "data": {
      "text/plain": "           Date                 Issuer Symbol  \\\n380  2018-05-24  Scholar Rock Holding    SRRK   \n2102 2007-03-28  Super Micro Computer    SMCI   \n2105 2007-03-29        GSI Technology    GSIT   \n2999 2004-12-14     Cascade Microtech    CSCD   \n\n                  Lead/Joint-Lead  Managers  Offer Price  Opening Price  \\\n380   Jefferies/ Cowen/ BMO Capital Markets         14.0          14.25   \n2102                          Merrill Lynch          8.0           8.85   \n2105                 Needham/WRHambrecht+Co          5.5           5.50   \n2999              Lehman Brothers/JP Morgan         14.0          14.43   \n\n      1st Day Close  1st Day % Px Chng   $ Change Opening  $ Change Close  \\\n380           15.50            0.107143              0.25            15.0   \n2102           8.76            0.095000              0.85             1.0   \n2105           5.29           -0.038182              0.00             1.0   \n2999          13.75           -0.017857              0.43             2.0   \n\n     Star Ratings year month weekday  \n380             1   18   May   Thurs  \n2102            1    7   Mar     Wed  \n2105            1    7   Mar   Thurs  \n2999            2    4   Dec    Tues  ",
      "text/html": "<div>\n<style scoped>\n    .dataframe tbody tr th:only-of-type {\n        vertical-align: middle;\n    }\n\n    .dataframe tbody tr th {\n        vertical-align: top;\n    }\n\n    .dataframe thead th {\n        text-align: right;\n    }\n</style>\n<table border=\"1\" class=\"dataframe\">\n  <thead>\n    <tr style=\"text-align: right;\">\n      <th></th>\n      <th>Date</th>\n      <th>Issuer</th>\n      <th>Symbol</th>\n      <th>Lead/Joint-Lead  Managers</th>\n      <th>Offer Price</th>\n      <th>Opening Price</th>\n      <th>1st Day Close</th>\n      <th>1st Day % Px Chng</th>\n      <th>$ Change Opening</th>\n      <th>$ Change Close</th>\n      <th>Star Ratings</th>\n      <th>year</th>\n      <th>month</th>\n      <th>weekday</th>\n    </tr>\n  </thead>\n  <tbody>\n    <tr>\n      <th>380</th>\n      <td>2018-05-24</td>\n      <td>Scholar Rock Holding</td>\n      <td>SRRK</td>\n      <td>Jefferies/ Cowen/ BMO Capital Markets</td>\n      <td>14.0</td>\n      <td>14.25</td>\n      <td>15.50</td>\n      <td>0.107143</td>\n      <td>0.25</td>\n      <td>15.0</td>\n      <td>1</td>\n      <td>18</td>\n      <td>May</td>\n      <td>Thurs</td>\n    </tr>\n    <tr>\n      <th>2102</th>\n      <td>2007-03-28</td>\n      <td>Super Micro Computer</td>\n      <td>SMCI</td>\n      <td>Merrill Lynch</td>\n      <td>8.0</td>\n      <td>8.85</td>\n      <td>8.76</td>\n      <td>0.095000</td>\n      <td>0.85</td>\n      <td>1.0</td>\n      <td>1</td>\n      <td>7</td>\n      <td>Mar</td>\n      <td>Wed</td>\n    </tr>\n    <tr>\n      <th>2105</th>\n      <td>2007-03-29</td>\n      <td>GSI Technology</td>\n      <td>GSIT</td>\n      <td>Needham/WRHambrecht+Co</td>\n      <td>5.5</td>\n      <td>5.50</td>\n      <td>5.29</td>\n      <td>-0.038182</td>\n      <td>0.00</td>\n      <td>1.0</td>\n      <td>1</td>\n      <td>7</td>\n      <td>Mar</td>\n      <td>Thurs</td>\n    </tr>\n    <tr>\n      <th>2999</th>\n      <td>2004-12-14</td>\n      <td>Cascade Microtech</td>\n      <td>CSCD</td>\n      <td>Lehman Brothers/JP Morgan</td>\n      <td>14.0</td>\n      <td>14.43</td>\n      <td>13.75</td>\n      <td>-0.017857</td>\n      <td>0.43</td>\n      <td>2.0</td>\n      <td>2</td>\n      <td>4</td>\n      <td>Dec</td>\n      <td>Tues</td>\n    </tr>\n  </tbody>\n</table>\n</div>"
     },
     "metadata": {},
     "output_type": "execute_result",
     "execution_count": 270
    }
   ],
   "source": [
    "ipo_data[ipo_data['$ Change Close']-(ipo_data['1st Day Close']-ipo_data['Offer Price'])>=1e-4]"
   ],
   "metadata": {
    "collapsed": false,
    "pycharm": {
     "name": "#%%\n",
     "is_executing": false
    }
   }
  },
  {
   "cell_type": "code",
   "execution_count": 271,
   "outputs": [],
   "source": [
    "for ind in (ipo_data[ipo_data['$ Change Close']-(ipo_data['1st Day Close']-ipo_data['Offer Price'])>=1e-4]).index:\n",
    "    ipo_data.loc[ind,'$ Change Close']=ipo_data.loc[ind,'1st Day Close']-ipo_data.loc[ind,'Offer Price']"
   ],
   "metadata": {
    "collapsed": false,
    "pycharm": {
     "name": "#%%\n",
     "is_executing": false
    }
   }
  },
  {
   "cell_type": "code",
   "execution_count": 272,
   "outputs": [
    {
     "data": {
      "text/plain": "          Date               Issuer Symbol Lead/Joint-Lead  Managers  \\\n134 2019-04-18  Greenlane Holdings    GNLN   Cowen/Canaccord Genuity   \n\n     Offer Price  Opening Price  1st Day Close  1st Day % Px Chng   \\\n134         17.0           29.0           21.1            0.241176   \n\n     $ Change Opening  $ Change Close Star Ratings year month weekday  \n134              12.0             2.0            2   19   Apr   Thurs  ",
      "text/html": "<div>\n<style scoped>\n    .dataframe tbody tr th:only-of-type {\n        vertical-align: middle;\n    }\n\n    .dataframe tbody tr th {\n        vertical-align: top;\n    }\n\n    .dataframe thead th {\n        text-align: right;\n    }\n</style>\n<table border=\"1\" class=\"dataframe\">\n  <thead>\n    <tr style=\"text-align: right;\">\n      <th></th>\n      <th>Date</th>\n      <th>Issuer</th>\n      <th>Symbol</th>\n      <th>Lead/Joint-Lead  Managers</th>\n      <th>Offer Price</th>\n      <th>Opening Price</th>\n      <th>1st Day Close</th>\n      <th>1st Day % Px Chng</th>\n      <th>$ Change Opening</th>\n      <th>$ Change Close</th>\n      <th>Star Ratings</th>\n      <th>year</th>\n      <th>month</th>\n      <th>weekday</th>\n    </tr>\n  </thead>\n  <tbody>\n    <tr>\n      <th>134</th>\n      <td>2019-04-18</td>\n      <td>Greenlane Holdings</td>\n      <td>GNLN</td>\n      <td>Cowen/Canaccord Genuity</td>\n      <td>17.0</td>\n      <td>29.0</td>\n      <td>21.1</td>\n      <td>0.241176</td>\n      <td>12.0</td>\n      <td>2.0</td>\n      <td>2</td>\n      <td>19</td>\n      <td>Apr</td>\n      <td>Thurs</td>\n    </tr>\n  </tbody>\n</table>\n</div>"
     },
     "metadata": {},
     "output_type": "execute_result",
     "execution_count": 272
    }
   ],
   "source": [
    "ipo_data[ipo_data['1st Day % Px Chng ']-(ipo_data['$ Change Close']/ipo_data['Offer Price'])>=1e-7]"
   ],
   "metadata": {
    "collapsed": false,
    "pycharm": {
     "name": "#%%\n",
     "is_executing": false
    }
   }
  },
  {
   "cell_type": "code",
   "execution_count": 273,
   "outputs": [],
   "source": [
    "ipo_data.loc[134,'1st Day % Px Chng ']=ipo_data.loc[134,'$ Change Close']/ipo_data.loc[134,'Offer Price']"
   ],
   "metadata": {
    "collapsed": false,
    "pycharm": {
     "name": "#%%\n",
     "is_executing": false
    }
   }
  },
  {
   "cell_type": "markdown",
   "source": [
    "绘制图像，观察一下"
   ],
   "metadata": {
    "collapsed": false,
    "pycharm": {
     "name": "#%% md\n"
    }
   }
  },
  {
   "cell_type": "code",
   "execution_count": 274,
   "outputs": [
    {
     "data": {
      "text/plain": "<matplotlib.axes._subplots.AxesSubplot at 0x2576e9e9d30>"
     },
     "metadata": {},
     "output_type": "execute_result",
     "execution_count": 274
    },
    {
     "data": {
      "text/plain": "<Figure size 432x288 with 1 Axes>",
      "image/png": "[encoded data removed]"
     },
     "metadata": {
      "needs_background": "light"
     },
     "output_type": "display_data"
    }
   ],
   "source": [
    "ipo_data.groupby(ipo_data['Date'].dt.year)['1st Day % Px Chng '].mean().plot(kind='bar',color='b')"
   ],
   "metadata": {
    "collapsed": false,
    "pycharm": {
     "name": "#%%\n",
     "is_executing": false
    }
   }
  },
  {
   "cell_type": "code",
   "execution_count": 275,
   "outputs": [
    {
     "data": {
      "text/plain": "<matplotlib.axes._subplots.AxesSubplot at 0x2576f2e1550>"
     },
     "metadata": {},
     "output_type": "execute_result",
     "execution_count": 275
    },
    {
     "data": {
      "text/plain": "<Figure size 432x288 with 1 Axes>",
      "image/png": "[encoded data removed]"
     },
     "metadata": {
      "needs_background": "light"
     },
     "output_type": "display_data"
    }
   ],
   "source": [
    "ipo_data.groupby(ipo_data['Date'].dt.year)['1st Day % Px Chng '].median().plot(kind='bar',color='r')"
   ],
   "metadata": {
    "collapsed": false,
    "pycharm": {
     "name": "#%%\n",
     "is_executing": false
    }
   }
  },
  {
   "cell_type": "code",
   "execution_count": 276,
   "outputs": [
    {
     "data": {
      "text/plain": "count    3507.000000\nmean        0.133080\nstd         0.276767\nmin        -0.410833\n25%         0.000000\n50%         0.039474\n75%         0.194164\nmax         3.538519\nName: 1st Day % Px Chng , dtype: float64"
     },
     "metadata": {},
     "output_type": "execute_result",
     "execution_count": 276
    }
   ],
   "source": [
    "ipo_data['1st Day % Px Chng '].describe()"
   ],
   "metadata": {
    "collapsed": false,
    "pycharm": {
     "name": "#%%\n",
     "is_executing": false
    }
   }
  },
  {
   "cell_type": "markdown",
   "source": [
    "### 3.特征生成"
   ],
   "metadata": {
    "collapsed": false,
    "pycharm": {
     "name": "#%% md\n"
    }
   }
  },
  {
   "cell_type": "markdown",
   "source": [
    "其实很少人能够买到发行价，大部分都是买开盘价，故根据开盘价与收盘价生成两个特征。因此，大部分人的收益\n",
    "就是开盘价与收盘价之间的差值。"
   ],
   "metadata": {
    "collapsed": false,
    "pycharm": {
     "name": "#%% md\n"
    }
   }
  },
  {
   "cell_type": "code",
   "execution_count": 277,
   "outputs": [],
   "source": [
    "ipo_data['$ Chg Open to Close'] = ipo_data['1st Day Close'] - ipo_data['Opening Price']\n",
    "ipo_data['% Chg Open to Close'] = (ipo_data['$ Chg Open to Close']/ipo_data['Opening Price'])"
   ],
   "metadata": {
    "collapsed": false,
    "pycharm": {
     "name": "#%%\n",
     "is_executing": false
    }
   }
  },
  {
   "cell_type": "code",
   "execution_count": 278,
   "outputs": [
    {
     "data": {
      "text/plain": "count    3507.000000\nmean        0.013330\nstd         0.114724\nmin        -0.492812\n25%        -0.029050\n50%         0.000000\n75%         0.038856\nmax         2.173653\nName: % Chg Open to Close, dtype: float64"
     },
     "metadata": {},
     "output_type": "execute_result",
     "execution_count": 278
    }
   ],
   "source": [
    "ipo_data['% Chg Open to Close'].describe()"
   ],
   "metadata": {
    "collapsed": false,
    "pycharm": {
     "name": "#%%\n",
     "is_executing": false
    }
   }
  },
  {
   "cell_type": "code",
   "execution_count": 279,
   "outputs": [
    {
     "data": {
      "text/plain": "<matplotlib.axes._subplots.AxesSubplot at 0x25769e5c0b8>"
     },
     "metadata": {},
     "output_type": "execute_result",
     "execution_count": 279
    },
    {
     "data": {
      "text/plain": "<Figure size 1080x504 with 1 Axes>",
      "image/png": "[encoded data removed]"
     },
     "metadata": {
      "needs_background": "light"
     },
     "output_type": "display_data"
    }
   ],
   "source": [
    "ipo_data['% Chg Open to Close'].hist(figsize=(15,7), bins=100, color='grey')"
   ],
   "metadata": {
    "collapsed": false,
    "pycharm": {
     "name": "#%%\n",
     "is_executing": false
    }
   }
  },
  {
   "cell_type": "markdown",
   "source": [
    "观察上图，分布接近于正态分布，但是在左边仍然有少数大值，顾客得到的越是向右收益则越高。"
   ],
   "metadata": {
    "collapsed": false,
    "pycharm": {
     "name": "#%% md\n"
    }
   }
  },
  {
   "cell_type": "markdown",
   "source": [
    "读取标普数据集，生成新特征。"
   ],
   "metadata": {
    "collapsed": false,
    "pycharm": {
     "name": "#%% md\n"
    }
   }
  },
  {
   "cell_type": "code",
   "execution_count": 280,
   "outputs": [],
   "source": [
    "sp_data=pd.read_csv('./sp_data.csv')"
   ],
   "metadata": {
    "collapsed": false,
    "pycharm": {
     "name": "#%%\n",
     "is_executing": false
    }
   }
  },
  {
   "cell_type": "code",
   "execution_count": 281,
   "outputs": [
    {
     "name": "stdout",
     "text": [
      "<class 'pandas.core.frame.DataFrame'>\nRangeIndex: 5074 entries, 0 to 5073\nData columns (total 7 columns):\nDate         5074 non-null object\nOpen         5074 non-null float64\nHigh         5074 non-null float64\nLow          5074 non-null float64\nClose        5074 non-null float64\nAdj Close    5074 non-null float64\nVolume       5074 non-null int64\ndtypes: float64(5), int64(1), object(1)\nmemory usage: 277.6+ KB\n"
     ],
     "output_type": "stream"
    }
   ],
   "source": [
    "sp_data.info()"
   ],
   "metadata": {
    "collapsed": false,
    "pycharm": {
     "name": "#%%\n",
     "is_executing": false
    }
   }
  },
  {
   "cell_type": "code",
   "execution_count": 282,
   "outputs": [
    {
     "name": "stdout",
     "text": [
      "2019-02-24 00:00:00\n",
      "2015-02-21 00:00:00\n2015-02-21 00:00:00\n",
      "2013-11-16 00:00:00\n",
      "2009-08-01 00:00:00\n"
     ],
     "output_type": "stream"
    }
   ],
   "source": [
    "noninvalid_date=[]\n",
    "def get_week_chg(ipo_dt):\n",
    "    try:\n",
    "        day_ago_ind=sp_data[sp_data['Date']==str(ipo_dt.date())].index[0]-1\n",
    "        week_ago_ind=sp_data[sp_data['Date']==str(ipo_dt.date())].index[0]-8\n",
    "        chg=(sp_data.iloc[day_ago_ind]['Close'] - \\\n",
    "               sp_data.iloc[week_ago_ind]['Close'])/(sp_data.iloc[week_ago_ind]['Close'])\n",
    "        return chg\n",
    "    except:\n",
    "        noninvalid_date.append(ipo_dt)\n",
    "        print(ipo_dt)\n",
    "        \n",
    "# 标普500昨日收盘价相对于其七天前收盘价的变化百分比\n",
    "ipo_data['SP Week Change'] = ipo_data['Date'].map(get_week_chg)"
   ],
   "metadata": {
    "collapsed": false,
    "pycharm": {
     "name": "#%%\n",
     "is_executing": false
    }
   }
  },
  {
   "cell_type": "code",
   "execution_count": 283,
   "outputs": [],
   "source": [
    "ipo_data.drop(ipo_data[ipo_data['Date'].isin(noninvalid_date)].index,axis=0,inplace=True)\n",
    "ipo_data.reset_index(drop=True,inplace=True)"
   ],
   "metadata": {
    "collapsed": false,
    "pycharm": {
     "name": "#%%\n",
     "is_executing": false
    }
   }
  },
  {
   "cell_type": "code",
   "execution_count": 284,
   "outputs": [],
   "source": [
    "def get_cto_chg(ipo_dt):\n",
    "    try:\n",
    "        today_open_ind=sp_data[sp_data['Date']==str(ipo_dt.date())].index[0]\n",
    "        ago_close_ind=sp_data[sp_data['Date']==str(ipo_dt.date())].index[0]-1\n",
    "        chg=(sp_data.iloc[today_open_ind]['Open'] - \\\n",
    "               sp_data.iloc[ago_close_ind]['Close'])/(sp_data.iloc[ago_close_ind]['Close'])\n",
    "        return chg\n",
    "    except:\n",
    "        print(ipo_dt)\n",
    "        \n",
    "# 标准普尔500指数在IPO前一天收盘时到IPO首日开盘时这个期间内，变化的百分比\n",
    "ipo_data['SP Close to Open Chg Pct'] = ipo_data['Date'].map(get_cto_chg)"
   ],
   "metadata": {
    "collapsed": false,
    "pycharm": {
     "name": "#%%\n",
     "is_executing": false
    }
   }
  },
  {
   "cell_type": "code",
   "execution_count": 285,
   "outputs": [
    {
     "data": {
      "text/plain": "                                             0                         1  \\\nDate                       2020-01-17 00:00:00       2020-01-17 00:00:00   \nIssuer                                  I-Mab                     LIZHI    \nSymbol                                    IMAB                      LIZI   \nLead/Joint-Lead  Managers      Jefferies/ CICC  Credit Suisse/ Citigroup   \nOffer Price                                 14                        11   \nOpening Price                            14.75                     11.03   \n1st Day Close                            12.75                     11.63   \n1st Day % Px Chng                   -0.0892857                 0.0572727   \n$ Change Opening                          0.75                      0.03   \n$ Change Close                           -1.25                      0.63   \nStar Ratings                                 2                         1   \nyear                                        20                        20   \nmonth                                      Jan                       Jan   \nweekday                                    Fri                       Fri   \n$ Chg Open to Close                         -2                       0.6   \n% Chg Open to Close                  -0.135593                 0.0543971   \nSP Week Change                       0.0245986                 0.0245986   \nSP Close to Open Chg Pct            0.00206519                0.00206519   \n\n                                                               2  \\\nDate                                         2020-01-17 00:00:00   \nIssuer                               Phoenix Tree Holdings Ltd.    \nSymbol                                                       DNK   \nLead/Joint-Lead  Managers  Citigroup/ Credit Suisse/ J.P. Morgan   \nOffer Price                                                 13.5   \nOpening Price                                               13.5   \n1st Day Close                                               13.5   \n1st Day % Px Chng                                              0   \n$ Change Opening                                               0   \n$ Change Close                                                 0   \nStar Ratings                                                   1   \nyear                                                          20   \nmonth                                                        Jan   \nweekday                                                      Fri   \n$ Chg Open to Close                                            0   \n% Chg Open to Close                                            0   \nSP Week Change                                         0.0245986   \nSP Close to Open Chg Pct                              0.00206519   \n\n                                                                           3  \\\nDate                                                     2020-01-17 00:00:00   \nIssuer                                                   Velocity Financial    \nSymbol                                                                   VEL   \nLead/Joint-Lead  Managers  Wells Fargo Securities/ Citigroup/ JMP Securities   \nOffer Price                                                               13   \nOpening Price                                                          13.85   \n1st Day Close                                                          13.51   \n1st Day % Px Chng                                                  0.0392308   \n$ Change Opening                                                        0.85   \n$ Change Close                                                          0.51   \nStar Ratings                                                               1   \nyear                                                                      20   \nmonth                                                                    Jan   \nweekday                                                                  Fri   \n$ Chg Open to Close                                                    -0.34   \n% Chg Open to Close                                               -0.0245487   \nSP Week Change                                                     0.0245986   \nSP Close to Open Chg Pct                                          0.00206519   \n\n                                                  4  \nDate                            2020-01-24 00:00:00  \nIssuer                           Gores Holdings IV   \nSymbol                                        GHIVU  \nLead/Joint-Lead  Managers  Deutsche Bank Securities  \nOffer Price                                      10  \nOpening Price                                 10.52  \n1st Day Close                                 10.45  \n1st Day % Px Chng                             0.045  \n$ Change Opening                               0.52  \n$ Change Close                                 0.45  \nStar Ratings                                      1  \nyear                                             20  \nmonth                                           Jan  \nweekday                                         Fri  \n$ Chg Open to Close                           -0.07  \n% Chg Open to Close                     -0.00665399  \nSP Week Change                            0.0113773  \nSP Close to Open Chg Pct                 0.00227333  ",
      "text/html": "<div>\n<style scoped>\n    .dataframe tbody tr th:only-of-type {\n        vertical-align: middle;\n    }\n\n    .dataframe tbody tr th {\n        vertical-align: top;\n    }\n\n    .dataframe thead th {\n        text-align: right;\n    }\n</style>\n<table border=\"1\" class=\"dataframe\">\n  <thead>\n    <tr style=\"text-align: right;\">\n      <th></th>\n      <th>0</th>\n      <th>1</th>\n      <th>2</th>\n      <th>3</th>\n      <th>4</th>\n    </tr>\n  </thead>\n  <tbody>\n    <tr>\n      <th>Date</th>\n      <td>2020-01-17 00:00:00</td>\n      <td>2020-01-17 00:00:00</td>\n      <td>2020-01-17 00:00:00</td>\n      <td>2020-01-17 00:00:00</td>\n      <td>2020-01-24 00:00:00</td>\n    </tr>\n    <tr>\n      <th>Issuer</th>\n      <td>I-Mab</td>\n      <td>LIZHI</td>\n      <td>Phoenix Tree Holdings Ltd.</td>\n      <td>Velocity Financial</td>\n      <td>Gores Holdings IV</td>\n    </tr>\n    <tr>\n      <th>Symbol</th>\n      <td>IMAB</td>\n      <td>LIZI</td>\n      <td>DNK</td>\n      <td>VEL</td>\n      <td>GHIVU</td>\n    </tr>\n    <tr>\n      <th>Lead/Joint-Lead  Managers</th>\n      <td>Jefferies/ CICC</td>\n      <td>Credit Suisse/ Citigroup</td>\n      <td>Citigroup/ Credit Suisse/ J.P. Morgan</td>\n      <td>Wells Fargo Securities/ Citigroup/ JMP Securities</td>\n      <td>Deutsche Bank Securities</td>\n    </tr>\n    <tr>\n      <th>Offer Price</th>\n      <td>14</td>\n      <td>11</td>\n      <td>13.5</td>\n      <td>13</td>\n      <td>10</td>\n    </tr>\n    <tr>\n      <th>Opening Price</th>\n      <td>14.75</td>\n      <td>11.03</td>\n      <td>13.5</td>\n      <td>13.85</td>\n      <td>10.52</td>\n    </tr>\n    <tr>\n      <th>1st Day Close</th>\n      <td>12.75</td>\n      <td>11.63</td>\n      <td>13.5</td>\n      <td>13.51</td>\n      <td>10.45</td>\n    </tr>\n    <tr>\n      <th>1st Day % Px Chng</th>\n      <td>-0.0892857</td>\n      <td>0.0572727</td>\n      <td>0</td>\n      <td>0.0392308</td>\n      <td>0.045</td>\n    </tr>\n    <tr>\n      <th>$ Change Opening</th>\n      <td>0.75</td>\n      <td>0.03</td>\n      <td>0</td>\n      <td>0.85</td>\n      <td>0.52</td>\n    </tr>\n    <tr>\n      <th>$ Change Close</th>\n      <td>-1.25</td>\n      <td>0.63</td>\n      <td>0</td>\n      <td>0.51</td>\n      <td>0.45</td>\n    </tr>\n    <tr>\n      <th>Star Ratings</th>\n      <td>2</td>\n      <td>1</td>\n      <td>1</td>\n      <td>1</td>\n      <td>1</td>\n    </tr>\n    <tr>\n      <th>year</th>\n      <td>20</td>\n      <td>20</td>\n      <td>20</td>\n      <td>20</td>\n      <td>20</td>\n    </tr>\n    <tr>\n      <th>month</th>\n      <td>Jan</td>\n      <td>Jan</td>\n      <td>Jan</td>\n      <td>Jan</td>\n      <td>Jan</td>\n    </tr>\n    <tr>\n      <th>weekday</th>\n      <td>Fri</td>\n      <td>Fri</td>\n      <td>Fri</td>\n      <td>Fri</td>\n      <td>Fri</td>\n    </tr>\n    <tr>\n      <th>$ Chg Open to Close</th>\n      <td>-2</td>\n      <td>0.6</td>\n      <td>0</td>\n      <td>-0.34</td>\n      <td>-0.07</td>\n    </tr>\n    <tr>\n      <th>% Chg Open to Close</th>\n      <td>-0.135593</td>\n      <td>0.0543971</td>\n      <td>0</td>\n      <td>-0.0245487</td>\n      <td>-0.00665399</td>\n    </tr>\n    <tr>\n      <th>SP Week Change</th>\n      <td>0.0245986</td>\n      <td>0.0245986</td>\n      <td>0.0245986</td>\n      <td>0.0245986</td>\n      <td>0.0113773</td>\n    </tr>\n    <tr>\n      <th>SP Close to Open Chg Pct</th>\n      <td>0.00206519</td>\n      <td>0.00206519</td>\n      <td>0.00206519</td>\n      <td>0.00206519</td>\n      <td>0.00227333</td>\n    </tr>\n  </tbody>\n</table>\n</div>"
     },
     "metadata": {},
     "output_type": "execute_result",
     "execution_count": 285
    }
   ],
   "source": [
    "ipo_data.head(5).T"
   ],
   "metadata": {
    "collapsed": false,
    "pycharm": {
     "name": "#%%\n",
     "is_executing": false
    }
   }
  },
  {
   "cell_type": "markdown",
   "source": [
    "承销商和代码其实是相互对应的，这里通过承销商特征得到主承销商和承销商数目。后面会将代码删除。"
   ],
   "metadata": {
    "collapsed": false,
    "pycharm": {
     "name": "#%% md\n"
    }
   }
  },
  {
   "cell_type": "code",
   "execution_count": 286,
   "outputs": [],
   "source": [
    "ipo_data['Lead Mangager']=ipo_data['Lead/Joint-Lead  Managers'].map(lambda x:x.split('/')[0].strip())\n",
    "ipo_data['Mangagers number']=ipo_data['Lead/Joint-Lead  Managers'].map(lambda x:len(x.split('/')))"
   ],
   "metadata": {
    "collapsed": false,
    "pycharm": {
     "name": "#%%\n",
     "is_executing": false
    }
   }
  },
  {
   "cell_type": "code",
   "execution_count": 287,
   "outputs": [
    {
     "name": "stdout",
     "text": [
      "A.G. Edwards\nA.G. Edwards & Sons\nA.G. Edwrads & Sons\nAG Edwards\nAG Edwards & Sons\nAG Edwrads\nAMTD\nAMTD Global Markets\nAdams Harkness\nAdvest\nAegis Capital\nAegis Capital Corp\nAegis Capital Corp.\nAlexander Capital\nAnderson & Strudrick\nAxiom\nAxiom Capital Management\nB. Riley FBR\nBB&T Capital Markets\nBBVA\nBMN Nesbitt Burns\nBMO Capital Markets\nBTIG\nBaird\nBaird, BMO Capital Markets, Janney Montgomery Scott\nBanc of America\nBanc of America Securities\nBarclay Capital\nBarclays\nBarclays Capital\nBear Stearns\nBear Streans\nBear, Stearns\nBenchmark\nBenchmark Company\nBoA Merrill Lynch\nBofA\nBofA Merril Lynch\nBofA Merrill Lych\nBofA Merrill Lync\nBofA Merrill Lynch\nBofA Securities\nBoustead Securities\nBroadband Capital Management\nBroadband Capital Management LLC\nBurnham Securities\nC&Co\nC.E. Unterberg, Towbin\nCE Unterberg Towbin\nCIBC Capital Markets\nCIBC World Markets\nCIBC Worldwide\nCICC\nCRT Capital\nCRT Capital Group\nCS First Boston\nCSFB\nCSFirst Boston\nCanaccord Genuity\nCantor\nCantor Fitzgerald\nCantor Fitzgerald & Co.\nCapital Growth Financial\nCasimir Capital\nChardan\nChardan Capital Markets\nChase H&Q\nChina Inter'l\nChina International\nCit\nCiti\nCitigroup\nCohen\nCohen & Company Capital Markets, LLC   I-Bankers Securities\nCowen\nCowen and Company\nCraig-Hallum Capital\nCraig-Hallum Capital Group\nCredit Suiss\nCredit Suisse\nCredit Suisse First Boston\nD.A. Davidson\nD.A. Davidson & Co.\nDBAB\nDLJ\nDPO (Direct Public Offering)\nDain Rauscher Wessels\nDawson James Securities\nDeutsche Banc Alex Brown\nDeutsche Banc Alex. Brown\nDeutsche Bank\nDeutsche Bank Securities\nDonald\nDonaldson Lufkin & Jenrette\nDonaldson, Lufkin & Jenrette\nDougherty & Company\nEarlyBird Capital\nEarlyBirdCapita\nEarlyBirdCapital\nEarlyBirdCapital, Inc.\nEarlyBirdCaptial\nEarlyBridCapital\nEquity Securities\nEvercore ISI\nFBR\nFBR Capital Markets\nFIG Partners\nFTN Midwest Securities\nFeltl\nFeltl & Company\nFeltl and Company\nFerris Baker Watts\nFerris, Baker Watts\nFerris, Baker, Watts\nFirst Albany\nFirst Van Kasper\nFreidman Billing Ramsey\nFriedman Billings\nFriedman Billings Ramsey\nFriedman, Billingd Ramsey\nFriedman, Billings\nGS\nGilford Securities\nGlobal Hunter Securities, LLC\nGoldman Sacha (Asia)\nGoldman Sachs\nGoldman Sachs (Asia)\nGoldman Sachs (Asia) L.L.C.\nGoldman Sachs In't\nGoldman Sachs,\nGoldman Sachs, Salomon Smith Barney\nGoldman, Sach\nGoldman, Sachs\nGoldman, Sachs & Co.\nGoldmanSachs\nGunn Allen\nGunnAllen Financial\nHCFB\nHCFP\nI-Baners\nI-Bankers\nI-Bankers Securities\nING Barings\nImperial Capital\nJ.P Morgan\nJ.P.  Morgan\nJ.P. Morgan\nJ.P. Morgan Securities\nJ.P. Morgan Securities Merrill Lynch\nJ.P. Morghan\nJ.P.Morgan\nJMP Securities\nJMP Securitites\nJP Morgan\nJP Turner\nJPMorgan\nJanney Montgomery Scott\nJefferies\nJefferies & Company\nJefferies Broadview\nJefferirs\nJohnson Rice\nJohnson Rice & Company\nJonesTrading\nJoseph Gunnar\nJoseph Gunnar & Co.\nKeefe Bruyette\nKeefe Bruyette & Woods\nKeefe Bruyette & Woods (A Stifel Company )\nKeefe, Bruyette\nKeefe, Bruyette & Woods\nKeefe, Bruyette & Woods (A Stifel Company )\nKeefe, Bruyette & Woods (A Stifel Company)\nKeefe, Bruyette & Woods (A Stifel Company) Sandler O'Neill + Partners\nKeyBanc Capital Markets\nLG Investment & Securities\nLadenburg Thalmann\nLadenburg, Thalmann\nLaidlaw & Company (UK) Ltd.\nLazard Capital Markets\nLeerink Partners\nLeerink Swann\nLegg Mason Wood Walker\nLehman Brothers\nMDB Capital Group LLC\nMDB Capital Group, LLC\nMSDW\nMacquarie Capital\nMaxim Group\nMaxim Group LLC\nMaxin Group\nMaxium CapitalEarlybird Capital\nMerril Lynch\nMerrill\nMerrill Lymch\nMerrill Lynch\nMerrill LynchÂ\nMerriman Curhan Ford\nMorgan Joseph\nMorgan Keegan\nMorgan Stanle\nMorgan Stanley\nMorgan Stanley Dean Witter\nMorgan Stanley Dean Witter & China Intl.\nMorgan Stanley, Goldman, Sachs\nMorgan Stanley.Deutsche Bank\nMorgan Stanly\nNational Securities\nNational Securities Corporation\nNeedham\nNeedham & Company\nNetwork 1 Financial Securities\nNewbridge Securities\nNoble International Investments\nNomura\nNorthland Capital\nNorthland Capital Markets\nOppenheimer\nOppenheimer & Co.\nOppenhemier\nPali\nPali Capital\nPaulson\nPaulson Investment\nPaulson Investment Company\nPiper\nPiper Jaffray\nPiper Jafftay\nPiper Sandler\nPrinceRidge\nPrudential Vector Healthcare\nPunk Ziegel\nRBC Capital Markets\nRaymond James\nRoberston Stephens\nRobert W. Baird\nRobertson Stephens\nRodman & Renshaw\nRodman & Renshaw (a Unit of H.C. Wainwright & Co.)\nRodman & Renshaw, LLC\nRodman & Renshaw.WestPark Capital\nRodman Renshaw\nRoth\nRoth Capital\nRoth Capital Partners\nRoth Capital Partners, LLC\nRyan Beck\nSANDLER O'NEILL + PARTNERS\nSANDLER OâNEILL + PARTNERS\nSG Cowen\nSG Cowen Securities\nSVB Leerink\nSalomon Smith Barney\nSanders Morris Harris\nSandler O'Neill\nSandler O'Neill & Partners\nSandler O'Neill + Partners\nSandler O'Niell & Partners\nSandler ONeill & Partners\nSandler ONeill + Partners\nSandler OâNeill\nSandler OâNeill & Partners\nSandler OâNeill & Partners, L.P\nSandler OâNeill + Partners\nSandler OâNeill + Partners, L.P.\nSantander\nSchneider Securities\nScott & Stringfellow\nSomerset Financial\nStephens\nSterne Agee & Leach\nStifel\nStifel Nicolaus Weisel\nSunTrust Robinson\nSunTrust Robinson Humphrey\nSunrise Securities\nTaglich Brothers\nThe Shemano Group\nThinkEquity (a division of Fordham Financial Management )\nThinkEquity (a division of Fordham Financial Management)\nThinkEquity Partners\nThinkPanmure\nThomas Weisel\nThomas Weisel Partners\nUBS Investment Bank\nUBS Securities\nUBS Warburg\nUS Bancorp Piper Jaffray\nUnivest Securities\nUtendhal Capital Partners\nViewTrade Securities\nW.R. Hambracht\nW.R. Hambrecht\nW.R. Hambrecht + Co\nW.R. Hambrecht + Co.\nW.R. Hambrecht+Co\nW.R. Hambrecht+Co.\nWR Hambrecht\nWR Hambrecht + Co.\nWR Hambrecht+Co\nWR Hambrecht+Co.\nWachovia\nWachovia Securities\nWallachBeth Capital\nWedbush Morgan\nWedbush Morgan Securities\nWells Fargo Securities\nWestPark Capital\nWilliam Baird\nWilliam Blair\nWilliam Blair & Company\nWunderlich\nWunderlich Securities\nâBarclays\n"
     ],
     "output_type": "stream"
    }
   ],
   "source": [
    "for n in pd.DataFrame(ipo_data['Lead Mangager'].unique(), columns=['Name']).sort_values('Name')['Name']:\n",
    "    print(n)"
   ],
   "metadata": {
    "collapsed": false,
    "pycharm": {
     "name": "#%%\n",
     "is_executing": false
    }
   }
  },
  {
   "cell_type": "code",
   "execution_count": 288,
   "outputs": [],
   "source": [
    "# 会有重复的承销商名（有时会有拆分空格之类的），故进行合并\n",
    "ipo_data.loc[ipo_data['Lead Mangager'].str.contains('AMTD'),'Lead Mangager'] = 'AMTD Global Markets'\n",
    "ipo_data.loc[ipo_data['Lead Mangager'].str.contains('Axiom'),'Lead Mangager'] = 'Axiom Capital Management'\n",
    "ipo_data.loc[ipo_data['Lead Mangager'].str.contains('Hambrecht'),'Lead Mangager'] = 'WR Hambrecht+Co.'\n",
    "ipo_data.loc[ipo_data['Lead Mangager'].str.contains('Benchmark'),'Lead Mangager'] = 'Benchmark'\n",
    "ipo_data.loc[ipo_data['Lead Mangager'].str.contains('BofA Merrill'),'Lead Mangager'] = 'BofA Merrill Lync'\n",
    "ipo_data.loc[ipo_data['Lead Mangager'].str.contains('Chardan'),'Lead Mangager'] = 'Chardan'\n",
    "ipo_data.loc[ipo_data['Lead Mangager'].str.contains('Craig-Hallum Capital'),'Lead Mangager'] = 'Craig-Hallum Capital'\n",
    "ipo_data.loc[ipo_data['Lead Mangager'].str.contains('Donaldson'),'Lead Mangager'] = 'Donaldson Lufkin & Jenrette'\n",
    "ipo_data.loc[ipo_data['Lead Mangager'].str.contains('P Morgan'),'Lead Mangager'] = 'JP Morgan'\n",
    "ipo_data.loc[ipo_data['Lead Mangager'].str.contains('MDB Capital Group'),'Lead Mangager'] = 'MDB Capital Group LLC'\n",
    "ipo_data.loc[ipo_data['Lead Mangager'].str.contains('Hambr'),'Lead Mangager'] = 'W.R. Hambracht'\n",
    "ipo_data.loc[ipo_data['Lead Mangager'].str.contains('Thomas Weisel'),'Lead Mangager'] = 'Thomas Weisel'\n",
    "ipo_data.loc[ipo_data['Lead Mangager'].str.contains('ThinkEquity'),'Lead Mangager'] = 'ThinkEquity'\n",
    "ipo_data.loc[ipo_data['Lead Mangager'].str.contains('Merrill Lynch'),'Lead Mangager'] = 'Merrill Lynch'\n",
    "ipo_data.loc[ipo_data['Lead Mangager'].str.contains('National Securities'),'Lead Mangager'] = 'National Securities'\n",
    "ipo_data.loc[ipo_data['Lead Mangager'].str.contains('Needham'),'Lead Mangager'] = 'Needham'\n",
    "ipo_data.loc[ipo_data['Lead Mangager'].str.contains('Northland Capital'),'Lead Mangager'] = 'Northland Capital'\n",
    "ipo_data.loc[ipo_data['Lead Mangager'].str.contains('on Stephens'),'Lead Mangager'] = 'Roberston Stephens'\n",
    "ipo_data.loc[ipo_data['Lead Mangager'].str.contains('Edwards'), 'Lead Mangager'] = 'AG Edwards'\n",
    "ipo_data.loc[ipo_data['Lead Mangager'].str.contains('Edwrads'), 'Lead Mangager'] = 'AG Edwards'\n",
    "ipo_data.loc[ipo_data['Lead Mangager'].str.contains('Barclay'), 'Lead Mangager'] = 'Barclays'\n",
    "ipo_data.loc[ipo_data['Lead Mangager'].str.contains('Aegis'), 'Lead Mangager'] = 'Aegis Capital'\n",
    "ipo_data.loc[ipo_data['Lead Mangager'].str.contains('Deutsche'), 'Lead Mangager'] = 'Deutsche Bank'\n",
    "ipo_data.loc[ipo_data['Lead Mangager'].str.contains('Suisse'), 'Lead Mangager'] = 'CSFB'\n",
    "ipo_data.loc[ipo_data['Lead Mangager'].str.contains('CS.?F'), 'Lead Mangager'] = 'CSFB'\n",
    "ipo_data.loc[ipo_data['Lead Mangager'].str.contains('^Early'), 'Lead Mangager'] = 'EarlyBirdCapital'\n",
    "ipo_data.loc[ipo_data['Lead Mangager'].str.contains('Keefe'), 'Lead Mangager'] = 'Keefe, Bruyette & Woods'\n",
    "ipo_data.loc[ipo_data['Lead Mangager'].str.contains('Stan'), 'Lead Mangager'] = 'Morgan Stanley'\n",
    "ipo_data.loc[ipo_data['Lead Mangager'].str.contains('P. Morg'), 'Lead Mangager'] = 'JP Morgan'\n",
    "ipo_data.loc[ipo_data['Lead Mangager'].str.contains('PM'), 'Lead Mangager'] = 'JP Morgan'\n",
    "ipo_data.loc[ipo_data['Lead Mangager'].str.contains('J\\.P\\.'), 'Lead Mangager'] = 'JP Morgan'\n",
    "ipo_data.loc[ipo_data['Lead Mangager'].str.contains('Banc of'), 'Lead Mangager'] = 'Banc of America'\n",
    "ipo_data.loc[ipo_data['Lead Mangager'].str.contains('Lych'), 'Lead Mangager'] = 'BofA Merrill Lynch'\n",
    "ipo_data.loc[ipo_data['Lead Mangager'].str.contains('Merrill$'), 'Lead Mangager'] = 'Merrill Lynch'\n",
    "ipo_data.loc[ipo_data['Lead Mangager'].str.contains('Lymch'), 'Lead Mangager'] = 'Merrill Lynch'\n",
    "ipo_data.loc[ipo_data['Lead Mangager'].str.contains('A Merril Lynch'), 'Lead Mangager'] = 'BofA Merrill Lynch'\n",
    "ipo_data.loc[ipo_data['Lead Mangager'].str.contains('Merril '), 'Lead Mangager'] = 'Merrill Lynch'\n",
    "ipo_data.loc[ipo_data['Lead Mangager'].str.contains('BofA$'), 'Lead Mangager'] = 'BofA Merrill Lynch'\n",
    "ipo_data.loc[ipo_data['Lead Mangager'].str.contains('SANDLER'), 'Lead Mangager'] = 'Sandler O\\'neil + Partners'\n",
    "ipo_data.loc[ipo_data['Lead Mangager'].str.contains('Sandler'), 'Lead Mangager'] = 'Sandler O\\'Neil + Partners'\n",
    "ipo_data.loc[ipo_data['Lead Mangager'].str.contains('Renshaw'), 'Lead Mangager'] = 'Rodman & Renshaw'\n",
    "ipo_data.loc[ipo_data['Lead Mangager'].str.contains('Baird'), 'Lead Mangager'] = 'RW Baird'\n",
    "ipo_data.loc[ipo_data['Lead Mangager'].str.contains('Cantor'), 'Lead Mangager'] = 'Cantor Fitzgerald'\n",
    "ipo_data.loc[ipo_data['Lead Mangager'].str.contains('Goldman'), 'Lead Mangager'] = 'Goldman Sachs'\n",
    "ipo_data.loc[ipo_data['Lead Mangager'].str.contains('Bear'), 'Lead Mangager'] = 'Bear Stearns'\n",
    "ipo_data.loc[ipo_data['Lead Mangager'].str.contains('BoA'), 'Lead Mangager'] = 'BofA Merrill Lynch'\n",
    "ipo_data.loc[ipo_data['Lead Mangager'].str.contains('Broadband'), 'Lead Mangager'] = 'Broadband Capital'\n",
    "ipo_data.loc[ipo_data['Lead Mangager'].str.contains('Davidson'), 'Lead Mangager'] = 'DA Davidson'\n",
    "ipo_data.loc[ipo_data['Lead Mangager'].str.contains('Feltl'), 'Lead Mangager'] = 'Feltl & Co.'\n",
    "ipo_data.loc[ipo_data['Lead Mangager'].str.contains('China'), 'Lead Mangager'] = 'China International'\n",
    "ipo_data.loc[ipo_data['Lead Mangager'].str.contains('Cit'), 'Lead Mangager'] = 'Citigroup'\n",
    "ipo_data.loc[ipo_data['Lead Mangager'].str.contains('Ferris'), 'Lead Mangager'] = 'Ferris Baker Watts'\n",
    "ipo_data.loc[ipo_data['Lead Mangager'].str.contains('Friedman|Freidman|FBR'), 'Lead Mangager'] = 'Friedman Billings Ramsey'\n",
    "ipo_data.loc[ipo_data['Lead Mangager'].str.contains('^I-'), 'Lead Mangager'] = 'I-Bankers'\n",
    "ipo_data.loc[ipo_data['Lead Mangager'].str.contains('Gunn'), 'Lead Mangager'] = 'Gunn Allen'\n",
    "ipo_data.loc[ipo_data['Lead Mangager'].str.contains('Jeffer'), 'Lead Mangager'] = 'Jefferies'\n",
    "ipo_data.loc[ipo_data['Lead Mangager'].str.contains('Oppen'), 'Lead Mangager'] = 'Oppenheimer'\n",
    "ipo_data.loc[ipo_data['Lead Mangager'].str.contains('JMP'), 'Lead Mangager'] = 'JMP Securities'\n",
    "ipo_data.loc[ipo_data['Lead Mangager'].str.contains('Rice'), 'Lead Mangager'] = 'Johnson Rice'\n",
    "ipo_data.loc[ipo_data['Lead Mangager'].str.contains('Ladenburg'), 'Lead Mangager'] = 'Ladenburg Thalmann'\n",
    "ipo_data.loc[ipo_data['Lead Mangager'].str.contains('Piper'), 'Lead Mangager'] = 'Piper Jaffray'\n",
    "ipo_data.loc[ipo_data['Lead Mangager'].str.contains('Pali'), 'Lead Mangager'] = 'Pali Capital'\n",
    "ipo_data.loc[ipo_data['Lead Mangager'].str.contains('Paulson'), 'Lead Mangager'] = 'Paulson Investment Co.'\n",
    "ipo_data.loc[ipo_data['Lead Mangager'].str.contains('Roth'), 'Lead Mangager'] = 'Roth Capital'\n",
    "ipo_data.loc[ipo_data['Lead Mangager'].str.contains('Stifel'), 'Lead Mangager'] = 'Stifel Nicolaus'\n",
    "ipo_data.loc[ipo_data['Lead Mangager'].str.contains('SunTrust'), 'Lead Mangager'] = 'SunTrust Robinson'\n",
    "ipo_data.loc[ipo_data['Lead Mangager'].str.contains('Wachovia'), 'Lead Mangager'] = 'Wachovia'\n",
    "ipo_data.loc[ipo_data['Lead Mangager'].str.contains('Wedbush'), 'Lead Mangager'] = 'Wedbush Morgan'\n",
    "ipo_data.loc[ipo_data['Lead Mangager'].str.contains('Blair'), 'Lead Mangager'] = 'William Blair'\n",
    "ipo_data.loc[ipo_data['Lead Mangager'].str.contains('Wunderlich'), 'Lead Mangager'] = 'Wunderlich'\n",
    "ipo_data.loc[ipo_data['Lead Mangager'].str.contains('Max'), 'Lead Mangager'] = 'Maxim Group'\n",
    "ipo_data.loc[ipo_data['Lead Mangager'].str.contains('CIBC'), 'Lead Mangager'] = 'CIBC'\n",
    "ipo_data.loc[ipo_data['Lead Mangager'].str.contains('CRT'), 'Lead Mangager'] = 'CRT Capital'\n",
    "ipo_data.loc[ipo_data['Lead Mangager'].str.contains('HCF'),'Lead Mangager'] = 'HCFP Brenner'\n",
    "ipo_data.loc[ipo_data['Lead Mangager'].str.contains('Cohen'), 'Lead Mangager']  = 'Cohen & Co.'\n",
    "ipo_data.loc[ipo_data['Lead Mangager'].str.contains('Cowen'), 'Lead Mangager'] = 'Cowen & Co.'\n",
    "ipo_data.loc[ipo_data['Lead Mangager'].str.contains('Leerink'), 'Lead Mangager']  = 'Leerink Partners'\n",
    "ipo_data.loc[ipo_data['Lead Mangager'].str.contains('Lynch\\xca'), 'Lead Mangager'] = 'Merrill Lynch'"
   ],
   "metadata": {
    "collapsed": false,
    "pycharm": {
     "name": "#%%\n",
     "is_executing": false
    }
   }
  },
  {
   "cell_type": "markdown",
   "source": [
    "发行价与开盘价之间的百分比变化"
   ],
   "metadata": {
    "collapsed": false,
    "pycharm": {
     "name": "#%% md\n"
    }
   }
  },
  {
   "cell_type": "code",
   "execution_count": 289,
   "outputs": [],
   "source": [
    "ipo_data['% offer to open chg']=ipo_data['$ Change Opening']/ipo_data['Opening Price']"
   ],
   "metadata": {
    "collapsed": false,
    "pycharm": {
     "name": "#%%\n",
     "is_executing": false
    }
   }
  },
  {
   "cell_type": "code",
   "execution_count": 290,
   "outputs": [
    {
     "data": {
      "text/plain": "Index(['Date', 'Issuer', 'Symbol', 'Lead/Joint-Lead  Managers', 'Offer Price',\n       'Opening Price', '1st Day Close', '1st Day % Px Chng ',\n       '$ Change Opening', '$ Change Close', 'Star Ratings', 'year', 'month',\n       'weekday', '$ Chg Open to Close', '% Chg Open to Close',\n       'SP Week Change', 'SP Close to Open Chg Pct', 'Lead Mangager',\n       'Mangagers number', '% offer to open chg'],\n      dtype='object')"
     },
     "metadata": {},
     "output_type": "execute_result",
     "execution_count": 290
    }
   ],
   "source": [
    "ipo_data.columns"
   ],
   "metadata": {
    "collapsed": false,
    "pycharm": {
     "name": "#%%\n",
     "is_executing": false
    }
   }
  },
  {
   "cell_type": "markdown",
   "source": [
    "### 4.模型训练"
   ],
   "metadata": {
    "collapsed": false,
    "pycharm": {
     "name": "#%% md\n"
    }
   }
  },
  {
   "cell_type": "markdown",
   "source": [
    "此处是二分类问题，根据'$ Chg Open to Close'设置一定的阈值将其分为0,1标签，用户会购买预测为1的股。我们不会预估收盘价，只会预测是否进行\n",
    "购股的行为。"
   ],
   "metadata": {
    "collapsed": false,
    "pycharm": {
     "name": "#%% md\n"
    }
   }
  },
  {
   "cell_type": "code",
   "execution_count": 291,
   "outputs": [
    {
     "name": "stdout",
     "text": [
      "<class 'pandas.core.frame.DataFrame'>\nRangeIndex: 3502 entries, 0 to 3501\nData columns (total 12 columns):\nOffer Price                 3502 non-null float64\nOpening Price               3502 non-null float64\n$ Change Opening            3502 non-null float64\nStar Ratings                3502 non-null object\nyear                        3502 non-null object\nmonth                       3502 non-null object\nweekday                     3502 non-null object\nSP Week Change              3502 non-null float64\nSP Close to Open Chg Pct    3502 non-null float64\nLead Mangager               3502 non-null object\nMangagers number            3502 non-null int64\n% offer to open chg         3502 non-null float64\ndtypes: float64(6), int64(1), object(5)\nmemory usage: 328.4+ KB\n"
     ],
     "output_type": "stream"
    }
   ],
   "source": [
    "# 此处选出一些特征，不能与收盘价有关，且特征不能重复\n",
    "train_features=['Offer Price','Opening Price', '$ Change Opening', 'Star Ratings', 'year', 'month',\n",
    "       'weekday', 'SP Week Change', 'SP Close to Open Chg Pct', 'Lead Mangager','Mangagers number', \n",
    "        '% offer to open chg']\n",
    "train_ipo=ipo_data[train_features]\n",
    "train_ipo.info()"
   ],
   "metadata": {
    "collapsed": false,
    "pycharm": {
     "name": "#%%\n",
     "is_executing": false
    }
   }
  },
  {
   "cell_type": "code",
   "execution_count": 292,
   "outputs": [],
   "source": [
    "cat_features=['Star Ratings', 'year', 'month','weekday', 'Lead Mangager']\n",
    "train_ipo=pd.get_dummies(train_ipo)"
   ],
   "metadata": {
    "collapsed": false,
    "pycharm": {
     "name": "#%%\n",
     "is_executing": false
    }
   }
  },
  {
   "cell_type": "code",
   "execution_count": 325,
   "outputs": [
    {
     "name": "stdout",
     "text": [
      "3197\n305\n"
     ],
     "output_type": "stream"
    }
   ],
   "source": [
    "year_thresh=19 #设置年份划分数据集 0-20\n",
    "chg_thresh=0.2 \n",
    "# 这是'$ Chg Open to Close'的阈值，大于0，预测大于0的股，能够得到更高收益\n",
    "\n",
    "train_before_data=train_ipo[ipo_data['year'].astype(int)<year_thresh]\n",
    "test_data=train_ipo[ipo_data['year'].astype(int)>=year_thresh]\n",
    "print(len(train_before_data))\n",
    "print(len(test_data))"
   ],
   "metadata": {
    "collapsed": false,
    "pycharm": {
     "name": "#%%\n",
     "is_executing": false
    }
   }
  },
  {
   "cell_type": "code",
   "execution_count": 326,
   "outputs": [
    {
     "name": "stdout",
     "text": [
      "3197\n305\n"
     ],
     "output_type": "stream"
    }
   ],
   "source": [
    "train_target=ipo_data[ipo_data['year'].astype(int)<year_thresh]['$ Chg Open to Close'].map(lambda x:1 if x>chg_thresh else 0)\n",
    "test_target=ipo_data[ipo_data['year'].astype(int)>=year_thresh]['$ Chg Open to Close'].map(lambda x:1 if x>chg_thresh else 0)\n",
    "print(len(train_target))\n",
    "print(len(test_target))"
   ],
   "metadata": {
    "collapsed": false,
    "pycharm": {
     "name": "#%%\n",
     "is_executing": false
    }
   }
  },
  {
   "cell_type": "code",
   "execution_count": 327,
   "outputs": [
    {
     "name": "stderr",
     "text": [
      "C:\\Anaconda3\\lib\\site-packages\\sklearn\\linear_model\\logistic.py:433: FutureWarning: Default solver will be changed to 'lbfgs' in 0.22. Specify a solver to silence this warning.\n  FutureWarning)\n"
     ],
     "output_type": "stream"
    },
    {
     "data": {
      "text/plain": "0.6885245901639344"
     },
     "metadata": {},
     "output_type": "execute_result",
     "execution_count": 327
    }
   ],
   "source": [
    "from sklearn.linear_model import LogisticRegression\n",
    "\n",
    "clf=LogisticRegression() #逻辑回归模型\n",
    "clf.fit(train_before_data,train_target)\n",
    "score=clf.score(test_data,test_target)\n",
    "score"
   ],
   "metadata": {
    "collapsed": false,
    "pycharm": {
     "name": "#%%\n",
     "is_executing": false
    }
   }
  },
  {
   "cell_type": "markdown",
   "source": [
    "其实只有少数会有所收益，如果模型全部预测为0，其准确率也不会低的。样本的不平衡其实影响很大。"
   ],
   "metadata": {
    "collapsed": false,
    "pycharm": {
     "name": "#%% md\n"
    }
   }
  },
  {
   "cell_type": "markdown",
   "source": [
    "### 5.结果分析"
   ],
   "metadata": {
    "collapsed": false,
    "pycharm": {
     "name": "#%% md\n"
    }
   }
  },
  {
   "cell_type": "code",
   "execution_count": 328,
   "outputs": [
    {
     "data": {
      "text/plain": "   index  $ Chg Open to Close  true  pred  correct\n0      0                -2.00     0     0        1\n1      1                 0.60     1     0        0\n2      2                 0.00     0     0        1\n3      3                -0.34     0     0        1\n4      4                -0.07     0     0        1",
      "text/html": "<div>\n<style scoped>\n    .dataframe tbody tr th:only-of-type {\n        vertical-align: middle;\n    }\n\n    .dataframe tbody tr th {\n        vertical-align: top;\n    }\n\n    .dataframe thead th {\n        text-align: right;\n    }\n</style>\n<table border=\"1\" class=\"dataframe\">\n  <thead>\n    <tr style=\"text-align: right;\">\n      <th></th>\n      <th>index</th>\n      <th>$ Chg Open to Close</th>\n      <th>true</th>\n      <th>pred</th>\n      <th>correct</th>\n    </tr>\n  </thead>\n  <tbody>\n    <tr>\n      <th>0</th>\n      <td>0</td>\n      <td>-2.00</td>\n      <td>0</td>\n      <td>0</td>\n      <td>1</td>\n    </tr>\n    <tr>\n      <th>1</th>\n      <td>1</td>\n      <td>0.60</td>\n      <td>1</td>\n      <td>0</td>\n      <td>0</td>\n    </tr>\n    <tr>\n      <th>2</th>\n      <td>2</td>\n      <td>0.00</td>\n      <td>0</td>\n      <td>0</td>\n      <td>1</td>\n    </tr>\n    <tr>\n      <th>3</th>\n      <td>3</td>\n      <td>-0.34</td>\n      <td>0</td>\n      <td>0</td>\n      <td>1</td>\n    </tr>\n    <tr>\n      <th>4</th>\n      <td>4</td>\n      <td>-0.07</td>\n      <td>0</td>\n      <td>0</td>\n      <td>1</td>\n    </tr>\n  </tbody>\n</table>\n</div>"
     },
     "metadata": {},
     "output_type": "execute_result",
     "execution_count": 328
    }
   ],
   "source": [
    "pred_label=clf.predict(test_data)\n",
    "results=[]\n",
    "for idx,chg,true,pred in zip(test_target.index,ipo_data.loc[test_target.index,'$ Chg Open to Close'],test_target,pred_label):\n",
    "    if true==pred:\n",
    "        results.append([idx,chg,true,pred,1])\n",
    "    else:\n",
    "        results.append([idx,chg,true,pred,0])\n",
    "rf=pd.DataFrame(results,columns=['index','$ Chg Open to Close','true','pred','correct'])\n",
    "rf.head()"
   ],
   "metadata": {
    "collapsed": false,
    "pycharm": {
     "name": "#%%\n",
     "is_executing": false
    }
   }
  },
  {
   "cell_type": "code",
   "execution_count": 329,
   "outputs": [
    {
     "data": {
      "text/plain": "count    305.000000\nmean       0.256469\nstd        2.775023\nmin       -8.950000\n25%       -0.430000\n50%        0.000000\n75%        0.560000\nmax       19.750000\nName: $ Chg Open to Close, dtype: float64"
     },
     "metadata": {},
     "output_type": "execute_result",
     "execution_count": 329
    }
   ],
   "source": [
    "# 此处为全部买进得到的收益的统计信息\n",
    "rf['$ Chg Open to Close'].describe()"
   ],
   "metadata": {
    "collapsed": false,
    "pycharm": {
     "name": "#%%\n",
     "is_executing": false
    }
   }
  },
  {
   "cell_type": "code",
   "execution_count": 330,
   "outputs": [
    {
     "data": {
      "text/plain": "count    67.000000\nmean      0.326119\nstd       4.401792\nmin      -8.950000\n25%      -1.645000\n50%       0.110000\n75%       1.770000\nmax      19.750000\nName: $ Chg Open to Close, dtype: float64"
     },
     "metadata": {},
     "output_type": "execute_result",
     "execution_count": 330
    }
   ],
   "source": [
    "# 此处为买进预测为1的得到的收益的统计信息\n",
    "rf[rf['pred']==1]['$ Chg Open to Close'].describe()"
   ],
   "metadata": {
    "collapsed": false,
    "pycharm": {
     "name": "#%%\n",
     "is_executing": false
    }
   }
  },
  {
   "cell_type": "markdown",
   "source": [
    "对比上面两个打印信息，可以发现预测为1的买进的股较少，且收益均值高于全部买进。但此结果有时会低于。"
   ],
   "metadata": {
    "collapsed": false,
    "pycharm": {
     "name": "#%% md\n"
    }
   }
  },
  {
   "cell_type": "markdown",
   "source": [
    "### 6.特征重要性"
   ],
   "metadata": {
    "collapsed": false,
    "pycharm": {
     "name": "#%% md\n"
    }
   }
  },
  {
   "cell_type": "code",
   "execution_count": 299,
   "outputs": [
    {
     "data": {
      "text/plain": "RandomForestClassifier(bootstrap=True, class_weight=None, criterion='gini',\n            max_depth=None, max_features='auto', max_leaf_nodes=None,\n            min_impurity_decrease=0.0, min_impurity_split=None,\n            min_samples_leaf=1, min_samples_split=2,\n            min_weight_fraction_leaf=0.0, n_estimators=100, n_jobs=None,\n            oob_score=False, random_state=None, verbose=0,\n            warm_start=False)"
     },
     "metadata": {},
     "output_type": "execute_result",
     "execution_count": 299
    }
   ],
   "source": [
    "from sklearn.ensemble import RandomForestClassifier\n",
    "clf_rf=RandomForestClassifier(n_estimators=100)\n",
    "clf_rf.fit(train_before_data,train_target)"
   ],
   "metadata": {
    "collapsed": false,
    "pycharm": {
     "name": "#%%\n",
     "is_executing": false
    }
   }
  },
  {
   "cell_type": "code",
   "execution_count": 300,
   "outputs": [
    {
     "data": {
      "text/plain": "<Figure size 432x288 with 1 Axes>",
      "image/png": "[encoded data removed]"
     },
     "metadata": {
      "needs_background": "light"
     },
     "output_type": "display_data"
    }
   ],
   "source": [
    "f_importances = clf_rf.feature_importances_\n",
    "f_names = train_before_data\n",
    "f_std = np.std([tree.feature_importances_ for tree in clf_rf.estimators_], axis=0)\n",
    "\n",
    "fs=zip(f_importances,f_names,f_std)\n",
    "fs=sorted(fs,key=lambda x:x[0],reverse=True)\n",
    "imp=[i[0] for i in fs[:20]]\n",
    "nam=[i[1] for i in fs[:20]]\n",
    "std=[i[2] for i in fs[:20]]\n",
    "\n",
    "plt.bar(range(20),imp,yerr=std)\n",
    "plt.xticks(range(20),nam,rotation=90)\n",
    "plt.show()"
   ],
   "metadata": {
    "collapsed": false,
    "pycharm": {
     "name": "#%%\n",
     "is_executing": false
    }
   }
  }
 ],
 "metadata": {
  "kernelspec": {
   "display_name": "Python 3",
   "language": "python",
   "name": "python3"
  },
  "language_info": {
   "codemirror_mode": {
    "name": "ipython",
    "version": 2
   },
   "file_extension": ".py",
   "mimetype": "text/x-python",
   "name": "python",
   "nbconvert_exporter": "python",
   "pygments_lexer": "ipython2",
   "version": "2.7.6"
  },
  "pycharm": {
   "stem_cell": {
    "cell_type": "raw",
    "source": [],
    "metadata": {
     "collapsed": false
    }
   }
  }
 },
 "nbformat": 4,
 "nbformat_minor": 0
}