{
 "cells": [
  {
   "cell_type": "markdown",
   "metadata": {
    "collapsed": true,
    "pycharm": {
     "name": "#%% md\n"
    }
   },
   "source": [
    "## 公寓房价预测  \n",
    "数据集取自import.io，公寓房价信息属于纽约地区。\n",
    "\n",
    "\n"
   ]
  },
  {
   "cell_type": "code",
   "execution_count": 193,
   "outputs": [],
   "source": [
    "import pandas as pd\n",
    "import numpy as np\n",
    "import re\n",
    "import warnings\n",
    "warnings.filterwarnings('ignore')"
   ],
   "metadata": {
    "collapsed": false,
    "pycharm": {
     "name": "#%%\n",
     "is_executing": false
    }
   }
  },
  {
   "cell_type": "markdown",
   "source": [
    "### 1.加载数据集，并进行粗略查看"
   ],
   "metadata": {
    "collapsed": false
   }
  },
  {
   "cell_type": "code",
   "execution_count": 194,
   "outputs": [],
   "source": [
    "data=pd.read_csv('./Apartment.csv')"
   ],
   "metadata": {
    "collapsed": false,
    "pycharm": {
     "name": "#%%\n",
     "is_executing": false
    }
   }
  },
  {
   "cell_type": "code",
   "execution_count": 195,
   "outputs": [
    {
     "data": {
      "text/plain": "Index(['routablemask_link', 'routablemask_link/_text',\n       'routablemask_link/_title', 'routablemask_link_numbers',\n       'routablemask_content', 'imagebadge_value', 'imagebadge_value_numbers',\n       'routable_link', 'routable_link/_text', 'routable_link/_title',\n       'routable_link_numbers', 'listingtype_value', 'pricelarge_value',\n       'pricelarge_value_prices', 'propertyinfo_value',\n       'propertyinfo_value_numbers', 'fineprint_value',\n       'fineprint_value_numbers', 'tozcount_number', 'tozfresh_value',\n       'tablegrouped_values', 'tablegrouped_values_prices', '_PAGE_NUMBER'],\n      dtype='object')"
     },
     "metadata": {},
     "output_type": "execute_result",
     "execution_count": 195
    }
   ],
   "source": [
    "data.columns"
   ],
   "metadata": {
    "collapsed": false,
    "pycharm": {
     "name": "#%%\n",
     "is_executing": false
    }
   }
  },
  {
   "cell_type": "code",
   "execution_count": 196,
   "outputs": [
    {
     "data": {
      "text/plain": "                                                                            0  \\\nroutablemask_link           http://www.zillow.com/b/2-Ellwood-St-New-York-...   \nroutablemask_link/_text                                              5 photos   \nroutablemask_link/_title                                                  NaN   \nroutablemask_link_numbers                                                   5   \nroutablemask_content                                                      NaN   \nimagebadge_value                                                     5 photos   \nimagebadge_value_numbers                                                    5   \nroutable_link               http://www.zillow.com/b/2-Ellwood-St-New-York-...   \nroutable_link/_text                                              2 Ellwood St   \nroutable_link/_title            2 Ellwood St APT 5H, New York, NY Real Estate   \nroutable_link_numbers                                                       2   \nlistingtype_value                                         Apartments For Rent   \npricelarge_value                                                          NaN   \npricelarge_value_prices                                                   NaN   \npropertyinfo_value                                 2 Ellwood St, New York, NY   \npropertyinfo_value_numbers                                                  2   \nfineprint_value                                              6 matching units   \nfineprint_value_numbers                                                     6   \ntozcount_number                                                           NaN   \ntozfresh_value                                                  Updated today   \ntablegrouped_values         1 Bedrooms $1,500+ 1.0 ba -- sqft; 2 Bedrooms ...   \ntablegrouped_values_prices                                         1500; 1750   \n_PAGE_NUMBER                                                                1   \n\n                                                                            1  \\\nroutablemask_link           http://www.zillow.com/b/603-W-140th-St-New-Yor...   \nroutablemask_link/_text                                             10 photos   \nroutablemask_link/_title                                                  NaN   \nroutablemask_link_numbers                                                  10   \nroutablemask_content                                                      NaN   \nimagebadge_value                                                    10 photos   \nimagebadge_value_numbers                                                   10   \nroutable_link               http://www.zillow.com/b/603-W-140th-St-New-Yor...   \nroutable_link/_text                                            603 W 140th St   \nroutable_link/_title          603 W 140th St APT 44, New York, NY Real Estate   \nroutable_link_numbers                                                603; 140   \nlistingtype_value                                         Apartments For Rent   \npricelarge_value                                                          NaN   \npricelarge_value_prices                                                   NaN   \npropertyinfo_value                               603 W 140th St, New York, NY   \npropertyinfo_value_numbers                                           603; 140   \nfineprint_value                                              2 matching units   \nfineprint_value_numbers                                                     2   \ntozcount_number                                                           NaN   \ntozfresh_value                                                  Updated today   \ntablegrouped_values         1 Bedrooms $2,100 1.0 ba 800 sqft; 2 Bedrooms ...   \ntablegrouped_values_prices                                         2100; 2595   \n_PAGE_NUMBER                                                                1   \n\n                                                                            2  \\\nroutablemask_link           http://www.zillow.com/homedetails/9-E-129th-St...   \nroutablemask_link/_text                                                   NaN   \nroutablemask_link/_title                                                  NaN   \nroutablemask_link_numbers                                                 NaN   \nroutablemask_content                                                      NaN   \nimagebadge_value                                                          NaN   \nimagebadge_value_numbers                                                  NaN   \nroutable_link               http://www.zillow.com/homedetails/9-E-129th-St...   \nroutable_link/_text                       9 E 129th St # 1, New York, NY10035   \nroutable_link/_title               9 E 129th St # 1, New York, NY Real Estate   \nroutable_link_numbers                                               9; 129; 1   \nlistingtype_value                                          Apartment For Rent   \npricelarge_value                                                    $1,750/mo   \npricelarge_value_prices                                                  1750   \npropertyinfo_value                                                1 bd • 1 ba   \npropertyinfo_value_numbers                                               1; 1   \nfineprint_value                                                           NaN   \nfineprint_value_numbers                                                   NaN   \ntozcount_number                                                            48   \ntozfresh_value                                                    minutes ago   \ntablegrouped_values                                                       NaN   \ntablegrouped_values_prices                                                NaN   \n_PAGE_NUMBER                                                                1   \n\n                                                                            3  \\\nroutablemask_link           http://www.zillow.com/homedetails/710-Riversid...   \nroutablemask_link/_text                                              9 photos   \nroutablemask_link/_title                                                  NaN   \nroutablemask_link_numbers                                                   9   \nroutablemask_content                                                      NaN   \nimagebadge_value                                                     9 photos   \nimagebadge_value_numbers                                                    9   \nroutable_link               http://www.zillow.com/homedetails/710-Riversid...   \nroutable_link/_text                710 Riverside Dr APT 2C, New York, NY10031   \nroutable_link/_title        710 Riverside Dr APT 2C, New York, NY Real Estate   \nroutable_link_numbers                                                  710; 2   \nlistingtype_value                                          Apartment For Rent   \npricelarge_value                                                    $3,000/mo   \npricelarge_value_prices                                                  3000   \npropertyinfo_value                                  2 bds • 2 ba • 1,016 sqft   \npropertyinfo_value_numbers                                         2; 2; 1016   \nfineprint_value                                                           NaN   \nfineprint_value_numbers                                                   NaN   \ntozcount_number                                                             1   \ntozfresh_value                                                       hour ago   \ntablegrouped_values                                                       NaN   \ntablegrouped_values_prices                                                NaN   \n_PAGE_NUMBER                                                                1   \n\n                                                                            4  \nroutablemask_link           http://www.zillow.com/homedetails/413-E-84th-S...  \nroutablemask_link/_text                                              5 photos  \nroutablemask_link/_title                                                  NaN  \nroutablemask_link_numbers                                                   5  \nroutablemask_content                                                      NaN  \nimagebadge_value                                                     5 photos  \nimagebadge_value_numbers                                                    5  \nroutable_link               http://www.zillow.com/homedetails/413-E-84th-S...  \nroutable_link/_text                    413 E 84th St APT 8, New York, NY10028  \nroutable_link/_title            413 E 84th St APT 8, New York, NY Real Estate  \nroutable_link_numbers                                              413; 84; 8  \nlistingtype_value                                          Apartment For Rent  \npricelarge_value                                                    $2,300/mo  \npricelarge_value_prices                                                  2300  \npropertyinfo_value                                              Studio • 1 ba  \npropertyinfo_value_numbers                                                  1  \nfineprint_value                                                           NaN  \nfineprint_value_numbers                                                   NaN  \ntozcount_number                                                             2  \ntozfresh_value                                                      hours ago  \ntablegrouped_values                                                       NaN  \ntablegrouped_values_prices                                                NaN  \n_PAGE_NUMBER                                                                1  ",
      "text/html": "<div>\n<style scoped>\n    .dataframe tbody tr th:only-of-type {\n        vertical-align: middle;\n    }\n\n    .dataframe tbody tr th {\n        vertical-align: top;\n    }\n\n    .dataframe thead th {\n        text-align: right;\n    }\n</style>\n<table border=\"1\" class=\"dataframe\">\n  <thead>\n    <tr style=\"text-align: right;\">\n      <th></th>\n      <th>0</th>\n      <th>1</th>\n      <th>2</th>\n      <th>3</th>\n      <th>4</th>\n    </tr>\n  </thead>\n  <tbody>\n    <tr>\n      <th>routablemask_link</th>\n      <td>http://www.zillow.com/b/2-Ellwood-St-New-York-...</td>\n      <td>http://www.zillow.com/b/603-W-140th-St-New-Yor...</td>\n      <td>http://www.zillow.com/homedetails/9-E-129th-St...</td>\n      <td>http://www.zillow.com/homedetails/710-Riversid...</td>\n      <td>http://www.zillow.com/homedetails/413-E-84th-S...</td>\n    </tr>\n    <tr>\n      <th>routablemask_link/_text</th>\n      <td>5 photos</td>\n      <td>10 photos</td>\n      <td>NaN</td>\n      <td>9 photos</td>\n      <td>5 photos</td>\n    </tr>\n    <tr>\n      <th>routablemask_link/_title</th>\n      <td>NaN</td>\n      <td>NaN</td>\n      <td>NaN</td>\n      <td>NaN</td>\n      <td>NaN</td>\n    </tr>\n    <tr>\n      <th>routablemask_link_numbers</th>\n      <td>5</td>\n      <td>10</td>\n      <td>NaN</td>\n      <td>9</td>\n      <td>5</td>\n    </tr>\n    <tr>\n      <th>routablemask_content</th>\n      <td>NaN</td>\n      <td>NaN</td>\n      <td>NaN</td>\n      <td>NaN</td>\n      <td>NaN</td>\n    </tr>\n    <tr>\n      <th>imagebadge_value</th>\n      <td>5 photos</td>\n      <td>10 photos</td>\n      <td>NaN</td>\n      <td>9 photos</td>\n      <td>5 photos</td>\n    </tr>\n    <tr>\n      <th>imagebadge_value_numbers</th>\n      <td>5</td>\n      <td>10</td>\n      <td>NaN</td>\n      <td>9</td>\n      <td>5</td>\n    </tr>\n    <tr>\n      <th>routable_link</th>\n      <td>http://www.zillow.com/b/2-Ellwood-St-New-York-...</td>\n      <td>http://www.zillow.com/b/603-W-140th-St-New-Yor...</td>\n      <td>http://www.zillow.com/homedetails/9-E-129th-St...</td>\n      <td>http://www.zillow.com/homedetails/710-Riversid...</td>\n      <td>http://www.zillow.com/homedetails/413-E-84th-S...</td>\n    </tr>\n    <tr>\n      <th>routable_link/_text</th>\n      <td>2 Ellwood St</td>\n      <td>603 W 140th St</td>\n      <td>9 E 129th St # 1, New York, NY10035</td>\n      <td>710 Riverside Dr APT 2C, New York, NY10031</td>\n      <td>413 E 84th St APT 8, New York, NY10028</td>\n    </tr>\n    <tr>\n      <th>routable_link/_title</th>\n      <td>2 Ellwood St APT 5H, New York, NY Real Estate</td>\n      <td>603 W 140th St APT 44, New York, NY Real Estate</td>\n      <td>9 E 129th St # 1, New York, NY Real Estate</td>\n      <td>710 Riverside Dr APT 2C, New York, NY Real Estate</td>\n      <td>413 E 84th St APT 8, New York, NY Real Estate</td>\n    </tr>\n    <tr>\n      <th>routable_link_numbers</th>\n      <td>2</td>\n      <td>603; 140</td>\n      <td>9; 129; 1</td>\n      <td>710; 2</td>\n      <td>413; 84; 8</td>\n    </tr>\n    <tr>\n      <th>listingtype_value</th>\n      <td>Apartments For Rent</td>\n      <td>Apartments For Rent</td>\n      <td>Apartment For Rent</td>\n      <td>Apartment For Rent</td>\n      <td>Apartment For Rent</td>\n    </tr>\n    <tr>\n      <th>pricelarge_value</th>\n      <td>NaN</td>\n      <td>NaN</td>\n      <td>$1,750/mo</td>\n      <td>$3,000/mo</td>\n      <td>$2,300/mo</td>\n    </tr>\n    <tr>\n      <th>pricelarge_value_prices</th>\n      <td>NaN</td>\n      <td>NaN</td>\n      <td>1750</td>\n      <td>3000</td>\n      <td>2300</td>\n    </tr>\n    <tr>\n      <th>propertyinfo_value</th>\n      <td>2 Ellwood St, New York, NY</td>\n      <td>603 W 140th St, New York, NY</td>\n      <td>1 bd • 1 ba</td>\n      <td>2 bds • 2 ba • 1,016 sqft</td>\n      <td>Studio • 1 ba</td>\n    </tr>\n    <tr>\n      <th>propertyinfo_value_numbers</th>\n      <td>2</td>\n      <td>603; 140</td>\n      <td>1; 1</td>\n      <td>2; 2; 1016</td>\n      <td>1</td>\n    </tr>\n    <tr>\n      <th>fineprint_value</th>\n      <td>6 matching units</td>\n      <td>2 matching units</td>\n      <td>NaN</td>\n      <td>NaN</td>\n      <td>NaN</td>\n    </tr>\n    <tr>\n      <th>fineprint_value_numbers</th>\n      <td>6</td>\n      <td>2</td>\n      <td>NaN</td>\n      <td>NaN</td>\n      <td>NaN</td>\n    </tr>\n    <tr>\n      <th>tozcount_number</th>\n      <td>NaN</td>\n      <td>NaN</td>\n      <td>48</td>\n      <td>1</td>\n      <td>2</td>\n    </tr>\n    <tr>\n      <th>tozfresh_value</th>\n      <td>Updated today</td>\n      <td>Updated today</td>\n      <td>minutes ago</td>\n      <td>hour ago</td>\n      <td>hours ago</td>\n    </tr>\n    <tr>\n      <th>tablegrouped_values</th>\n      <td>1 Bedrooms $1,500+ 1.0 ba -- sqft; 2 Bedrooms ...</td>\n      <td>1 Bedrooms $2,100 1.0 ba 800 sqft; 2 Bedrooms ...</td>\n      <td>NaN</td>\n      <td>NaN</td>\n      <td>NaN</td>\n    </tr>\n    <tr>\n      <th>tablegrouped_values_prices</th>\n      <td>1500; 1750</td>\n      <td>2100; 2595</td>\n      <td>NaN</td>\n      <td>NaN</td>\n      <td>NaN</td>\n    </tr>\n    <tr>\n      <th>_PAGE_NUMBER</th>\n      <td>1</td>\n      <td>1</td>\n      <td>1</td>\n      <td>1</td>\n      <td>1</td>\n    </tr>\n  </tbody>\n</table>\n</div>"
     },
     "metadata": {},
     "output_type": "execute_result",
     "execution_count": 196
    }
   ],
   "source": [
    "data.head(5).T"
   ],
   "metadata": {
    "collapsed": false,
    "pycharm": {
     "name": "#%%\n",
     "is_executing": false
    }
   }
  },
  {
   "cell_type": "markdown",
   "source": [
    "观察上表，可以发现许多信息是无用冗杂的，仅保留'listingtype_value'、'pricelarge_value_prices'、\n",
    "'routable_link/_text'、'propertyinfo_value'。"
   ],
   "metadata": {
    "collapsed": false
   }
  },
  {
   "cell_type": "code",
   "source": [
    "data=data[['listingtype_value','routable_link/_text','propertyinfo_value','pricelarge_value_prices']]\n",
    "data.info()"
   ],
   "metadata": {
    "collapsed": false,
    "pycharm": {
     "name": "#%% \n",
     "is_executing": false
    }
   },
   "execution_count": 197,
   "outputs": [
    {
     "name": "stdout",
     "text": [
      "<class 'pandas.core.frame.DataFrame'>\nRangeIndex: 500 entries, 0 to 499\nData columns (total 4 columns):\nlistingtype_value          500 non-null object\nroutable_link/_text        500 non-null object\npropertyinfo_value         500 non-null object\npricelarge_value_prices    339 non-null float64\ndtypes: float64(1), object(3)\nmemory usage: 15.7+ KB\n"
     ],
     "output_type": "stream"
    }
   ]
  },
  {
   "cell_type": "markdown",
   "source": [
    "### 2.数据处理，特征工程"
   ],
   "metadata": {
    "collapsed": false
   }
  },
  {
   "cell_type": "markdown",
   "source": [
    "根据'listingtype_value'特征拆分数据为单个单元与多个单元，单个单元样本有价格，此处研究该类样本。"
   ],
   "metadata": {
    "collapsed": false,
    "pycharm": {
     "name": "#%% md\n"
    }
   }
  },
  {
   "cell_type": "code",
   "execution_count": 198,
   "outputs": [
    {
     "data": {
      "text/plain": "339"
     },
     "metadata": {},
     "output_type": "execute_result",
     "execution_count": 198
    }
   ],
   "source": [
    "single_data=data[data['listingtype_value'].str.contains('Apartment For')]\n",
    "\n",
    "# 处理完毕后删除该特征即可\n",
    "single_data.drop(['listingtype_value'],axis=1,inplace=True)\n",
    "single_data.reset_index(drop=True,inplace=True)\n",
    "len(single_data) # 样本数目"
   ],
   "metadata": {
    "collapsed": false,
    "pycharm": {
     "name": "#%%\n",
     "is_executing": false
    }
   }
  },
  {
   "cell_type": "code",
   "execution_count": 199,
   "outputs": [
    {
     "data": {
      "text/plain": "                                                           0  \\\nroutable_link/_text      9 E 129th St # 1, New York, NY10035   \npropertyinfo_value                               1 bd • 1 ba   \npricelarge_value_prices                                 1750   \n\n                                                                  1  \\\nroutable_link/_text      710 Riverside Dr APT 2C, New York, NY10031   \npropertyinfo_value                        2 bds • 2 ba • 1,016 sqft   \npricelarge_value_prices                                        3000   \n\n                                                              2  \\\nroutable_link/_text      413 E 84th St APT 8, New York, NY10028   \npropertyinfo_value                                Studio • 1 ba   \npricelarge_value_prices                                    2300   \n\n                                                                  3  \\\nroutable_link/_text      324 Pleasant Ave APT 6E, New York, NY10035   \npropertyinfo_value                                     2 bds • 1 ba   \npricelarge_value_prices                                        2500   \n\n                                                                4  \nroutable_link/_text      217 Thompson St APT 6, New York, NY10012  \npropertyinfo_value                                   2 bds • 1 ba  \npricelarge_value_prices                                      2800  ",
      "text/html": "<div>\n<style scoped>\n    .dataframe tbody tr th:only-of-type {\n        vertical-align: middle;\n    }\n\n    .dataframe tbody tr th {\n        vertical-align: top;\n    }\n\n    .dataframe thead th {\n        text-align: right;\n    }\n</style>\n<table border=\"1\" class=\"dataframe\">\n  <thead>\n    <tr style=\"text-align: right;\">\n      <th></th>\n      <th>0</th>\n      <th>1</th>\n      <th>2</th>\n      <th>3</th>\n      <th>4</th>\n    </tr>\n  </thead>\n  <tbody>\n    <tr>\n      <th>routable_link/_text</th>\n      <td>9 E 129th St # 1, New York, NY10035</td>\n      <td>710 Riverside Dr APT 2C, New York, NY10031</td>\n      <td>413 E 84th St APT 8, New York, NY10028</td>\n      <td>324 Pleasant Ave APT 6E, New York, NY10035</td>\n      <td>217 Thompson St APT 6, New York, NY10012</td>\n    </tr>\n    <tr>\n      <th>propertyinfo_value</th>\n      <td>1 bd • 1 ba</td>\n      <td>2 bds • 2 ba • 1,016 sqft</td>\n      <td>Studio • 1 ba</td>\n      <td>2 bds • 1 ba</td>\n      <td>2 bds • 1 ba</td>\n    </tr>\n    <tr>\n      <th>pricelarge_value_prices</th>\n      <td>1750</td>\n      <td>3000</td>\n      <td>2300</td>\n      <td>2500</td>\n      <td>2800</td>\n    </tr>\n  </tbody>\n</table>\n</div>"
     },
     "metadata": {},
     "output_type": "execute_result",
     "execution_count": 199
    }
   ],
   "source": [
    "single_data.head(5).T"
   ],
   "metadata": {
    "collapsed": false,
    "pycharm": {
     "name": "#%%\n",
     "is_executing": false
    }
   }
  },
  {
   "cell_type": "markdown",
   "source": [
    "缺失值查看"
   ],
   "metadata": {
    "collapsed": false,
    "pycharm": {
     "name": "#%% md\n"
    }
   }
  },
  {
   "cell_type": "code",
   "execution_count": 200,
   "outputs": [
    {
     "data": {
      "text/plain": "routable_link/_text        0\npropertyinfo_value         0\npricelarge_value_prices    0\ndtype: int64"
     },
     "metadata": {},
     "output_type": "execute_result",
     "execution_count": 200
    }
   ],
   "source": [
    "single_data.isnull().sum()"
   ],
   "metadata": {
    "collapsed": false,
    "pycharm": {
     "name": "#%%\n",
     "is_executing": false
    }
   }
  },
  {
   "cell_type": "markdown",
   "source": [
    "没有缺失值，尤其是保证了房价pricelarge_value_prices特征列无缺失值。"
   ],
   "metadata": {
    "collapsed": false
   }
  },
  {
   "cell_type": "markdown",
   "source": [
    "在特征propertyinfo_value属性信息中提取经常出现的 卧室数(bd/bds/Studio)、浴室数(ba/bas)。"
   ],
   "metadata": {
    "collapsed": false,
    "pycharm": {
     "name": "#%% md\n"
    }
   }
  },
  {
   "cell_type": "code",
   "execution_count": 201,
   "outputs": [
    {
     "data": {
      "text/plain": "0"
     },
     "metadata": {},
     "output_type": "execute_result",
     "execution_count": 201
    }
   ],
   "source": [
    "# 查看卧室信息 目前数据中含有多少不包含卧室信息的样本\n",
    "len(single_data[~(single_data['propertyinfo_value'].str.contains('bd')|single_data['propertyinfo_value'].str.contains('Studio'))])"
   ],
   "metadata": {
    "collapsed": false,
    "pycharm": {
     "name": "#%%\n",
     "is_executing": false
    }
   }
  },
  {
   "cell_type": "code",
   "execution_count": 202,
   "outputs": [
    {
     "data": {
      "text/plain": "6"
     },
     "metadata": {},
     "output_type": "execute_result",
     "execution_count": 202
    }
   ],
   "source": [
    "# 查看浴室信息\n",
    "len(single_data[~(single_data['propertyinfo_value'].str.contains('ba'))])"
   ],
   "metadata": {
    "collapsed": false,
    "pycharm": {
     "name": "#%%\n",
     "is_executing": false
    }
   }
  },
  {
   "cell_type": "code",
   "execution_count": 203,
   "outputs": [
    {
     "data": {
      "text/plain": "333"
     },
     "metadata": {},
     "output_type": "execute_result",
     "execution_count": 203
    }
   ],
   "source": [
    "# 提取除缺失浴室信息的数据样本\n",
    "non_index=single_data[~(single_data['propertyinfo_value'].str.contains('ba'))].index\n",
    "single_data=single_data[~single_data.index.isin(non_index)]\n",
    "len(single_data)"
   ],
   "metadata": {
    "collapsed": false,
    "pycharm": {
     "name": "#%%\n",
     "is_executing": false
    }
   }
  },
  {
   "cell_type": "code",
   "execution_count": 204,
   "outputs": [
    {
     "data": {
      "text/plain": "                                                           0  \\\nroutable_link/_text      9 E 129th St # 1, New York, NY10035   \npropertyinfo_value                               1 bd • 1 ba   \npricelarge_value_prices                                 1750   \n\n                                                                  1  \\\nroutable_link/_text      710 Riverside Dr APT 2C, New York, NY10031   \npropertyinfo_value                        2 bds • 2 ba • 1,016 sqft   \npricelarge_value_prices                                        3000   \n\n                                                              2  \\\nroutable_link/_text      413 E 84th St APT 8, New York, NY10028   \npropertyinfo_value                                Studio • 1 ba   \npricelarge_value_prices                                    2300   \n\n                                                                  3  \\\nroutable_link/_text      324 Pleasant Ave APT 6E, New York, NY10035   \npropertyinfo_value                                     2 bds • 1 ba   \npricelarge_value_prices                                        2500   \n\n                                                                4  \nroutable_link/_text      217 Thompson St APT 6, New York, NY10012  \npropertyinfo_value                                   2 bds • 1 ba  \npricelarge_value_prices                                      2800  ",
      "text/html": "<div>\n<style scoped>\n    .dataframe tbody tr th:only-of-type {\n        vertical-align: middle;\n    }\n\n    .dataframe tbody tr th {\n        vertical-align: top;\n    }\n\n    .dataframe thead th {\n        text-align: right;\n    }\n</style>\n<table border=\"1\" class=\"dataframe\">\n  <thead>\n    <tr style=\"text-align: right;\">\n      <th></th>\n      <th>0</th>\n      <th>1</th>\n      <th>2</th>\n      <th>3</th>\n      <th>4</th>\n    </tr>\n  </thead>\n  <tbody>\n    <tr>\n      <th>routable_link/_text</th>\n      <td>9 E 129th St # 1, New York, NY10035</td>\n      <td>710 Riverside Dr APT 2C, New York, NY10031</td>\n      <td>413 E 84th St APT 8, New York, NY10028</td>\n      <td>324 Pleasant Ave APT 6E, New York, NY10035</td>\n      <td>217 Thompson St APT 6, New York, NY10012</td>\n    </tr>\n    <tr>\n      <th>propertyinfo_value</th>\n      <td>1 bd • 1 ba</td>\n      <td>2 bds • 2 ba • 1,016 sqft</td>\n      <td>Studio • 1 ba</td>\n      <td>2 bds • 1 ba</td>\n      <td>2 bds • 1 ba</td>\n    </tr>\n    <tr>\n      <th>pricelarge_value_prices</th>\n      <td>1750</td>\n      <td>3000</td>\n      <td>2300</td>\n      <td>2500</td>\n      <td>2800</td>\n    </tr>\n  </tbody>\n</table>\n</div>"
     },
     "metadata": {},
     "output_type": "execute_result",
     "execution_count": 204
    }
   ],
   "source": [
    "single_data.head(5).T"
   ],
   "metadata": {
    "collapsed": false,
    "pycharm": {
     "name": "#%%\n",
     "is_executing": false
    }
   }
  },
  {
   "cell_type": "code",
   "execution_count": 205,
   "outputs": [
    {
     "data": {
      "text/plain": "  Bedrooms Bathrooms\n0        1         1\n1        2         2\n2   Studio         1\n3        2         1\n4        2         1",
      "text/html": "<div>\n<style scoped>\n    .dataframe tbody tr th:only-of-type {\n        vertical-align: middle;\n    }\n\n    .dataframe tbody tr th {\n        vertical-align: top;\n    }\n\n    .dataframe thead th {\n        text-align: right;\n    }\n</style>\n<table border=\"1\" class=\"dataframe\">\n  <thead>\n    <tr style=\"text-align: right;\">\n      <th></th>\n      <th>Bedrooms</th>\n      <th>Bathrooms</th>\n    </tr>\n  </thead>\n  <tbody>\n    <tr>\n      <th>0</th>\n      <td>1</td>\n      <td>1</td>\n    </tr>\n    <tr>\n      <th>1</th>\n      <td>2</td>\n      <td>2</td>\n    </tr>\n    <tr>\n      <th>2</th>\n      <td>Studio</td>\n      <td>1</td>\n    </tr>\n    <tr>\n      <th>3</th>\n      <td>2</td>\n      <td>1</td>\n    </tr>\n    <tr>\n      <th>4</th>\n      <td>2</td>\n      <td>1</td>\n    </tr>\n  </tbody>\n</table>\n</div>"
     },
     "metadata": {},
     "output_type": "execute_result",
     "execution_count": 205
    }
   ],
   "source": [
    "# 对数据进一步处理，提取卧室数与浴室数\n",
    "def parse_info(row):\n",
    "    bd,ba=row.split('•')[:2]\n",
    "    bd=str(bd).strip().split(' ')[0]\n",
    "    ba=str(ba).strip().split(' ')[0]\n",
    "    return pd.Series({'Bedrooms':bd,'Bathrooms':ba})\n",
    "bd_ba_df=single_data['propertyinfo_value'].apply(parse_info)\n",
    "bd_ba_df.head(5)"
   ],
   "metadata": {
    "collapsed": false,
    "pycharm": {
     "name": "#%%\n",
     "is_executing": false
    }
   }
  },
  {
   "cell_type": "code",
   "execution_count": 206,
   "outputs": [
    {
     "data": {
      "text/plain": "                                                           0  \\\nroutable_link/_text      9 E 129th St # 1, New York, NY10035   \npricelarge_value_prices                                 1750   \nBedrooms                                                   1   \nBathrooms                                                  1   \n\n                                                                  1  \\\nroutable_link/_text      710 Riverside Dr APT 2C, New York, NY10031   \npricelarge_value_prices                                        3000   \nBedrooms                                                          2   \nBathrooms                                                         2   \n\n                                                              2  \\\nroutable_link/_text      413 E 84th St APT 8, New York, NY10028   \npricelarge_value_prices                                    2300   \nBedrooms                                                 Studio   \nBathrooms                                                     1   \n\n                                                                  3  \\\nroutable_link/_text      324 Pleasant Ave APT 6E, New York, NY10035   \npricelarge_value_prices                                        2500   \nBedrooms                                                          2   \nBathrooms                                                         1   \n\n                                                                4  \nroutable_link/_text      217 Thompson St APT 6, New York, NY10012  \npricelarge_value_prices                                      2800  \nBedrooms                                                        2  \nBathrooms                                                       1  ",
      "text/html": "<div>\n<style scoped>\n    .dataframe tbody tr th:only-of-type {\n        vertical-align: middle;\n    }\n\n    .dataframe tbody tr th {\n        vertical-align: top;\n    }\n\n    .dataframe thead th {\n        text-align: right;\n    }\n</style>\n<table border=\"1\" class=\"dataframe\">\n  <thead>\n    <tr style=\"text-align: right;\">\n      <th></th>\n      <th>0</th>\n      <th>1</th>\n      <th>2</th>\n      <th>3</th>\n      <th>4</th>\n    </tr>\n  </thead>\n  <tbody>\n    <tr>\n      <th>routable_link/_text</th>\n      <td>9 E 129th St # 1, New York, NY10035</td>\n      <td>710 Riverside Dr APT 2C, New York, NY10031</td>\n      <td>413 E 84th St APT 8, New York, NY10028</td>\n      <td>324 Pleasant Ave APT 6E, New York, NY10035</td>\n      <td>217 Thompson St APT 6, New York, NY10012</td>\n    </tr>\n    <tr>\n      <th>pricelarge_value_prices</th>\n      <td>1750</td>\n      <td>3000</td>\n      <td>2300</td>\n      <td>2500</td>\n      <td>2800</td>\n    </tr>\n    <tr>\n      <th>Bedrooms</th>\n      <td>1</td>\n      <td>2</td>\n      <td>Studio</td>\n      <td>2</td>\n      <td>2</td>\n    </tr>\n    <tr>\n      <th>Bathrooms</th>\n      <td>1</td>\n      <td>2</td>\n      <td>1</td>\n      <td>1</td>\n      <td>1</td>\n    </tr>\n  </tbody>\n</table>\n</div>"
     },
     "metadata": {},
     "output_type": "execute_result",
     "execution_count": 206
    }
   ],
   "source": [
    "# 合并数据\n",
    "single_data=single_data.join(bd_ba_df)\n",
    "single_data.drop(['propertyinfo_value'],axis=1,inplace=True)\n",
    "single_data.reset_index(drop=True,inplace=True)\n",
    "single_data.head(5).T"
   ],
   "metadata": {
    "collapsed": false,
    "pycharm": {
     "name": "#%%\n",
     "is_executing": false
    }
   }
  },
  {
   "cell_type": "markdown",
   "source": [
    "在特征routable_link/_text中提取经常出现的 邮编 （其实代表地区）。"
   ],
   "metadata": {
    "collapsed": false,
    "pycharm": {
     "name": "#%% md\n"
    }
   }
  },
  {
   "cell_type": "code",
   "execution_count": 207,
   "outputs": [
    {
     "name": "stdout",
     "text": [
      "Zips    13\ndtype: int64\n"
     ],
     "output_type": "stream"
    },
    {
     "data": {
      "text/plain": "    Zips\n0  10035\n1  10031\n2  10028\n3  10035\n4  10012",
      "text/html": "<div>\n<style scoped>\n    .dataframe tbody tr th:only-of-type {\n        vertical-align: middle;\n    }\n\n    .dataframe tbody tr th {\n        vertical-align: top;\n    }\n\n    .dataframe thead th {\n        text-align: right;\n    }\n</style>\n<table border=\"1\" class=\"dataframe\">\n  <thead>\n    <tr style=\"text-align: right;\">\n      <th></th>\n      <th>Zips</th>\n    </tr>\n  </thead>\n  <tbody>\n    <tr>\n      <th>0</th>\n      <td>10035</td>\n    </tr>\n    <tr>\n      <th>1</th>\n      <td>10031</td>\n    </tr>\n    <tr>\n      <th>2</th>\n      <td>10028</td>\n    </tr>\n    <tr>\n      <th>3</th>\n      <td>10035</td>\n    </tr>\n    <tr>\n      <th>4</th>\n      <td>10012</td>\n    </tr>\n  </tbody>\n</table>\n</div>"
     },
     "metadata": {},
     "output_type": "execute_result",
     "execution_count": 207
    }
   ],
   "source": [
    "# 得到邮编信息\n",
    "def parse_info1(row):\n",
    "    zip_info=re.search('NY(\\d+)',row)\n",
    "    if zip_info:\n",
    "        zipc=zip_info.group(1)\n",
    "    else:\n",
    "        zipc=np.nan\n",
    "    return pd.Series({'Zips':zipc})\n",
    "zip_df=single_data['routable_link/_text'].apply(parse_info1)\n",
    "print(zip_df.isnull().sum())\n",
    "zip_df.head(5)"
   ],
   "metadata": {
    "collapsed": false,
    "pycharm": {
     "name": "#%%\n",
     "is_executing": false
    }
   }
  },
  {
   "cell_type": "code",
   "execution_count": 208,
   "outputs": [
    {
     "data": {
      "text/plain": "               0      1       2      3      4\nRentPrice   1750   3000    2300   2500   2800\nBedrooms       1      2  Studio      2      2\nBathrooms      1      2       1      1      1\nZips       10035  10031   10028  10035  10012",
      "text/html": "<div>\n<style scoped>\n    .dataframe tbody tr th:only-of-type {\n        vertical-align: middle;\n    }\n\n    .dataframe tbody tr th {\n        vertical-align: top;\n    }\n\n    .dataframe thead th {\n        text-align: right;\n    }\n</style>\n<table border=\"1\" class=\"dataframe\">\n  <thead>\n    <tr style=\"text-align: right;\">\n      <th></th>\n      <th>0</th>\n      <th>1</th>\n      <th>2</th>\n      <th>3</th>\n      <th>4</th>\n    </tr>\n  </thead>\n  <tbody>\n    <tr>\n      <th>RentPrice</th>\n      <td>1750</td>\n      <td>3000</td>\n      <td>2300</td>\n      <td>2500</td>\n      <td>2800</td>\n    </tr>\n    <tr>\n      <th>Bedrooms</th>\n      <td>1</td>\n      <td>2</td>\n      <td>Studio</td>\n      <td>2</td>\n      <td>2</td>\n    </tr>\n    <tr>\n      <th>Bathrooms</th>\n      <td>1</td>\n      <td>2</td>\n      <td>1</td>\n      <td>1</td>\n      <td>1</td>\n    </tr>\n    <tr>\n      <th>Zips</th>\n      <td>10035</td>\n      <td>10031</td>\n      <td>10028</td>\n      <td>10035</td>\n      <td>10012</td>\n    </tr>\n  </tbody>\n</table>\n</div>"
     },
     "metadata": {},
     "output_type": "execute_result",
     "execution_count": 208
    }
   ],
   "source": [
    "single_data=single_data.join(zip_df)\n",
    "single_data.drop(['routable_link/_text'],axis=1,inplace=True)\n",
    "single_data.dropna(axis=0,how='any',inplace=True)\n",
    "single_data.reset_index(drop=True,inplace=True)\n",
    "\n",
    "single_data.rename(columns={'pricelarge_value_prices':'RentPrice'},inplace=True)\n",
    "single_data.head(5).T"
   ],
   "metadata": {
    "collapsed": false,
    "pycharm": {
     "name": "#%%\n",
     "is_executing": false
    }
   }
  },
  {
   "cell_type": "markdown",
   "source": [
    "特征处理，数据类型转换"
   ],
   "metadata": {
    "collapsed": false,
    "pycharm": {
     "name": "#%% md\n"
    }
   }
  },
  {
   "cell_type": "code",
   "execution_count": 209,
   "outputs": [
    {
     "name": "stdout",
     "text": [
      "<class 'pandas.core.frame.DataFrame'>\nRangeIndex: 320 entries, 0 to 319\nData columns (total 4 columns):\nRentPrice    320 non-null float64\nBedrooms     320 non-null object\nBathrooms    320 non-null object\nZips         320 non-null object\ndtypes: float64(1), object(3)\nmemory usage: 10.1+ KB\n"
     ],
     "output_type": "stream"
    }
   ],
   "source": [
    "single_data.info()"
   ],
   "metadata": {
    "collapsed": false,
    "pycharm": {
     "name": "#%%\n",
     "is_executing": false
    }
   }
  },
  {
   "cell_type": "code",
   "execution_count": 210,
   "outputs": [
    {
     "data": {
      "text/plain": "               0      1      2      3      4\nRentPrice   1750   3000   2300   2500   2800\nBedrooms       1      2      0      2      2\nBathrooms      1      2      1      1      1\nZips       10035  10031  10028  10035  10012",
      "text/html": "<div>\n<style scoped>\n    .dataframe tbody tr th:only-of-type {\n        vertical-align: middle;\n    }\n\n    .dataframe tbody tr th {\n        vertical-align: top;\n    }\n\n    .dataframe thead th {\n        text-align: right;\n    }\n</style>\n<table border=\"1\" class=\"dataframe\">\n  <thead>\n    <tr style=\"text-align: right;\">\n      <th></th>\n      <th>0</th>\n      <th>1</th>\n      <th>2</th>\n      <th>3</th>\n      <th>4</th>\n    </tr>\n  </thead>\n  <tbody>\n    <tr>\n      <th>RentPrice</th>\n      <td>1750</td>\n      <td>3000</td>\n      <td>2300</td>\n      <td>2500</td>\n      <td>2800</td>\n    </tr>\n    <tr>\n      <th>Bedrooms</th>\n      <td>1</td>\n      <td>2</td>\n      <td>0</td>\n      <td>2</td>\n      <td>2</td>\n    </tr>\n    <tr>\n      <th>Bathrooms</th>\n      <td>1</td>\n      <td>2</td>\n      <td>1</td>\n      <td>1</td>\n      <td>1</td>\n    </tr>\n    <tr>\n      <th>Zips</th>\n      <td>10035</td>\n      <td>10031</td>\n      <td>10028</td>\n      <td>10035</td>\n      <td>10012</td>\n    </tr>\n  </tbody>\n</table>\n</div>"
     },
     "metadata": {},
     "output_type": "execute_result",
     "execution_count": 210
    }
   ],
   "source": [
    "single_data.loc[:,'Bedrooms']=single_data['Bedrooms'].apply(lambda x: 0 if 'Studio' in x else x)\n",
    "single_data.loc[:,'Bedrooms']=single_data['Bedrooms'].astype('float')\n",
    "single_data.loc[:,'Bathrooms']=single_data['Bathrooms'].astype('float')\n",
    "single_data.head(5).T"
   ],
   "metadata": {
    "collapsed": false,
    "pycharm": {
     "name": "#%%\n",
     "is_executing": false
    }
   }
  },
  {
   "cell_type": "code",
   "execution_count": 211,
   "outputs": [
    {
     "name": "stdout",
     "text": [
      "<class 'pandas.core.frame.DataFrame'>\nRangeIndex: 320 entries, 0 to 319\nData columns (total 4 columns):\nRentPrice    320 non-null float64\nBedrooms     320 non-null float64\nBathrooms    320 non-null float64\nZips         320 non-null object\ndtypes: float64(3), object(1)\nmemory usage: 10.1+ KB\n"
     ],
     "output_type": "stream"
    }
   ],
   "source": [
    "single_data.info()"
   ],
   "metadata": {
    "collapsed": false,
    "pycharm": {
     "name": "#%% \n",
     "is_executing": false
    }
   }
  },
  {
   "cell_type": "code",
   "execution_count": 212,
   "outputs": [
    {
     "data": {
      "text/plain": "         RentPrice    Bedrooms   Bathrooms\ncount   320.000000  320.000000  320.000000\nmean   2477.750000    0.853125    1.007812\nstd     365.398258    0.712840    0.083619\nmin    1500.000000    0.000000    1.000000\n25%    2199.750000    0.000000    1.000000\n50%    2500.000000    1.000000    1.000000\n75%    2800.000000    1.000000    1.000000\nmax    3000.000000    3.000000    2.000000",
      "text/html": "<div>\n<style scoped>\n    .dataframe tbody tr th:only-of-type {\n        vertical-align: middle;\n    }\n\n    .dataframe tbody tr th {\n        vertical-align: top;\n    }\n\n    .dataframe thead th {\n        text-align: right;\n    }\n</style>\n<table border=\"1\" class=\"dataframe\">\n  <thead>\n    <tr style=\"text-align: right;\">\n      <th></th>\n      <th>RentPrice</th>\n      <th>Bedrooms</th>\n      <th>Bathrooms</th>\n    </tr>\n  </thead>\n  <tbody>\n    <tr>\n      <th>count</th>\n      <td>320.000000</td>\n      <td>320.000000</td>\n      <td>320.000000</td>\n    </tr>\n    <tr>\n      <th>mean</th>\n      <td>2477.750000</td>\n      <td>0.853125</td>\n      <td>1.007812</td>\n    </tr>\n    <tr>\n      <th>std</th>\n      <td>365.398258</td>\n      <td>0.712840</td>\n      <td>0.083619</td>\n    </tr>\n    <tr>\n      <th>min</th>\n      <td>1500.000000</td>\n      <td>0.000000</td>\n      <td>1.000000</td>\n    </tr>\n    <tr>\n      <th>25%</th>\n      <td>2199.750000</td>\n      <td>0.000000</td>\n      <td>1.000000</td>\n    </tr>\n    <tr>\n      <th>50%</th>\n      <td>2500.000000</td>\n      <td>1.000000</td>\n      <td>1.000000</td>\n    </tr>\n    <tr>\n      <th>75%</th>\n      <td>2800.000000</td>\n      <td>1.000000</td>\n      <td>1.000000</td>\n    </tr>\n    <tr>\n      <th>max</th>\n      <td>3000.000000</td>\n      <td>3.000000</td>\n      <td>2.000000</td>\n    </tr>\n  </tbody>\n</table>\n</div>"
     },
     "metadata": {},
     "output_type": "execute_result",
     "execution_count": 212
    }
   ],
   "source": [
    "single_data.describe()"
   ],
   "metadata": {
    "collapsed": false,
    "pycharm": {
     "name": "#%%\n",
     "is_executing": false
    }
   }
  },
  {
   "cell_type": "markdown",
   "source": [
    "## 3.模型预测"
   ],
   "metadata": {
    "collapsed": false
   }
  },
  {
   "cell_type": "code",
   "execution_count": 213,
   "outputs": [],
   "source": [
    "import patsy\n",
    "import statsmodels.api as sm\n",
    "\n",
    "# statsmodels中的线性回归模型\n",
    "f = 'RentPrice ~ Bedrooms + Bathrooms + Zips'\n",
    "y, X = patsy.dmatrices(f, single_data, return_type='dataframe')"
   ],
   "metadata": {
    "collapsed": false,
    "pycharm": {
     "name": "#%%\n",
     "is_executing": false
    }
   }
  },
  {
   "cell_type": "code",
   "execution_count": 214,
   "outputs": [
    {
     "name": "stdout",
     "text": [
      "                            OLS Regression Results                            \n==============================================================================\nDep. Variable:              RentPrice   R-squared:                       0.386\nModel:                            OLS   Adj. R-squared:                  0.292\nMethod:                 Least Squares   F-statistic:                     4.138\nDate:                Wed, 17 Jun 2020   Prob (F-statistic):           4.09e-13\nTime:                        18:43:42   Log-Likelihood:                -2264.0\nNo. Observations:                 320   AIC:                             4614.\nDf Residuals:                     277   BIC:                             4776.\nDf Model:                          42                                         \nCovariance Type:            nonrobust                                         \n=================================================================================\n                    coef    std err          t      P>|t|      [0.025      0.975]\n---------------------------------------------------------------------------------\nIntercept      1927.2366    337.731      5.706      0.000    1262.392    2592.082\nZips[T.10002]  -449.3583    222.297     -2.021      0.044    -886.964     -11.753\nZips[T.10003]  -512.3473    226.277     -2.264      0.024    -957.789     -66.905\nZips[T.10004]    33.8512    257.241      0.132      0.895    -472.544     540.246\nZips[T.10005]  -221.5000    266.202     -0.832      0.406    -745.536     302.536\nZips[T.10006]  -128.7488    257.241     -0.500      0.617    -635.144     377.646\nZips[T.10009]  -428.7300    223.093     -1.922      0.056    -867.904      10.444\nZips[T.10010]  -400.3657    310.435     -1.290      0.198   -1011.476     210.745\nZips[T.10011]   -96.2463    257.761     -0.373      0.709    -603.666     411.174\nZips[T.10012]  -238.8760    229.969     -1.039      0.300    -691.586     213.834\nZips[T.10013]  -233.1761    230.062     -1.014      0.312    -686.068     219.716\nZips[T.10014]  -287.5000    376.467     -0.764      0.446   -1028.599     453.599\nZips[T.10016]  -210.8110    266.300     -0.792      0.429    -735.041     313.419\nZips[T.10017]  -278.6829    267.086     -1.043      0.298    -804.458     247.093\nZips[T.10019]  -304.7438    258.799     -1.178      0.240    -814.207     204.719\nZips[T.10021]  -612.7438    258.799     -2.368      0.019   -1122.207    -103.281\nZips[T.10022]  -567.5000    376.467     -1.507      0.133   -1308.599     173.599\nZips[T.10023]  -362.4552    251.395     -1.442      0.150    -857.342     132.431\nZips[T.10024]  -387.3110    243.116     -1.593      0.112    -865.900      91.278\nZips[T.10025]  -237.5000    376.467     -0.631      0.529    -978.599     503.599\nZips[T.10026]  -125.7438    308.743     -0.407      0.684    -733.525     482.038\nZips[T.10027] -1075.7438    308.743     -3.484      0.001   -1683.525    -467.962\nZips[T.10028]  -610.4463    257.761     -2.368      0.019   -1117.866    -103.026\nZips[T.10029]  -923.1564    248.363     -3.717      0.000   -1412.075    -434.238\nZips[T.10031]  -910.7418    284.089     -3.206      0.002   -1469.989    -351.495\nZips[T.10032] -1028.4022    288.614     -3.563      0.000   -1596.558    -460.246\nZips[T.10033] -1100.7438    377.578     -2.915      0.004   -1844.030    -357.458\nZips[T.10034] -1213.9876    380.891     -3.187      0.002   -1963.796    -464.179\nZips[T.10035]  -900.4511    253.239     -3.556      0.000   -1398.969    -401.933\nZips[T.10036]  -334.4938    267.771     -1.249      0.213    -861.618     192.631\nZips[T.10037] -1110.7438    308.743     -3.598      0.000   -1718.525    -502.962\nZips[T.10038]  -223.4349    235.078     -0.950      0.343    -686.201     239.331\nZips[T.10040] -1375.7438    377.578     -3.644      0.000   -2119.030    -632.458\nZips[T.10065]  -552.4463    257.761     -2.143      0.033   -1059.866     -45.026\nZips[T.10075]  -499.0951    258.216     -1.933      0.054   -1007.410       9.220\nZips[T.10128]  -213.9876    312.787     -0.684      0.494    -829.729     401.754\nZips[T.10280]   -12.7479    251.163     -0.051      0.960    -507.179     481.683\nZips[T.11101]  -720.9876    380.891     -1.893      0.059   -1470.796      28.821\nZips[T.11206]  -513.9876    380.891     -1.349      0.178   -1263.796     235.821\nZips[T.11209] -1118.9876    380.891     -2.938      0.004   -1868.796    -369.179\nZips[T.11229]  -330.7438    377.578     -0.876      0.382   -1074.030     412.542\nBedrooms        188.2438     28.943      6.504      0.000     131.267     245.221\nBathrooms       810.2634    258.495      3.135      0.002     301.399    1319.128\n==============================================================================\nOmnibus:                        3.939   Durbin-Watson:                   2.072\nProb(Omnibus):                  0.139   Jarque-Bera (JB):                3.229\nSkew:                          -0.142   Prob(JB):                        0.199\nKurtosis:                       2.598   Cond. No.                         143.\n==============================================================================\n\nWarnings:\n[1] Standard Errors assume that the covariance matrix of the errors is correctly specified.\n"
     ],
     "output_type": "stream"
    }
   ],
   "source": [
    "results = sm.OLS(y, X).fit()\n",
    "print(results.summary())"
   ],
   "metadata": {
    "collapsed": false,
    "pycharm": {
     "name": "#%%\n",
     "is_executing": false
    }
   }
  },
  {
   "cell_type": "code",
   "execution_count": 215,
   "outputs": [
    {
     "data": {
      "text/plain": "Intercept        1927.236624\nZips[T.10002]    -449.358316\nZips[T.10003]    -512.347273\nZips[T.10004]      33.851236\nZips[T.10005]    -221.500000\nZips[T.10006]    -128.748764\nZips[T.10009]    -428.730017\nZips[T.10010]    -400.365727\nZips[T.10011]     -96.246291\nZips[T.10012]    -238.876048\nZips[T.10013]    -233.176091\nZips[T.10014]    -287.500000\nZips[T.10016]    -210.810955\nZips[T.10017]    -278.682864\nZips[T.10019]    -304.743818\nZips[T.10021]    -612.743818\nZips[T.10022]    -567.500000\nZips[T.10023]    -362.455242\nZips[T.10024]    -387.310955\nZips[T.10025]    -237.500000\nZips[T.10026]    -125.743818\nZips[T.10027]   -1075.743818\nZips[T.10028]    -610.446291\nZips[T.10029]    -923.156371\nZips[T.10031]    -910.741750\nZips[T.10032]   -1028.402242\nZips[T.10033]   -1100.743818\nZips[T.10034]   -1213.987636\nZips[T.10035]    -900.451121\nZips[T.10036]    -334.493818\nZips[T.10037]   -1110.743818\nZips[T.10038]    -223.434924\nZips[T.10040]   -1375.743818\nZips[T.10065]    -552.446291\nZips[T.10075]    -499.095055\nZips[T.10128]    -213.987636\nZips[T.10280]     -12.747939\nZips[T.11101]    -720.987636\nZips[T.11206]    -513.987636\nZips[T.11209]   -1118.987636\nZips[T.11229]    -330.743818\nBedrooms          188.243818\nBathrooms         810.263376\ndtype: float64"
     },
     "metadata": {},
     "output_type": "execute_result",
     "execution_count": 215
    }
   ],
   "source": [
    "results.params"
   ],
   "metadata": {
    "collapsed": false,
    "pycharm": {
     "name": "#%%\n",
     "is_executing": false
    }
   }
  },
  {
   "cell_type": "code",
   "execution_count": 216,
   "outputs": [
    {
     "data": {
      "text/plain": "<Figure size 432x288 with 1 Axes>",
      "image/png": "[encoded data removed]"
     },
     "metadata": {
      "needs_background": "light"
     },
     "output_type": "display_data"
    }
   ],
   "source": [
    "from matplotlib import pyplot as plt\n",
    "#matplotlib inline\n",
    "true_price=y['RentPrice'].values\n",
    "pred_price=results.fittedvalues.values\n",
    "\n",
    "x=np.linspace(1400,3200,100)\n",
    "plt.figure()\n",
    "plt.plot(x,x,'r-')\n",
    "plt.scatter(true_price,pred_price,c='skyblue')\n",
    "plt.show()"
   ],
   "metadata": {
    "collapsed": false,
    "pycharm": {
     "name": "#%%\n",
     "is_executing": false
    }
   }
  },
  {
   "cell_type": "code",
   "execution_count": 219,
   "outputs": [
    {
     "name": "stdout",
     "text": [
      "0.3304964172383217\n0.29555112115089155\n"
     ],
     "output_type": "stream"
    },
    {
     "data": {
      "text/plain": "<Figure size 432x288 with 1 Axes>",
      "image/png": "[encoded data removed]"
     },
     "metadata": {
      "needs_background": "light"
     },
     "output_type": "display_data"
    }
   ],
   "source": [
    "from sklearn.linear_model import LinearRegression\n",
    "from sklearn.model_selection import train_test_split\n",
    "from sklearn.preprocessing import PolynomialFeatures\n",
    "from sklearn.pipeline import Pipeline\n",
    "\n",
    "#增加多项式特征\n",
    "def polynomial_model(degree=1):\n",
    "    polynomial_features = PolynomialFeatures(degree=degree,\n",
    "                                             include_bias=False)\n",
    "    linear_regression = LinearRegression()\n",
    "    pipeline = Pipeline([(\"polynomial_features\", polynomial_features),\n",
    "                         (\"linear_regression\", linear_regression)])\n",
    "    return pipeline\n",
    "\n",
    "# 用1次特征最好\n",
    "model = polynomial_model(degree=1)\n",
    "\n",
    "single_data_=single_data.copy()\n",
    "single_data_=pd.get_dummies(single_data_)\n",
    "\n",
    "x_data=single_data_.iloc[:,1:]\n",
    "y_data=single_data_.iloc[:,0]\n",
    "\n",
    "x_train,x_test,y_train,y_test=train_test_split(x_data,y_data,random_state=78)\n",
    "model.fit(x_train,y_train)\n",
    "print(model.score(x_train,y_train))\n",
    "y_pred=model.predict(x_data)\n",
    "print(model.score(x_data,y_data))\n",
    "\n",
    "x=np.linspace(1400,3200,100)\n",
    "plt.figure()\n",
    "plt.plot(x,x,'r-')\n",
    "plt.scatter(y_data,y_pred,c='skyblue')\n",
    "plt.show()"
   ],
   "metadata": {
    "collapsed": false,
    "pycharm": {
     "name": "#%%\n",
     "is_executing": false
    }
   }
  },
  {
   "cell_type": "markdown",
   "source": [
    "效果都不是很好，因为数据量太小，特征太少。\n"
   ],
   "metadata": {
    "collapsed": false
   }
  }
 ],
 "metadata": {
  "kernelspec": {
   "display_name": "Python 3",
   "language": "python",
   "name": "python3"
  },
  "language_info": {
   "codemirror_mode": {
    "name": "ipython",
    "version": 2
   },
   "file_extension": ".py",
   "mimetype": "text/x-python",
   "name": "python",
   "nbconvert_exporter": "python",
   "pygments_lexer": "ipython2",
   "version": "2.7.6"
  },
  "pycharm": {
   "stem_cell": {
    "cell_type": "raw",
    "source": [],
    "metadata": {
     "collapsed": false
    }
   }
  }
 },
 "nbformat": 4,
 "nbformat_minor": 0
}