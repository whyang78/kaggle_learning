{
 "cells": [
  {
   "cell_type": "markdown",
   "metadata": {
    "collapsed": true,
    "pycharm": {
     "name": "#%% md\n"
    }
   },
   "source": [
    "对特征之间的关系进行简单的认识之后，需要对数据进行预处理，对特征进行处理，进而构建模型。  \n",
    "+ 数据清洗：缺失值，异常值，一致性；  \n",
    "+ 特征编码：one-hot 和 label coding；  \n",
    "+ 特征分箱：等频，等距，聚类等；  \n",
    "+ 衍生变量：可解释性强，适合模型输入；  \n",
    "+ 特征选择：方差选择，卡方选择，正则化等；\n",
    "\n"
   ]
  },
  {
   "cell_type": "code",
   "execution_count": 1,
   "outputs": [
    {
     "name": "stderr",
     "text": [
      "C:\\Anaconda3\\lib\\site-packages\\pandas\\core\\frame.py:6692: FutureWarning: Sorting because non-concatenation axis is not aligned. A future version\nof pandas will change to not sort by default.\n\nTo accept the future behavior, pass 'sort=False'.\n\nTo retain the current behavior and silence the warning, pass 'sort=True'.\n\n  sort=sort)\n"
     ],
     "output_type": "stream"
    }
   ],
   "source": [
    "import pandas as pd\n",
    "import seaborn as sns\n",
    "from matplotlib import pyplot as plt\n",
    "plt.style.use('seaborn')\n",
    "import re\n",
    "import numpy as np\n",
    "from sklearn.ensemble import ExtraTreesRegressor,RandomForestClassifier\n",
    "from sklearn.feature_selection import SelectKBest, f_classif\n",
    "from sklearn.model_selection import KFold,cross_val_score\n",
    "\n",
    "train_path='./train.csv'\n",
    "test_path='./test.csv'\n",
    "\n",
    "train_df=pd.read_csv(train_path)\n",
    "test_df=pd.read_csv(test_path)\n",
    "df=train_df.append(test_df)"
   ],
   "metadata": {
    "collapsed": false,
    "pycharm": {
     "name": "#%%\n",
     "is_executing": false
    }
   }
  },
  {
   "cell_type": "markdown",
   "source": [
    "## 数据清洗\n",
    "\n"
   ],
   "metadata": {
    "collapsed": false
   }
  },
  {
   "cell_type": "markdown",
   "source": [
    "1.缺失值处理\n",
    "\n",
    "\n"
   ],
   "metadata": {
    "collapsed": false,
    "pycharm": {
     "name": "#%% md\n"
    }
   }
  },
  {
   "cell_type": "code",
   "execution_count": 2,
   "outputs": [
    {
     "data": {
      "text/plain": "      Age Cabin Embarked  Fare                Name  Parch  PassengerId  \\\n152  60.5   NaN        S   NaN  Storey, Mr. Thomas      0         1044   \n\n     Pclass   Sex  SibSp  Survived Ticket  \n152       3  male      0       NaN   3701  ",
      "text/html": "<div>\n<style scoped>\n    .dataframe tbody tr th:only-of-type {\n        vertical-align: middle;\n    }\n\n    .dataframe tbody tr th {\n        vertical-align: top;\n    }\n\n    .dataframe thead th {\n        text-align: right;\n    }\n</style>\n<table border=\"1\" class=\"dataframe\">\n  <thead>\n    <tr style=\"text-align: right;\">\n      <th></th>\n      <th>Age</th>\n      <th>Cabin</th>\n      <th>Embarked</th>\n      <th>Fare</th>\n      <th>Name</th>\n      <th>Parch</th>\n      <th>PassengerId</th>\n      <th>Pclass</th>\n      <th>Sex</th>\n      <th>SibSp</th>\n      <th>Survived</th>\n      <th>Ticket</th>\n    </tr>\n  </thead>\n  <tbody>\n    <tr>\n      <th>152</th>\n      <td>60.5</td>\n      <td>NaN</td>\n      <td>S</td>\n      <td>NaN</td>\n      <td>Storey, Mr. Thomas</td>\n      <td>0</td>\n      <td>1044</td>\n      <td>3</td>\n      <td>male</td>\n      <td>0</td>\n      <td>NaN</td>\n      <td>3701</td>\n    </tr>\n  </tbody>\n</table>\n</div>"
     },
     "metadata": {},
     "output_type": "execute_result",
     "execution_count": 2
    }
   ],
   "source": [
    "df[df['Fare'].isnull()]"
   ],
   "metadata": {
    "collapsed": false,
    "pycharm": {
     "name": "#%%\n",
     "is_executing": false
    }
   }
  },
  {
   "cell_type": "code",
   "execution_count": 3,
   "outputs": [
    {
     "data": {
      "text/plain": "      Age Cabin Embarked    Fare                       Name  Parch  \\\n116  70.5   NaN        Q  7.7500       Connors, Mr. Patrick      0   \n280  65.0   NaN        Q  7.7500           Duane, Mr. Frank      0   \n326  61.0   NaN        S  6.2375  Nysveen, Mr. Johan Hansen      0   \n851  74.0   NaN        S  7.7750        Svensson, Mr. Johan      0   \n152  60.5   NaN        S     NaN         Storey, Mr. Thomas      0   \n\n     PassengerId  Pclass   Sex  SibSp  Survived  Ticket  \n116          117       3  male      0       0.0  370369  \n280          281       3  male      0       0.0  336439  \n326          327       3  male      0       0.0  345364  \n851          852       3  male      0       0.0  347060  \n152         1044       3  male      0       NaN    3701  ",
      "text/html": "<div>\n<style scoped>\n    .dataframe tbody tr th:only-of-type {\n        vertical-align: middle;\n    }\n\n    .dataframe tbody tr th {\n        vertical-align: top;\n    }\n\n    .dataframe thead th {\n        text-align: right;\n    }\n</style>\n<table border=\"1\" class=\"dataframe\">\n  <thead>\n    <tr style=\"text-align: right;\">\n      <th></th>\n      <th>Age</th>\n      <th>Cabin</th>\n      <th>Embarked</th>\n      <th>Fare</th>\n      <th>Name</th>\n      <th>Parch</th>\n      <th>PassengerId</th>\n      <th>Pclass</th>\n      <th>Sex</th>\n      <th>SibSp</th>\n      <th>Survived</th>\n      <th>Ticket</th>\n    </tr>\n  </thead>\n  <tbody>\n    <tr>\n      <th>116</th>\n      <td>70.5</td>\n      <td>NaN</td>\n      <td>Q</td>\n      <td>7.7500</td>\n      <td>Connors, Mr. Patrick</td>\n      <td>0</td>\n      <td>117</td>\n      <td>3</td>\n      <td>male</td>\n      <td>0</td>\n      <td>0.0</td>\n      <td>370369</td>\n    </tr>\n    <tr>\n      <th>280</th>\n      <td>65.0</td>\n      <td>NaN</td>\n      <td>Q</td>\n      <td>7.7500</td>\n      <td>Duane, Mr. Frank</td>\n      <td>0</td>\n      <td>281</td>\n      <td>3</td>\n      <td>male</td>\n      <td>0</td>\n      <td>0.0</td>\n      <td>336439</td>\n    </tr>\n    <tr>\n      <th>326</th>\n      <td>61.0</td>\n      <td>NaN</td>\n      <td>S</td>\n      <td>6.2375</td>\n      <td>Nysveen, Mr. Johan Hansen</td>\n      <td>0</td>\n      <td>327</td>\n      <td>3</td>\n      <td>male</td>\n      <td>0</td>\n      <td>0.0</td>\n      <td>345364</td>\n    </tr>\n    <tr>\n      <th>851</th>\n      <td>74.0</td>\n      <td>NaN</td>\n      <td>S</td>\n      <td>7.7750</td>\n      <td>Svensson, Mr. Johan</td>\n      <td>0</td>\n      <td>852</td>\n      <td>3</td>\n      <td>male</td>\n      <td>0</td>\n      <td>0.0</td>\n      <td>347060</td>\n    </tr>\n    <tr>\n      <th>152</th>\n      <td>60.5</td>\n      <td>NaN</td>\n      <td>S</td>\n      <td>NaN</td>\n      <td>Storey, Mr. Thomas</td>\n      <td>0</td>\n      <td>1044</td>\n      <td>3</td>\n      <td>male</td>\n      <td>0</td>\n      <td>NaN</td>\n      <td>3701</td>\n    </tr>\n  </tbody>\n</table>\n</div>"
     },
     "metadata": {},
     "output_type": "execute_result",
     "execution_count": 3
    }
   ],
   "source": [
    "df.loc[(df['Pclass']==3)&(df['Age']>60)&(df['Sex']=='male')]"
   ],
   "metadata": {
    "collapsed": false,
    "pycharm": {
     "name": "#%%\n",
     "is_executing": false
    }
   }
  },
  {
   "cell_type": "code",
   "execution_count": 4,
   "outputs": [],
   "source": [
    "fare=df.loc[(df['Pclass']==3)&(df['Age']>60)&(df['Sex']=='male'),'Fare'].mean()\n",
    "df['Fare'].fillna(fare,inplace=True)"
   ],
   "metadata": {
    "collapsed": false,
    "pycharm": {
     "name": "#%%\n",
     "is_executing": false
    }
   }
  },
  {
   "cell_type": "markdown",
   "source": [
    "Fare特征缺失值只有一个，故可以直接删除或者补充。  \n",
    "这里采用`相似特征替换`的方法补充缺失值。根据Pclass、Age、Sex重要特征进行查找，用其均值进行填充。\n",
    "\n"
   ],
   "metadata": {
    "collapsed": false
   }
  },
  {
   "cell_type": "code",
   "execution_count": 5,
   "outputs": [
    {
     "data": {
      "text/plain": "      Age Cabin Embarked  Fare                                       Name  \\\n61   38.0   B28      NaN  80.0                        Icard, Miss. Amelie   \n829  62.0   B28      NaN  80.0  Stone, Mrs. George Nelson (Martha Evelyn)   \n\n     Parch  PassengerId  Pclass     Sex  SibSp  Survived  Ticket  \n61       0           62       1  female      0       1.0  113572  \n829      0          830       1  female      0       1.0  113572  ",
      "text/html": "<div>\n<style scoped>\n    .dataframe tbody tr th:only-of-type {\n        vertical-align: middle;\n    }\n\n    .dataframe tbody tr th {\n        vertical-align: top;\n    }\n\n    .dataframe thead th {\n        text-align: right;\n    }\n</style>\n<table border=\"1\" class=\"dataframe\">\n  <thead>\n    <tr style=\"text-align: right;\">\n      <th></th>\n      <th>Age</th>\n      <th>Cabin</th>\n      <th>Embarked</th>\n      <th>Fare</th>\n      <th>Name</th>\n      <th>Parch</th>\n      <th>PassengerId</th>\n      <th>Pclass</th>\n      <th>Sex</th>\n      <th>SibSp</th>\n      <th>Survived</th>\n      <th>Ticket</th>\n    </tr>\n  </thead>\n  <tbody>\n    <tr>\n      <th>61</th>\n      <td>38.0</td>\n      <td>B28</td>\n      <td>NaN</td>\n      <td>80.0</td>\n      <td>Icard, Miss. Amelie</td>\n      <td>0</td>\n      <td>62</td>\n      <td>1</td>\n      <td>female</td>\n      <td>0</td>\n      <td>1.0</td>\n      <td>113572</td>\n    </tr>\n    <tr>\n      <th>829</th>\n      <td>62.0</td>\n      <td>B28</td>\n      <td>NaN</td>\n      <td>80.0</td>\n      <td>Stone, Mrs. George Nelson (Martha Evelyn)</td>\n      <td>0</td>\n      <td>830</td>\n      <td>1</td>\n      <td>female</td>\n      <td>0</td>\n      <td>1.0</td>\n      <td>113572</td>\n    </tr>\n  </tbody>\n</table>\n</div>"
     },
     "metadata": {},
     "output_type": "execute_result",
     "execution_count": 5
    }
   ],
   "source": [
    "df[df['Embarked'].isnull()]"
   ],
   "metadata": {
    "collapsed": false,
    "pycharm": {
     "name": "#%%\n",
     "is_executing": false
    }
   }
  },
  {
   "cell_type": "code",
   "execution_count": 6,
   "outputs": [
    {
     "name": "stderr",
     "text": [
      "C:\\Anaconda3\\lib\\site-packages\\seaborn\\axisgrid.py:230: UserWarning: The `size` paramter has been renamed to `height`; please update your code.\n  warnings.warn(msg, UserWarning)\n",
      "C:\\Anaconda3\\lib\\site-packages\\seaborn\\axisgrid.py:715: UserWarning: Using the countplot function without specifying `order` is likely to produce an incorrect plot.\n  warnings.warn(warning)\n"
     ],
     "output_type": "stream"
    },
    {
     "data": {
      "text/plain": "<Figure size 908.5x576 with 6 Axes>",
      "image/png": "[encoded data removed]"
     },
     "metadata": {
      "needs_background": "light"
     },
     "output_type": "display_data"
    }
   ],
   "source": [
    "%matplotlib inline\n",
    "grid = sns.FacetGrid(train_df, row='Sex', col='Pclass', hue='Survived', palette='seismic', size=4)\n",
    "grid.map(sns.countplot, 'Embarked', alpha=0.8)\n",
    "grid.add_legend()\n",
    "plt.show()"
   ],
   "metadata": {
    "collapsed": false,
    "pycharm": {
     "name": "#%%\n",
     "is_executing": false
    }
   }
  },
  {
   "cell_type": "code",
   "execution_count": 7,
   "outputs": [],
   "source": [
    "df['Embarked'].fillna('C',inplace=True)"
   ],
   "metadata": {
    "collapsed": false,
    "pycharm": {
     "name": "#%%\n",
     "is_executing": false
    }
   }
  },
  {
   "cell_type": "markdown",
   "source": [
    "Embarked特征补充，pclass1且为女性的情况下，Q港口几乎为0，而C港口最多，其次S港口。  \n",
    "采用出现最多的港口也就是`众数`C港口进行填补\n",
    "\n"
   ],
   "metadata": {
    "collapsed": false
   }
  },
  {
   "cell_type": "code",
   "execution_count": 8,
   "outputs": [
    {
     "data": {
      "text/plain": "0    1014\nC      94\nB      65\nD      46\nE      41\nA      22\nF      21\nG       5\nT       1\nName: Cabin, dtype: int64"
     },
     "metadata": {},
     "output_type": "execute_result",
     "execution_count": 8
    }
   ],
   "source": [
    "df['CabinCat']=pd.Categorical(df['Cabin'].fillna('0').apply(lambda x:x[0])).codes\n",
    "df['Cabin'].fillna('0').apply(lambda x:x[0]).value_counts()"
   ],
   "metadata": {
    "collapsed": false,
    "pycharm": {
     "name": "#%%\n",
     "is_executing": false
    }
   }
  },
  {
   "cell_type": "code",
   "execution_count": 9,
   "outputs": [
    {
     "data": {
      "text/plain": "<Figure size 1440x504 with 1 Axes>",
      "image/png": "[encoded data removed]"
     },
     "metadata": {
      "needs_background": "light"
     },
     "output_type": "display_data"
    }
   ],
   "source": [
    "fig,ax=plt.subplots(figsize=(20,7))\n",
    "sns.countplot(x='CabinCat',hue='Survived',data=df)\n",
    "plt.show()"
   ],
   "metadata": {
    "collapsed": false,
    "pycharm": {
     "name": "#%%\n",
     "is_executing": false
    }
   }
  },
  {
   "cell_type": "code",
   "execution_count": 10,
   "outputs": [],
   "source": [
    "def get_type_cabine(cabine):\n",
    "    # Use a regular expression to search for a title.\n",
    "    cabine_search = re.search('\\d+', cabine)\n",
    "    # If the title exists, extract and return it.\n",
    "    if cabine_search:\n",
    "        num = cabine_search.group(0)\n",
    "        if np.float64(num) % 2 == 0:\n",
    "            return '2'\n",
    "        else:\n",
    "            return '1'\n",
    "    return '0'\n",
    "df[\"Cabin\"] = df[\"Cabin\"].fillna(\" \")\n",
    "df[\"CabinType\"] = df[\"Cabin\"].apply(get_type_cabine)"
   ],
   "metadata": {
    "collapsed": false,
    "pycharm": {
     "name": "#%%\n",
     "is_executing": false
    }
   }
  },
  {
   "cell_type": "markdown",
   "source": [
    "Cain特征有70%的缺失值，较为严重，如果进行大量的填补会引入更多噪声。  \n",
    "这里将Cabin缺失值视为一种特殊的值来处理：  \n",
    "+ 根据Cabin首个字符衍生一个新的特征CabinCat。  \n",
    "+ 奇偶特征衍生出CabinType。\n",
    "\n"
   ],
   "metadata": {
    "collapsed": false
   }
  },
  {
   "cell_type": "markdown",
   "source": [
    "2.数据转换-衍生变量"
   ],
   "metadata": {
    "collapsed": false,
    "pycharm": {
     "name": "#%% md\n"
    }
   }
  },
  {
   "cell_type": "markdown",
   "source": [
    "Name特征衍生：  \n",
    "+ 根据姓氏生成surname特征\n",
    "+ 根据称呼生成Title特征  \n",
    "+ 根据称呼映射表生成TitleCat特征  \n",
    "+ 根据Name长度生成NameLength特征"
   ],
   "metadata": {
    "collapsed": false,
    "pycharm": {
     "name": "#%% md\n"
    }
   }
  },
  {
   "cell_type": "code",
   "execution_count": 11,
   "outputs": [],
   "source": [
    "df['surname']=df['Name'].apply(lambda x:x.split(',')[0].lower())\n",
    "df['Title']=df['Name'].apply(lambda x:re.search(' ([A-Za-z]+)\\.', x).group(1))"
   ],
   "metadata": {
    "collapsed": false,
    "pycharm": {
     "name": "#%%\n",
     "is_executing": false
    }
   }
  },
  {
   "cell_type": "code",
   "execution_count": 12,
   "outputs": [
    {
     "data": {
      "text/plain": "Mr          757\nMiss        260\nMrs         197\nMaster       61\nRev           8\nDr            8\nCol           4\nMs            2\nMlle          2\nMajor         2\nJonkheer      1\nLady          1\nCapt          1\nCountess      1\nSir           1\nMme           1\nDon           1\nDona          1\nName: Title, dtype: int64"
     },
     "metadata": {},
     "output_type": "execute_result",
     "execution_count": 12
    }
   ],
   "source": [
    "df['Title'].value_counts()"
   ],
   "metadata": {
    "collapsed": false,
    "pycharm": {
     "name": "#%%\n",
     "is_executing": false
    }
   }
  },
  {
   "cell_type": "markdown",
   "source": [
    "Title类别特别多，但是多数样本集中在少数几类中，所以将一些小类合并到大类中或者小类互相合并。"
   ],
   "metadata": {
    "collapsed": false,
    "pycharm": {
     "name": "#%% md\n"
    }
   }
  },
  {
   "cell_type": "code",
   "execution_count": 13,
   "outputs": [],
   "source": [
    "title_mapping = {\"Mr\": 1, \"Miss\": 2, \"Mrs\": 3, \"Master\": 4, \"Dr\": 5, \"Rev\": 6, \"Major\": 7, \"Col\": 7, \"Mlle\": 2, \"Mme\": 3,\"Don\": 9,\"Dona\": 9, \"Lady\": 10, \"Countess\": 10, \"Jonkheer\": 10, \"Sir\": 9, \"Capt\": 7, \"Ms\": 2}\n",
    "df['TitleCat']=df.loc[:,'Title'].map(title_mapping)\n",
    "df['NameLength']=df['Name'].apply(lambda x:len(x))"
   ],
   "metadata": {
    "collapsed": false,
    "pycharm": {
     "name": "#%%\n",
     "is_executing": false
    }
   }
  },
  {
   "cell_type": "markdown",
   "source": [
    "SibSp与Parch特征衍生：  \n",
    "+ 合并生成Familysize特征，并进行分箱处理。\n",
    "\n"
   ],
   "metadata": {
    "collapsed": false
   }
  },
  {
   "cell_type": "code",
   "execution_count": 14,
   "outputs": [
    {
     "data": {
      "text/plain": "<Figure size 1440x504 with 1 Axes>",
      "image/png": "[encoded data removed]"
     },
     "metadata": {
      "needs_background": "light"
     },
     "output_type": "display_data"
    }
   ],
   "source": [
    "df[\"FamilySize\"] = df[\"SibSp\"] + df[\"Parch\"] + 1\n",
    "df[\"FamilySize\"]=pd.cut(df[\"FamilySize\"],bins=[0,1,4,20],labels=[0,1,2])\n",
    "fig,ax=plt.subplots(figsize=(20,7))\n",
    "sns.countplot(x='FamilySize',data=df,ax=ax)\n",
    "plt.show()"
   ],
   "metadata": {
    "collapsed": false,
    "pycharm": {
     "name": "#%%\n",
     "is_executing": false
    }
   }
  },
  {
   "cell_type": "code",
   "execution_count": 15,
   "outputs": [],
   "source": [
    "# Embarked特征量化\n",
    "df['Embarked']=pd.Categorical(df['Embarked']).codes"
   ],
   "metadata": {
    "collapsed": false,
    "pycharm": {
     "name": "#%%\n",
     "is_executing": false
    }
   }
  },
  {
   "cell_type": "code",
   "execution_count": 16,
   "outputs": [],
   "source": [
    "# Sex特征独热编码\n",
    "df=pd.concat([df,pd.get_dummies(df['Sex'])],axis=1)"
   ],
   "metadata": {
    "collapsed": false,
    "pycharm": {
     "name": "#%%\n",
     "is_executing": false
    }
   }
  },
  {
   "cell_type": "markdown",
   "source": [
    "Age与Sex特征衍生：  \n",
    "+ person特征：child，female_adult， male_adult"
   ],
   "metadata": {
    "collapsed": false
   }
  },
  {
   "cell_type": "code",
   "execution_count": 17,
   "outputs": [],
   "source": [
    "child_age=18\n",
    "def get_person(passenger):\n",
    "    age,sex=passenger\n",
    "    if age<child_age:\n",
    "        return 'child'\n",
    "    elif sex=='female':\n",
    "        return 'female_adult'\n",
    "    else:\n",
    "        return 'male_adult'\n",
    "df=pd.concat([df,pd.DataFrame(df[['Age', 'Sex']].apply(get_person,axis=1),columns=['person'])],axis=1)\n",
    "df=pd.concat([df,pd.get_dummies(df['person'])],axis=1)"
   ],
   "metadata": {
    "collapsed": false,
    "pycharm": {
     "name": "#%%\n",
     "is_executing": false
    }
   }
  },
  {
   "cell_type": "markdown",
   "source": [
    "Ticket特征衍生：  \n",
    "+ 根据Ticket数目进行分箱操作生成Ticket_Members特征  \n",
    "+ 根据生存与性别得到Ticket_perishing_women与Ticket_surviving_men特征  \n",
    "+ 根据Ticket类别进行编码得到Ticket_Id特征"
   ],
   "metadata": {
    "collapsed": false,
    "pycharm": {
     "name": "#%% md\n"
    }
   }
  },
  {
   "cell_type": "code",
   "execution_count": 18,
   "outputs": [
    {
     "name": "stderr",
     "text": [
      "C:\\Anaconda3\\lib\\site-packages\\ipykernel_launcher.py:8: SettingWithCopyWarning: \nA value is trying to be set on a copy of a slice from a DataFrame\n\nSee the caveats in the documentation: http://pandas.pydata.org/pandas-docs/stable/indexing.html#indexing-view-versus-copy\n  \nC:\\Anaconda3\\lib\\site-packages\\ipykernel_launcher.py:14: SettingWithCopyWarning: \nA value is trying to be set on a copy of a slice from a DataFrame\n\nSee the caveats in the documentation: http://pandas.pydata.org/pandas-docs/stable/indexing.html#indexing-view-versus-copy\n  \nC:\\Anaconda3\\lib\\site-packages\\ipykernel_launcher.py:18: SettingWithCopyWarning: \nA value is trying to be set on a copy of a slice from a DataFrame\n\nSee the caveats in the documentation: http://pandas.pydata.org/pandas-docs/stable/indexing.html#indexing-view-versus-copy\n"
     ],
     "output_type": "stream"
    }
   ],
   "source": [
    "table_ticket = pd.DataFrame(df[\"Ticket\"].value_counts())\n",
    "table_ticket.rename(columns={'Ticket':'Ticket_Members'}, inplace=True)\n",
    "table_ticket['Ticket_perishing_women'] = df.Ticket[(df.female_adult == 1.0)\n",
    "                                    & (df.Survived == 0.0)\n",
    "                                    & ((df.Parch > 0) | (df.SibSp > 0))].value_counts()\n",
    "table_ticket['Ticket_perishing_women'] = table_ticket['Ticket_perishing_women'].fillna(0)\n",
    "table_ticket['Ticket_perishing_women'][table_ticket['Ticket_perishing_women'] > 0] = 1.0\n",
    "\n",
    "table_ticket['Ticket_surviving_men'] = df.Ticket[(df.male_adult == 1.0)\n",
    "                                    & (df.Survived == 1.0)\n",
    "                                    & ((df.Parch > 0) | (df.SibSp > 0))].value_counts()\n",
    "table_ticket['Ticket_surviving_men'] = table_ticket['Ticket_surviving_men'].fillna(0)\n",
    "table_ticket['Ticket_surviving_men'][table_ticket['Ticket_surviving_men'] > 0] = 1.0\n",
    "\n",
    "table_ticket[\"Ticket_Id\"]= pd.Categorical(table_ticket.index).codes\n",
    "# compress under 3 members into one code.\n",
    "table_ticket[\"Ticket_Id\"][table_ticket[\"Ticket_Members\"] < 3 ] = -1\n",
    "table_ticket[\"Ticket_Members\"] = pd.cut(table_ticket[\"Ticket_Members\"], bins=[0,1,4,20], labels=[0,1,2])\n",
    "\n",
    "df = pd.merge(df, table_ticket, left_on=\"Ticket\",right_index=True,how='left', sort=False)"
   ],
   "metadata": {
    "collapsed": false,
    "pycharm": {
     "name": "#%%\n",
     "is_executing": false
    }
   }
  },
  {
   "cell_type": "markdown",
   "source": [
    "surname特征衍生：  \n",
    "与Ticket处理方法相同\n"
   ],
   "metadata": {
    "collapsed": false
   }
  },
  {
   "cell_type": "code",
   "execution_count": 19,
   "outputs": [
    {
     "name": "stderr",
     "text": [
      "C:\\Anaconda3\\lib\\site-packages\\ipykernel_launcher.py:9: SettingWithCopyWarning: \nA value is trying to be set on a copy of a slice from a DataFrame\n\nSee the caveats in the documentation: http://pandas.pydata.org/pandas-docs/stable/indexing.html#indexing-view-versus-copy\n  if __name__ == '__main__':\nC:\\Anaconda3\\lib\\site-packages\\ipykernel_launcher.py:15: SettingWithCopyWarning: \nA value is trying to be set on a copy of a slice from a DataFrame\n\nSee the caveats in the documentation: http://pandas.pydata.org/pandas-docs/stable/indexing.html#indexing-view-versus-copy\n  from ipykernel import kernelapp as app\nC:\\Anaconda3\\lib\\site-packages\\ipykernel_launcher.py:19: SettingWithCopyWarning: \nA value is trying to be set on a copy of a slice from a DataFrame\n\nSee the caveats in the documentation: http://pandas.pydata.org/pandas-docs/stable/indexing.html#indexing-view-versus-copy\n"
     ],
     "output_type": "stream"
    }
   ],
   "source": [
    "table_surname = pd.DataFrame(df[\"surname\"].value_counts())\n",
    "table_surname.rename(columns={'surname':'Surname_Members'}, inplace=True)\n",
    "\n",
    "table_surname['Surname_perishing_women'] = df.surname[(df.female_adult == 1.0)\n",
    "                                    & (df.Survived == 0.0)\n",
    "                                    & ((df.Parch > 0) | (df.SibSp > 0))].value_counts()\n",
    "table_surname['Surname_perishing_women'] = table_surname['Surname_perishing_women'].fillna(0)\n",
    "table_surname['Surname_perishing_women'][table_surname['Surname_perishing_women'] > 0] = 1.0\n",
    "\n",
    "table_surname['Surname_surviving_men'] = df.surname[(df.male_adult == 1.0)\n",
    "                                    & (df.Survived == 1.0)\n",
    "                                    & ((df.Parch > 0) | (df.SibSp > 0))].value_counts()\n",
    "table_surname['Surname_surviving_men'] = table_surname['Surname_surviving_men'].fillna(0)\n",
    "table_surname['Surname_surviving_men'][table_surname['Surname_surviving_men'] > 0] = 1.0\n",
    "\n",
    "table_surname[\"Surname_Id\"]= pd.Categorical(table_surname.index).codes\n",
    "# compress under 3 members into one code.\n",
    "table_surname[\"Surname_Id\"][table_surname[\"Surname_Members\"] < 3 ] = -1\n",
    "\n",
    "table_surname[\"Surname_Members\"] = pd.cut(table_surname[\"Surname_Members\"], bins=[0,1,4,20], labels=[0,1,2])\n",
    "\n",
    "df = pd.merge(df, table_surname, left_on=\"surname\",right_index=True,how='left', sort=False)"
   ],
   "metadata": {
    "collapsed": false,
    "pycharm": {
     "name": "#%%\n",
     "is_executing": false
    }
   }
  },
  {
   "cell_type": "markdown",
   "source": [
    "Age缺失值填充：这里将利用其它特征进行预测填补Age，也就是拟合未知Age特征值。"
   ],
   "metadata": {
    "collapsed": false
   }
  },
  {
   "cell_type": "code",
   "execution_count": null,
   "outputs": [],
   "source": [
    "classers = ['Fare','Parch','Pclass','SibSp','TitleCat',\n",
    "'CabinCat','female','male', 'Embarked', 'FamilySize', 'NameLength','Ticket_Members','Ticket_Id']\n",
    "from sklearn.ensemble import ExtraTreesRegressor,RandomForestClassifier\n",
    "import numpy as np\n",
    "x_train=df[classers][df['Age'].notnull()]\n",
    "y_train=df['Age'][df['Age'].notnull()]\n",
    "x_test=df[classers][df['Age'].isnull()]\n",
    "\n",
    "etr=ExtraTreesRegressor(n_estimators=200)\n",
    "etr.fit(x_train,np.ravel(y_train))\n",
    "pred_age=etr.predict(x_test)\n",
    "df['Age'][df['Age'].isnull()]=pred_age"
   ],
   "metadata": {
    "collapsed": false,
    "pycharm": {
     "name": "#%%\n"
    }
   }
  },
  {
   "cell_type": "markdown",
   "source": [
    "## 特征选择"
   ],
   "metadata": {
    "collapsed": false
   }
  },
  {
   "cell_type": "code",
   "execution_count": 22,
   "outputs": [
    {
     "name": "stdout",
     "text": [
      "<class 'pandas.core.frame.DataFrame'>\nInt64Index: 1309 entries, 0 to 417\nData columns (total 33 columns):\nAge                        1309 non-null float64\nCabin                      1309 non-null object\nEmbarked                   1309 non-null int8\nFare                       1309 non-null float64\nName                       1309 non-null object\nParch                      1309 non-null int64\nPassengerId                1309 non-null int64\nPclass                     1309 non-null int64\nSex                        1309 non-null object\nSibSp                      1309 non-null int64\nSurvived                   891 non-null float64\nTicket                     1309 non-null object\nCabinCat                   1309 non-null int8\nCabinType                  1309 non-null object\nsurname                    1309 non-null object\nTitle                      1309 non-null object\nTitleCat                   1309 non-null int64\nNameLength                 1309 non-null int64\nFamilySize                 1309 non-null category\nfemale                     1309 non-null uint8\nmale                       1309 non-null uint8\nperson                     1309 non-null object\nchild                      1309 non-null uint8\nfemale_adult               1309 non-null uint8\nmale_adult                 1309 non-null uint8\nTicket_Members             1309 non-null category\nTicket_perishing_women     1309 non-null float64\nTicket_surviving_men       1309 non-null float64\nTicket_Id                  1309 non-null int16\nSurname_Members            1309 non-null category\nSurname_perishing_women    1309 non-null float64\nSurname_surviving_men      1309 non-null float64\nSurname_Id                 1309 non-null int16\ndtypes: category(3), float64(7), int16(2), int64(6), int8(2), object(8), uint8(5)\nmemory usage: 283.2+ KB\n"
     ],
     "output_type": "stream"
    }
   ],
   "source": [
    "df.info()"
   ],
   "metadata": {
    "collapsed": false,
    "pycharm": {
     "name": "#%%\n",
     "is_executing": false
    }
   }
  },
  {
   "cell_type": "code",
   "execution_count": 23,
   "outputs": [
    {
     "name": "stdout",
     "text": [
      "Features importance :\n68.85 female\n68.85 male\n64.90 male_adult\n53.23 female_adult\n26.22 TitleCat\n24.60 Pclass\n23.69 NameLength\n17.75 CabinCat\n17.00 Ticket_surviving_men\n16.28 CabinType\n14.21 Fare\n13.54 Ticket_perishing_women\n13.04 Surname_surviving_men\n10.36 Surname_perishing_women\n6.78 Embarked\n5.27 Ticket_Members\n3.59 child\n2.93 FamilySize\n1.83 Parch\n1.68 Age\n1.07 Ticket_Id\n0.73 Surname_Members\n0.53 SibSp\n"
     ],
     "output_type": "stream"
    }
   ],
   "source": [
    "features = ['female','male','Age','male_adult','female_adult', 'child','TitleCat', 'Pclass',\n",
    "'Ticket_Id','NameLength','CabinType','CabinCat', 'SibSp', 'Parch',\n",
    "'Fare','Embarked','Surname_Members','Ticket_Members','FamilySize',\n",
    "'Ticket_perishing_women','Ticket_surviving_men',\n",
    "'Surname_perishing_women','Surname_surviving_men']\n",
    "\n",
    "train=df[0:891].copy()\n",
    "test=df[891:].copy()\n",
    "\n",
    "selector=SelectKBest(f_classif,k=len(features))\n",
    "selector.fit(train[features],train['Survived'])\n",
    "scores = -np.log10(selector.pvalues_)\n",
    "indices = np.argsort(scores)[::-1]\n",
    "print(\"Features importance :\")\n",
    "for f in range(len(scores)):\n",
    "    print(\"%0.2f %s\" % (scores[indices[f]],features[indices[f]]))\n",
    "\n",
    "#可以设置分数阈值选择特征，这里使用全部特征\n",
    "# features=np.asarray(features)[scores>10].tolist()"
   ],
   "metadata": {
    "collapsed": false,
    "pycharm": {
     "name": "#%%\n",
     "is_executing": false
    }
   }
  },
  {
   "cell_type": "markdown",
   "source": [
    "## 模型训练\n",
    "\n"
   ],
   "metadata": {
    "collapsed": false
   }
  },
  {
   "cell_type": "code",
   "execution_count": 25,
   "outputs": [
    {
     "name": "stdout",
     "text": [
      "Accuracy: 89.113 (+/- 1.95) [RFC Cross Validation]\n",
      "Accuracy: 96.409            [RFC full test]\n1. feature 15 (9.501022) Fare\n2. feature 3 (9.126446) Age\n3. feature 10 (8.500409) NameLength\n4. feature 20 (7.565634) Ticket_perishing_women\n5. feature 22 (7.323488) Surname_perishing_women\n6. feature 7 (6.930558) TitleCat\n7. feature 2 (6.785721) male\n8. feature 1 (5.895008) female\n9. feature 8 (5.141321) Pclass\n10. feature 4 (4.784949) male_adult\n11. feature 21 (4.765418) Ticket_surviving_men\n12. feature 5 (3.607805) female_adult\n13. feature 18 (2.951380) Ticket_Members\n14. feature 12 (2.840628) CabinCat\n15. feature 19 (2.438454) FamilySize\n16. feature 23 (2.399362) Surname_surviving_men\n17. feature 17 (1.971574) Surname_Members\n18. feature 11 (1.894477) CabinType\n19. feature 16 (1.664470) Embarked\n20. feature 9 (1.338257) Ticket_Id\n21. feature 13 (1.189016) SibSp\n22. feature 6 (0.700342) child\n23. feature 14 (0.684261) Parch\n"
     ],
     "output_type": "stream"
    }
   ],
   "source": [
    "rfc=RandomForestClassifier(n_estimators=3000,min_samples_split=4,class_weight={0:0.745,1:0.255})\n",
    "kf=KFold(n_splits=3,shuffle=True,random_state=1)\n",
    "scores=cross_val_score(rfc,train[features],train['Survived'],cv=kf)\n",
    "print(\"Accuracy: %0.3f (+/- %0.2f) [%s]\" % (scores.mean()*100, scores.std()*100, 'RFC Cross Validation'))\n",
    "rfc.fit(train[features],train['Survived'])\n",
    "score=rfc.score(train[features],train['Survived'])\n",
    "print(\"Accuracy: %0.3f            [%s]\" % (score*100, 'RFC full test'))\n",
    "\n",
    "importances = rfc.feature_importances_\n",
    "indices = np.argsort(importances)[::-1]\n",
    "for f in range(len(features)):\n",
    "    print(\"%d. feature %d (%f) %s\" % (f + 1, indices[f]+1, importances[indices[f]]*100, features[indices[f]]))\n",
    "\n",
    "rfc.fit(train[features], train['Survived'])\n",
    "predictions = rfc.predict(test[features])"
   ],
   "metadata": {
    "collapsed": false,
    "pycharm": {
     "name": "#%%\n",
     "is_executing": false
    }
   }
  },
  {
   "cell_type": "markdown",
   "source": [
    "## 保存结果"
   ],
   "metadata": {
    "collapsed": false
   }
  },
  {
   "cell_type": "code",
   "execution_count": 26,
   "outputs": [],
   "source": [
    "PassengerId =np.array(test[\"PassengerId\"]).astype(int)\n",
    "my_prediction = pd.DataFrame({'PassengerId':PassengerId, 'Survived':predictions.astype('int')})\n",
    "my_prediction.to_csv(\"my_prediction.csv\", index=False)"
   ],
   "metadata": {
    "collapsed": false,
    "pycharm": {
     "name": "#%%\n",
     "is_executing": false
    }
   }
  }
 ],
 "metadata": {
  "kernelspec": {
   "display_name": "Python 3",
   "language": "python",
   "name": "python3"
  },
  "language_info": {
   "codemirror_mode": {
    "name": "ipython",
    "version": 2
   },
   "file_extension": ".py",
   "mimetype": "text/x-python",
   "name": "python",
   "nbconvert_exporter": "python",
   "pygments_lexer": "ipython2",
   "version": "2.7.6"
  },
  "pycharm": {
   "stem_cell": {
    "cell_type": "raw",
    "source": [],
    "metadata": {
     "collapsed": false
    }
   }
  }
 },
 "nbformat": 4,
 "nbformat_minor": 0
}