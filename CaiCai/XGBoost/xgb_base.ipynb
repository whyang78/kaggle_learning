{
 "cells": [
  {
   "cell_type": "markdown",
   "source": [
    "## XGBoost基础使用案例\n",
    "\n",
    "分别使用原生XGBoost与sklearn接口"
   ],
   "metadata": {
    "collapsed": false
   }
  },
  {
   "cell_type": "code",
   "execution_count": 1,
   "outputs": [
    {
     "name": "stderr",
     "text": [
      "C:\\Anaconda3\\lib\\site-packages\\dask\\config.py:168: YAMLLoadWarning: calling yaml.load() without Loader=... is deprecated, as the default Loader is unsafe. Please read https://msg.pyyaml.org/load for full details.\n  data = yaml.load(f.read()) or {}\nC:\\Anaconda3\\lib\\site-packages\\distributed\\config.py:20: YAMLLoadWarning: calling yaml.load() without Loader=... is deprecated, as the default Loader is unsafe. Please read https://msg.pyyaml.org/load for full details.\n  defaults = yaml.load(f)\n"
     ],
     "output_type": "stream"
    }
   ],
   "source": [
    "import numpy as np\n",
    "from xgboost import XGBRegressor \n",
    "from sklearn.datasets import load_boston\n",
    "from sklearn.model_selection import cross_val_score, train_test_split,GridSearchCV\n",
    "from sklearn.metrics import mean_squared_error as MSE\n",
    "import matplotlib.pyplot as plt\n",
    "import warnings \n",
    "warnings.filterwarnings('ignore')\n",
    "%matplotlib inline"
   ],
   "metadata": {
    "collapsed": false,
    "pycharm": {
     "name": "#%%\n",
     "is_executing": false
    }
   }
  },
  {
   "cell_type": "markdown",
   "source": [
    "### 1.XGBoost的sklearn接口使用\n",
    "\n",
    "以波斯顿房价预测为例"
   ],
   "metadata": {
    "collapsed": false
   }
  },
  {
   "cell_type": "code",
   "execution_count": 2,
   "outputs": [],
   "source": [
    "data = load_boston()\n",
    "#波士顿数据集非常简单，但它所涉及到的问题却很多"
   ],
   "metadata": {
    "collapsed": false,
    "pycharm": {
     "name": "#%%\n",
     "is_executing": false
    }
   }
  },
  {
   "cell_type": "code",
   "execution_count": 3,
   "outputs": [],
   "source": [
    "X = data.data\n",
    "y = data.target"
   ],
   "metadata": {
    "collapsed": false,
    "pycharm": {
     "name": "#%%\n",
     "is_executing": false
    }
   }
  },
  {
   "cell_type": "code",
   "execution_count": 4,
   "outputs": [
    {
     "data": {
      "text/plain": "(506, 13)"
     },
     "metadata": {},
     "output_type": "execute_result",
     "execution_count": 4
    }
   ],
   "source": [
    "X.shape"
   ],
   "metadata": {
    "collapsed": false,
    "pycharm": {
     "name": "#%%\n",
     "is_executing": false
    }
   }
  },
  {
   "cell_type": "code",
   "execution_count": 5,
   "outputs": [
    {
     "data": {
      "text/plain": "(506,)"
     },
     "metadata": {},
     "output_type": "execute_result",
     "execution_count": 5
    }
   ],
   "source": [
    "y.shape\n"
   ],
   "metadata": {
    "collapsed": false,
    "pycharm": {
     "name": "#%%\n",
     "is_executing": false
    }
   }
  },
  {
   "cell_type": "code",
   "execution_count": 6,
   "outputs": [],
   "source": [
    "Xtrain,Xtest,Ytrain,Ytest = train_test_split(X,y,test_size=0.3,random_state=420)\n"
   ],
   "metadata": {
    "collapsed": false,
    "pycharm": {
     "name": "#%%\n",
     "is_executing": false
    }
   }
  },
  {
   "cell_type": "code",
   "execution_count": 7,
   "outputs": [
    {
     "name": "stdout",
     "text": [
      "[17:40:28] WARNING: D:\\Build\\xgboost\\xgboost-1.1.0.git\\python-package\\build\\temp.win-amd64-3.7\\Release\\xgboost\\src\\learner.cc:480: \nParameters: { silent } might not be used.\n\n  This may not be accurate due to some parameters are only used in language bindings but\n  passed down to XGBoost core.  Or some parameters are not used but slip through this\n  verification. Please open an issue if you find above cases.\n\n\n[17:40:29] WARNING: D:\\Build\\xgboost\\xgboost-1.1.0.git\\python-package\\build\\temp.win-amd64-3.7\\Release\\xgboost\\src\\learner.cc:480: \nParameters: { silent } might not be used.\n\n  This may not be accurate due to some parameters are only used in language bindings but\n  passed down to XGBoost core.  Or some parameters are not used but slip through this\n  verification. Please open an issue if you find above cases.\n\n\n[17:40:29] WARNING: D:\\Build\\xgboost\\xgboost-1.1.0.git\\python-package\\build\\temp.win-amd64-3.7\\Release\\xgboost\\src\\learner.cc:480: \nParameters: { silent } might not be used.\n\n  This may not be accurate due to some parameters are only used in language bindings but\n  passed down to XGBoost core.  Or some parameters are not used but slip through this\n  verification. Please open an issue if you find above cases.\n\n\n[17:40:29] WARNING: D:\\Build\\xgboost\\xgboost-1.1.0.git\\python-package\\build\\temp.win-amd64-3.7\\Release\\xgboost\\src\\learner.cc:480: \nParameters: { silent } might not be used.\n\n  This may not be accurate due to some parameters are only used in language bindings but\n  passed down to XGBoost core.  Or some parameters are not used but slip through this\n  verification. Please open an issue if you find above cases.\n\n\n[17:40:29] WARNING: D:\\Build\\xgboost\\xgboost-1.1.0.git\\python-package\\build\\temp.win-amd64-3.7\\Release\\xgboost\\src\\learner.cc:480: \nParameters: { silent } might not be used.\n\n  This may not be accurate due to some parameters are only used in language bindings but\n  passed down to XGBoost core.  Or some parameters are not used but slip through this\n  verification. Please open an issue if you find above cases.\n\n\n"
     ],
     "output_type": "stream"
    },
    {
     "data": {
      "text/plain": "18.63373361656663"
     },
     "metadata": {},
     "output_type": "execute_result",
     "execution_count": 7
    }
   ],
   "source": [
    "#如果开启参数slient：在数据巨大，预料到算法运行会非常缓慢的时候可以使用这个参数来监控模型的训练进度\n",
    "reg = XGBRegressor(n_estimators=10,silent=True)#xgboost库silent=True不会打印训练进程，只返回运行结果，默认是False会打印训练进程\n",
    "#sklearn库中的xgbsoost的默认为silent=True不会打印训练进程，想打印需要手动设置为False\n",
    "-1*cross_val_score(reg,Xtrain,Ytrain,cv=5,scoring='neg_mean_squared_error').mean()#-92.67865836936579"
   ],
   "metadata": {
    "collapsed": false,
    "pycharm": {
     "name": "#%%\n",
     "is_executing": false
    }
   }
  },
  {
   "cell_type": "code",
   "execution_count": 8,
   "outputs": [
    {
     "name": "stdout",
     "text": [
      "[17:40:29] WARNING: D:\\Build\\xgboost\\xgboost-1.1.0.git\\python-package\\build\\temp.win-amd64-3.7\\Release\\xgboost\\src\\learner.cc:480: \nParameters: { silent } might not be used.\n\n  This may not be accurate due to some parameters are only used in language bindings but\n  passed down to XGBoost core.  Or some parameters are not used but slip through this\n  verification. Please open an issue if you find above cases.\n\n\n[17:40:29] WARNING: D:\\Build\\xgboost\\xgboost-1.1.0.git\\python-package\\build\\temp.win-amd64-3.7\\Release\\xgboost\\src\\learner.cc:480: \nParameters: { silent } might not be used.\n\n  This may not be accurate due to some parameters are only used in language bindings but\n  passed down to XGBoost core.  Or some parameters are not used but slip through this\n  verification. Please open an issue if you find above cases.\n\n\n[17:40:29] WARNING: D:\\Build\\xgboost\\xgboost-1.1.0.git\\python-package\\build\\temp.win-amd64-3.7\\Release\\xgboost\\src\\learner.cc:480: \nParameters: { silent } might not be used.\n\n  This may not be accurate due to some parameters are only used in language bindings but\n  passed down to XGBoost core.  Or some parameters are not used but slip through this\n  verification. Please open an issue if you find above cases.\n\n\n[17:40:29] WARNING: D:\\Build\\xgboost\\xgboost-1.1.0.git\\python-package\\build\\temp.win-amd64-3.7\\Release\\xgboost\\src\\learner.cc:480: \nParameters: { silent } might not be used.\n\n  This may not be accurate due to some parameters are only used in language bindings but\n  passed down to XGBoost core.  Or some parameters are not used but slip through this\n  verification. Please open an issue if you find above cases.\n\n\n[17:40:29] WARNING: D:\\Build\\xgboost\\xgboost-1.1.0.git\\python-package\\build\\temp.win-amd64-3.7\\Release\\xgboost\\src\\learner.cc:480: \nParameters: { silent } might not be used.\n\n  This may not be accurate due to some parameters are only used in language bindings but\n  passed down to XGBoost core.  Or some parameters are not used but slip through this\n  verification. Please open an issue if you find above cases.\n\n",
      "\n[17:40:29] WARNING: D:\\Build\\xgboost\\xgboost-1.1.0.git\\python-package\\build\\temp.win-amd64-3.7\\Release\\xgboost\\src\\learner.cc:480: \nParameters: { silent } might not be used.\n\n  This may not be accurate due to some parameters are only used in language bindings but\n  passed down to XGBoost core.  Or some parameters are not used but slip through this\n  verification. Please open an issue if you find above cases.\n\n\n[17:40:29] WARNING: D:\\Build\\xgboost\\xgboost-1.1.0.git\\python-package\\build\\temp.win-amd64-3.7\\Release\\xgboost\\src\\learner.cc:480: \nParameters: { silent } might not be used.\n\n  This may not be accurate due to some parameters are only used in language bindings but\n  passed down to XGBoost core.  Or some parameters are not used but slip through this\n  verification. Please open an issue if you find above cases.\n\n\n[17:40:29] WARNING: D:\\Build\\xgboost\\xgboost-1.1.0.git\\python-package\\build\\temp.win-amd64-3.7\\Release\\xgboost\\src\\learner.cc:480: \nParameters: { silent } might not be used.\n\n  This may not be accurate due to some parameters are only used in language bindings but\n  passed down to XGBoost core.  Or some parameters are not used but slip through this\n  verification. Please open an issue if you find above cases.\n\n\n[17:40:29] WARNING: D:\\Build\\xgboost\\xgboost-1.1.0.git\\python-package\\build\\temp.win-amd64-3.7\\Release\\xgboost\\src\\learner.cc:480: \nParameters: { silent } might not be used.\n\n  This may not be accurate due to some parameters are only used in language bindings but\n  passed down to XGBoost core.  Or some parameters are not used but slip through this\n  verification. Please open an issue if you find above cases.\n\n\n[17:40:29] WARNING: D:\\Build\\xgboost\\xgboost-1.1.0.git\\python-package\\build\\temp.win-amd64-3.7\\Release\\xgboost\\src\\learner.cc:480: \nParameters: { silent } might not be used.\n\n  This may not be accurate due to some parameters are only used in language bindings but\n  passed down to XGBoost core.  Or some parameters are not used but slip through this\n  verification. Please open an issue if you find above cases.\n\n\n[17:40:29] WARNING: D:\\Build\\xgboost\\xgboost-1.1.0.git\\python-package\\build\\temp.win-amd64-3.7\\Release\\xgboost\\src\\learner.cc:480: \nParameters: { silent } might not be used.\n\n  This may not be accurate due to some parameters are only used in language bindings but\n  passed down to XGBoost core.  Or some parameters are not used but slip through this\n  verification. Please open an issue if you find above cases.\n\n\n[17:40:29] WARNING: D:\\Build\\xgboost\\xgboost-1.1.0.git\\python-package\\build\\temp.win-amd64-3.7\\Release\\xgboost\\src\\learner.cc:480: \nParameters: { silent } might not be used.\n\n  This may not be accurate due to some parameters are only used in language bindings but\n  passed down to XGBoost core.  Or some parameters are not used but slip through this\n  verification. Please open an issue if you find above cases.\n\n\n[17:40:29] WARNING: D:\\Build\\xgboost\\xgboost-1.1.0.git\\python-package\\build\\temp.win-amd64-3.7\\Release\\xgboost\\src\\learner.cc:480: \nParameters: { silent } might not be used.\n\n  This may not be accurate due to some parameters are only used in language bindings but\n  passed down to XGBoost core.  Or some parameters are not used but slip through this\n  verification. Please open an issue if you find above cases.\n\n\n[17:40:29] WARNING: D:\\Build\\xgboost\\xgboost-1.1.0.git\\python-package\\build\\temp.win-amd64-3.7\\Release\\xgboost\\src\\learner.cc:480: \nParameters: { silent } might not be used.\n\n  This may not be accurate due to some parameters are only used in language bindings but\n  passed down to XGBoost core.  Or some parameters are not used but slip through this\n  verification. Please open an issue if you find above cases.\n\n\n[17:40:29] WARNING: D:\\Build\\xgboost\\xgboost-1.1.0.git\\python-package\\build\\temp.win-amd64-3.7\\Release\\xgboost\\src\\learner.cc:480: \nParameters: { silent } might not be used.\n\n  This may not be accurate due to some parameters are only used in language bindings but\n  passed down to XGBoost core.  Or some parameters are not used but slip through this\n  verification. Please open an issue if you find above cases.\n\n\n[17:40:29] WARNING: D:\\Build\\xgboost\\xgboost-1.1.0.git\\python-package\\build\\temp.win-amd64-3.7\\Release\\xgboost\\src\\learner.cc:480: \nParameters: { silent } might not be used.\n\n  This may not be accurate due to some parameters are only used in language bindings but\n  passed down to XGBoost core.  Or some parameters are not used but slip through this\n  verification. Please open an issue if you find above cases.\n\n",
      "\n[17:40:29] WARNING: D:\\Build\\xgboost\\xgboost-1.1.0.git\\python-package\\build\\temp.win-amd64-3.7\\Release\\xgboost\\src\\learner.cc:480: \nParameters: { silent } might not be used.\n\n  This may not be accurate due to some parameters are only used in language bindings but\n  passed down to XGBoost core.  Or some parameters are not used but slip through this\n  verification. Please open an issue if you find above cases.\n\n\n[17:40:29] WARNING: D:\\Build\\xgboost\\xgboost-1.1.0.git\\python-package\\build\\temp.win-amd64-3.7\\Release\\xgboost\\src\\learner.cc:480: \nParameters: { silent } might not be used.\n\n  This may not be accurate due to some parameters are only used in language bindings but\n  passed down to XGBoost core.  Or some parameters are not used but slip through this\n  verification. Please open an issue if you find above cases.\n\n\n[17:40:29] WARNING: D:\\Build\\xgboost\\xgboost-1.1.0.git\\python-package\\build\\temp.win-amd64-3.7\\Release\\xgboost\\src\\learner.cc:480: \nParameters: { silent } might not be used.\n\n  This may not be accurate due to some parameters are only used in language bindings but\n  passed down to XGBoost core.  Or some parameters are not used but slip through this\n  verification. Please open an issue if you find above cases.\n\n\n[17:40:29] WARNING: D:\\Build\\xgboost\\xgboost-1.1.0.git\\python-package\\build\\temp.win-amd64-3.7\\Release\\xgboost\\src\\learner.cc:480: \nParameters: { silent } might not be used.\n\n  This may not be accurate due to some parameters are only used in language bindings but\n  passed down to XGBoost core.  Or some parameters are not used but slip through this\n  verification. Please open an issue if you find above cases.\n\n",
      "\n[17:40:29] WARNING: D:\\Build\\xgboost\\xgboost-1.1.0.git\\python-package\\build\\temp.win-amd64-3.7\\Release\\xgboost\\src\\learner.cc:480: \nParameters: { silent } might not be used.\n\n  This may not be accurate due to some parameters are only used in language bindings but\n  passed down to XGBoost core.  Or some parameters are not used but slip through this\n  verification. Please open an issue if you find above cases.\n\n\n[17:40:29] WARNING: D:\\Build\\xgboost\\xgboost-1.1.0.git\\python-package\\build\\temp.win-amd64-3.7\\Release\\xgboost\\src\\learner.cc:480: \nParameters: { silent } might not be used.\n\n  This may not be accurate due to some parameters are only used in language bindings but\n  passed down to XGBoost core.  Or some parameters are not used but slip through this\n  verification. Please open an issue if you find above cases.\n\n\n[17:40:29] WARNING: D:\\Build\\xgboost\\xgboost-1.1.0.git\\python-package\\build\\temp.win-amd64-3.7\\Release\\xgboost\\src\\learner.cc:480: \nParameters: { silent } might not be used.\n\n  This may not be accurate due to some parameters are only used in language bindings but\n  passed down to XGBoost core.  Or some parameters are not used but slip through this\n  verification. Please open an issue if you find above cases.\n\n\n[17:40:29] WARNING: D:\\Build\\xgboost\\xgboost-1.1.0.git\\python-package\\build\\temp.win-amd64-3.7\\Release\\xgboost\\src\\learner.cc:480: \nParameters: { silent } might not be used.\n\n  This may not be accurate due to some parameters are only used in language bindings but\n  passed down to XGBoost core.  Or some parameters are not used but slip through this\n  verification. Please open an issue if you find above cases.\n\n\n[17:40:29] WARNING: D:\\Build\\xgboost\\xgboost-1.1.0.git\\python-package\\build\\temp.win-amd64-3.7\\Release\\xgboost\\src\\learner.cc:480: \nParameters: { silent } might not be used.\n\n  This may not be accurate due to some parameters are only used in language bindings but\n  passed down to XGBoost core.  Or some parameters are not used but slip through this\n  verification. Please open an issue if you find above cases.\n\n\n[17:40:29] WARNING: D:\\Build\\xgboost\\xgboost-1.1.0.git\\python-package\\build\\temp.win-amd64-3.7\\Release\\xgboost\\src\\learner.cc:480: \nParameters: { silent } might not be used.\n\n  This may not be accurate due to some parameters are only used in language bindings but\n  passed down to XGBoost core.  Or some parameters are not used but slip through this\n  verification. Please open an issue if you find above cases.\n\n",
      "\n[17:40:29] WARNING: D:\\Build\\xgboost\\xgboost-1.1.0.git\\python-package\\build\\temp.win-amd64-3.7\\Release\\xgboost\\src\\learner.cc:480: \nParameters: { silent } might not be used.\n\n  This may not be accurate due to some parameters are only used in language bindings but\n  passed down to XGBoost core.  Or some parameters are not used but slip through this\n  verification. Please open an issue if you find above cases.\n\n\n[17:40:29] WARNING: D:\\Build\\xgboost\\xgboost-1.1.0.git\\python-package\\build\\temp.win-amd64-3.7\\Release\\xgboost\\src\\learner.cc:480: \nParameters: { silent } might not be used.\n\n  This may not be accurate due to some parameters are only used in language bindings but\n  passed down to XGBoost core.  Or some parameters are not used but slip through this\n  verification. Please open an issue if you find above cases.\n\n\n[17:40:29] WARNING: D:\\Build\\xgboost\\xgboost-1.1.0.git\\python-package\\build\\temp.win-amd64-3.7\\Release\\xgboost\\src\\learner.cc:480: \nParameters: { silent } might not be used.\n\n  This may not be accurate due to some parameters are only used in language bindings but\n  passed down to XGBoost core.  Or some parameters are not used but slip through this\n  verification. Please open an issue if you find above cases.\n\n",
      "\n[17:40:29] WARNING: D:\\Build\\xgboost\\xgboost-1.1.0.git\\python-package\\build\\temp.win-amd64-3.7\\Release\\xgboost\\src\\learner.cc:480: \nParameters: { silent } might not be used.\n\n  This may not be accurate due to some parameters are only used in language bindings but\n  passed down to XGBoost core.  Or some parameters are not used but slip through this\n  verification. Please open an issue if you find above cases.\n\n\n[17:40:29] WARNING: D:\\Build\\xgboost\\xgboost-1.1.0.git\\python-package\\build\\temp.win-amd64-3.7\\Release\\xgboost\\src\\learner.cc:480: \nParameters: { silent } might not be used.\n\n  This may not be accurate due to some parameters are only used in language bindings but\n  passed down to XGBoost core.  Or some parameters are not used but slip through this\n  verification. Please open an issue if you find above cases.\n\n\n[17:40:29] WARNING: D:\\Build\\xgboost\\xgboost-1.1.0.git\\python-package\\build\\temp.win-amd64-3.7\\Release\\xgboost\\src\\learner.cc:480: \nParameters: { silent } might not be used.\n\n  This may not be accurate due to some parameters are only used in language bindings but\n  passed down to XGBoost core.  Or some parameters are not used but slip through this\n  verification. Please open an issue if you find above cases.\n\n\n[17:40:29] WARNING: D:\\Build\\xgboost\\xgboost-1.1.0.git\\python-package\\build\\temp.win-amd64-3.7\\Release\\xgboost\\src\\learner.cc:480: \nParameters: { silent } might not be used.\n\n  This may not be accurate due to some parameters are only used in language bindings but\n  passed down to XGBoost core.  Or some parameters are not used but slip through this\n  verification. Please open an issue if you find above cases.\n\n\n[17:40:29] WARNING: D:\\Build\\xgboost\\xgboost-1.1.0.git\\python-package\\build\\temp.win-amd64-3.7\\Release\\xgboost\\src\\learner.cc:480: \nParameters: { silent } might not be used.\n\n  This may not be accurate due to some parameters are only used in language bindings but\n  passed down to XGBoost core.  Or some parameters are not used but slip through this\n  verification. Please open an issue if you find above cases.\n\n\n[17:40:29] WARNING: D:\\Build\\xgboost\\xgboost-1.1.0.git\\python-package\\build\\temp.win-amd64-3.7\\Release\\xgboost\\src\\learner.cc:480: \nParameters: { silent } might not be used.\n\n  This may not be accurate due to some parameters are only used in language bindings but\n  passed down to XGBoost core.  Or some parameters are not used but slip through this\n  verification. Please open an issue if you find above cases.\n\n\n[17:40:29] WARNING: D:\\Build\\xgboost\\xgboost-1.1.0.git\\python-package\\build\\temp.win-amd64-3.7\\Release\\xgboost\\src\\learner.cc:480: \nParameters: { silent } might not be used.\n\n  This may not be accurate due to some parameters are only used in language bindings but\n  passed down to XGBoost core.  Or some parameters are not used but slip through this\n  verification. Please open an issue if you find above cases.\n\n\n[17:40:29] WARNING: D:\\Build\\xgboost\\xgboost-1.1.0.git\\python-package\\build\\temp.win-amd64-3.7\\Release\\xgboost\\src\\learner.cc:480: \nParameters: { silent } might not be used.\n\n  This may not be accurate due to some parameters are only used in language bindings but\n  passed down to XGBoost core.  Or some parameters are not used but slip through this\n  verification. Please open an issue if you find above cases.\n\n\n[17:40:29] WARNING: D:\\Build\\xgboost\\xgboost-1.1.0.git\\python-package\\build\\temp.win-amd64-3.7\\Release\\xgboost\\src\\learner.cc:480: \nParameters: { silent } might not be used.\n\n  This may not be accurate due to some parameters are only used in language bindings but\n  passed down to XGBoost core.  Or some parameters are not used but slip through this\n  verification. Please open an issue if you find above cases.\n\n\n[17:40:29] WARNING: D:\\Build\\xgboost\\xgboost-1.1.0.git\\python-package\\build\\temp.win-amd64-3.7\\Release\\xgboost\\src\\learner.cc:480: \nParameters: { silent } might not be used.\n\n  This may not be accurate due to some parameters are only used in language bindings but\n  passed down to XGBoost core.  Or some parameters are not used but slip through this\n  verification. Please open an issue if you find above cases.\n\n\n[17:40:29] WARNING: D:\\Build\\xgboost\\xgboost-1.1.0.git\\python-package\\build\\temp.win-amd64-3.7\\Release\\xgboost\\src\\learner.cc:480: \nParameters: { silent } might not be used.\n\n  This may not be accurate due to some parameters are only used in language bindings but\n  passed down to XGBoost core.  Or some parameters are not used but slip through this\n  verification. Please open an issue if you find above cases.\n\n",
      "\n[17:40:29] WARNING: D:\\Build\\xgboost\\xgboost-1.1.0.git\\python-package\\build\\temp.win-amd64-3.7\\Release\\xgboost\\src\\learner.cc:480: \nParameters: { silent } might not be used.\n\n  This may not be accurate due to some parameters are only used in language bindings but\n  passed down to XGBoost core.  Or some parameters are not used but slip through this\n  verification. Please open an issue if you find above cases.\n\n\n[17:40:29] WARNING: D:\\Build\\xgboost\\xgboost-1.1.0.git\\python-package\\build\\temp.win-amd64-3.7\\Release\\xgboost\\src\\learner.cc:480: \nParameters: { silent } might not be used.\n\n  This may not be accurate due to some parameters are only used in language bindings but\n  passed down to XGBoost core.  Or some parameters are not used but slip through this\n  verification. Please open an issue if you find above cases.\n\n\n[17:40:29] WARNING: D:\\Build\\xgboost\\xgboost-1.1.0.git\\python-package\\build\\temp.win-amd64-3.7\\Release\\xgboost\\src\\learner.cc:480: \nParameters: { silent } might not be used.\n\n  This may not be accurate due to some parameters are only used in language bindings but\n  passed down to XGBoost core.  Or some parameters are not used but slip through this\n  verification. Please open an issue if you find above cases.\n\n",
      "\n[17:40:29] WARNING: D:\\Build\\xgboost\\xgboost-1.1.0.git\\python-package\\build\\temp.win-amd64-3.7\\Release\\xgboost\\src\\learner.cc:480: \nParameters: { silent } might not be used.\n\n  This may not be accurate due to some parameters are only used in language bindings but\n  passed down to XGBoost core.  Or some parameters are not used but slip through this\n  verification. Please open an issue if you find above cases.\n\n\n[17:40:29] WARNING: D:\\Build\\xgboost\\xgboost-1.1.0.git\\python-package\\build\\temp.win-amd64-3.7\\Release\\xgboost\\src\\learner.cc:480: \nParameters: { silent } might not be used.\n\n  This may not be accurate due to some parameters are only used in language bindings but\n  passed down to XGBoost core.  Or some parameters are not used but slip through this\n  verification. Please open an issue if you find above cases.\n\n\n[17:40:29] WARNING: D:\\Build\\xgboost\\xgboost-1.1.0.git\\python-package\\build\\temp.win-amd64-3.7\\Release\\xgboost\\src\\learner.cc:480: \nParameters: { silent } might not be used.\n\n  This may not be accurate due to some parameters are only used in language bindings but\n  passed down to XGBoost core.  Or some parameters are not used but slip through this\n  verification. Please open an issue if you find above cases.\n\n\n"
     ],
     "output_type": "stream"
    },
    {
     "data": {
      "text/plain": "-29.33950290131674"
     },
     "metadata": {},
     "output_type": "execute_result",
     "execution_count": 8
    }
   ],
   "source": [
    "# sklearn 接口类型的可以使用网格搜索进行参数寻优\n",
    "params={'n_estimators':[10,15,20],'learning_rate':[0.01,0.05,0.1]}\n",
    "gs=GridSearchCV(reg,params,scoring='neg_mean_squared_error',cv=5)\n",
    "gs.fit(Xtrain,Ytrain)\n",
    "gs.best_score_"
   ],
   "metadata": {
    "collapsed": false,
    "pycharm": {
     "name": "#%%\n",
     "is_executing": false
    }
   }
  },
  {
   "cell_type": "code",
   "execution_count": 9,
   "outputs": [
    {
     "data": {
      "text/plain": "{'learning_rate': 0.1, 'n_estimators': 20}"
     },
     "metadata": {},
     "output_type": "execute_result",
     "execution_count": 9
    }
   ],
   "source": [
    "gs.best_params_"
   ],
   "metadata": {
    "collapsed": false,
    "pycharm": {
     "name": "#%%\n",
     "is_executing": false
    }
   }
  },
  {
   "cell_type": "markdown",
   "source": [
    "### 2.原生XGBoost"
   ],
   "metadata": {
    "collapsed": false
   }
  },
  {
   "cell_type": "code",
   "execution_count": 10,
   "outputs": [],
   "source": [
    "import xgboost as xgb\n",
    "from xgboost import plot_importance\n",
    "from sklearn.metrics import mean_squared_error"
   ],
   "metadata": {
    "collapsed": false,
    "pycharm": {
     "name": "#%%\n",
     "is_executing": false
    }
   }
  },
  {
   "cell_type": "markdown",
   "source": [
    "（1）回归案例\n",
    "\n",
    "波斯顿房价预测"
   ],
   "metadata": {
    "collapsed": false
   }
  },
  {
   "cell_type": "code",
   "execution_count": 11,
   "outputs": [
    {
     "name": "stdout",
     "text": [
      "[17:40:29] WARNING: D:\\Build\\xgboost\\xgboost-1.1.0.git\\python-package\\build\\temp.win-amd64-3.7\\Release\\xgboost\\src\\learner.cc:480: \nParameters: { lamada, max_child_weight, silent } might not be used.\n\n  This may not be accurate due to some parameters are only used in language bindings but\n  passed down to XGBoost core.  Or some parameters are not used but slip through this\n  verification. Please open an issue if you find above cases.\n\n\n[0]\ttrain-rmse:21.60119\tval-rmse:21.82988\n",
      "Multiple eval metrics have been passed: 'val-rmse' will be used for early stopping.\n\n",
      "Will train until val-rmse hasn't improved in 10 rounds.\n",
      "[1]\ttrain-rmse:19.60818\tval-rmse:19.85782\n",
      "[2]\ttrain-rmse:17.81069\tval-rmse:18.06638\n",
      "[3]\ttrain-rmse:16.14939\tval-rmse:16.41377\n",
      "[4]\ttrain-rmse:14.67223\tval-rmse:14.91705\n",
      "[5]\ttrain-rmse:13.32242\tval-rmse:13.56137\n",
      "[6]\ttrain-rmse:12.12406\tval-rmse:12.39654\n",
      "[7]\ttrain-rmse:11.05886\tval-rmse:11.33093\n",
      "[8]\ttrain-rmse:10.09247\tval-rmse:10.38903\n",
      "[9]\ttrain-rmse:9.21344\tval-rmse:9.51035\n",
      "[10]\ttrain-rmse:8.43415\tval-rmse:8.78670\n",
      "[11]\ttrain-rmse:7.72702\tval-rmse:8.09498\n",
      "[12]\ttrain-rmse:7.08267\tval-rmse:7.45591\n",
      "[13]\ttrain-rmse:6.50678\tval-rmse:6.93851\n",
      "[14]\ttrain-rmse:6.01783\tval-rmse:6.44929\n",
      "[15]\ttrain-rmse:5.54036\tval-rmse:6.04311\n",
      "[16]\ttrain-rmse:5.12049\tval-rmse:5.64429\n",
      "[17]\ttrain-rmse:4.72968\tval-rmse:5.29305\n",
      "[18]\ttrain-rmse:4.38519\tval-rmse:4.97217\n",
      "[19]\ttrain-rmse:4.08523\tval-rmse:4.68662\n",
      "[20]\ttrain-rmse:3.79390\tval-rmse:4.46836\n",
      "[21]\ttrain-rmse:3.53868\tval-rmse:4.25891\n",
      "[22]\ttrain-rmse:3.31935\tval-rmse:4.07493\n",
      "[23]\ttrain-rmse:3.10296\tval-rmse:3.88850\n",
      "[24]\ttrain-rmse:2.91163\tval-rmse:3.76951\n",
      "[25]\ttrain-rmse:2.74442\tval-rmse:3.64893\n",
      "[26]\ttrain-rmse:2.60706\tval-rmse:3.54812\n",
      "[27]\ttrain-rmse:2.46146\tval-rmse:3.45403\n",
      "[28]\ttrain-rmse:2.35661\tval-rmse:3.37846\n",
      "[29]\ttrain-rmse:2.24546\tval-rmse:3.32550\n",
      "[30]\ttrain-rmse:2.15486\tval-rmse:3.26811\n",
      "[31]\ttrain-rmse:2.07290\tval-rmse:3.20731\n",
      "[32]\ttrain-rmse:1.99752\tval-rmse:3.16116\n",
      "[33]\ttrain-rmse:1.93051\tval-rmse:3.12507\n",
      "[34]\ttrain-rmse:1.87142\tval-rmse:3.09925\n",
      "[35]\ttrain-rmse:1.80552\tval-rmse:3.05704\n",
      "[36]\ttrain-rmse:1.76241\tval-rmse:3.01979\n",
      "[37]\ttrain-rmse:1.70640\tval-rmse:2.99760\n",
      "[38]\ttrain-rmse:1.64878\tval-rmse:2.95294\n",
      "[39]\ttrain-rmse:1.59777\tval-rmse:2.92489\n",
      "[40]\ttrain-rmse:1.56673\tval-rmse:2.89959\n",
      "[41]\ttrain-rmse:1.52384\tval-rmse:2.88614\n",
      "[42]\ttrain-rmse:1.47555\tval-rmse:2.86946\n",
      "[43]\ttrain-rmse:1.44219\tval-rmse:2.85347\n",
      "[44]\ttrain-rmse:1.42115\tval-rmse:2.84588\n",
      "[45]\ttrain-rmse:1.39011\tval-rmse:2.82951\n",
      "[46]\ttrain-rmse:1.36003\tval-rmse:2.81044\n",
      "[47]\ttrain-rmse:1.32050\tval-rmse:2.79526\n",
      "[48]\ttrain-rmse:1.30316\tval-rmse:2.78294\n",
      "[49]\ttrain-rmse:1.28706\tval-rmse:2.77481\n",
      "[50]\ttrain-rmse:1.26848\tval-rmse:2.77087\n",
      "[51]\ttrain-rmse:1.23792\tval-rmse:2.75413\n",
      "[52]\ttrain-rmse:1.21778\tval-rmse:2.74156\n",
      "[53]\ttrain-rmse:1.19266\tval-rmse:2.73738\n",
      "[54]\ttrain-rmse:1.16856\tval-rmse:2.73090\n",
      "[55]\ttrain-rmse:1.14949\tval-rmse:2.72789\n",
      "[56]\ttrain-rmse:1.13013\tval-rmse:2.72605\n",
      "[57]\ttrain-rmse:1.11242\tval-rmse:2.72136\n",
      "[58]\ttrain-rmse:1.09682\tval-rmse:2.72363\n",
      "[59]\ttrain-rmse:1.08002\tval-rmse:2.72308\n",
      "[60]\ttrain-rmse:1.06133\tval-rmse:2.72439\n",
      "[61]\ttrain-rmse:1.04951\tval-rmse:2.71805\n",
      "[62]\ttrain-rmse:1.03104\tval-rmse:2.70769\n",
      "[63]\ttrain-rmse:1.01933\tval-rmse:2.70881\n",
      "[64]\ttrain-rmse:1.00465\tval-rmse:2.70322\n",
      "[65]\ttrain-rmse:0.98993\tval-rmse:2.70659\n",
      "[66]\ttrain-rmse:0.97847\tval-rmse:2.70580\n",
      "[67]\ttrain-rmse:0.95978\tval-rmse:2.70827\n",
      "[68]\ttrain-rmse:0.94776\tval-rmse:2.70434\n",
      "[69]\ttrain-rmse:0.93151\tval-rmse:2.70234\n",
      "[70]\ttrain-rmse:0.91885\tval-rmse:2.70390\n",
      "[71]\ttrain-rmse:0.90105\tval-rmse:2.69879\n",
      "[72]\ttrain-rmse:0.89116\tval-rmse:2.69859\n",
      "[73]\ttrain-rmse:0.87292\tval-rmse:2.70212\n",
      "[74]\ttrain-rmse:0.86373\tval-rmse:2.70356\n",
      "[75]\ttrain-rmse:0.85340\tval-rmse:2.70122\n",
      "[76]\ttrain-rmse:0.84305\tval-rmse:2.70133\n",
      "[77]\ttrain-rmse:0.82900\tval-rmse:2.70421\n",
      "[78]\ttrain-rmse:0.81968\tval-rmse:2.70583\n",
      "[79]\ttrain-rmse:0.81185\tval-rmse:2.70524\n",
      "[80]\ttrain-rmse:0.79751\tval-rmse:2.70466\n",
      "[81]\ttrain-rmse:0.78890\tval-rmse:2.70811\n",
      "[82]\ttrain-rmse:0.77494\tval-rmse:2.71011\n",
      "Stopping. Best iteration:\n[72]\ttrain-rmse:0.89116\tval-rmse:2.69859\n\n"
     ],
     "output_type": "stream"
    },
    {
     "data": {
      "text/plain": "2.6985926833344767"
     },
     "metadata": {},
     "output_type": "execute_result",
     "execution_count": 11
    }
   ],
   "source": [
    "# 转换数据格式，转换成原生XGBoost可用的输入数据\n",
    "dtrain=xgb.DMatrix(Xtrain,Ytrain)\n",
    "dval=xgb.DMatrix(Xtest,Ytest)\n",
    "dtest=xgb.DMatrix(Xtest)\n",
    "\n",
    "# 设置参数\n",
    "params={\n",
    "    'booster':'gbtree',\n",
    "    'objective':'reg:squarederror',\n",
    "    'eval_metric':'rmse',\n",
    "    'eta':0.1,\n",
    "    'max_depth':5,\n",
    "    'max_child_weight':2,\n",
    "    'gamma':0.1,\n",
    "    'subsample':0.8,\n",
    "    'colsample_bytree':0.8,\n",
    "    'lamada':2,\n",
    "    'silent':True,\n",
    "    'seed':78,\n",
    "    'nthread':4\n",
    "}\n",
    "\n",
    "# 训练模型，设置early_stopping_rounds\n",
    "xgb_model=xgb.train(params,dtrain,num_boost_round=100,evals=[(dtrain,'train'),(dval,'val')],\n",
    "          early_stopping_rounds=10)\n",
    "\n",
    "# 使用之前early的最好模型来预测数据\n",
    "pred=xgb_model.predict(dtest,ntree_limit = xgb_model.best_ntree_limit)\n",
    "# 打印rmse，发现与最佳迭代次数下的验证分数一致\n",
    "np.sqrt(mean_squared_error(Ytest,pred))"
   ],
   "metadata": {
    "collapsed": false,
    "pycharm": {
     "name": "#%%\n",
     "is_executing": false
    }
   }
  },
  {
   "cell_type": "code",
   "execution_count": 12,
   "outputs": [
    {
     "name": "stdout",
     "text": [
      "[17:40:30] WARNING: D:\\Build\\xgboost\\xgboost-1.1.0.git\\python-package\\build\\temp.win-amd64-3.7\\Release\\xgboost\\src\\learner.cc:480: \nParameters: { lamada, max_child_weight, silent } might not be used.\n\n  This may not be accurate due to some parameters are only used in language bindings but\n  passed down to XGBoost core.  Or some parameters are not used but slip through this\n  verification. Please open an issue if you find above cases.\n\n\n[17:40:30] WARNING: D:\\Build\\xgboost\\xgboost-1.1.0.git\\python-package\\build\\temp.win-amd64-3.7\\Release\\xgboost\\src\\learner.cc:480: \nParameters: { lamada, max_child_weight, silent } might not be used.\n\n  This may not be accurate due to some parameters are only used in language bindings but\n  passed down to XGBoost core.  Or some parameters are not used but slip through this\n  verification. Please open an issue if you find above cases.\n\n\n[17:40:30] WARNING: D:\\Build\\xgboost\\xgboost-1.1.0.git\\python-package\\build\\temp.win-amd64-3.7\\Release\\xgboost\\src\\learner.cc:480: \nParameters: { lamada, max_child_weight, silent } might not be used.\n\n  This may not be accurate due to some parameters are only used in language bindings but\n  passed down to XGBoost core.  Or some parameters are not used but slip through this\n  verification. Please open an issue if you find above cases.\n\n\n[17:40:30] WARNING: D:\\Build\\xgboost\\xgboost-1.1.0.git\\python-package\\build\\temp.win-amd64-3.7\\Release\\xgboost\\src\\learner.cc:480: \nParameters: { lamada, max_child_weight, silent } might not be used.\n\n  This may not be accurate due to some parameters are only used in language bindings but\n  passed down to XGBoost core.  Or some parameters are not used but slip through this\n  verification. Please open an issue if you find above cases.\n\n\n[17:40:30] WARNING: D:\\Build\\xgboost\\xgboost-1.1.0.git\\python-package\\build\\temp.win-amd64-3.7\\Release\\xgboost\\src\\learner.cc:480: \nParameters: { lamada, max_child_weight, silent } might not be used.\n\n  This may not be accurate due to some parameters are only used in language bindings but\n  passed down to XGBoost core.  Or some parameters are not used but slip through this\n  verification. Please open an issue if you find above cases.\n\n\n"
     ],
     "output_type": "stream"
    },
    {
     "data": {
      "text/plain": "    train-rmse-mean  train-rmse-std  test-rmse-mean  test-rmse-std\n0         21.604344        0.154689       21.614430       0.680082\n1         19.608688        0.154659       19.637664       0.641466\n2         17.809250        0.141333       17.862818       0.601395\n3         16.193732        0.145944       16.255942       0.526859\n4         14.729037        0.161677       14.853987       0.495764\n5         13.407585        0.161175       13.587176       0.445971\n6         12.210052        0.138132       12.422795       0.455973\n7         11.146922        0.112751       11.400006       0.454691\n8         10.166082        0.099982       10.492818       0.450861\n9          9.275716        0.088854        9.662275       0.450199\n10         8.478545        0.086104        8.920917       0.449085\n11         7.765455        0.086605        8.277794       0.468238\n12         7.122597        0.071950        7.701279       0.514654\n13         6.540911        0.065167        7.204800       0.512406\n14         6.005928        0.052867        6.761910       0.541896\n15         5.536668        0.046558        6.387632       0.573673\n16         5.116930        0.042917        6.044987       0.595172\n17         4.737784        0.043738        5.735222       0.565640\n18         4.387250        0.043663        5.458533       0.577738\n19         4.076880        0.047532        5.243476       0.600007\n20         3.796720        0.042838        5.036943       0.593583\n21         3.542100        0.042968        4.865295       0.619901\n22         3.311867        0.044552        4.731464       0.607795\n23         3.108182        0.042604        4.599787       0.616054\n24         2.924854        0.041867        4.465715       0.596570\n25         2.751788        0.046636        4.373628       0.604063\n26         2.595224        0.052054        4.287769       0.610158\n27         2.459026        0.053930        4.208884       0.585605\n28         2.337933        0.058261        4.129354       0.568005\n29         2.222834        0.064977        4.067742       0.588551\n..              ...             ...             ...            ...\n51         1.159431        0.070250        3.702037       0.545384\n52         1.140314        0.068662        3.691980       0.545910\n53         1.118852        0.069411        3.688015       0.549864\n54         1.099415        0.064687        3.687495       0.543498\n55         1.079526        0.065601        3.683750       0.541815\n56         1.058591        0.065709        3.677682       0.544507\n57         1.040199        0.060792        3.674584       0.546960\n58         1.018947        0.060100        3.666910       0.547140\n59         1.000946        0.063289        3.662404       0.540534\n60         0.985408        0.058840        3.658564       0.542709\n61         0.970330        0.056726        3.655693       0.545372\n62         0.949955        0.053051        3.650275       0.536832\n63         0.932366        0.049339        3.653199       0.538716\n64         0.921028        0.048191        3.647777       0.540027\n65         0.905618        0.051946        3.645452       0.538585\n66         0.892907        0.053123        3.648005       0.537294\n67         0.877953        0.050625        3.643191       0.540444\n68         0.860943        0.047581        3.643667       0.538230\n69         0.850820        0.048399        3.640601       0.535317\n70         0.836205        0.045705        3.636481       0.532444\n71         0.822786        0.045284        3.638180       0.531080\n72         0.809957        0.045606        3.635673       0.530727\n73         0.794316        0.046447        3.634986       0.526230\n74         0.779849        0.046677        3.634788       0.528960\n75         0.766755        0.046489        3.635745       0.525582\n76         0.756786        0.044744        3.631219       0.523477\n77         0.743745        0.043874        3.629437       0.524999\n78         0.727737        0.041289        3.632508       0.526275\n79         0.715710        0.041998        3.629557       0.522041\n80         0.704361        0.042989        3.625756       0.521447\n\n[81 rows x 4 columns]",
      "text/html": "<div>\n<style scoped>\n    .dataframe tbody tr th:only-of-type {\n        vertical-align: middle;\n    }\n\n    .dataframe tbody tr th {\n        vertical-align: top;\n    }\n\n    .dataframe thead th {\n        text-align: right;\n    }\n</style>\n<table border=\"1\" class=\"dataframe\">\n  <thead>\n    <tr style=\"text-align: right;\">\n      <th></th>\n      <th>train-rmse-mean</th>\n      <th>train-rmse-std</th>\n      <th>test-rmse-mean</th>\n      <th>test-rmse-std</th>\n    </tr>\n  </thead>\n  <tbody>\n    <tr>\n      <th>0</th>\n      <td>21.604344</td>\n      <td>0.154689</td>\n      <td>21.614430</td>\n      <td>0.680082</td>\n    </tr>\n    <tr>\n      <th>1</th>\n      <td>19.608688</td>\n      <td>0.154659</td>\n      <td>19.637664</td>\n      <td>0.641466</td>\n    </tr>\n    <tr>\n      <th>2</th>\n      <td>17.809250</td>\n      <td>0.141333</td>\n      <td>17.862818</td>\n      <td>0.601395</td>\n    </tr>\n    <tr>\n      <th>3</th>\n      <td>16.193732</td>\n      <td>0.145944</td>\n      <td>16.255942</td>\n      <td>0.526859</td>\n    </tr>\n    <tr>\n      <th>4</th>\n      <td>14.729037</td>\n      <td>0.161677</td>\n      <td>14.853987</td>\n      <td>0.495764</td>\n    </tr>\n    <tr>\n      <th>5</th>\n      <td>13.407585</td>\n      <td>0.161175</td>\n      <td>13.587176</td>\n      <td>0.445971</td>\n    </tr>\n    <tr>\n      <th>6</th>\n      <td>12.210052</td>\n      <td>0.138132</td>\n      <td>12.422795</td>\n      <td>0.455973</td>\n    </tr>\n    <tr>\n      <th>7</th>\n      <td>11.146922</td>\n      <td>0.112751</td>\n      <td>11.400006</td>\n      <td>0.454691</td>\n    </tr>\n    <tr>\n      <th>8</th>\n      <td>10.166082</td>\n      <td>0.099982</td>\n      <td>10.492818</td>\n      <td>0.450861</td>\n    </tr>\n    <tr>\n      <th>9</th>\n      <td>9.275716</td>\n      <td>0.088854</td>\n      <td>9.662275</td>\n      <td>0.450199</td>\n    </tr>\n    <tr>\n      <th>10</th>\n      <td>8.478545</td>\n      <td>0.086104</td>\n      <td>8.920917</td>\n      <td>0.449085</td>\n    </tr>\n    <tr>\n      <th>11</th>\n      <td>7.765455</td>\n      <td>0.086605</td>\n      <td>8.277794</td>\n      <td>0.468238</td>\n    </tr>\n    <tr>\n      <th>12</th>\n      <td>7.122597</td>\n      <td>0.071950</td>\n      <td>7.701279</td>\n      <td>0.514654</td>\n    </tr>\n    <tr>\n      <th>13</th>\n      <td>6.540911</td>\n      <td>0.065167</td>\n      <td>7.204800</td>\n      <td>0.512406</td>\n    </tr>\n    <tr>\n      <th>14</th>\n      <td>6.005928</td>\n      <td>0.052867</td>\n      <td>6.761910</td>\n      <td>0.541896</td>\n    </tr>\n    <tr>\n      <th>15</th>\n      <td>5.536668</td>\n      <td>0.046558</td>\n      <td>6.387632</td>\n      <td>0.573673</td>\n    </tr>\n    <tr>\n      <th>16</th>\n      <td>5.116930</td>\n      <td>0.042917</td>\n      <td>6.044987</td>\n      <td>0.595172</td>\n    </tr>\n    <tr>\n      <th>17</th>\n      <td>4.737784</td>\n      <td>0.043738</td>\n      <td>5.735222</td>\n      <td>0.565640</td>\n    </tr>\n    <tr>\n      <th>18</th>\n      <td>4.387250</td>\n      <td>0.043663</td>\n      <td>5.458533</td>\n      <td>0.577738</td>\n    </tr>\n    <tr>\n      <th>19</th>\n      <td>4.076880</td>\n      <td>0.047532</td>\n      <td>5.243476</td>\n      <td>0.600007</td>\n    </tr>\n    <tr>\n      <th>20</th>\n      <td>3.796720</td>\n      <td>0.042838</td>\n      <td>5.036943</td>\n      <td>0.593583</td>\n    </tr>\n    <tr>\n      <th>21</th>\n      <td>3.542100</td>\n      <td>0.042968</td>\n      <td>4.865295</td>\n      <td>0.619901</td>\n    </tr>\n    <tr>\n      <th>22</th>\n      <td>3.311867</td>\n      <td>0.044552</td>\n      <td>4.731464</td>\n      <td>0.607795</td>\n    </tr>\n    <tr>\n      <th>23</th>\n      <td>3.108182</td>\n      <td>0.042604</td>\n      <td>4.599787</td>\n      <td>0.616054</td>\n    </tr>\n    <tr>\n      <th>24</th>\n      <td>2.924854</td>\n      <td>0.041867</td>\n      <td>4.465715</td>\n      <td>0.596570</td>\n    </tr>\n    <tr>\n      <th>25</th>\n      <td>2.751788</td>\n      <td>0.046636</td>\n      <td>4.373628</td>\n      <td>0.604063</td>\n    </tr>\n    <tr>\n      <th>26</th>\n      <td>2.595224</td>\n      <td>0.052054</td>\n      <td>4.287769</td>\n      <td>0.610158</td>\n    </tr>\n    <tr>\n      <th>27</th>\n      <td>2.459026</td>\n      <td>0.053930</td>\n      <td>4.208884</td>\n      <td>0.585605</td>\n    </tr>\n    <tr>\n      <th>28</th>\n      <td>2.337933</td>\n      <td>0.058261</td>\n      <td>4.129354</td>\n      <td>0.568005</td>\n    </tr>\n    <tr>\n      <th>29</th>\n      <td>2.222834</td>\n      <td>0.064977</td>\n      <td>4.067742</td>\n      <td>0.588551</td>\n    </tr>\n    <tr>\n      <th>...</th>\n      <td>...</td>\n      <td>...</td>\n      <td>...</td>\n      <td>...</td>\n    </tr>\n    <tr>\n      <th>51</th>\n      <td>1.159431</td>\n      <td>0.070250</td>\n      <td>3.702037</td>\n      <td>0.545384</td>\n    </tr>\n    <tr>\n      <th>52</th>\n      <td>1.140314</td>\n      <td>0.068662</td>\n      <td>3.691980</td>\n      <td>0.545910</td>\n    </tr>\n    <tr>\n      <th>53</th>\n      <td>1.118852</td>\n      <td>0.069411</td>\n      <td>3.688015</td>\n      <td>0.549864</td>\n    </tr>\n    <tr>\n      <th>54</th>\n      <td>1.099415</td>\n      <td>0.064687</td>\n      <td>3.687495</td>\n      <td>0.543498</td>\n    </tr>\n    <tr>\n      <th>55</th>\n      <td>1.079526</td>\n      <td>0.065601</td>\n      <td>3.683750</td>\n      <td>0.541815</td>\n    </tr>\n    <tr>\n      <th>56</th>\n      <td>1.058591</td>\n      <td>0.065709</td>\n      <td>3.677682</td>\n      <td>0.544507</td>\n    </tr>\n    <tr>\n      <th>57</th>\n      <td>1.040199</td>\n      <td>0.060792</td>\n      <td>3.674584</td>\n      <td>0.546960</td>\n    </tr>\n    <tr>\n      <th>58</th>\n      <td>1.018947</td>\n      <td>0.060100</td>\n      <td>3.666910</td>\n      <td>0.547140</td>\n    </tr>\n    <tr>\n      <th>59</th>\n      <td>1.000946</td>\n      <td>0.063289</td>\n      <td>3.662404</td>\n      <td>0.540534</td>\n    </tr>\n    <tr>\n      <th>60</th>\n      <td>0.985408</td>\n      <td>0.058840</td>\n      <td>3.658564</td>\n      <td>0.542709</td>\n    </tr>\n    <tr>\n      <th>61</th>\n      <td>0.970330</td>\n      <td>0.056726</td>\n      <td>3.655693</td>\n      <td>0.545372</td>\n    </tr>\n    <tr>\n      <th>62</th>\n      <td>0.949955</td>\n      <td>0.053051</td>\n      <td>3.650275</td>\n      <td>0.536832</td>\n    </tr>\n    <tr>\n      <th>63</th>\n      <td>0.932366</td>\n      <td>0.049339</td>\n      <td>3.653199</td>\n      <td>0.538716</td>\n    </tr>\n    <tr>\n      <th>64</th>\n      <td>0.921028</td>\n      <td>0.048191</td>\n      <td>3.647777</td>\n      <td>0.540027</td>\n    </tr>\n    <tr>\n      <th>65</th>\n      <td>0.905618</td>\n      <td>0.051946</td>\n      <td>3.645452</td>\n      <td>0.538585</td>\n    </tr>\n    <tr>\n      <th>66</th>\n      <td>0.892907</td>\n      <td>0.053123</td>\n      <td>3.648005</td>\n      <td>0.537294</td>\n    </tr>\n    <tr>\n      <th>67</th>\n      <td>0.877953</td>\n      <td>0.050625</td>\n      <td>3.643191</td>\n      <td>0.540444</td>\n    </tr>\n    <tr>\n      <th>68</th>\n      <td>0.860943</td>\n      <td>0.047581</td>\n      <td>3.643667</td>\n      <td>0.538230</td>\n    </tr>\n    <tr>\n      <th>69</th>\n      <td>0.850820</td>\n      <td>0.048399</td>\n      <td>3.640601</td>\n      <td>0.535317</td>\n    </tr>\n    <tr>\n      <th>70</th>\n      <td>0.836205</td>\n      <td>0.045705</td>\n      <td>3.636481</td>\n      <td>0.532444</td>\n    </tr>\n    <tr>\n      <th>71</th>\n      <td>0.822786</td>\n      <td>0.045284</td>\n      <td>3.638180</td>\n      <td>0.531080</td>\n    </tr>\n    <tr>\n      <th>72</th>\n      <td>0.809957</td>\n      <td>0.045606</td>\n      <td>3.635673</td>\n      <td>0.530727</td>\n    </tr>\n    <tr>\n      <th>73</th>\n      <td>0.794316</td>\n      <td>0.046447</td>\n      <td>3.634986</td>\n      <td>0.526230</td>\n    </tr>\n    <tr>\n      <th>74</th>\n      <td>0.779849</td>\n      <td>0.046677</td>\n      <td>3.634788</td>\n      <td>0.528960</td>\n    </tr>\n    <tr>\n      <th>75</th>\n      <td>0.766755</td>\n      <td>0.046489</td>\n      <td>3.635745</td>\n      <td>0.525582</td>\n    </tr>\n    <tr>\n      <th>76</th>\n      <td>0.756786</td>\n      <td>0.044744</td>\n      <td>3.631219</td>\n      <td>0.523477</td>\n    </tr>\n    <tr>\n      <th>77</th>\n      <td>0.743745</td>\n      <td>0.043874</td>\n      <td>3.629437</td>\n      <td>0.524999</td>\n    </tr>\n    <tr>\n      <th>78</th>\n      <td>0.727737</td>\n      <td>0.041289</td>\n      <td>3.632508</td>\n      <td>0.526275</td>\n    </tr>\n    <tr>\n      <th>79</th>\n      <td>0.715710</td>\n      <td>0.041998</td>\n      <td>3.629557</td>\n      <td>0.522041</td>\n    </tr>\n    <tr>\n      <th>80</th>\n      <td>0.704361</td>\n      <td>0.042989</td>\n      <td>3.625756</td>\n      <td>0.521447</td>\n    </tr>\n  </tbody>\n</table>\n<p>81 rows × 4 columns</p>\n</div>"
     },
     "metadata": {},
     "output_type": "execute_result",
     "execution_count": 12
    }
   ],
   "source": [
    "cv_results=xgb.cv(params,dtrain,num_boost_round=100,nfold=5,metrics='rmse',\n",
    "                  early_stopping_rounds=10,show_stdv=True)\n",
    "cv_results"
   ],
   "metadata": {
    "collapsed": false,
    "pycharm": {
     "name": "#%%\n",
     "is_executing": false
    }
   }
  },
  {
   "cell_type": "code",
   "execution_count": 13,
   "outputs": [
    {
     "name": "stdout",
     "text": [
      "[17:40:30] WARNING: D:\\Build\\xgboost\\xgboost-1.1.0.git\\python-package\\build\\temp.win-amd64-3.7\\Release\\xgboost\\src\\learner.cc:480: \nParameters: { lamada, max_child_weight, silent } might not be used.\n\n  This may not be accurate due to some parameters are only used in language bindings but\n  passed down to XGBoost core.  Or some parameters are not used but slip through this\n  verification. Please open an issue if you find above cases.\n\n\n"
     ],
     "output_type": "stream"
    },
    {
     "data": {
      "text/plain": "2.70465910324571"
     },
     "metadata": {},
     "output_type": "execute_result",
     "execution_count": 13
    }
   ],
   "source": [
    "# 使用之前交叉验证得到的最优次数进行训练模型\n",
    "xgb_model=xgb.train(params,dtrain,num_boost_round=cv_results.shape[0])\n",
    "\n",
    "# 预测\n",
    "pred=xgb_model.predict(dtest)\n",
    "# 打印rmse\n",
    "np.sqrt(mean_squared_error(Ytest,pred))"
   ],
   "metadata": {
    "collapsed": false,
    "pycharm": {
     "name": "#%%\n",
     "is_executing": false
    }
   }
  },
  {
   "cell_type": "code",
   "execution_count": 14,
   "outputs": [
    {
     "data": {
      "text/plain": "<Figure size 432x288 with 1 Axes>",
      "image/png": "[encoded data removed]"
     },
     "metadata": {
      "needs_background": "light"
     },
     "output_type": "display_data"
    }
   ],
   "source": [
    "# 打印特征重要性\n",
    "plot_importance(xgb_model)\n",
    "plt.show()"
   ],
   "metadata": {
    "collapsed": false,
    "pycharm": {
     "name": "#%%\n",
     "is_executing": false
    }
   }
  },
  {
   "cell_type": "markdown",
   "source": [
    "（2）多分类问题"
   ],
   "metadata": {
    "collapsed": false
   }
  },
  {
   "cell_type": "code",
   "execution_count": 15,
   "outputs": [],
   "source": [
    "from sklearn.datasets import load_iris\n",
    "data=load_iris()\n",
    "x=data.data\n",
    "y=data.target"
   ],
   "metadata": {
    "collapsed": false,
    "pycharm": {
     "name": "#%%\n",
     "is_executing": false
    }
   }
  },
  {
   "cell_type": "code",
   "execution_count": 16,
   "outputs": [
    {
     "data": {
      "text/plain": "(150, 4)"
     },
     "metadata": {},
     "output_type": "execute_result",
     "execution_count": 16
    }
   ],
   "source": [
    "x.shape"
   ],
   "metadata": {
    "collapsed": false,
    "pycharm": {
     "name": "#%%\n",
     "is_executing": false
    }
   }
  },
  {
   "cell_type": "code",
   "execution_count": 17,
   "outputs": [
    {
     "data": {
      "text/plain": "(150,)"
     },
     "metadata": {},
     "output_type": "execute_result",
     "execution_count": 17
    }
   ],
   "source": [
    "y.shape"
   ],
   "metadata": {
    "collapsed": false,
    "pycharm": {
     "name": "#%%\n",
     "is_executing": false
    }
   }
  },
  {
   "cell_type": "code",
   "execution_count": 18,
   "outputs": [
    {
     "data": {
      "text/plain": "array([0, 1, 2])"
     },
     "metadata": {},
     "output_type": "execute_result",
     "execution_count": 18
    }
   ],
   "source": [
    "np.unique(y)"
   ],
   "metadata": {
    "collapsed": false,
    "pycharm": {
     "name": "#%%\n",
     "is_executing": false
    }
   }
  },
  {
   "cell_type": "code",
   "execution_count": 19,
   "outputs": [],
   "source": [
    "xtrain,xtest,ytrain,ytest = train_test_split(x,y,test_size=0.3,random_state=420)"
   ],
   "metadata": {
    "collapsed": false,
    "pycharm": {
     "name": "#%%\n",
     "is_executing": false
    }
   }
  },
  {
   "cell_type": "code",
   "execution_count": 20,
   "outputs": [],
   "source": [
    "from sklearn.metrics import accuracy_score\n",
    "\n",
    "# 转换数据格式，转换成原生XGBoost可用的输入数据\n",
    "dtrain=xgb.DMatrix(xtrain,ytrain)\n",
    "dval=xgb.DMatrix(xtest,ytest)\n",
    "dtest=xgb.DMatrix(xtest)\n",
    "\n",
    "# 设置参数\n",
    "params={\n",
    "    'booster':'gbtree',\n",
    "    'objective':'multi:softmax',\n",
    "    'num_class':3,\n",
    "    'eta':0.1,\n",
    "    'max_depth':5,\n",
    "    'max_child_weight':2,\n",
    "    'gamma':0.1,\n",
    "    'subsample':0.8,\n",
    "    'colsample_bytree':0.8,\n",
    "    'lamada':2,\n",
    "    'silent':True,\n",
    "    'seed':78,\n",
    "    'nthread':4\n",
    "}\n"
   ],
   "metadata": {
    "collapsed": false,
    "pycharm": {
     "name": "#%%\n",
     "is_executing": false
    }
   }
  },
  {
   "cell_type": "code",
   "execution_count": 21,
   "outputs": [
    {
     "name": "stdout",
     "text": [
      "[17:40:30] WARNING: D:\\Build\\xgboost\\xgboost-1.1.0.git\\python-package\\build\\temp.win-amd64-3.7\\Release\\xgboost\\src\\learner.cc:480: \nParameters: { lamada, max_child_weight, silent } might not be used.\n\n  This may not be accurate due to some parameters are only used in language bindings but\n  passed down to XGBoost core.  Or some parameters are not used but slip through this\n  verification. Please open an issue if you find above cases.\n\n\n[0]\ttrain-merror:0.01905\tval-merror:0.04444\n",
      "Multiple eval metrics have been passed: 'val-merror' will be used for early stopping.\n\n",
      "Will train until val-merror hasn't improved in 10 rounds.\n",
      "[1]\ttrain-merror:0.01905\tval-merror:0.06667\n",
      "[2]\ttrain-merror:0.00952\tval-merror:0.04444\n",
      "[3]\ttrain-merror:0.00952\tval-merror:0.04444\n",
      "[4]\ttrain-merror:0.00952\tval-merror:0.04444\n",
      "[5]\ttrain-merror:0.00952\tval-merror:0.04444\n",
      "[6]\ttrain-merror:0.00952\tval-merror:0.04444\n",
      "[7]\ttrain-merror:0.00952\tval-merror:0.04444\n",
      "[8]\ttrain-merror:0.00952\tval-merror:0.04444\n",
      "[9]\ttrain-merror:0.00952\tval-merror:0.04444\n",
      "[10]\ttrain-merror:0.00952\tval-merror:0.04444\n",
      "Stopping. Best iteration:\n[0]\ttrain-merror:0.01905\tval-merror:0.04444\n\n"
     ],
     "output_type": "stream"
    },
    {
     "data": {
      "text/plain": "0.0444444444444444"
     },
     "metadata": {},
     "output_type": "execute_result",
     "execution_count": 21
    }
   ],
   "source": [
    "# 训练模型，设置early_stopping_rounds\n",
    "xgb_model=xgb.train(params,dtrain,num_boost_round=100,evals=[(dtrain,'train'),(dval,'val')],early_stopping_rounds=10)\n",
    "\n",
    "# 使用之前early的最好模型来预测数据\n",
    "pred=xgb_model.predict(dtest,ntree_limit = xgb_model.best_ntree_limit)\n",
    "# 打印错误率\n",
    "1-accuracy_score(ytest,pred)"
   ],
   "metadata": {
    "collapsed": false,
    "pycharm": {
     "name": "#%%\n",
     "is_executing": false
    }
   }
  },
  {
   "cell_type": "code",
   "execution_count": 22,
   "outputs": [
    {
     "data": {
      "text/plain": "<Figure size 432x288 with 1 Axes>",
      "image/png": "[encoded data removed]"
     },
     "metadata": {
      "needs_background": "light"
     },
     "output_type": "display_data"
    }
   ],
   "source": [
    "# 打印特征重要性\n",
    "plot_importance(xgb_model)\n",
    "plt.show()"
   ],
   "metadata": {
    "collapsed": false,
    "pycharm": {
     "name": "#%%\n",
     "is_executing": false
    }
   }
  },
  {
   "cell_type": "markdown",
   "source": [
    "（3）不平衡样本二分类问题"
   ],
   "metadata": {
    "collapsed": false
   }
  },
  {
   "cell_type": "code",
   "execution_count": 23,
   "outputs": [],
   "source": [
    "from sklearn.datasets import make_blobs #自创数据集\n",
    "\n",
    "class_1 = 500 #类别1有500个样本\n",
    "class_2 = 50 #类别2只有50个\n",
    "centers = [[0.0, 0.0], [2.0, 2.0]] #设定两个类别的中心\n",
    "clusters_std = [1.5, 0.5] #设定两个类别的方差，通常来说，样本量比较大的类别会更加松散\n",
    "X, y = make_blobs(n_samples=[class_1, class_2],\n",
    "                  centers=centers,\n",
    "                  cluster_std=clusters_std,\n",
    "                  random_state=0, shuffle=False)"
   ],
   "metadata": {
    "collapsed": false,
    "pycharm": {
     "name": "#%%\n",
     "is_executing": false
    }
   }
  },
  {
   "cell_type": "code",
   "execution_count": 24,
   "outputs": [
    {
     "data": {
      "text/plain": "(550, 2)"
     },
     "metadata": {},
     "output_type": "execute_result",
     "execution_count": 24
    }
   ],
   "source": [
    "X.shape"
   ],
   "metadata": {
    "collapsed": false,
    "pycharm": {
     "name": "#%%\n",
     "is_executing": false
    }
   }
  },
  {
   "cell_type": "code",
   "execution_count": 25,
   "outputs": [
    {
     "data": {
      "text/plain": "array([0, 0, 0, 0, 0, 0, 0, 0, 0, 0, 0, 0, 0, 0, 0, 0, 0, 0, 0, 0, 0, 0,\n       0, 0, 0, 0, 0, 0, 0, 0, 0, 0, 0, 0, 0, 0, 0, 0, 0, 0, 0, 0, 0, 0,\n       0, 0, 0, 0, 0, 0, 0, 0, 0, 0, 0, 0, 0, 0, 0, 0, 0, 0, 0, 0, 0, 0,\n       0, 0, 0, 0, 0, 0, 0, 0, 0, 0, 0, 0, 0, 0, 0, 0, 0, 0, 0, 0, 0, 0,\n       0, 0, 0, 0, 0, 0, 0, 0, 0, 0, 0, 0, 0, 0, 0, 0, 0, 0, 0, 0, 0, 0,\n       0, 0, 0, 0, 0, 0, 0, 0, 0, 0, 0, 0, 0, 0, 0, 0, 0, 0, 0, 0, 0, 0,\n       0, 0, 0, 0, 0, 0, 0, 0, 0, 0, 0, 0, 0, 0, 0, 0, 0, 0, 0, 0, 0, 0,\n       0, 0, 0, 0, 0, 0, 0, 0, 0, 0, 0, 0, 0, 0, 0, 0, 0, 0, 0, 0, 0, 0,\n       0, 0, 0, 0, 0, 0, 0, 0, 0, 0, 0, 0, 0, 0, 0, 0, 0, 0, 0, 0, 0, 0,\n       0, 0, 0, 0, 0, 0, 0, 0, 0, 0, 0, 0, 0, 0, 0, 0, 0, 0, 0, 0, 0, 0,\n       0, 0, 0, 0, 0, 0, 0, 0, 0, 0, 0, 0, 0, 0, 0, 0, 0, 0, 0, 0, 0, 0,\n       0, 0, 0, 0, 0, 0, 0, 0, 0, 0, 0, 0, 0, 0, 0, 0, 0, 0, 0, 0, 0, 0,\n       0, 0, 0, 0, 0, 0, 0, 0, 0, 0, 0, 0, 0, 0, 0, 0, 0, 0, 0, 0, 0, 0,\n       0, 0, 0, 0, 0, 0, 0, 0, 0, 0, 0, 0, 0, 0, 0, 0, 0, 0, 0, 0, 0, 0,\n       0, 0, 0, 0, 0, 0, 0, 0, 0, 0, 0, 0, 0, 0, 0, 0, 0, 0, 0, 0, 0, 0,\n       0, 0, 0, 0, 0, 0, 0, 0, 0, 0, 0, 0, 0, 0, 0, 0, 0, 0, 0, 0, 0, 0,\n       0, 0, 0, 0, 0, 0, 0, 0, 0, 0, 0, 0, 0, 0, 0, 0, 0, 0, 0, 0, 0, 0,\n       0, 0, 0, 0, 0, 0, 0, 0, 0, 0, 0, 0, 0, 0, 0, 0, 0, 0, 0, 0, 0, 0,\n       0, 0, 0, 0, 0, 0, 0, 0, 0, 0, 0, 0, 0, 0, 0, 0, 0, 0, 0, 0, 0, 0,\n       0, 0, 0, 0, 0, 0, 0, 0, 0, 0, 0, 0, 0, 0, 0, 0, 0, 0, 0, 0, 0, 0,\n       0, 0, 0, 0, 0, 0, 0, 0, 0, 0, 0, 0, 0, 0, 0, 0, 0, 0, 0, 0, 0, 0,\n       0, 0, 0, 0, 0, 0, 0, 0, 0, 0, 0, 0, 0, 0, 0, 0, 0, 0, 0, 0, 0, 0,\n       0, 0, 0, 0, 0, 0, 0, 0, 0, 0, 0, 0, 0, 0, 0, 0, 1, 1, 1, 1, 1, 1,\n       1, 1, 1, 1, 1, 1, 1, 1, 1, 1, 1, 1, 1, 1, 1, 1, 1, 1, 1, 1, 1, 1,\n       1, 1, 1, 1, 1, 1, 1, 1, 1, 1, 1, 1, 1, 1, 1, 1, 1, 1, 1, 1, 1, 1])"
     },
     "metadata": {},
     "output_type": "execute_result",
     "execution_count": 25
    }
   ],
   "source": [
    "y"
   ],
   "metadata": {
    "collapsed": false,
    "pycharm": {
     "name": "#%%\n",
     "is_executing": false
    }
   }
  },
  {
   "cell_type": "code",
   "execution_count": 26,
   "outputs": [
    {
     "data": {
      "text/plain": "0.09090909090909091"
     },
     "metadata": {},
     "output_type": "execute_result",
     "execution_count": 26
    }
   ],
   "source": [
    "(y == 1).sum() / y.shape[0] #9%"
   ],
   "metadata": {
    "collapsed": false,
    "pycharm": {
     "name": "#%%\n",
     "is_executing": false
    }
   }
  },
  {
   "cell_type": "code",
   "execution_count": 27,
   "outputs": [],
   "source": [
    "Xtrain, Xtest, Ytrain, Ytest = train_test_split(X,y,test_size=0.3,random_state=420)"
   ],
   "metadata": {
    "collapsed": false,
    "pycharm": {
     "name": "#%%\n",
     "is_executing": false
    }
   }
  },
  {
   "cell_type": "code",
   "execution_count": 28,
   "outputs": [],
   "source": [
    "dtrain = xgb.DMatrix(Xtrain,Ytrain)\n",
    "dtest = xgb.DMatrix(Xtest,Ytest)"
   ],
   "metadata": {
    "collapsed": false,
    "pycharm": {
     "name": "#%%\n",
     "is_executing": false
    }
   }
  },
  {
   "cell_type": "code",
   "execution_count": 29,
   "outputs": [
    {
     "name": "stdout",
     "text": [
      "[17:40:30] WARNING: D:\\Build\\xgboost\\xgboost-1.1.0.git\\python-package\\build\\temp.win-amd64-3.7\\Release\\xgboost\\src\\learner.cc:480: \nParameters: { silent } might not be used.\n\n  This may not be accurate due to some parameters are only used in language bindings but\n  passed down to XGBoost core.  Or some parameters are not used but slip through this\n  verification. Please open an issue if you find above cases.\n\n\n"
     ],
     "output_type": "stream"
    }
   ],
   "source": [
    "#看看xgboost库自带的predict接口\n",
    "param = {'silent':True,\n",
    "         'objective':'binary:logistic',\n",
    "         \"eta\":0.1,\n",
    "         \"scale_pos_weight\":1}\n",
    "num_round = 100\n",
    "\n",
    "bst = xgb.train(param, dtrain, num_round)\n",
    "preds = bst.predict(dtest)"
   ],
   "metadata": {
    "collapsed": false,
    "pycharm": {
     "name": "#%%\n",
     "is_executing": false
    }
   }
  },
  {
   "cell_type": "code",
   "execution_count": 30,
   "outputs": [
    {
     "data": {
      "text/plain": "array([0.00110357, 0.00761518, 0.00110357, 0.00110357, 0.93531454,\n       0.00466839, 0.00110357, 0.00110357, 0.00110357, 0.00110357,\n       0.00110357, 0.00410493, 0.00454478, 0.00571528, 0.00751026,\n       0.00110357, 0.00110357, 0.00110357, 0.00110357, 0.00110357,\n       0.00110357, 0.00110357, 0.00110357, 0.00110357, 0.00110357,\n       0.00712637, 0.00110357, 0.00110357, 0.00110357, 0.00110357,\n       0.00110357, 0.00110357, 0.00110357, 0.00793251, 0.00466839,\n       0.00110357, 0.00339395, 0.00657186, 0.00110357, 0.00457053,\n       0.00571528, 0.0026763 , 0.00110357, 0.00110357, 0.00110357,\n       0.00884932, 0.00712637, 0.00110357, 0.00712637, 0.00466839,\n       0.00110357, 0.00110357, 0.00712637, 0.00110357, 0.00110357,\n       0.00110357, 0.00110357, 0.63748044, 0.00110357, 0.00793251,\n       0.00110357, 0.00451971, 0.00644181, 0.00110357, 0.00110357,\n       0.00110357, 0.00110357, 0.00751026, 0.00712637, 0.00110357,\n       0.00866458, 0.00110357, 0.00110357, 0.00110357, 0.91610426,\n       0.00110357, 0.00110357, 0.89246494, 0.0026763 , 0.00501714,\n       0.00761518, 0.00884932, 0.00339395, 0.00110357, 0.93531454,\n       0.00110357, 0.00110357, 0.00110357, 0.82530665, 0.00751026,\n       0.00110357, 0.35174078, 0.00110357, 0.00110357, 0.70393246,\n       0.00110357, 0.76804197, 0.00110357, 0.00110357, 0.00110357,\n       0.00110357, 0.96656513, 0.00110357, 0.00571528, 0.25400913,\n       0.00110357, 0.00110357, 0.00110357, 0.00110357, 0.00457053,\n       0.00110357, 0.00110357, 0.00110357, 0.89246494, 0.00110357,\n       0.9518535 , 0.0026763 , 0.00712637, 0.00110357, 0.00501714,\n       0.00110357, 0.00110357, 0.00571528, 0.00110357, 0.00110357,\n       0.00712637, 0.00110357, 0.00110357, 0.00712637, 0.00110357,\n       0.25136763, 0.00110357, 0.00110357, 0.00110357, 0.00110357,\n       0.00110357, 0.8904051 , 0.3876418 , 0.00110357, 0.00457053,\n       0.00657186, 0.9366597 , 0.00866458, 0.00110357, 0.00501714,\n       0.00501714, 0.00110357, 0.00110357, 0.00368543, 0.00501714,\n       0.9830577 , 0.00110357, 0.00644181, 0.00110357, 0.00571528,\n       0.00110357, 0.00110357, 0.00110357, 0.00110357, 0.00466839,\n       0.00110357, 0.00110357, 0.92388713, 0.90231985, 0.80084217],\n      dtype=float32)"
     },
     "metadata": {},
     "output_type": "execute_result",
     "execution_count": 30
    }
   ],
   "source": [
    "preds\n",
    "# 可以发现其返回的是正样本的概率"
   ],
   "metadata": {
    "collapsed": false,
    "pycharm": {
     "name": "#%%\n",
     "is_executing": false
    }
   }
  },
  {
   "cell_type": "code",
   "execution_count": 31,
   "outputs": [
    {
     "data": {
      "text/plain": "array([0., 0., 0., 0., 1., 0., 0., 0., 0., 0., 0., 0., 0., 0., 0., 0., 0.,\n       0., 0., 0., 0., 0., 0., 0., 0., 0., 0., 0., 0., 0., 0., 0., 0., 0.,\n       0., 0., 0., 0., 0., 0., 0., 0., 0., 0., 0., 0., 0., 0., 0., 0., 0.,\n       0., 0., 0., 0., 0., 0., 1., 0., 0., 0., 0., 0., 0., 0., 0., 0., 0.,\n       0., 0., 0., 0., 0., 0., 1., 0., 0., 1., 0., 0., 0., 0., 0., 0., 1.,\n       0., 0., 0., 1., 0., 0., 0., 0., 0., 1., 0., 1., 0., 0., 0., 0., 1.,\n       0., 0., 0., 0., 0., 0., 0., 0., 0., 0., 0., 1., 0., 1., 0., 0., 0.,\n       0., 0., 0., 0., 0., 0., 0., 0., 0., 0., 0., 0., 0., 0., 0., 0., 0.,\n       1., 0., 0., 0., 0., 1., 0., 0., 0., 0., 0., 0., 0., 0., 1., 0., 0.,\n       0., 0., 0., 0., 0., 0., 0., 0., 0., 1., 1., 1.], dtype=float32)"
     },
     "metadata": {},
     "output_type": "execute_result",
     "execution_count": 31
    }
   ],
   "source": [
    "# 设置0.5为阈值\n",
    "ypred = preds.copy()\n",
    "ypred[preds > 0.5] = 1\n",
    "ypred[ypred != 1] = 0\n",
    "\n",
    "ypred"
   ],
   "metadata": {
    "collapsed": false,
    "pycharm": {
     "name": "#%%\n",
     "is_executing": false
    }
   }
  },
  {
   "cell_type": "code",
   "execution_count": 32,
   "outputs": [
    {
     "name": "stdout",
     "text": [
      "[17:40:30] WARNING: D:\\Build\\xgboost\\xgboost-1.1.0.git\\python-package\\build\\temp.win-amd64-3.7\\Release\\xgboost\\src\\learner.cc:480: \nParameters: { silent } might not be used.\n\n  This may not be accurate due to some parameters are only used in language bindings but\n  passed down to XGBoost core.  Or some parameters are not used but slip through this\n  verification. Please open an issue if you find above cases.\n\n\nscale_pos_weight: 1\n\tAccuracy:0.9272727272727272\n\tRecall:0.6923076923076923\n\tAUC:0.9741902834008097\n[17:40:30] WARNING: D:\\Build\\xgboost\\xgboost-1.1.0.git\\python-package\\build\\temp.win-amd64-3.7\\Release\\xgboost\\src\\learner.cc:480: \nParameters: { silent } might not be used.\n\n  This may not be accurate due to some parameters are only used in language bindings but\n  passed down to XGBoost core.  Or some parameters are not used but slip through this\n  verification. Please open an issue if you find above cases.\n\n\nscale_pos_weight: 5\n\tAccuracy:0.9393939393939394\n\tRecall:0.8461538461538461\n\tAUC:0.9635627530364372\n[17:40:30] WARNING: D:\\Build\\xgboost\\xgboost-1.1.0.git\\python-package\\build\\temp.win-amd64-3.7\\Release\\xgboost\\src\\learner.cc:480: \nParameters: { silent } might not be used.\n\n  This may not be accurate due to some parameters are only used in language bindings but\n  passed down to XGBoost core.  Or some parameters are not used but slip through this\n  verification. Please open an issue if you find above cases.\n\n\nscale_pos_weight: 10\n\tAccuracy:0.9515151515151515\n\tRecall:1.0\n\tAUC:0.9665991902834008\n"
     ],
     "output_type": "stream"
    }
   ],
   "source": [
    "#样本不平衡时可以调节scale_pos_weight\n",
    "from sklearn.metrics import accuracy_score as accuracy, recall_score as recall, roc_auc_score as auc\n",
    "\n",
    "scale_pos_weight = [1,5,10]\n",
    "for i in scale_pos_weight:\n",
    "    param = {'silent':True,'objective':'binary:logistic'\n",
    "            ,\"eta\":0.1,\"scale_pos_weight\":i}\n",
    "    num_round = 100\n",
    "    clf = xgb.train(param, dtrain, num_round)\n",
    "    preds = clf.predict(dtest)\n",
    "    ypred = preds.copy()\n",
    "    ypred[preds > 0.5] = 1\n",
    "    ypred[ypred != 1] = 0\n",
    "    print('scale_pos_weight:',i)\n",
    "    print(\"\\tAccuracy:{}\".format(accuracy(Ytest,ypred)))\n",
    "    print(\"\\tRecall:{}\".format(recall(Ytest,ypred)))\n",
    "    print(\"\\tAUC:{}\".format(auc(Ytest,preds)))"
   ],
   "metadata": {
    "collapsed": false,
    "pycharm": {
     "name": "#%%\n",
     "is_executing": false
    }
   }
  },
  {
   "cell_type": "markdown",
   "source": [
    "可以发现scale_pos_weight越大，效果越好。"
   ],
   "metadata": {
    "collapsed": false,
    "pycharm": {
     "name": "#%% md\n"
    }
   }
  },
  {
   "cell_type": "code",
   "execution_count": 33,
   "outputs": [
    {
     "name": "stdout",
     "text": [
      "[17:40:31] WARNING: D:\\Build\\xgboost\\xgboost-1.1.0.git\\python-package\\build\\temp.win-amd64-3.7\\Release\\xgboost\\src\\learner.cc:480: \nParameters: { silent } might not be used.\n\n  This may not be accurate due to some parameters are only used in language bindings but\n  passed down to XGBoost core.  Or some parameters are not used but slip through this\n  verification. Please open an issue if you find above cases.\n\n\nthresholds:0.3\n\tAccuracy:0.9515151515151515\n\tRecall:1.0\n\tAUC:0.9665991902834008\n[17:40:31] WARNING: D:\\Build\\xgboost\\xgboost-1.1.0.git\\python-package\\build\\temp.win-amd64-3.7\\Release\\xgboost\\src\\learner.cc:480: \nParameters: { silent } might not be used.\n\n  This may not be accurate due to some parameters are only used in language bindings but\n  passed down to XGBoost core.  Or some parameters are not used but slip through this\n  verification. Please open an issue if you find above cases.\n\n\nthresholds:0.5",
      "\n\tAccuracy:0.9515151515151515\n\tRecall:1.0\n\tAUC:0.9665991902834008\n[17:40:31] WARNING: D:\\Build\\xgboost\\xgboost-1.1.0.git\\python-package\\build\\temp.win-amd64-3.7\\Release\\xgboost\\src\\learner.cc:480: \nParameters: { silent } might not be used.\n\n  This may not be accurate due to some parameters are only used in language bindings but\n  passed down to XGBoost core.  Or some parameters are not used but slip through this\n  verification. Please open an issue if you find above cases.\n\n\nthresholds:0.7\n\tAccuracy:0.9393939393939394\n\tRecall:0.8461538461538461\n\tAUC:0.9665991902834008\n[17:40:31] WARNING: D:\\Build\\xgboost\\xgboost-1.1.0.git\\python-package\\build\\temp.win-amd64-3.7\\Release\\xgboost\\src\\learner.cc:480: \nParameters: { silent } might not be used.\n\n  This may not be accurate due to some parameters are only used in language bindings but\n  passed down to XGBoost core.  Or some parameters are not used but slip through this\n  verification. Please open an issue if you find above cases.\n\n\nthresholds:0.9",
      "\n\tAccuracy:0.9212121212121213\n\tRecall:0.6153846153846154\n\tAUC:0.9665991902834008\n"
     ],
     "output_type": "stream"
    }
   ],
   "source": [
    "#当然我们也可以尝试不同的阈值\n",
    "for thres in [0.3,0.5,0.7,0.9]:\n",
    "    param= {'silent':True,'objective':'binary:logistic'\n",
    "            ,\"eta\":0.1,\"scale_pos_weight\":10}\n",
    "    clf = xgb.train(param, dtrain, num_round)\n",
    "    preds = clf.predict(dtest)\n",
    "    ypred = preds.copy()\n",
    "    ypred[preds > thres] = 1\n",
    "    ypred[ypred != 1] = 0\n",
    "    print(\"thresholds:{}\".format(thres))\n",
    "    print(\"\\tAccuracy:{}\".format(accuracy(Ytest,ypred)))\n",
    "    print(\"\\tRecall:{}\".format(recall(Ytest,ypred)))\n",
    "    print(\"\\tAUC:{}\".format(auc(Ytest,preds)))"
   ],
   "metadata": {
    "collapsed": false,
    "pycharm": {
     "name": "#%%\n",
     "is_executing": false
    }
   }
  },
  {
   "cell_type": "markdown",
   "source": [
    "发现0.5效果还是挺不错的，主要是scale_pos_weight的影响更为重要。"
   ],
   "metadata": {
    "collapsed": false,
    "pycharm": {
     "name": "#%% md\n"
    }
   }
  },
  {
   "cell_type": "markdown",
   "source": [
    "### 3.模型保存及加载\n",
    "\n",
    "共有三种方式。"
   ],
   "metadata": {
    "collapsed": false
   }
  },
  {
   "cell_type": "markdown",
   "source": [
    "（1）XGBoost自带"
   ],
   "metadata": {
    "collapsed": false,
    "pycharm": {
     "name": "#%% md\n"
    }
   }
  },
  {
   "cell_type": "code",
   "execution_count": 34,
   "outputs": [],
   "source": [
    "data = load_boston()\n",
    "X = data.data\n",
    "y = data.target\n",
    "\n",
    "Xtrain,Xtest,Ytrain,Ytest = train_test_split(X,y,test_size=0.3,random_state=420)"
   ],
   "metadata": {
    "collapsed": false,
    "pycharm": {
     "name": "#%%\n",
     "is_executing": false
    }
   }
  },
  {
   "cell_type": "code",
   "execution_count": 35,
   "outputs": [
    {
     "name": "stdout",
     "text": [
      "[17:40:31] WARNING: D:\\Build\\xgboost\\xgboost-1.1.0.git\\python-package\\build\\temp.win-amd64-3.7\\Release\\xgboost\\src\\learner.cc:480: \nParameters: { lamada, max_child_weight, silent } might not be used.\n\n  This may not be accurate due to some parameters are only used in language bindings but\n  passed down to XGBoost core.  Or some parameters are not used but slip through this\n  verification. Please open an issue if you find above cases.\n\n\n"
     ],
     "output_type": "stream"
    },
    {
     "data": {
      "text/plain": "2.6938745677047296"
     },
     "metadata": {},
     "output_type": "execute_result",
     "execution_count": 35
    }
   ],
   "source": [
    "dtrain=xgb.DMatrix(Xtrain,Ytrain)\n",
    "dtest=xgb.DMatrix(Xtest)\n",
    "\n",
    "# 设置参数\n",
    "params={\n",
    "    'booster':'gbtree',\n",
    "    'objective':'reg:squarederror',\n",
    "    'eval_metric':'rmse',\n",
    "    'eta':0.1,\n",
    "    'max_depth':5,\n",
    "    'max_child_weight':2,\n",
    "    'gamma':0.1,\n",
    "    'subsample':0.8,\n",
    "    'colsample_bytree':0.8,\n",
    "    'lamada':2,\n",
    "    'silent':True,\n",
    "    'seed':78,\n",
    "    'nthread':4\n",
    "}\n",
    "\n",
    "# 训练模型\n",
    "xgb_model=xgb.train(params,dtrain,num_boost_round=100)\n",
    "# 保存模型\n",
    "xgb_model.save_model('./01.model')\n",
    "\n",
    "#预测\n",
    "pred=xgb_model.predict(dtest)\n",
    "np.sqrt(mean_squared_error(Ytest,pred))"
   ],
   "metadata": {
    "collapsed": false,
    "pycharm": {
     "name": "#%%\n",
     "is_executing": false
    }
   }
  },
  {
   "cell_type": "code",
   "execution_count": 36,
   "outputs": [
    {
     "data": {
      "text/plain": "2.6938745677047296"
     },
     "metadata": {},
     "output_type": "execute_result",
     "execution_count": 36
    }
   ],
   "source": [
    "# 初始化模型并载入模型\n",
    "xgb_model=xgb.Booster({'nthread':4})\n",
    "xgb_model.load_model('./01.model')\n",
    "\n",
    "#预测，发现预测分数与之前一致，说明成功保存并加载模型\n",
    "pred=xgb_model.predict(dtest)\n",
    "np.sqrt(mean_squared_error(Ytest,pred))"
   ],
   "metadata": {
    "collapsed": false,
    "pycharm": {
     "name": "#%%\n",
     "is_executing": false
    }
   }
  },
  {
   "cell_type": "markdown",
   "source": [
    " \n",
    "（2）pickle保存载入"
   ],
   "metadata": {
    "collapsed": false,
    "pycharm": {
     "name": "#%% md\n"
    }
   }
  },
  {
   "cell_type": "code",
   "execution_count": 37,
   "outputs": [],
   "source": [
    "import pickle\n",
    "\n",
    "#保存模型为二进制文件\n",
    "pickle.dump(xgb_model, open(\"./02.dat\",\"wb\"))"
   ],
   "metadata": {
    "collapsed": false,
    "pycharm": {
     "name": "#%%\n",
     "is_executing": false
    }
   }
  },
  {
   "cell_type": "code",
   "execution_count": 38,
   "outputs": [
    {
     "data": {
      "text/plain": "2.6938745677047296"
     },
     "metadata": {},
     "output_type": "execute_result",
     "execution_count": 38
    }
   ],
   "source": [
    "#导入模型\n",
    "loaded_model = pickle.load(open(\"./02.dat\", \"rb\"))\n",
    "\n",
    "#做预测\n",
    "pred=loaded_model.predict(dtest)\n",
    "np.sqrt(mean_squared_error(Ytest,pred))"
   ],
   "metadata": {
    "collapsed": false,
    "pycharm": {
     "name": "#%%\n",
     "is_executing": false
    }
   }
  },
  {
   "cell_type": "markdown",
   "source": [
    " \n",
    "（2）joblib保存载入"
   ],
   "metadata": {
    "collapsed": false
   }
  },
  {
   "cell_type": "code",
   "execution_count": 39,
   "outputs": [
    {
     "data": {
      "text/plain": "['./03.dat']"
     },
     "metadata": {},
     "output_type": "execute_result",
     "execution_count": 39
    }
   ],
   "source": [
    "import joblib\n",
    "\n",
    "joblib.dump(xgb_model,\"./03.dat\")"
   ],
   "metadata": {
    "collapsed": false,
    "pycharm": {
     "name": "#%%\n",
     "is_executing": false
    }
   }
  },
  {
   "cell_type": "code",
   "execution_count": 40,
   "outputs": [
    {
     "data": {
      "text/plain": "2.6938745677047296"
     },
     "metadata": {},
     "output_type": "execute_result",
     "execution_count": 40
    }
   ],
   "source": [
    "#导入模型\n",
    "loaded_model = joblib.load(\"./03.dat\")\n",
    "\n",
    "#做预测\n",
    "pred=loaded_model.predict(dtest)\n",
    "np.sqrt(mean_squared_error(Ytest,pred))"
   ],
   "metadata": {
    "collapsed": false,
    "pycharm": {
     "name": "#%%\n",
     "is_executing": false
    }
   }
  }
 ],
 "metadata": {
  "kernelspec": {
   "display_name": "Python 3",
   "language": "python",
   "name": "python3"
  },
  "language_info": {
   "codemirror_mode": {
    "name": "ipython",
    "version": 2
   },
   "file_extension": ".py",
   "mimetype": "text/x-python",
   "name": "python",
   "nbconvert_exporter": "python",
   "pygments_lexer": "ipython2",
   "version": "2.7.6"
  },
  "pycharm": {
   "stem_cell": {
    "cell_type": "raw",
    "source": [],
    "metadata": {
     "collapsed": false
    }
   }
  }
 },
 "nbformat": 4,
 "nbformat_minor": 0
}