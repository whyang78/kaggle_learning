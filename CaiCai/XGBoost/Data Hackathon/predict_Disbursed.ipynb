{
 "cells": [
  {
   "cell_type": "code",
   "execution_count": 1,
   "metadata": {
    "collapsed": true,
    "pycharm": {
     "is_executing": false
    }
   },
   "outputs": [],
   "source": [
    "import pandas as pd\n",
    "import numpy as np\n",
    "import warnings \n",
    "warnings.filterwarnings('ignore')"
   ]
  },
  {
   "cell_type": "code",
   "execution_count": 2,
   "outputs": [
    {
     "name": "stdout",
     "text": [
      "<class 'pandas.core.frame.DataFrame'>\nRangeIndex: 87020 entries, 0 to 87019\nData columns (total 26 columns):\nID                       87020 non-null object\nGender                   87020 non-null object\nCity                     86017 non-null object\nMonthly_Income           87020 non-null int64\nDOB                      87020 non-null object\nLead_Creation_Date       87020 non-null object\nLoan_Amount_Applied      86949 non-null float64\nLoan_Tenure_Applied      86949 non-null float64\nExisting_EMI             86949 non-null float64\nEmployer_Name            86949 non-null object\nSalary_Account           75256 non-null object\nMobile_Verified          87020 non-null object\nVar5                     87020 non-null object\nVar1                     87019 non-null object\nLoan_Amount_Submitted    52407 non-null float64\nLoan_Tenure_Submitted    52407 non-null float64\nInterest_Rate            27726 non-null float64\nProcessing_Fee           27420 non-null float64\nEMI_Loan_Submitted       27727 non-null object\nFilled_Form              87020 non-null object\nDevice_Type              87020 non-null object\nVar2                     87020 non-null object\nSource                   87020 non-null object\nVar4                     87020 non-null int64\nLoggedIn                 87020 non-null int64\nDisbursed                87019 non-null float64\ndtypes: float64(8), int64(3), object(15)\nmemory usage: 17.3+ MB\n"
     ],
     "output_type": "stream"
    }
   ],
   "source": [
    "data=pd.read_csv('./train.csv',encoding='latin-1')\n",
    "data.info()"
   ],
   "metadata": {
    "collapsed": false,
    "pycharm": {
     "name": "#%%\n",
     "is_executing": false
    }
   }
  },
  {
   "cell_type": "code",
   "execution_count": 3,
   "outputs": [
    {
     "data": {
      "text/plain": "ID                           0\nVar4                         0\nSource                       0\nVar2                         0\nDevice_Type                  0\nFilled_Form                  0\nLoggedIn                     0\nMobile_Verified              0\nVar5                         0\nGender                       0\nMonthly_Income               0\nDOB                          0\nLead_Creation_Date           0\nDisbursed                    1\nVar1                         1\nExisting_EMI                71\nEmployer_Name               71\nLoan_Amount_Applied         71\nLoan_Tenure_Applied         71\nCity                      1003\nSalary_Account           11764\nLoan_Tenure_Submitted    34613\nLoan_Amount_Submitted    34613\nEMI_Loan_Submitted       59293\nInterest_Rate            59294\nProcessing_Fee           59600\ndtype: int64"
     },
     "metadata": {},
     "output_type": "execute_result",
     "execution_count": 3
    }
   ],
   "source": [
    "pd.isnull(data).sum().sort_values()"
   ],
   "metadata": {
    "collapsed": false,
    "pycharm": {
     "name": "#%%\n",
     "is_executing": false
    }
   }
  },
  {
   "cell_type": "markdown",
   "source": [
    "### 特征工程\n",
    "\n",
    "+ City variable dropped because of too many categories\n",
    "+ DOB converted to Age | DOB dropped\n",
    "+ EMI_Loan_Submitted_Missing created which is 1 if EMI_Loan_Submitted was missing else 0 | Original variable EMI_Loan_Submitted dropped\n",
    "+ EmployerName dropped because of too many categories\n",
    "+ Existing_EMI imputed with 0 (median) since only 111 values were missing\n",
    "+ Interest_Rate_Missing created which is 1 if Interest_Rate was missing else 0 | Original variable Interest_Rate dropped\n",
    "+ Lead_Creation_Date dropped because made little intuitive impact on outcome\n",
    "+ Loan_Amount_Applied, Loan_Tenure_Applied imputed with median values\n",
    "+ Loan_Amount_Submitted_Missing created which is 1 if Loan_Amount_Submitted was missing else 0 | Original variable Loan_Amount_Submitted dropped\n",
    "+ Loan_Tenure_Submitted_Missing created which is 1 if Loan_Tenure_Submitted was missing else 0 | Original variable Loan_Tenure_Submitted dropped\n",
    "+ LoggedIn, Salary_Account dropped\n",
    "+ Processing_Fee_Missing created which is 1 if Processing_Fee was missing else 0 | Original variable Processing_Fee dropped\n",
    "+ Source – top 2 kept as is and all others combined into different category\n",
    "+ Numerical and One-Hot-Coding performed"
   ],
   "metadata": {
    "collapsed": false,
    "pycharm": {
     "name": "#%% md\n"
    }
   }
  },
  {
   "cell_type": "code",
   "execution_count": 4,
   "outputs": [],
   "source": [
    "data.drop(['City'],axis=1,inplace=True)"
   ],
   "metadata": {
    "collapsed": false,
    "pycharm": {
     "name": "#%%\n",
     "is_executing": false
    }
   }
  },
  {
   "cell_type": "code",
   "execution_count": 5,
   "outputs": [
    {
     "data": {
      "text/plain": "0    42\n1    35\n2    39\n3    33\n4    36\nName: Age, dtype: int64"
     },
     "metadata": {},
     "output_type": "execute_result",
     "execution_count": 5
    }
   ],
   "source": [
    "# 出生日期转换成年龄\n",
    "data['Age']=data['DOB'].apply(lambda x:120-int(x[-2:]))\n",
    "data.drop('DOB',axis=1,inplace=True)\n",
    "data['Age'].head(5)"
   ],
   "metadata": {
    "collapsed": false,
    "pycharm": {
     "name": "#%%\n",
     "is_executing": false
    }
   }
  },
  {
   "cell_type": "code",
   "execution_count": 6,
   "outputs": [
    {
     "data": {
      "text/plain": "0    1\n1    0\n2    1\n3    1\n4    1\nName: EMI_Loan_Submitted_Missing, dtype: int64"
     },
     "metadata": {},
     "output_type": "execute_result",
     "execution_count": 6
    }
   ],
   "source": [
    "data['EMI_Loan_Submitted_Missing']=data['EMI_Loan_Submitted'].apply(lambda x:1 if pd.isnull(x) else 0)\n",
    "data.drop(['EMI_Loan_Submitted'],axis=1,inplace=True)\n",
    "data['EMI_Loan_Submitted_Missing'].head()"
   ],
   "metadata": {
    "collapsed": false,
    "pycharm": {
     "name": "#%%\n",
     "is_executing": false
    }
   }
  },
  {
   "cell_type": "code",
   "execution_count": 7,
   "outputs": [],
   "source": [
    "data.drop(['Employer_Name'],axis=1,inplace=True)"
   ],
   "metadata": {
    "collapsed": false,
    "pycharm": {
     "name": "#%%\n",
     "is_executing": false
    }
   }
  },
  {
   "cell_type": "code",
   "execution_count": 8,
   "outputs": [
    {
     "data": {
      "text/plain": "0        0.0\n1        0.0\n2        0.0\n3        0.0\n4    25000.0\nName: Existing_EMI, dtype: float64"
     },
     "metadata": {},
     "output_type": "execute_result",
     "execution_count": 8
    }
   ],
   "source": [
    "data['Existing_EMI'].fillna(0,inplace=True)\n",
    "data['Existing_EMI'].head()"
   ],
   "metadata": {
    "collapsed": false,
    "pycharm": {
     "name": "#%%\n",
     "is_executing": false
    }
   }
  },
  {
   "cell_type": "code",
   "execution_count": 9,
   "outputs": [
    {
     "data": {
      "text/plain": "0    1\n1    0\n2    1\n3    1\n4    1\nName: Interest_Rate_Missing, dtype: int64"
     },
     "metadata": {},
     "output_type": "execute_result",
     "execution_count": 9
    }
   ],
   "source": [
    "data['Interest_Rate_Missing']=data['Interest_Rate'].apply(lambda x:1 if pd.isnull(x) else 0)\n",
    "data.drop(['Interest_Rate'],axis=1,inplace=True)\n",
    "data['Interest_Rate_Missing'].head()"
   ],
   "metadata": {
    "collapsed": false,
    "pycharm": {
     "name": "#%%\n",
     "is_executing": false
    }
   }
  },
  {
   "cell_type": "code",
   "execution_count": 10,
   "outputs": [],
   "source": [
    "data.drop(['Lead_Creation_Date'],axis=1,inplace=True)"
   ],
   "metadata": {
    "collapsed": false,
    "pycharm": {
     "name": "#%%\n",
     "is_executing": false
    }
   }
  },
  {
   "cell_type": "code",
   "execution_count": 11,
   "outputs": [],
   "source": [
    "data['Loan_Amount_Applied'].fillna(data['Loan_Amount_Applied'].median(),inplace=True)\n",
    "data['Loan_Tenure_Applied'].fillna(data['Loan_Tenure_Applied'].median(),inplace=True)"
   ],
   "metadata": {
    "collapsed": false,
    "pycharm": {
     "name": "#%%\n",
     "is_executing": false
    }
   }
  },
  {
   "cell_type": "code",
   "execution_count": 12,
   "outputs": [],
   "source": [
    "data['Loan_Amount_Submitted_Missing'] = data['Loan_Amount_Submitted'].apply(lambda x: 1 if pd.isnull(x) else 0)\n",
    "data['Loan_Tenure_Submitted_Missing'] = data['Loan_Tenure_Submitted'].apply(lambda x: 1 if pd.isnull(x) else 0)\n",
    "data.drop(['Loan_Amount_Submitted','Loan_Tenure_Submitted'],axis=1,inplace=True)"
   ],
   "metadata": {
    "collapsed": false,
    "pycharm": {
     "name": "#%%\n",
     "is_executing": false
    }
   }
  },
  {
   "cell_type": "code",
   "execution_count": 13,
   "outputs": [],
   "source": [
    "data.drop(['LoggedIn','Salary_Account'],axis=1,inplace=True)"
   ],
   "metadata": {
    "collapsed": false,
    "pycharm": {
     "name": "#%%\n",
     "is_executing": false
    }
   }
  },
  {
   "cell_type": "code",
   "execution_count": 14,
   "outputs": [],
   "source": [
    "data['Processing_Fee_Missing'] = data['Processing_Fee'].apply(lambda x: 1 if pd.isnull(x) else 0)\n",
    "data.drop('Processing_Fee',axis=1,inplace=True)"
   ],
   "metadata": {
    "collapsed": false,
    "pycharm": {
     "name": "#%%\n",
     "is_executing": false
    }
   }
  },
  {
   "cell_type": "code",
   "execution_count": 15,
   "outputs": [
    {
     "data": {
      "text/plain": "S122      38566\nS133      29885\nothers    18569\nName: Source, dtype: int64"
     },
     "metadata": {},
     "output_type": "execute_result",
     "execution_count": 15
    }
   ],
   "source": [
    "data['Source'] = data['Source'].apply(lambda x: 'others' if x not in ['S122','S133'] else x)\n",
    "data['Source'].value_counts()"
   ],
   "metadata": {
    "collapsed": false,
    "pycharm": {
     "name": "#%%\n",
     "is_executing": false
    }
   }
  },
  {
   "cell_type": "code",
   "execution_count": 16,
   "outputs": [],
   "source": [
    "data.drop(['ID'],axis=1,inplace=True)\n",
    "data.dropna(axis=0,inplace=True)"
   ],
   "metadata": {
    "collapsed": false,
    "pycharm": {
     "name": "#%%\n",
     "is_executing": false
    }
   }
  },
  {
   "cell_type": "code",
   "execution_count": 17,
   "outputs": [
    {
     "name": "stdout",
     "text": [
      "<class 'pandas.core.frame.DataFrame'>\nInt64Index: 87019 entries, 0 to 87019\nData columns (total 20 columns):\nGender                           87019 non-null object\nMonthly_Income                   87019 non-null int64\nLoan_Amount_Applied              87019 non-null float64\nLoan_Tenure_Applied              87019 non-null float64\nExisting_EMI                     87019 non-null float64\nMobile_Verified                  87019 non-null object\nVar5                             87019 non-null object\nVar1                             87019 non-null object\nFilled_Form                      87019 non-null object\nDevice_Type                      87019 non-null object\nVar2                             87019 non-null object\nSource                           87019 non-null object\nVar4                             87019 non-null int64\nDisbursed                        87019 non-null float64\nAge                              87019 non-null int64\nEMI_Loan_Submitted_Missing       87019 non-null int64\nInterest_Rate_Missing            87019 non-null int64\nLoan_Amount_Submitted_Missing    87019 non-null int64\nLoan_Tenure_Submitted_Missing    87019 non-null int64\nProcessing_Fee_Missing           87019 non-null int64\ndtypes: float64(4), int64(8), object(8)\nmemory usage: 13.9+ MB\n"
     ],
     "output_type": "stream"
    }
   ],
   "source": [
    "data.info()"
   ],
   "metadata": {
    "collapsed": false,
    "pycharm": {
     "name": "#%%\n",
     "is_executing": false
    }
   }
  },
  {
   "cell_type": "code",
   "execution_count": 18,
   "outputs": [
    {
     "data": {
      "text/plain": "                                         0            1            2  \\\nGender                              Female         Male         Male   \nMonthly_Income                       20000        35000        22500   \nLoan_Amount_Applied                 300000       200000       600000   \nLoan_Tenure_Applied                      5            2            4   \nExisting_EMI                             0            0            0   \nMobile_Verified                          N            Y            Y   \nVar5                                     0           13            0   \nVar1                                  HBXX         HBXA         HBXX   \nFilled_Form                              N            N            N   \nDevice_Type                    Web-browser  Web-browser  Web-browser   \nVar2                                     G            G            B   \nSource                                S122         S122       others   \nVar4                                     1            3            1   \nDisbursed                                0            0            0   \nAge                                     42           35           39   \nEMI_Loan_Submitted_Missing               1            0            1   \nInterest_Rate_Missing                    1            0            1   \nLoan_Amount_Submitted_Missing            1            0            0   \nLoan_Tenure_Submitted_Missing            1            0            0   \nProcessing_Fee_Missing                   1            1            1   \n\n                                         3            4  \nGender                                Male         Male  \nMonthly_Income                       35000       100000  \nLoan_Amount_Applied                  1e+06       500000  \nLoan_Tenure_Applied                      5            2  \nExisting_EMI                             0        25000  \nMobile_Verified                          Y            Y  \nVar5                                    10           17  \nVar1                                  HBXX         HBXX  \nFilled_Form                              N            N  \nDevice_Type                    Web-browser  Web-browser  \nVar2                                     B            B  \nSource                              others       others  \nVar4                                     3            3  \nDisbursed                                0            0  \nAge                                     33           36  \nEMI_Loan_Submitted_Missing               1            1  \nInterest_Rate_Missing                    1            1  \nLoan_Amount_Submitted_Missing            0            0  \nLoan_Tenure_Submitted_Missing            0            0  \nProcessing_Fee_Missing                   1            1  ",
      "text/html": "<div>\n<style scoped>\n    .dataframe tbody tr th:only-of-type {\n        vertical-align: middle;\n    }\n\n    .dataframe tbody tr th {\n        vertical-align: top;\n    }\n\n    .dataframe thead th {\n        text-align: right;\n    }\n</style>\n<table border=\"1\" class=\"dataframe\">\n  <thead>\n    <tr style=\"text-align: right;\">\n      <th></th>\n      <th>0</th>\n      <th>1</th>\n      <th>2</th>\n      <th>3</th>\n      <th>4</th>\n    </tr>\n  </thead>\n  <tbody>\n    <tr>\n      <th>Gender</th>\n      <td>Female</td>\n      <td>Male</td>\n      <td>Male</td>\n      <td>Male</td>\n      <td>Male</td>\n    </tr>\n    <tr>\n      <th>Monthly_Income</th>\n      <td>20000</td>\n      <td>35000</td>\n      <td>22500</td>\n      <td>35000</td>\n      <td>100000</td>\n    </tr>\n    <tr>\n      <th>Loan_Amount_Applied</th>\n      <td>300000</td>\n      <td>200000</td>\n      <td>600000</td>\n      <td>1e+06</td>\n      <td>500000</td>\n    </tr>\n    <tr>\n      <th>Loan_Tenure_Applied</th>\n      <td>5</td>\n      <td>2</td>\n      <td>4</td>\n      <td>5</td>\n      <td>2</td>\n    </tr>\n    <tr>\n      <th>Existing_EMI</th>\n      <td>0</td>\n      <td>0</td>\n      <td>0</td>\n      <td>0</td>\n      <td>25000</td>\n    </tr>\n    <tr>\n      <th>Mobile_Verified</th>\n      <td>N</td>\n      <td>Y</td>\n      <td>Y</td>\n      <td>Y</td>\n      <td>Y</td>\n    </tr>\n    <tr>\n      <th>Var5</th>\n      <td>0</td>\n      <td>13</td>\n      <td>0</td>\n      <td>10</td>\n      <td>17</td>\n    </tr>\n    <tr>\n      <th>Var1</th>\n      <td>HBXX</td>\n      <td>HBXA</td>\n      <td>HBXX</td>\n      <td>HBXX</td>\n      <td>HBXX</td>\n    </tr>\n    <tr>\n      <th>Filled_Form</th>\n      <td>N</td>\n      <td>N</td>\n      <td>N</td>\n      <td>N</td>\n      <td>N</td>\n    </tr>\n    <tr>\n      <th>Device_Type</th>\n      <td>Web-browser</td>\n      <td>Web-browser</td>\n      <td>Web-browser</td>\n      <td>Web-browser</td>\n      <td>Web-browser</td>\n    </tr>\n    <tr>\n      <th>Var2</th>\n      <td>G</td>\n      <td>G</td>\n      <td>B</td>\n      <td>B</td>\n      <td>B</td>\n    </tr>\n    <tr>\n      <th>Source</th>\n      <td>S122</td>\n      <td>S122</td>\n      <td>others</td>\n      <td>others</td>\n      <td>others</td>\n    </tr>\n    <tr>\n      <th>Var4</th>\n      <td>1</td>\n      <td>3</td>\n      <td>1</td>\n      <td>3</td>\n      <td>3</td>\n    </tr>\n    <tr>\n      <th>Disbursed</th>\n      <td>0</td>\n      <td>0</td>\n      <td>0</td>\n      <td>0</td>\n      <td>0</td>\n    </tr>\n    <tr>\n      <th>Age</th>\n      <td>42</td>\n      <td>35</td>\n      <td>39</td>\n      <td>33</td>\n      <td>36</td>\n    </tr>\n    <tr>\n      <th>EMI_Loan_Submitted_Missing</th>\n      <td>1</td>\n      <td>0</td>\n      <td>1</td>\n      <td>1</td>\n      <td>1</td>\n    </tr>\n    <tr>\n      <th>Interest_Rate_Missing</th>\n      <td>1</td>\n      <td>0</td>\n      <td>1</td>\n      <td>1</td>\n      <td>1</td>\n    </tr>\n    <tr>\n      <th>Loan_Amount_Submitted_Missing</th>\n      <td>1</td>\n      <td>0</td>\n      <td>0</td>\n      <td>0</td>\n      <td>0</td>\n    </tr>\n    <tr>\n      <th>Loan_Tenure_Submitted_Missing</th>\n      <td>1</td>\n      <td>0</td>\n      <td>0</td>\n      <td>0</td>\n      <td>0</td>\n    </tr>\n    <tr>\n      <th>Processing_Fee_Missing</th>\n      <td>1</td>\n      <td>1</td>\n      <td>1</td>\n      <td>1</td>\n      <td>1</td>\n    </tr>\n  </tbody>\n</table>\n</div>"
     },
     "metadata": {},
     "output_type": "execute_result",
     "execution_count": 18
    }
   ],
   "source": [
    "data.head().T"
   ],
   "metadata": {
    "collapsed": false,
    "pycharm": {
     "name": "#%%\n",
     "is_executing": false
    }
   }
  },
  {
   "cell_type": "code",
   "execution_count": 19,
   "outputs": [],
   "source": [
    "# 数值编码\n",
    "from sklearn.preprocessing import LabelEncoder\n",
    "le = LabelEncoder()\n",
    "var_to_encode = ['Device_Type','Filled_Form','Gender','Var1','Var2','Mobile_Verified','Source']\n",
    "for col in var_to_encode:\n",
    "    data[col] = le.fit_transform(data[col]).astype('object')"
   ],
   "metadata": {
    "collapsed": false,
    "pycharm": {
     "name": "#%%\n",
     "is_executing": false
    }
   }
  },
  {
   "cell_type": "code",
   "execution_count": 20,
   "outputs": [],
   "source": [
    "data = pd.get_dummies(data)"
   ],
   "metadata": {
    "collapsed": false,
    "pycharm": {
     "name": "#%%\n",
     "is_executing": false
    }
   }
  },
  {
   "cell_type": "code",
   "execution_count": 21,
   "outputs": [
    {
     "data": {
      "text/plain": "(87019, 86)"
     },
     "metadata": {},
     "output_type": "execute_result",
     "execution_count": 21
    }
   ],
   "source": [
    "data.shape"
   ],
   "metadata": {
    "collapsed": false,
    "pycharm": {
     "name": "#%%\n",
     "is_executing": false
    }
   }
  },
  {
   "cell_type": "markdown",
   "source": [
    "### 模型训练"
   ],
   "metadata": {
    "collapsed": false,
    "pycharm": {
     "name": "#%% md\n"
    }
   }
  },
  {
   "cell_type": "code",
   "execution_count": 22,
   "outputs": [],
   "source": [
    "x=data.loc[:,data.columns!='Disbursed'].values\n",
    "y=data.loc[:,'Disbursed'].values"
   ],
   "metadata": {
    "collapsed": false,
    "pycharm": {
     "name": "#%%\n",
     "is_executing": false
    }
   }
  },
  {
   "cell_type": "code",
   "execution_count": 23,
   "outputs": [],
   "source": [
    "import xgboost as xgb\n",
    "from xgboost import XGBClassifier\n",
    "from sklearn.model_selection import GridSearchCV"
   ],
   "metadata": {
    "collapsed": false,
    "pycharm": {
     "name": "#%%\n",
     "is_executing": false
    }
   }
  },
  {
   "cell_type": "markdown",
   "source": [
    "（1）设置默认的模型常数，根据一定的学习率得到最优迭代次数"
   ],
   "metadata": {
    "collapsed": false,
    "pycharm": {
     "name": "#%% md\n"
    }
   }
  },
  {
   "cell_type": "code",
   "execution_count": 26,
   "outputs": [],
   "source": [
    "xgb_model = XGBClassifier( \n",
    " learning_rate =0.1,              # 典型值范围：0.01～0.2\n",
    " n_estimators=200,               # 迭代次数第一次一般选择较多一点\n",
    " max_depth=5,                     # 典型值范围：3～10\n",
    " min_child_weight=1,              # 最小叶子节点最小权重和为1，让树尽可能的生长\n",
    " gamma=0,                         # 不限制节点分裂，\n",
    " subsample=0.8,                   # 每次树构建选择的样本采样比例，典型值范围：0.5~1\n",
    " colsample_bytree=0.8,            # 每次树构建时选择的特征采样比例，典型值范围：0.5~1\n",
    " objective= 'binary:logistic',    # 目标损失函数采用二分类的logistic回归函数\n",
    " nthread=1,                       # 默认是选择最大的线程数，这里选择4\n",
    " scale_pos_weight=10,              # 正负比例极其不平衡，因此设置1\n",
    " seed=27)   "
   ],
   "metadata": {
    "collapsed": false,
    "pycharm": {
     "name": "#%%\n",
     "is_executing": false
    }
   }
  },
  {
   "cell_type": "code",
   "execution_count": 27,
   "outputs": [
    {
     "name": "stdout",
     "text": [
      "[0]\ttrain-auc:0.76433+0.00429\ttest-auc:0.74521+0.01333\n",
      "[1]\ttrain-auc:0.82244+0.01435\ttest-auc:0.79760+0.01971\n",
      "[2]\ttrain-auc:0.83127+0.01378\ttest-auc:0.80740+0.01727\n",
      "[3]\ttrain-auc:0.83583+0.01277\ttest-auc:0.81103+0.01654\n",
      "[4]\ttrain-auc:0.84379+0.00390\ttest-auc:0.81765+0.01056\n",
      "[5]\ttrain-auc:0.84734+0.00363\ttest-auc:0.82108+0.00994\n",
      "[6]\ttrain-auc:0.84973+0.00305\ttest-auc:0.82318+0.01033\n",
      "[7]\ttrain-auc:0.85160+0.00289\ttest-auc:0.82435+0.00999\n",
      "[8]\ttrain-auc:0.85249+0.00315\ttest-auc:0.82488+0.01003\n",
      "[9]\ttrain-auc:0.85492+0.00297\ttest-auc:0.82574+0.01032\n",
      "[10]\ttrain-auc:0.85585+0.00301\ttest-auc:0.82581+0.01076\n",
      "[11]\ttrain-auc:0.85745+0.00267\ttest-auc:0.82569+0.01066\n",
      "[12]\ttrain-auc:0.85886+0.00278\ttest-auc:0.82616+0.01092\n",
      "[13]\ttrain-auc:0.86014+0.00269\ttest-auc:0.82636+0.01119\n",
      "[14]\ttrain-auc:0.86106+0.00258\ttest-auc:0.82734+0.01101\n",
      "[15]\ttrain-auc:0.86199+0.00247\ttest-auc:0.82769+0.01134\n",
      "[16]\ttrain-auc:0.86295+0.00224\ttest-auc:0.82786+0.01152\n",
      "[17]\ttrain-auc:0.86394+0.00219\ttest-auc:0.82801+0.01139\n",
      "[18]\ttrain-auc:0.86448+0.00216\ttest-auc:0.82801+0.01155\n",
      "[19]\ttrain-auc:0.86539+0.00189\ttest-auc:0.82837+0.01160\n",
      "[20]\ttrain-auc:0.86629+0.00157\ttest-auc:0.82864+0.01166\n",
      "[21]\ttrain-auc:0.86725+0.00183\ttest-auc:0.82885+0.01206\n",
      "[22]\ttrain-auc:0.86842+0.00192\ttest-auc:0.82952+0.01180\n",
      "[23]\ttrain-auc:0.86938+0.00168\ttest-auc:0.82980+0.01169\n",
      "[24]\ttrain-auc:0.87031+0.00136\ttest-auc:0.83000+0.01158\n",
      "[25]\ttrain-auc:0.87101+0.00164\ttest-auc:0.83005+0.01127\n",
      "[26]\ttrain-auc:0.87179+0.00149\ttest-auc:0.83006+0.01090\n",
      "[27]\ttrain-auc:0.87276+0.00168\ttest-auc:0.83038+0.01058\n",
      "[28]\ttrain-auc:0.87333+0.00145\ttest-auc:0.83062+0.01071\n",
      "[29]\ttrain-auc:0.87426+0.00146\ttest-auc:0.83152+0.01069\n",
      "[30]\ttrain-auc:0.87518+0.00184\ttest-auc:0.83211+0.01060\n",
      "[31]\ttrain-auc:0.87613+0.00143\ttest-auc:0.83265+0.01063\n",
      "[32]\ttrain-auc:0.87696+0.00153\ttest-auc:0.83316+0.01037\n",
      "[33]\ttrain-auc:0.87733+0.00141\ttest-auc:0.83345+0.01026\n",
      "[34]\ttrain-auc:0.87791+0.00127\ttest-auc:0.83330+0.01026\n",
      "[35]\ttrain-auc:0.87843+0.00132\ttest-auc:0.83337+0.01016\n",
      "[36]\ttrain-auc:0.87917+0.00159\ttest-auc:0.83341+0.01009\n",
      "[37]\ttrain-auc:0.87954+0.00173\ttest-auc:0.83350+0.01000\n",
      "[38]\ttrain-auc:0.88017+0.00144\ttest-auc:0.83373+0.01024\n",
      "[39]\ttrain-auc:0.88063+0.00155\ttest-auc:0.83406+0.01005\n",
      "[40]\ttrain-auc:0.88136+0.00170\ttest-auc:0.83424+0.00993\n",
      "[41]\ttrain-auc:0.88207+0.00160\ttest-auc:0.83423+0.00967\n",
      "[42]\ttrain-auc:0.88257+0.00152\ttest-auc:0.83426+0.00979\n",
      "[43]\ttrain-auc:0.88309+0.00148\ttest-auc:0.83449+0.00980\n",
      "[44]\ttrain-auc:0.88389+0.00142\ttest-auc:0.83467+0.00962\n",
      "[45]\ttrain-auc:0.88436+0.00119\ttest-auc:0.83496+0.00971\n",
      "[46]\ttrain-auc:0.88481+0.00114\ttest-auc:0.83504+0.00977\n",
      "[47]\ttrain-auc:0.88531+0.00120\ttest-auc:0.83511+0.00964\n",
      "[48]\ttrain-auc:0.88591+0.00144\ttest-auc:0.83511+0.00952\n",
      "[49]\ttrain-auc:0.88647+0.00138\ttest-auc:0.83533+0.00939\n",
      "[50]\ttrain-auc:0.88710+0.00149\ttest-auc:0.83541+0.00961\n",
      "[51]\ttrain-auc:0.88769+0.00138\ttest-auc:0.83566+0.00951\n",
      "[52]\ttrain-auc:0.88817+0.00130\ttest-auc:0.83569+0.00942\n",
      "[53]\ttrain-auc:0.88892+0.00132\ttest-auc:0.83569+0.00932\n",
      "[54]\ttrain-auc:0.88945+0.00138\ttest-auc:0.83589+0.00939\n",
      "[55]\ttrain-auc:0.89009+0.00127\ttest-auc:0.83594+0.00954\n",
      "[56]\ttrain-auc:0.89072+0.00114\ttest-auc:0.83619+0.00975\n",
      "[57]\ttrain-auc:0.89147+0.00121\ttest-auc:0.83630+0.00974\n",
      "[58]\ttrain-auc:0.89201+0.00136\ttest-auc:0.83627+0.00987\n",
      "[59]\ttrain-auc:0.89251+0.00127\ttest-auc:0.83629+0.00981\n",
      "[60]\ttrain-auc:0.89311+0.00132\ttest-auc:0.83625+0.00978\n",
      "[61]\ttrain-auc:0.89397+0.00196\ttest-auc:0.83658+0.00986\n",
      "[62]\ttrain-auc:0.89446+0.00190\ttest-auc:0.83651+0.00960\n",
      "[63]\ttrain-auc:0.89515+0.00195\ttest-auc:0.83670+0.00954\n",
      "[64]\ttrain-auc:0.89553+0.00198\ttest-auc:0.83682+0.00944\n",
      "[65]\ttrain-auc:0.89629+0.00205\ttest-auc:0.83686+0.00934\n",
      "[66]\ttrain-auc:0.89693+0.00196\ttest-auc:0.83715+0.00920\n",
      "[67]\ttrain-auc:0.89740+0.00201\ttest-auc:0.83708+0.00913\n",
      "[68]\ttrain-auc:0.89799+0.00191\ttest-auc:0.83719+0.00910\n",
      "[69]\ttrain-auc:0.89866+0.00213\ttest-auc:0.83770+0.00897\n",
      "[70]\ttrain-auc:0.89926+0.00231\ttest-auc:0.83788+0.00915\n",
      "[71]\ttrain-auc:0.89978+0.00245\ttest-auc:0.83798+0.00912\n",
      "[72]\ttrain-auc:0.90038+0.00225\ttest-auc:0.83788+0.00900\n",
      "[73]\ttrain-auc:0.90095+0.00219\ttest-auc:0.83800+0.00921\n",
      "[74]\ttrain-auc:0.90140+0.00208\ttest-auc:0.83798+0.00923\n",
      "[75]\ttrain-auc:0.90219+0.00229\ttest-auc:0.83841+0.00888\n",
      "[76]\ttrain-auc:0.90304+0.00255\ttest-auc:0.83889+0.00851\n",
      "[77]\ttrain-auc:0.90369+0.00226\ttest-auc:0.83941+0.00852\n",
      "[78]\ttrain-auc:0.90434+0.00201\ttest-auc:0.83958+0.00858\n",
      "[79]\ttrain-auc:0.90485+0.00202\ttest-auc:0.83968+0.00856\n",
      "[80]\ttrain-auc:0.90555+0.00208\ttest-auc:0.83953+0.00858\n",
      "[81]\ttrain-auc:0.90600+0.00197\ttest-auc:0.83947+0.00830\n",
      "[82]\ttrain-auc:0.90639+0.00218\ttest-auc:0.83951+0.00808\n",
      "[83]\ttrain-auc:0.90685+0.00206\ttest-auc:0.83958+0.00806\n",
      "[84]\ttrain-auc:0.90743+0.00229\ttest-auc:0.83957+0.00818\n",
      "[85]\ttrain-auc:0.90833+0.00190\ttest-auc:0.83983+0.00806\n",
      "[86]\ttrain-auc:0.90887+0.00179\ttest-auc:0.83982+0.00779\n",
      "[87]\ttrain-auc:0.90933+0.00160\ttest-auc:0.83975+0.00778\n",
      "[88]\ttrain-auc:0.90993+0.00162\ttest-auc:0.83959+0.00766\n",
      "[89]\ttrain-auc:0.91057+0.00204\ttest-auc:0.83969+0.00777\n",
      "[90]\ttrain-auc:0.91118+0.00216\ttest-auc:0.83966+0.00760\n",
      "[91]\ttrain-auc:0.91183+0.00247\ttest-auc:0.83963+0.00742\n",
      "[92]\ttrain-auc:0.91205+0.00242\ttest-auc:0.83967+0.00733\n",
      "[93]\ttrain-auc:0.91240+0.00238\ttest-auc:0.83991+0.00733\n",
      "[94]\ttrain-auc:0.91278+0.00241\ttest-auc:0.84006+0.00720\n",
      "[95]\ttrain-auc:0.91334+0.00256\ttest-auc:0.84024+0.00705\n",
      "[96]\ttrain-auc:0.91371+0.00252\ttest-auc:0.84017+0.00703\n",
      "[97]\ttrain-auc:0.91431+0.00252\ttest-auc:0.84032+0.00708\n",
      "[98]\ttrain-auc:0.91495+0.00217\ttest-auc:0.84054+0.00705\n",
      "[99]\ttrain-auc:0.91548+0.00212\ttest-auc:0.84059+0.00695\n",
      "[100]\ttrain-auc:0.91585+0.00213\ttest-auc:0.84057+0.00703\n",
      "[101]\ttrain-auc:0.91659+0.00226\ttest-auc:0.84059+0.00682\n",
      "[102]\ttrain-auc:0.91711+0.00226\ttest-auc:0.84049+0.00673\n",
      "[103]\ttrain-auc:0.91758+0.00234\ttest-auc:0.84036+0.00661\n",
      "[104]\ttrain-auc:0.91793+0.00234\ttest-auc:0.84043+0.00649\n",
      "[105]\ttrain-auc:0.91829+0.00246\ttest-auc:0.84036+0.00648\n",
      "[106]\ttrain-auc:0.91898+0.00251\ttest-auc:0.84036+0.00638\n",
      "[107]\ttrain-auc:0.91947+0.00246\ttest-auc:0.84061+0.00627\n",
      "[108]\ttrain-auc:0.91982+0.00224\ttest-auc:0.84074+0.00637\n",
      "[109]\ttrain-auc:0.92054+0.00225\ttest-auc:0.84080+0.00648\n",
      "[110]\ttrain-auc:0.92081+0.00226\ttest-auc:0.84077+0.00649\n",
      "[111]\ttrain-auc:0.92112+0.00227\ttest-auc:0.84091+0.00641\n",
      "[112]\ttrain-auc:0.92154+0.00220\ttest-auc:0.84100+0.00658\n",
      "[113]\ttrain-auc:0.92207+0.00205\ttest-auc:0.84097+0.00664\n",
      "[114]\ttrain-auc:0.92274+0.00192\ttest-auc:0.84087+0.00650\n",
      "[115]\ttrain-auc:0.92313+0.00194\ttest-auc:0.84086+0.00661\n",
      "[116]\ttrain-auc:0.92373+0.00188\ttest-auc:0.84091+0.00656\n",
      "[117]\ttrain-auc:0.92431+0.00170\ttest-auc:0.84102+0.00653\n",
      "[118]\ttrain-auc:0.92475+0.00174\ttest-auc:0.84098+0.00642\n",
      "[119]\ttrain-auc:0.92520+0.00161\ttest-auc:0.84086+0.00641\n",
      "[120]\ttrain-auc:0.92571+0.00162\ttest-auc:0.84066+0.00636\n",
      "[121]\ttrain-auc:0.92609+0.00173\ttest-auc:0.84061+0.00613\n",
      "[122]\ttrain-auc:0.92677+0.00175\ttest-auc:0.84045+0.00620\n",
      "[123]\ttrain-auc:0.92720+0.00183\ttest-auc:0.84056+0.00613\n",
      "[124]\ttrain-auc:0.92777+0.00207\ttest-auc:0.84071+0.00612\n",
      "[125]\ttrain-auc:0.92796+0.00206\ttest-auc:0.84055+0.00606\n",
      "[126]\ttrain-auc:0.92839+0.00211\ttest-auc:0.84044+0.00591\n"
     ],
     "output_type": "stream"
    },
    {
     "data": {
      "text/plain": "118"
     },
     "metadata": {},
     "output_type": "execute_result",
     "execution_count": 27
    }
   ],
   "source": [
    "def search_best_rounds(model:XGBClassifier,dtrain):\n",
    "    params=model.get_xgb_params()\n",
    "    cv_results=xgb.cv(params,dtrain,num_boost_round=model.get_params()['n_estimators'],\n",
    "           nfold=5,metrics='auc',early_stopping_rounds=10,verbose_eval=True)\n",
    "    return cv_results.shape[0]\n",
    "\n",
    "dtrain=xgb.DMatrix(x,y)\n",
    "best_rounds=search_best_rounds(xgb_model,dtrain)\n",
    "best_rounds"
   ],
   "metadata": {
    "collapsed": false,
    "pycharm": {
     "name": "#%%\n",
     "is_executing": false
    }
   }
  },
  {
   "cell_type": "code",
   "execution_count": null,
   "outputs": [],
   "source": [
    "xgb_model.set_params(n_estimators=best_rounds)\n",
    "xgb_model.fit(x,y,eval_metric='auc')\n",
    "\n",
    "from sklearn.metrics import accuracy_score,roc_auc_score\n",
    "pred=xgb_model.predict(x)\n",
    "prob=xgb_model.predict_proba(x)[:,1]\n",
    "print('accuracy：',accuracy_score(y,pred))\n",
    "print('auc score:',roc_auc_score(y,prob))"
   ],
   "metadata": {
    "collapsed": false,
    "pycharm": {
     "name": "#%%\n"
    }
   }
  },
  {
   "cell_type": "markdown",
   "source": [
    "（2）max_depth和min_child_weight参数调优"
   ],
   "metadata": {
    "collapsed": false
   }
  },
  {
   "cell_type": "code",
   "execution_count": null,
   "outputs": [],
   "source": [
    "xgb_model = XGBClassifier(\n",
    " learning_rate =0.1,              # 典型值范围：0.01～0.2\n",
    " n_estimators=167,               # 迭代次数第一次一般选择较多一点\n",
    " max_depth=5,                     # 典型值范围：3～10\n",
    " min_child_weight=1,              # 最小叶子节点最小权重和为1，让树尽可能的生长\n",
    " gamma=0,                         # 不限制节点分裂，\n",
    " subsample=0.8,                   # 每次树构建选择的样本采样比例，典型值范围：0.5~1\n",
    " colsample_bytree=0.8,            # 每次树构建时选择的特征采样比例，典型值范围：0.5~1\n",
    " objective= 'binary:logistic',    # 目标损失函数采用二分类的logistic回归函数\n",
    " nthread=1,                       # 默认是选择最大的线程数，这里选择4\n",
    " scale_pos_weight=1,              # 正负比例极其不平衡，因此设置1\n",
    " seed=27)\n",
    "\n",
    "param_test1 = {\n",
    "    'max_depth':range(3,10,2),\n",
    "    'min_child_weight':range(1,6,2)\n",
    "}\n",
    "\n",
    "gs=GridSearchCV(xgb_model,param_test1,scoring='roc_auc',cv=5)\n",
    "gs.fit(x,y)\n",
    "print(gs.best_params_)\n",
    "print(gs.best_score_)"
   ],
   "metadata": {
    "collapsed": false,
    "pycharm": {
     "name": "#%%\n"
    }
   }
  },
  {
   "cell_type": "markdown",
   "source": [
    "接下来依次进行gamma参数调优、subsample和colsample_bytree参数调优、\n",
    "正则化参数调优。然后降低学习率，增大迭代次数，重复进行\n"
   ],
   "metadata": {
    "collapsed": false
   }
  }
 ],
 "metadata": {
  "kernelspec": {
   "display_name": "Python 3",
   "language": "python",
   "name": "python3"
  },
  "language_info": {
   "codemirror_mode": {
    "name": "ipython",
    "version": 2
   },
   "file_extension": ".py",
   "mimetype": "text/x-python",
   "name": "python",
   "nbconvert_exporter": "python",
   "pygments_lexer": "ipython2",
   "version": "2.7.6"
  },
  "pycharm": {
   "stem_cell": {
    "cell_type": "raw",
    "source": [],
    "metadata": {
     "collapsed": false
    }
   }
  }
 },
 "nbformat": 4,
 "nbformat_minor": 0
}