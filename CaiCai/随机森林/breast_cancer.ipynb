{
 "cells": [
  {
   "cell_type": "markdown",
   "source": [
    "## 乳腺癌预测调参"
   ],
   "metadata": {
    "collapsed": false,
    "pycharm": {
     "name": "#%% md\n"
    }
   }
  },
  {
   "cell_type": "code",
   "execution_count": 1,
   "metadata": {
    "collapsed": true,
    "pycharm": {
     "is_executing": false
    }
   },
   "outputs": [],
   "source": [
    "import numpy as np\n",
    "from sklearn.datasets import load_breast_cancer\n",
    "from sklearn.ensemble import RandomForestClassifier\n",
    "from sklearn.model_selection import cross_val_score,GridSearchCV\\\n",
    "                                    ,validation_curve\n",
    "from matplotlib import pyplot as plt\n",
    "%matplotlib inline"
   ]
  },
  {
   "cell_type": "code",
   "execution_count": 2,
   "outputs": [],
   "source": [
    "cancer=load_breast_cancer()\n",
    "x=cancer['data']\n",
    "y=cancer['target']"
   ],
   "metadata": {
    "collapsed": false,
    "pycharm": {
     "name": "#%%\n",
     "is_executing": false
    }
   }
  },
  {
   "cell_type": "markdown",
   "source": [
    "### step1：使用初始模型（所有参数都为默认值）得到交叉验证结果"
   ],
   "metadata": {
    "collapsed": false,
    "pycharm": {
     "name": "#%% md\n"
    }
   }
  },
  {
   "cell_type": "code",
   "execution_count": 3,
   "outputs": [
    {
     "data": {
      "text/plain": "0.9648809523809524"
     },
     "metadata": {},
     "output_type": "execute_result",
     "execution_count": 3
    }
   ],
   "source": [
    "rfc=RandomForestClassifier(n_estimators=100,random_state=90)\n",
    "score_pre=cross_val_score(rfc,x,y,cv=10).mean()\n",
    "score_pre"
   ],
   "metadata": {
    "collapsed": false,
    "pycharm": {
     "name": "#%%\n",
     "is_executing": false
    }
   }
  },
  {
   "cell_type": "markdown",
   "source": [
    "### step2：先调节n_estimators，使用验证曲线"
   ],
   "metadata": {
    "collapsed": false,
    "pycharm": {
     "name": "#%% md\n"
    }
   }
  },
  {
   "cell_type": "code",
   "execution_count": 4,
   "outputs": [
    {
     "data": {
      "text/plain": "<Figure size 432x288 with 1 Axes>",
      "image/png": "[encoded data removed]"
     },
     "metadata": {
      "needs_background": "light"
     },
     "output_type": "display_data"
    },
    {
     "name": "stdout",
     "text": [
      "70\n0.9648809523809524\n"
     ],
     "output_type": "stream"
    }
   ],
   "source": [
    "param_range=np.arange(10,200+1,10)\n",
    "rfc=RandomForestClassifier(random_state=90)\n",
    "train_scores,test_scores=validation_curve(estimator=rfc,X=x,y=y,param_name='n_estimators',\n",
    "                                          param_range=param_range,cv=10)\n",
    "train_scores_mean=np.mean(train_scores,axis=1)\n",
    "train_scores_std=np.std(train_scores,axis=1)\n",
    "test_scores_mean=np.mean(test_scores,axis=1)\n",
    "test_scores_std=np.std(test_scores,axis=1)\n",
    "\n",
    "plt.figure()\n",
    "plt.plot(param_range,train_scores_mean,color='blue',marker='o',markersize=5,label='training accuracy')\n",
    "plt.fill_between(param_range,train_scores_mean+train_scores_std,train_scores_mean-train_scores_std,alpha=0.15,color='blue')\n",
    "plt.plot(param_range,test_scores_mean,color='red',marker='s',markersize=5,label='validation accuracy')\n",
    "plt.fill_between(param_range,test_scores_mean+test_scores_std,test_scores_mean-test_scores_std,alpha=0.15,color='red')\n",
    "plt.xlabel(\"Parameter n_estimators\")\n",
    "plt.ylabel(\"Accuracy\")\n",
    "plt.legend(loc='best')\n",
    "plt.ylim([0.9,1.02])\n",
    "plt.show()\n",
    "\n",
    "print(param_range[np.argmax(test_scores_mean)])\n",
    "print(np.max(test_scores_mean))"
   ],
   "metadata": {
    "collapsed": false,
    "pycharm": {
     "name": "#%%\n",
     "is_executing": false
    }
   }
  },
  {
   "cell_type": "markdown",
   "source": [
    "1.首先观察打印结果，可以发现最优分数没有变化，故仍可以采用n_estimators=100。  \n",
    "2.其次观察验证曲线，训练分数都是1左右，但是验证分数却在0.96左右，初步猜测是过拟合，可以向降低复杂度方向调参。"
   ],
   "metadata": {
    "collapsed": false,
    "pycharm": {
     "name": "#%% md\n"
    }
   }
  },
  {
   "cell_type": "markdown",
   "source": [
    "### step3：再调max_depth，该参数在降低模型复杂度上有显著效果。"
   ],
   "metadata": {
    "collapsed": false,
    "pycharm": {
     "name": "#%% md\n"
    }
   }
  },
  {
   "cell_type": "code",
   "execution_count": 5,
   "outputs": [
    {
     "name": "stdout",
     "text": [
      "{'max_depth': 8}\n0.9666666666666666\n"
     ],
     "output_type": "stream"
    }
   ],
   "source": [
    "param_range=np.arange(1,30+1,1)\n",
    "rfc=RandomForestClassifier(n_estimators=100,random_state=90)\n",
    "gs=GridSearchCV(rfc,param_grid={'max_depth':param_range},cv=10)\n",
    "gs.fit(x,y)\n",
    "\n",
    "print(gs.best_params_)\n",
    "print(gs.best_score_)"
   ],
   "metadata": {
    "collapsed": false,
    "pycharm": {
     "name": "#%%\n",
     "is_executing": false
    }
   }
  },
  {
   "cell_type": "markdown",
   "source": [
    "发现模型分数有些许提升，并且最大深度降到8，也验证了模型过拟合的初始状态。"
   ],
   "metadata": {
    "collapsed": false,
    "pycharm": {
     "name": "#%% md\n"
    }
   }
  },
  {
   "cell_type": "markdown",
   "source": [
    "### step4：因此时无法确定模型状态，故可调max_features，该参数可降低或者升高复杂度。"
   ],
   "metadata": {
    "collapsed": false
   }
  },
  {
   "cell_type": "code",
   "execution_count": 8,
   "outputs": [
    {
     "name": "stdout",
     "text": [
      "{'max_features': 24}\n0.9666666666666668\n"
     ],
     "output_type": "stream"
    }
   ],
   "source": [
    "# 初始\n",
    "param_range=np.arange(5,30,1)\n",
    "rfc=RandomForestClassifier(n_estimators=100,max_features=8,random_state=90)\n",
    "gs=GridSearchCV(rfc,param_grid={'max_features':param_range},cv=10)\n",
    "gs.fit(x,y)\n",
    "\n",
    "print(gs.best_params_)\n",
    "print(gs.best_score_)"
   ],
   "metadata": {
    "collapsed": false,
    "pycharm": {
     "name": "#%%\n",
     "is_executing": false
    }
   }
  },
  {
   "cell_type": "markdown",
   "source": [
    "模型分数没有变化，故也不需再调节了。\n"
   ],
   "metadata": {
    "collapsed": false
   }
  }
 ],
 "metadata": {
  "kernelspec": {
   "display_name": "Python 3",
   "language": "python",
   "name": "python3"
  },
  "language_info": {
   "codemirror_mode": {
    "name": "ipython",
    "version": 2
   },
   "file_extension": ".py",
   "mimetype": "text/x-python",
   "name": "python",
   "nbconvert_exporter": "python",
   "pygments_lexer": "ipython2",
   "version": "2.7.6"
  },
  "pycharm": {
   "stem_cell": {
    "cell_type": "raw",
    "source": [],
    "metadata": {
     "collapsed": false
    }
   }
  }
 },
 "nbformat": 4,
 "nbformat_minor": 0
}