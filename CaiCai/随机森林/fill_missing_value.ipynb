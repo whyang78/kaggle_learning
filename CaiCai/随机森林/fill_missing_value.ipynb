{
 "cells": [
  {
   "cell_type": "markdown",
   "source": [
    "### 缺失值填充\n",
    "对比0填充、均值填充、随机森林预测填充的效果"
   ],
   "metadata": {
    "collapsed": false,
    "pycharm": {
     "name": "#%% md\n"
    }
   }
  },
  {
   "cell_type": "code",
   "execution_count": 16,
   "metadata": {
    "collapsed": true,
    "pycharm": {
     "is_executing": false
    }
   },
   "outputs": [],
   "source": [
    "import numpy as np\n",
    "import pandas as pd\n",
    "from sklearn.datasets import load_boston\n",
    "from sklearn.impute import SimpleImputer#填补缺失值的类\n",
    "from sklearn.ensemble import RandomForestRegressor\n",
    "from sklearn.model_selection import cross_val_score"
   ]
  },
  {
   "cell_type": "markdown",
   "source": [
    "使用boston数据集"
   ],
   "metadata": {
    "collapsed": false,
    "pycharm": {
     "name": "#%% md\n"
    }
   }
  },
  {
   "cell_type": "code",
   "execution_count": 17,
   "outputs": [],
   "source": [
    "dataset = load_boston()\n",
    "\n",
    "x_full, y_full = dataset.data, dataset.target\n",
    "n_samples = x_full.shape[0]#506\n",
    "n_features = x_full.shape[1]#13"
   ],
   "metadata": {
    "collapsed": false,
    "pycharm": {
     "name": "#%%\n",
     "is_executing": false
    }
   }
  },
  {
   "cell_type": "markdown",
   "source": [
    "制作缺失数据"
   ],
   "metadata": {
    "collapsed": false,
    "pycharm": {
     "name": "#%% md\n"
    }
   }
  },
  {
   "cell_type": "code",
   "execution_count": 18,
   "outputs": [
    {
     "name": "stdout",
     "text": [
      "1973 1973\n"
     ],
     "output_type": "stream"
    },
    {
     "data": {
      "text/plain": "        0     1     2    3      4      5     6       7    8      9     10  \\\n0      NaN  18.0  2.31  NaN  0.538    NaN  65.2  4.0900  1.0  296.0  15.3   \n1      NaN   0.0  7.07  NaN  0.469    NaN  78.9  4.9671  NaN    NaN  17.8   \n2  0.02729   NaN   NaN  NaN  0.469  7.185  61.1  4.9671  2.0    NaN  17.8   \n3      NaN   NaN  2.18  0.0  0.458    NaN   NaN     NaN  3.0    NaN  18.7   \n4  0.06905   NaN  2.18  0.0  0.458  7.147  54.2  6.0622  3.0  222.0  18.7   \n\n       11    12  \n0  396.90  4.98  \n1     NaN  9.14  \n2  392.83  4.03  \n3  394.63  2.94  \n4  396.90  5.33  ",
      "text/html": "<div>\n<style scoped>\n    .dataframe tbody tr th:only-of-type {\n        vertical-align: middle;\n    }\n\n    .dataframe tbody tr th {\n        vertical-align: top;\n    }\n\n    .dataframe thead th {\n        text-align: right;\n    }\n</style>\n<table border=\"1\" class=\"dataframe\">\n  <thead>\n    <tr style=\"text-align: right;\">\n      <th></th>\n      <th>0</th>\n      <th>1</th>\n      <th>2</th>\n      <th>3</th>\n      <th>4</th>\n      <th>5</th>\n      <th>6</th>\n      <th>7</th>\n      <th>8</th>\n      <th>9</th>\n      <th>10</th>\n      <th>11</th>\n      <th>12</th>\n    </tr>\n  </thead>\n  <tbody>\n    <tr>\n      <th>0</th>\n      <td>NaN</td>\n      <td>18.0</td>\n      <td>2.31</td>\n      <td>NaN</td>\n      <td>0.538</td>\n      <td>NaN</td>\n      <td>65.2</td>\n      <td>4.0900</td>\n      <td>1.0</td>\n      <td>296.0</td>\n      <td>15.3</td>\n      <td>396.90</td>\n      <td>4.98</td>\n    </tr>\n    <tr>\n      <th>1</th>\n      <td>NaN</td>\n      <td>0.0</td>\n      <td>7.07</td>\n      <td>NaN</td>\n      <td>0.469</td>\n      <td>NaN</td>\n      <td>78.9</td>\n      <td>4.9671</td>\n      <td>NaN</td>\n      <td>NaN</td>\n      <td>17.8</td>\n      <td>NaN</td>\n      <td>9.14</td>\n    </tr>\n    <tr>\n      <th>2</th>\n      <td>0.02729</td>\n      <td>NaN</td>\n      <td>NaN</td>\n      <td>NaN</td>\n      <td>0.469</td>\n      <td>7.185</td>\n      <td>61.1</td>\n      <td>4.9671</td>\n      <td>2.0</td>\n      <td>NaN</td>\n      <td>17.8</td>\n      <td>392.83</td>\n      <td>4.03</td>\n    </tr>\n    <tr>\n      <th>3</th>\n      <td>NaN</td>\n      <td>NaN</td>\n      <td>2.18</td>\n      <td>0.0</td>\n      <td>0.458</td>\n      <td>NaN</td>\n      <td>NaN</td>\n      <td>NaN</td>\n      <td>3.0</td>\n      <td>NaN</td>\n      <td>18.7</td>\n      <td>394.63</td>\n      <td>2.94</td>\n    </tr>\n    <tr>\n      <th>4</th>\n      <td>0.06905</td>\n      <td>NaN</td>\n      <td>2.18</td>\n      <td>0.0</td>\n      <td>0.458</td>\n      <td>7.147</td>\n      <td>54.2</td>\n      <td>6.0622</td>\n      <td>3.0</td>\n      <td>222.0</td>\n      <td>18.7</td>\n      <td>396.90</td>\n      <td>5.33</td>\n    </tr>\n  </tbody>\n</table>\n</div>"
     },
     "metadata": {},
     "output_type": "execute_result",
     "execution_count": 18
    }
   ],
   "source": [
    "np.random.seed(78)\n",
    "#设置缺失比例\n",
    "missing_ratio=0.3\n",
    "n_missing_values=int(np.floor(n_samples*n_features*missing_ratio))\n",
    "\n",
    "missing_samples=np.random.randint(0,n_samples,n_missing_values)\n",
    "missing_features=np.random.randint(0,n_features,n_missing_values)\n",
    "print(len(missing_samples),len(missing_features))\n",
    "\n",
    "x_missing=x_full.copy()\n",
    "x_missing[missing_samples,missing_features]=np.nan\n",
    "x_missing=pd.DataFrame(x_missing)\n",
    "\n",
    "x_missing.head()"
   ],
   "metadata": {
    "collapsed": false,
    "pycharm": {
     "name": "#%%\n",
     "is_executing": false
    }
   }
  },
  {
   "cell_type": "markdown",
   "source": [
    "0填充与均值填充"
   ],
   "metadata": {
    "collapsed": false,
    "pycharm": {
     "name": "#%% md\n"
    }
   }
  },
  {
   "cell_type": "code",
   "execution_count": 19,
   "outputs": [],
   "source": [
    "zeroImputer=SimpleImputer(missing_values=np.nan,strategy='constant',fill_value=0)\n",
    "x_missing_zero=zeroImputer.fit_transform(x_missing)\n",
    "\n",
    "meanImputer=SimpleImputer(missing_values=np.nan,strategy='mean')\n",
    "x_missing_mean=meanImputer.fit_transform(x_missing)"
   ],
   "metadata": {
    "collapsed": false,
    "pycharm": {
     "name": "#%%\n",
     "is_executing": false
    }
   }
  },
  {
   "cell_type": "markdown",
   "source": [
    "随机森林填充"
   ],
   "metadata": {
    "collapsed": false,
    "pycharm": {
     "name": "#%% md\n"
    }
   }
  },
  {
   "cell_type": "code",
   "execution_count": 20,
   "outputs": [
    {
     "data": {
      "text/plain": "0     0\n1     0\n2     0\n3     0\n4     0\n5     0\n6     0\n7     0\n8     0\n9     0\n10    0\n11    0\n12    0\ndtype: int64"
     },
     "metadata": {},
     "output_type": "execute_result",
     "execution_count": 20
    }
   ],
   "source": [
    "x_missing_reg=x_missing.copy()\n",
    "sortindex=np.argsort(x_missing.isnull().sum()).values\n",
    "\n",
    "#首先填充缺失值少的特征\n",
    "for i in sortindex:\n",
    "    df=x_missing_reg\n",
    "    fillc=df.loc[:,i]\n",
    "    df_others=pd.concat([df.loc[:,df.columns!=i],pd.DataFrame(y_full)],axis=1)\n",
    "    \n",
    "    # 先将其他非填充列缺失值进行0填充\n",
    "    df_others.fillna(0,inplace=True)\n",
    "    fill_y_train=fillc[fillc.notnull()]\n",
    "    fill_y_test=fillc[fillc.isnull()]\n",
    "    fill_x_train=df_others.loc[fill_y_train.index,:]\n",
    "    fill_x_test=df_others.loc[fill_y_test.index,:]\n",
    "    \n",
    "    rfc=RandomForestRegressor(n_estimators=100)\n",
    "    rfc.fit(fill_x_train,fill_y_train)\n",
    "    fill_y_pred=rfc.predict(fill_x_test)\n",
    "    x_missing_reg.loc[fill_y_test.index,i]=fill_y_pred\n",
    "\n",
    "x_missing_reg.isnull().sum()"
   ],
   "metadata": {
    "collapsed": false,
    "pycharm": {
     "name": "#%%\n",
     "is_executing": false
    }
   }
  },
  {
   "cell_type": "markdown",
   "source": [
    "对比三种情况下的mse"
   ],
   "metadata": {
    "collapsed": false,
    "pycharm": {
     "name": "#%% md\n"
    }
   }
  },
  {
   "cell_type": "code",
   "execution_count": 21,
   "outputs": [
    {
     "data": {
      "text/plain": "[('Full data', 21.513407991166744),\n ('Zero Imputation', 36.123920118734226),\n ('Mean Imputation', 27.503262165385358),\n ('Regressor Imputation', 18.150665942302467)]"
     },
     "metadata": {},
     "output_type": "execute_result",
     "execution_count": 21
    }
   ],
   "source": [
    "xs=[x_full,x_missing_zero,x_missing_mean,x_missing_reg]\n",
    "mses=[]\n",
    "for x in xs:\n",
    "    rfc=RandomForestRegressor(random_state=78,n_estimators=100)\n",
    "    scores=cross_val_score(rfc,x,y_full,scoring='neg_mean_squared_error',cv=5).mean()\n",
    "    mses.append(-1*scores)\n",
    "    \n",
    "[*zip(['Full data','Zero Imputation','Mean Imputation','Regressor Imputation'],mses)]"
   ],
   "metadata": {
    "collapsed": false,
    "pycharm": {
     "name": "#%%\n",
     "is_executing": false
    }
   }
  },
  {
   "cell_type": "markdown",
   "source": [
    "可以发现随机森林填充效果不错"
   ],
   "metadata": {
    "collapsed": false,
    "pycharm": {
     "name": "#%% md\n"
    }
   }
  }
 ],
 "metadata": {
  "kernelspec": {
   "display_name": "Python 3",
   "language": "python",
   "name": "python3"
  },
  "language_info": {
   "codemirror_mode": {
    "name": "ipython",
    "version": 2
   },
   "file_extension": ".py",
   "mimetype": "text/x-python",
   "name": "python",
   "nbconvert_exporter": "python",
   "pygments_lexer": "ipython2",
   "version": "2.7.6"
  },
  "pycharm": {
   "stem_cell": {
    "cell_type": "raw",
    "source": [],
    "metadata": {
     "collapsed": false
    }
   }
  }
 },
 "nbformat": 4,
 "nbformat_minor": 0
}