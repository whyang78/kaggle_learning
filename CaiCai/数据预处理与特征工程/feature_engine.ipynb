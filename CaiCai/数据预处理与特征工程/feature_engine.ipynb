{
 "cells": [
  {
   "cell_type": "markdown",
   "source": [
    "## 数据预处理与特征工程\n"
   ],
   "metadata": {
    "collapsed": false,
    "pycharm": {
     "name": "#%% md\n"
    }
   }
  },
  {
   "cell_type": "code",
   "execution_count": 1,
   "metadata": {
    "collapsed": true,
    "pycharm": {
     "is_executing": false
    }
   },
   "outputs": [],
   "source": [
    "import numpy as np\n",
    "import pandas as pd"
   ]
  },
  {
   "cell_type": "markdown",
   "source": [
    "### 一、数据预处理"
   ],
   "metadata": {
    "collapsed": false,
    "pycharm": {
     "name": "#%% md\n"
    }
   }
  },
  {
   "cell_type": "markdown",
   "source": [
    "1、无量纲化处理"
   ],
   "metadata": {
    "collapsed": false,
    "pycharm": {
     "name": "#%% md\n"
    }
   }
  },
  {
   "cell_type": "markdown",
   "source": [
    "+ 归一化MinMaxScaler"
   ],
   "metadata": {
    "collapsed": false,
    "pycharm": {
     "name": "#%% md\n"
    }
   }
  },
  {
   "cell_type": "code",
   "execution_count": 2,
   "outputs": [
    {
     "data": {
      "text/plain": "array([[0.  , 0.  ],\n       [0.25, 0.25],\n       [0.5 , 0.5 ],\n       [1.  , 1.  ]])"
     },
     "metadata": {},
     "output_type": "execute_result",
     "execution_count": 2
    }
   ],
   "source": [
    "from sklearn.preprocessing import MinMaxScaler\n",
    "\n",
    "data = pd.DataFrame([[-1, 2], [-0.5, 6], [0, 10], [1, 18]])\n",
    "scaler=MinMaxScaler(feature_range=[0,1]) # 默认feature_range就是[0,1]\n",
    "result=scaler.fit_transform(data)\n",
    "\n",
    "result"
   ],
   "metadata": {
    "collapsed": false,
    "pycharm": {
     "name": "#%%\n",
     "is_executing": false
    }
   }
  },
  {
   "cell_type": "code",
   "execution_count": 3,
   "outputs": [
    {
     "data": {
      "text/plain": "array([[-1. ,  2. ],\n       [-0.5,  6. ],\n       [ 0. , 10. ],\n       [ 1. , 18. ]])"
     },
     "metadata": {},
     "output_type": "execute_result",
     "execution_count": 3
    }
   ],
   "source": [
    "# 归一化逆变换\n",
    "result_=scaler.inverse_transform(result)\n",
    "\n",
    "result_"
   ],
   "metadata": {
    "collapsed": false,
    "pycharm": {
     "name": "#%%\n",
     "is_executing": false
    }
   }
  },
  {
   "cell_type": "markdown",
   "source": [
    "+ 标准化"
   ],
   "metadata": {
    "collapsed": false
   }
  },
  {
   "cell_type": "code",
   "execution_count": 4,
   "outputs": [
    {
     "name": "stdout",
     "text": [
      "原数据均值:[-0.125  9.   ],方差:[ 0.546875 35.      ]\n数据标准化后均值:0.0,标准差:1.0\n"
     ],
     "output_type": "stream"
    }
   ],
   "source": [
    "from sklearn.preprocessing import StandardScaler\n",
    "data = pd.DataFrame([[-1, 2], [-0.5, 6], [0, 10], [1, 18]])\n",
    "\n",
    "scaler=StandardScaler()\n",
    "scaler.fit(data)\n",
    "print('原数据均值:{},方差:{}'.format(scaler.mean_,scaler.var_))\n",
    "\n",
    "data_std=scaler.transform(data)\n",
    "print('数据标准化后均值:{},标准差:{}'.format(data_std.mean(),data_std.std()))"
   ],
   "metadata": {
    "collapsed": false,
    "pycharm": {
     "name": "#%%\n",
     "is_executing": false
    }
   }
  },
  {
   "cell_type": "code",
   "execution_count": 5,
   "outputs": [
    {
     "data": {
      "text/plain": "array([[-1. ,  2. ],\n       [-0.5,  6. ],\n       [ 0. , 10. ],\n       [ 1. , 18. ]])"
     },
     "metadata": {},
     "output_type": "execute_result",
     "execution_count": 5
    }
   ],
   "source": [
    "data_=scaler.inverse_transform(data_std)\n",
    "\n",
    "data_"
   ],
   "metadata": {
    "collapsed": false,
    "pycharm": {
     "name": "#%%\n",
     "is_executing": false
    }
   }
  },
  {
   "cell_type": "markdown",
   "source": [
    "2、缺失值处理"
   ],
   "metadata": {
    "collapsed": false
   }
  },
  {
   "cell_type": "code",
   "execution_count": 6,
   "outputs": [
    {
     "data": {
      "text/plain": "    Age     Sex Embarked Survived\n0  22.0    male        S       No\n1  38.0  female        C      Yes\n2  26.0  female        S      Yes\n3  35.0  female        S      Yes\n4  35.0    male        S       No",
      "text/html": "<div>\n<style scoped>\n    .dataframe tbody tr th:only-of-type {\n        vertical-align: middle;\n    }\n\n    .dataframe tbody tr th {\n        vertical-align: top;\n    }\n\n    .dataframe thead th {\n        text-align: right;\n    }\n</style>\n<table border=\"1\" class=\"dataframe\">\n  <thead>\n    <tr style=\"text-align: right;\">\n      <th></th>\n      <th>Age</th>\n      <th>Sex</th>\n      <th>Embarked</th>\n      <th>Survived</th>\n    </tr>\n  </thead>\n  <tbody>\n    <tr>\n      <th>0</th>\n      <td>22.0</td>\n      <td>male</td>\n      <td>S</td>\n      <td>No</td>\n    </tr>\n    <tr>\n      <th>1</th>\n      <td>38.0</td>\n      <td>female</td>\n      <td>C</td>\n      <td>Yes</td>\n    </tr>\n    <tr>\n      <th>2</th>\n      <td>26.0</td>\n      <td>female</td>\n      <td>S</td>\n      <td>Yes</td>\n    </tr>\n    <tr>\n      <th>3</th>\n      <td>35.0</td>\n      <td>female</td>\n      <td>S</td>\n      <td>Yes</td>\n    </tr>\n    <tr>\n      <th>4</th>\n      <td>35.0</td>\n      <td>male</td>\n      <td>S</td>\n      <td>No</td>\n    </tr>\n  </tbody>\n</table>\n</div>"
     },
     "metadata": {},
     "output_type": "execute_result",
     "execution_count": 6
    }
   ],
   "source": [
    "data = pd.read_csv(r\".\\Narrativedata.csv\"\n",
    "                   ,index_col=0\n",
    "                  )#index_col=0将第0列作为索引，不写则认为第0列为特征\n",
    " \n",
    "data.head()"
   ],
   "metadata": {
    "collapsed": false,
    "pycharm": {
     "name": "#%%\n",
     "is_executing": false
    }
   }
  },
  {
   "cell_type": "code",
   "execution_count": 7,
   "outputs": [
    {
     "name": "stdout",
     "text": [
      "<class 'pandas.core.frame.DataFrame'>\nInt64Index: 891 entries, 0 to 890\nData columns (total 4 columns):\nAge         714 non-null float64\nSex         891 non-null object\nEmbarked    889 non-null object\nSurvived    891 non-null object\ndtypes: float64(1), object(3)\nmemory usage: 34.8+ KB\n"
     ],
     "output_type": "stream"
    }
   ],
   "source": [
    "data.info()"
   ],
   "metadata": {
    "collapsed": false,
    "pycharm": {
     "name": "#%%\n",
     "is_executing": false
    }
   }
  },
  {
   "cell_type": "code",
   "execution_count": 8,
   "outputs": [
    {
     "name": "stdout",
     "text": [
      "<class 'pandas.core.frame.DataFrame'>\nInt64Index: 891 entries, 0 to 890\nData columns (total 4 columns):\nAge         891 non-null float64\nSex         891 non-null object\nEmbarked    891 non-null object\nSurvived    891 non-null object\ndtypes: float64(1), object(3)\nmemory usage: 34.8+ KB\n"
     ],
     "output_type": "stream"
    }
   ],
   "source": [
    "# Age与Embarked具有缺失值，此处使用均值填充Age，众数填充Embarked\n",
    "from sklearn.impute import SimpleImputer\n",
    "\n",
    "imputer_mean=SimpleImputer(missing_values=np.nan,strategy='mean')\n",
    "# 注意输入是2-D数据\n",
    "data.loc[:,'Age']=imputer_mean.fit_transform(data['Age'].values.reshape(-1,1))\n",
    "\n",
    "imputer_most=SimpleImputer(missing_values=np.nan,strategy='most_frequent')\n",
    "data.loc[:,'Embarked']=imputer_most.fit_transform(data['Embarked'].values.reshape(-1,1))\n",
    "\n",
    "data.info()"
   ],
   "metadata": {
    "collapsed": false,
    "pycharm": {
     "name": "#%%\n",
     "is_executing": false
    }
   }
  },
  {
   "cell_type": "markdown",
   "source": [
    "3、多列标签编码"
   ],
   "metadata": {
    "collapsed": false,
    "pycharm": {
     "name": "#%% md\n"
    }
   }
  },
  {
   "cell_type": "code",
   "execution_count": 9,
   "outputs": [
    {
     "data": {
      "text/plain": "    Age     Sex Embarked Survived\n0  22.0    male        S       No\n1  38.0  female        C      Yes\n2  26.0  female        S      Yes\n3  35.0  female        S      Yes\n4  35.0    male        S       No",
      "text/html": "<div>\n<style scoped>\n    .dataframe tbody tr th:only-of-type {\n        vertical-align: middle;\n    }\n\n    .dataframe tbody tr th {\n        vertical-align: top;\n    }\n\n    .dataframe thead th {\n        text-align: right;\n    }\n</style>\n<table border=\"1\" class=\"dataframe\">\n  <thead>\n    <tr style=\"text-align: right;\">\n      <th></th>\n      <th>Age</th>\n      <th>Sex</th>\n      <th>Embarked</th>\n      <th>Survived</th>\n    </tr>\n  </thead>\n  <tbody>\n    <tr>\n      <th>0</th>\n      <td>22.0</td>\n      <td>male</td>\n      <td>S</td>\n      <td>No</td>\n    </tr>\n    <tr>\n      <th>1</th>\n      <td>38.0</td>\n      <td>female</td>\n      <td>C</td>\n      <td>Yes</td>\n    </tr>\n    <tr>\n      <th>2</th>\n      <td>26.0</td>\n      <td>female</td>\n      <td>S</td>\n      <td>Yes</td>\n    </tr>\n    <tr>\n      <th>3</th>\n      <td>35.0</td>\n      <td>female</td>\n      <td>S</td>\n      <td>Yes</td>\n    </tr>\n    <tr>\n      <th>4</th>\n      <td>35.0</td>\n      <td>male</td>\n      <td>S</td>\n      <td>No</td>\n    </tr>\n  </tbody>\n</table>\n</div>"
     },
     "metadata": {},
     "output_type": "execute_result",
     "execution_count": 9
    }
   ],
   "source": [
    "# 此时的data是处理完缺失值后的数据\n",
    "data.head()"
   ],
   "metadata": {
    "collapsed": false,
    "pycharm": {
     "name": "#%%\n",
     "is_executing": false
    }
   }
  },
  {
   "cell_type": "code",
   "execution_count": 10,
   "outputs": [
    {
     "data": {
      "text/plain": "[array(['female', 'male'], dtype=object),\n array(['C', 'Q', 'S'], dtype=object),\n array(['No', 'Unknown', 'Yes'], dtype=object)]"
     },
     "metadata": {},
     "output_type": "execute_result",
     "execution_count": 10
    }
   ],
   "source": [
    "from sklearn.preprocessing import OrdinalEncoder\n",
    "oe=OrdinalEncoder()\n",
    "# 对类别型数据（后三列）进行标签编码\n",
    "oe.fit(data.iloc[:,1:])\n",
    "oe.categories_"
   ],
   "metadata": {
    "collapsed": false,
    "pycharm": {
     "name": "#%%\n",
     "is_executing": false
    }
   }
  },
  {
   "cell_type": "code",
   "execution_count": 11,
   "outputs": [
    {
     "data": {
      "text/plain": "    Age  Sex  Embarked  Survived\n0  22.0  1.0       2.0       0.0\n1  38.0  0.0       0.0       2.0\n2  26.0  0.0       2.0       2.0\n3  35.0  0.0       2.0       2.0\n4  35.0  1.0       2.0       0.0",
      "text/html": "<div>\n<style scoped>\n    .dataframe tbody tr th:only-of-type {\n        vertical-align: middle;\n    }\n\n    .dataframe tbody tr th {\n        vertical-align: top;\n    }\n\n    .dataframe thead th {\n        text-align: right;\n    }\n</style>\n<table border=\"1\" class=\"dataframe\">\n  <thead>\n    <tr style=\"text-align: right;\">\n      <th></th>\n      <th>Age</th>\n      <th>Sex</th>\n      <th>Embarked</th>\n      <th>Survived</th>\n    </tr>\n  </thead>\n  <tbody>\n    <tr>\n      <th>0</th>\n      <td>22.0</td>\n      <td>1.0</td>\n      <td>2.0</td>\n      <td>0.0</td>\n    </tr>\n    <tr>\n      <th>1</th>\n      <td>38.0</td>\n      <td>0.0</td>\n      <td>0.0</td>\n      <td>2.0</td>\n    </tr>\n    <tr>\n      <th>2</th>\n      <td>26.0</td>\n      <td>0.0</td>\n      <td>2.0</td>\n      <td>2.0</td>\n    </tr>\n    <tr>\n      <th>3</th>\n      <td>35.0</td>\n      <td>0.0</td>\n      <td>2.0</td>\n      <td>2.0</td>\n    </tr>\n    <tr>\n      <th>4</th>\n      <td>35.0</td>\n      <td>1.0</td>\n      <td>2.0</td>\n      <td>0.0</td>\n    </tr>\n  </tbody>\n</table>\n</div>"
     },
     "metadata": {},
     "output_type": "execute_result",
     "execution_count": 11
    }
   ],
   "source": [
    "data.iloc[:,1:]=oe.fit_transform(data.iloc[:,1:])\n",
    "data.head()"
   ],
   "metadata": {
    "collapsed": false,
    "pycharm": {
     "name": "#%% \n",
     "is_executing": false
    }
   }
  },
  {
   "cell_type": "markdown",
   "source": [
    "4、特殊用法之分箱编码"
   ],
   "metadata": {
    "collapsed": false,
    "pycharm": {
     "name": "#%% md\n"
    }
   }
  },
  {
   "cell_type": "code",
   "execution_count": 12,
   "outputs": [
    {
     "data": {
      "text/plain": "array([[0.],\n       [1.],\n       [0.],\n       [1.],\n       [1.]])"
     },
     "metadata": {},
     "output_type": "execute_result",
     "execution_count": 12
    }
   ],
   "source": [
    "from sklearn.preprocessing import KBinsDiscretizer\n",
    " \n",
    "X = data.iloc[:,0].values.reshape(-1,1) \n",
    "# 分箱后标签编码\n",
    "est = KBinsDiscretizer(n_bins=3, encode='ordinal', strategy='uniform')\n",
    "est.fit_transform(X)[:5,:]\n",
    " "
   ],
   "metadata": {
    "collapsed": false,
    "pycharm": {
     "name": "#%%\n",
     "is_executing": false
    }
   }
  },
  {
   "cell_type": "code",
   "execution_count": 13,
   "outputs": [
    {
     "data": {
      "text/plain": "{0.0, 1.0, 2.0}"
     },
     "metadata": {},
     "output_type": "execute_result",
     "execution_count": 13
    }
   ],
   "source": [
    "#查看转换后分的箱：变成了一列中的三箱\n",
    "set(est.fit_transform(X).ravel())"
   ],
   "metadata": {
    "collapsed": false,
    "pycharm": {
     "name": "#%%\n",
     "is_executing": false
    }
   }
  },
  {
   "cell_type": "code",
   "execution_count": 14,
   "outputs": [
    {
     "data": {
      "text/plain": "array([[1., 0., 0.],\n       [0., 1., 0.],\n       [1., 0., 0.],\n       [0., 1., 0.],\n       [0., 1., 0.]])"
     },
     "metadata": {},
     "output_type": "execute_result",
     "execution_count": 14
    }
   ],
   "source": [
    "est = KBinsDiscretizer(n_bins=3, encode='onehot', strategy='uniform')\n",
    "#查看转换后分的箱：变成了哑变量（独热编码）\n",
    "est.fit_transform(X).toarray()[:5,:]"
   ],
   "metadata": {
    "collapsed": false,
    "pycharm": {
     "name": "#%%\n",
     "is_executing": false
    }
   }
  },
  {
   "cell_type": "markdown",
   "source": [
    "### 二、特征选择\n",
    "\n",
    "主要分为Filter过滤法、Embedded嵌入法、Wrapper包装法。"
   ],
   "metadata": {
    "collapsed": false,
    "pycharm": {
     "name": "#%% md\n"
    }
   }
  },
  {
   "cell_type": "code",
   "execution_count": 15,
   "outputs": [
    {
     "data": {
      "text/plain": "(42000, 784)"
     },
     "metadata": {},
     "output_type": "execute_result",
     "execution_count": 15
    }
   ],
   "source": [
    "import pandas as pd\n",
    "data = pd.read_csv(r\".\\digit recognizor.csv\")\n",
    " \n",
    "X = data.iloc[:,1:]\n",
    "y = data.iloc[:,0]\n",
    " \n",
    "X.shape"
   ],
   "metadata": {
    "collapsed": false,
    "pycharm": {
     "name": "#%% \n",
     "is_executing": false
    }
   }
  },
  {
   "cell_type": "markdown",
   "source": [
    "1、Filter过滤法\n",
    "\n",
    "+  方差过滤"
   ],
   "metadata": {
    "collapsed": false,
    "pycharm": {
     "name": "#%% md\n"
    }
   }
  },
  {
   "cell_type": "code",
   "execution_count": 16,
   "outputs": [
    {
     "data": {
      "text/plain": "(42000, 708)"
     },
     "metadata": {},
     "output_type": "execute_result",
     "execution_count": 16
    }
   ],
   "source": [
    "from sklearn.feature_selection import VarianceThreshold\n",
    "\n",
    "selector=VarianceThreshold() # 默认阈值为0\n",
    "x_var_0=selector.fit_transform(X)\n",
    "\n",
    "x_var_0.shape"
   ],
   "metadata": {
    "collapsed": false,
    "pycharm": {
     "name": "#%%\n",
     "is_executing": false
    }
   }
  },
  {
   "cell_type": "code",
   "execution_count": 17,
   "outputs": [
    {
     "data": {
      "text/plain": "(42000, 392)"
     },
     "metadata": {},
     "output_type": "execute_result",
     "execution_count": 17
    }
   ],
   "source": [
    "# 设置阈值为所有列方差中值，即保留一半特征\n",
    "selector=VarianceThreshold(threshold=np.median(X.var().values))\n",
    "x_var_median=selector.fit_transform(X)\n",
    "\n",
    "x_var_median.shape"
   ],
   "metadata": {
    "collapsed": false,
    "pycharm": {
     "name": "#%%\n",
     "is_executing": false
    }
   }
  },
  {
   "cell_type": "code",
   "execution_count": 18,
   "outputs": [
    {
     "data": {
      "text/plain": "(42000, 685)"
     },
     "metadata": {},
     "output_type": "execute_result",
     "execution_count": 18
    }
   ],
   "source": [
    "# 若特征是伯努利随机变量（此处由于图像数据是0-1二值量），\n",
    "# 假设p=0.8，即二分类特征中某种分类占到80%以上的时候删除特征\n",
    "selector=VarianceThreshold(threshold=0.8*(1-0.8))\n",
    "x_var_bn=selector.fit_transform(X)\n",
    "\n",
    "x_var_bn.shape"
   ],
   "metadata": {
    "collapsed": false,
    "pycharm": {
     "name": "#%%\n",
     "is_executing": false
    }
   }
  },
  {
   "cell_type": "code",
   "execution_count": 19,
   "outputs": [
    {
     "name": "stdout",
     "text": [
      "***** 随机森林交叉验证分数 *****\n",
      "原始数据: 0.9384285714285715\n",
      "zero thresh: 0.9388333333333334\n",
      "median thresh: 0.9392619047619049\n",
      "bonuli thresh: 0.9390476190476191\n"
     ],
     "output_type": "stream"
    }
   ],
   "source": [
    "# 交叉验证分数比较\n",
    "from sklearn.ensemble import RandomForestClassifier\n",
    "from sklearn.model_selection import cross_val_score\n",
    "\n",
    "print('***** 随机森林交叉验证分数 *****')\n",
    "print('原始数据:',cross_val_score(RandomForestClassifier(random_state=78,n_estimators=10), X ,y,cv=5).mean())\n",
    "print('zero thresh:',cross_val_score(RandomForestClassifier(random_state=78,n_estimators=10), x_var_0 ,y,cv=5).mean())\n",
    "print('median thresh:',cross_val_score(RandomForestClassifier(random_state=78,n_estimators=10), x_var_median ,y,cv=5).mean())\n",
    "print('bonuli thresh:',cross_val_score(RandomForestClassifier(random_state=78,n_estimators=10), x_var_bn ,y,cv=5).mean())"
   ],
   "metadata": {
    "collapsed": false,
    "pycharm": {
     "name": "#%%\n",
     "is_executing": false
    }
   }
  },
  {
   "cell_type": "markdown",
   "source": [
    "此处实验时采用随机森林基学习器数目较少，是为了节省运算时间。通过比较验证分数，\n",
    "可以发现，阈值取方差中值时甚至比原始数据效果要好。\n"
   ],
   "metadata": {
    "collapsed": false
   }
  },
  {
   "cell_type": "markdown",
   "source": [
    "+ 卡方过滤"
   ],
   "metadata": {
    "collapsed": false
   }
  },
  {
   "cell_type": "code",
   "execution_count": 21,
   "outputs": [
    {
     "data": {
      "text/plain": "(42000, 300)"
     },
     "metadata": {},
     "output_type": "execute_result",
     "execution_count": 21
    }
   ],
   "source": [
    "from sklearn.feature_selection import SelectKBest,chi2\n",
    "\n",
    "# 卡方过滤选择其前300个特征\n",
    "selector=SelectKBest(chi2,k=300)\n",
    "x_chi_k=selector.fit_transform(x_var_median,y)\n",
    "x_chi_k.shape"
   ],
   "metadata": {
    "collapsed": false,
    "pycharm": {
     "name": "#%%\n",
     "is_executing": false
    }
   }
  },
  {
   "cell_type": "code",
   "execution_count": 22,
   "outputs": [
    {
     "data": {
      "text/plain": "0.9336904761904761"
     },
     "metadata": {},
     "output_type": "execute_result",
     "execution_count": 22
    }
   ],
   "source": [
    "cross_val_score(RandomForestClassifier(random_state=78,n_estimators=10), x_chi_k ,y,cv=5).mean()"
   ],
   "metadata": {
    "collapsed": false,
    "pycharm": {
     "name": "#%%\n",
     "is_executing": false
    }
   }
  },
  {
   "cell_type": "markdown",
   "source": [
    "通过验证分数可以发现性能有所下降，说明选择的特征中包含有效特征。我们可以通过P值确定k值。"
   ],
   "metadata": {
    "collapsed": false
   }
  },
  {
   "cell_type": "code",
   "execution_count": 26,
   "outputs": [
    {
     "data": {
      "text/plain": "392"
     },
     "metadata": {},
     "output_type": "execute_result",
     "execution_count": 26
    }
   ],
   "source": [
    "chi_score,pvalue=chi2(x_var_median,y)\n",
    "# 选取p不大于0.05的特征\n",
    "k=x_var_median.shape[1]-(pvalue>0.05).sum()\n",
    "\n",
    "k"
   ],
   "metadata": {
    "collapsed": false,
    "pycharm": {
     "name": "#%%\n",
     "is_executing": false
    }
   }
  },
  {
   "cell_type": "markdown",
   "source": [
    "卡方过滤之前数据维度已经是392了，也就是说目前剩余的所有特征都与标签相关。"
   ],
   "metadata": {
    "collapsed": false,
    "pycharm": {
     "name": "#%% md\n"
    }
   }
  },
  {
   "cell_type": "code",
   "execution_count": 27,
   "outputs": [
    {
     "data": {
      "text/plain": "(42000, 392)"
     },
     "metadata": {},
     "output_type": "execute_result",
     "execution_count": 27
    }
   ],
   "source": [
    "selector=SelectKBest(chi2,k=k)\n",
    "x_chi_k=selector.fit_transform(x_var_median,y)\n",
    "x_chi_k.shape"
   ],
   "metadata": {
    "collapsed": false,
    "pycharm": {
     "name": "#%%\n",
     "is_executing": false
    }
   }
  },
  {
   "cell_type": "code",
   "execution_count": 28,
   "outputs": [
    {
     "data": {
      "text/plain": "0.9392619047619049"
     },
     "metadata": {},
     "output_type": "execute_result",
     "execution_count": 28
    }
   ],
   "source": [
    "cross_val_score(RandomForestClassifier(random_state=78,n_estimators=10), x_chi_k ,y,cv=5).mean()"
   ],
   "metadata": {
    "collapsed": false,
    "pycharm": {
     "name": "#%%\n",
     "is_executing": false
    }
   }
  },
  {
   "cell_type": "markdown",
   "source": [
    "+ F检验"
   ],
   "metadata": {
    "collapsed": false,
    "pycharm": {
     "name": "#%% md\n",
     "is_executing": false
    }
   }
  },
  {
   "cell_type": "code",
   "execution_count": 29,
   "outputs": [
    {
     "data": {
      "text/plain": "392"
     },
     "metadata": {},
     "output_type": "execute_result",
     "execution_count": 29
    }
   ],
   "source": [
    "from sklearn.feature_selection import f_classif\n",
    "\n",
    "f_score,pvalue=f_classif(x_var_median,y)\n",
    "# 选取p不大于0.05的特征\n",
    "k=x_var_median.shape[1]-(pvalue>0.05).sum()\n",
    "\n",
    "k"
   ],
   "metadata": {
    "collapsed": false,
    "pycharm": {
     "name": "#%%\n",
     "is_executing": false
    }
   }
  },
  {
   "cell_type": "markdown",
   "source": [
    "F检验得到和卡方过滤一样的结果"
   ],
   "metadata": {
    "collapsed": false
   }
  },
  {
   "cell_type": "markdown",
   "source": [
    "+ 互信息法"
   ],
   "metadata": {
    "collapsed": false
   }
  },
  {
   "cell_type": "code",
   "execution_count": 30,
   "outputs": [
    {
     "data": {
      "text/plain": "392"
     },
     "metadata": {},
     "output_type": "execute_result",
     "execution_count": 30
    }
   ],
   "source": [
    "from sklearn.feature_selection import mutual_info_classif as MIC\n",
    "\n",
    "info=MIC(x_var_median,y)\n",
    "# 选取互信息大于0的特征\n",
    "k=x_var_median.shape[1]-(info<=0).sum()\n",
    "\n",
    "k"
   ],
   "metadata": {
    "collapsed": false,
    "pycharm": {
     "name": "#%%\n",
     "is_executing": false
    }
   }
  },
  {
   "cell_type": "markdown",
   "source": [
    "和之前的结果一致，所以通过方差过滤得到的新数据表现较好。"
   ],
   "metadata": {
    "collapsed": false,
    "pycharm": {
     "name": "#%% md\n"
    }
   }
  },
  {
   "cell_type": "markdown",
   "source": [
    "2、embedded嵌入法"
   ],
   "metadata": {
    "collapsed": false,
    "pycharm": {
     "name": "#%% md\n"
    }
   }
  },
  {
   "cell_type": "code",
   "execution_count": 31,
   "outputs": [
    {
     "data": {
      "text/plain": "(42000, 52)"
     },
     "metadata": {},
     "output_type": "execute_result",
     "execution_count": 31
    }
   ],
   "source": [
    "from sklearn.feature_selection import SelectFromModel\n",
    "\n",
    "rfc=RandomForestClassifier(n_estimators=10,random_state=78)\n",
    "# 选择随机森林feature_importances_>0.005的特征，该阈值其实很大\n",
    "x_embedded=SelectFromModel(rfc,threshold=0.005).fit_transform(X,y)\n",
    "x_embedded.shape\n",
    "# 784个特征仅选择52个"
   ],
   "metadata": {
    "collapsed": false,
    "pycharm": {
     "name": "#%%\n",
     "is_executing": false
    }
   }
  },
  {
   "cell_type": "code",
   "execution_count": 33,
   "outputs": [
    {
     "data": {
      "text/plain": "0.8975000000000002"
     },
     "metadata": {},
     "output_type": "execute_result",
     "execution_count": 33
    }
   ],
   "source": [
    "cross_val_score(rfc,x_embedded,y,cv=5).mean()\n",
    "# 验证分数果然比较差"
   ],
   "metadata": {
    "collapsed": false,
    "pycharm": {
     "name": "#%%\n",
     "is_executing": false
    }
   }
  },
  {
   "cell_type": "markdown",
   "source": [
    "阈值超参数调参"
   ],
   "metadata": {
    "collapsed": false
   }
  },
  {
   "cell_type": "code",
   "execution_count": 34,
   "outputs": [
    {
     "name": "stdout",
     "text": [
      "特征数：784，验证分数：0.9384285714285715\n",
      "特征数：304，验证分数：0.9374285714285715\n",
      "特征数：224，验证分数：0.9332619047619047\n",
      "特征数：160，验证分数：0.9305\n",
      "特征数：121，验证分数：0.9246190476190476\n",
      "特征数：87，验证分数：0.9177380952380952\n",
      "特征数：64，验证分数：0.9060952380952381\n",
      "特征数：49，验证分数：0.894452380952381\n",
      "特征数：29，验证分数：0.862642857142857\n",
      "特征数：22，验证分数：0.8318333333333333\n",
      "特征数：14，验证分数：0.7655238095238095\n",
      "特征数：12，验证分数：0.7382142857142858\n",
      "特征数：7，验证分数：0.6172380952380953\n",
      "特征数：3，验证分数：0.3847380952380952\n",
      "特征数：3，验证分数：0.3847380952380952\n",
      "特征数：3，验证分数：0.3847380952380952\n",
      "特征数：3，验证分数：0.3847380952380952\n",
      "特征数：3，验证分数：0.3847380952380952\n",
      "特征数：1，验证分数：0.21940476190476188\n",
      "特征数：1，验证分数：0.21940476190476188\n"
     ],
     "output_type": "stream"
    },
    {
     "data": {
      "text/plain": "<Figure size 432x288 with 1 Axes>",
      "image/png": "[encoded data removed]"
     },
     "metadata": {
      "needs_background": "light"
     },
     "output_type": "display_data"
    }
   ],
   "source": [
    "from matplotlib import pyplot as plt\n",
    "%matplotlib inline\n",
    "\n",
    "rfc.fit(X,y)\n",
    "th=np.linspace(0,rfc.feature_importances_.max(),20)\n",
    "\n",
    "scores=[]\n",
    "for t in th:\n",
    "    x_embedded=SelectFromModel(rfc,threshold=t).fit_transform(X,y)\n",
    "    score=cross_val_score(rfc,x_embedded,y,cv=5).mean()\n",
    "    scores.append(score)\n",
    "    print('特征数：{}，验证分数：{}'.format(x_embedded.shape[1],score))\n",
    "\n",
    "plt.figure()\n",
    "plt.plot(th,scores)\n",
    "plt.show()"
   ],
   "metadata": {
    "collapsed": false,
    "pycharm": {
     "name": "#%%\n",
     "is_executing": false
    }
   }
  },
  {
   "cell_type": "markdown",
   "source": [
    "观察图像，可以发现0-0.004之间验证分数变化不大，可以缩小至0-0.001之间继续调参。"
   ],
   "metadata": {
    "collapsed": false,
    "pycharm": {
     "name": "#%% md\n"
    }
   }
  },
  {
   "cell_type": "code",
   "execution_count": 35,
   "outputs": [
    {
     "name": "stdout",
     "text": [
      "特征数：784，验证分数：0.9384285714285715\n",
      "特征数：483，验证分数：0.9392619047619046\n",
      "特征数：445，验证分数：0.9400000000000001\n",
      "特征数：422，验证分数：0.9395238095238094\n",
      "特征数：400，验证分数：0.9396190476190476\n",
      "特征数：385，验证分数：0.9394523809523809\n",
      "特征数：373，验证分数：0.9382857142857143\n",
      "特征数：366，验证分数：0.9383571428571429\n",
      "特征数：357，验证分数：0.939595238095238\n",
      "特征数：349，验证分数：0.9391904761904761\n",
      "特征数：339，验证分数：0.9388095238095238\n",
      "特征数：331，验证分数：0.9400952380952381\n",
      "特征数：323，验证分数：0.9378333333333334\n",
      "特征数：312，验证分数：0.9383809523809523\n",
      "特征数：305，验证分数：0.9385\n",
      "特征数：300，验证分数：0.9384523809523809\n",
      "特征数：294，验证分数：0.9404523809523809\n",
      "特征数：288，验证分数：0.9376190476190477\n",
      "特征数：283，验证分数：0.9361428571428572\n",
      "特征数：276，验证分数：0.9383333333333332\n"
     ],
     "output_type": "stream"
    },
    {
     "data": {
      "text/plain": "<Figure size 432x288 with 1 Axes>",
      "image/png": "[encoded data removed]"
     },
     "metadata": {
      "needs_background": "light"
     },
     "output_type": "display_data"
    }
   ],
   "source": [
    "th=np.linspace(0,0.001,20)\n",
    "\n",
    "scores=[]\n",
    "for t in th:\n",
    "    x_embedded=SelectFromModel(rfc,threshold=t).fit_transform(X,y)\n",
    "    score=cross_val_score(rfc,x_embedded,y,cv=5).mean()\n",
    "    scores.append(score)\n",
    "    print('特征数：{}，验证分数：{}'.format(x_embedded.shape[1],score))\n",
    "\n",
    "plt.figure()\n",
    "plt.plot(th,scores)\n",
    "plt.show()"
   ],
   "metadata": {
    "collapsed": false,
    "pycharm": {
     "name": "#%%\n",
     "is_executing": false
    }
   }
  },
  {
   "cell_type": "code",
   "execution_count": 37,
   "outputs": [
    {
     "data": {
      "text/plain": "0.9404523809523809"
     },
     "metadata": {},
     "output_type": "execute_result",
     "execution_count": 37
    }
   ],
   "source": [
    "rfc=RandomForestClassifier(n_estimators=10,random_state=78)\n",
    "# 选择随机森林feature_importances_>0.005的特征，该阈值其实很大\n",
    "x_embedded=SelectFromModel(rfc,threshold=th[np.argmax(scores)]).fit_transform(X,y)\n",
    "\n",
    "cross_val_score(rfc,x_embedded,y,cv=5).mean()"
   ],
   "metadata": {
    "collapsed": false,
    "pycharm": {
     "name": "#%%\n",
     "is_executing": false
    }
   }
  },
  {
   "cell_type": "markdown",
   "source": [
    "进一步调参得到的验证分数有所提升。"
   ],
   "metadata": {
    "collapsed": false
   }
  },
  {
   "cell_type": "markdown",
   "source": [
    "3、wrapper包裹法"
   ],
   "metadata": {
    "collapsed": false,
    "pycharm": {
     "name": "#%% md\n"
    }
   }
  },
  {
   "cell_type": "code",
   "execution_count": 38,
   "outputs": [
    {
     "data": {
      "text/plain": "(42000, 340)"
     },
     "metadata": {},
     "output_type": "execute_result",
     "execution_count": 38
    }
   ],
   "source": [
    "# 递归特征消除\n",
    "from sklearn.feature_selection import RFE\n",
    "rfc = RandomForestClassifier(n_estimators =10,random_state=78)\n",
    "selector = RFE(rfc , n_features_to_select=340, step=50)\n",
    "x_wrapper=selector.fit_transform(X, y)\n",
    "\n",
    "x_wrapper.shape"
   ],
   "metadata": {
    "collapsed": false,
    "pycharm": {
     "name": "#%%\n",
     "is_executing": false
    }
   }
  },
  {
   "cell_type": "code",
   "execution_count": 39,
   "outputs": [
    {
     "data": {
      "text/plain": "0.938595238095238"
     },
     "metadata": {},
     "output_type": "execute_result",
     "execution_count": 39
    }
   ],
   "source": [
    "cross_val_score(rfc,x_wrapper,y,cv=5).mean()"
   ],
   "metadata": {
    "collapsed": false,
    "pycharm": {
     "name": "#%%\n",
     "is_executing": false
    }
   }
  },
  {
   "cell_type": "code",
   "execution_count": 41,
   "outputs": [
    {
     "name": "stdout",
     "text": [
      "特征数：1，验证分数：0.17659523809523808\n",
      "特征数：51，验证分数：0.9008095238095238\n",
      "特征数：101，验证分数：0.9226190476190477\n",
      "特征数：151，验证分数：0.9284285714285714\n",
      "特征数：201，验证分数：0.9334523809523809\n",
      "特征数：251，验证分数：0.9374761904761904\n",
      "特征数：301，验证分数：0.9377619047619048\n",
      "特征数：351，验证分数：0.9392619047619049\n",
      "特征数：401，验证分数：0.9400000000000001\n",
      "特征数：451，验证分数：0.9376428571428571\n",
      "特征数：501，验证分数：0.9394761904761906\n",
      "特征数：551，验证分数：0.9375714285714285\n",
      "特征数：601，验证分数：0.9401190476190477\n",
      "特征数：651，验证分数：0.9377380952380954\n",
      "特征数：701，验证分数：0.9375714285714285\n",
      "0.9401190476190477\n"
     ],
     "output_type": "stream"
    },
    {
     "data": {
      "text/plain": "<Figure size 1440x360 with 1 Axes>",
      "image/png": "[encoded data removed]"
     },
     "metadata": {
      "needs_background": "light"
     },
     "output_type": "display_data"
    }
   ],
   "source": [
    "select_feature=np.arange(1,751,50)\n",
    "\n",
    "scores=[]\n",
    "for t in select_feature:\n",
    "    x_wrapper=RFE(rfc,n_features_to_select=t, step=50).fit_transform(X,y)\n",
    "    score=cross_val_score(rfc,x_wrapper,y,cv=5).mean()\n",
    "    scores.append(score)\n",
    "    print('特征数：{}，验证分数：{}'.format(x_wrapper.shape[1],score))\n",
    "\n",
    "plt.figure(figsize=(20,5))\n",
    "plt.plot(select_feature,scores)\n",
    "plt.xticks(select_feature)\n",
    "plt.show()\n",
    "print(np.max(scores))"
   ],
   "metadata": {
    "collapsed": false,
    "pycharm": {
     "name": "#%%\n",
     "is_executing": false
    }
   }
  }
 ],
 "metadata": {
  "kernelspec": {
   "display_name": "Python 3",
   "language": "python",
   "name": "python3"
  },
  "language_info": {
   "codemirror_mode": {
    "name": "ipython",
    "version": 2
   },
   "file_extension": ".py",
   "mimetype": "text/x-python",
   "name": "python",
   "nbconvert_exporter": "python",
   "pygments_lexer": "ipython2",
   "version": "2.7.6"
  },
  "pycharm": {
   "stem_cell": {
    "cell_type": "raw",
    "source": [],
    "metadata": {
     "collapsed": false
    }
   }
  }
 },
 "nbformat": 4,
 "nbformat_minor": 0
}